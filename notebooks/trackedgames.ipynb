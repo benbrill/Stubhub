{
 "cells": [
  {
   "cell_type": "code",
   "execution_count": 2,
   "metadata": {},
   "outputs": [
    {
     "data": {
      "text/html": [
       "<div>\n",
       "<style scoped>\n",
       "    .dataframe tbody tr th:only-of-type {\n",
       "        vertical-align: middle;\n",
       "    }\n",
       "\n",
       "    .dataframe tbody tr th {\n",
       "        vertical-align: top;\n",
       "    }\n",
       "\n",
       "    .dataframe thead th {\n",
       "        text-align: right;\n",
       "    }\n",
       "</style>\n",
       "<table border=\"1\" class=\"dataframe\">\n",
       "  <thead>\n",
       "    <tr style=\"text-align: right;\">\n",
       "      <th></th>\n",
       "      <th>id</th>\n",
       "      <th>time</th>\n",
       "      <th>name</th>\n",
       "      <th>homeTeam</th>\n",
       "      <th>awayTeam</th>\n",
       "      <th>unique_name</th>\n",
       "      <th>price</th>\n",
       "      <th>extractTime</th>\n",
       "      <th>ticket_count</th>\n",
       "      <th>days_to_game</th>\n",
       "      <th>diff_initial</th>\n",
       "    </tr>\n",
       "  </thead>\n",
       "  <tbody>\n",
       "    <tr>\n",
       "      <th>0</th>\n",
       "      <td>104722879.0</td>\n",
       "      <td>2021-06-11</td>\n",
       "      <td>Texas Rangers at Los Angeles Dodgers</td>\n",
       "      <td>Los Angeles Dodgers</td>\n",
       "      <td>Texas Rangers</td>\n",
       "      <td>Texas Rangers at Los Angeles Dodgers: 2021-06-11</td>\n",
       "      <td>58.62</td>\n",
       "      <td>2021-06-08 17:51:48.284897</td>\n",
       "      <td>0</td>\n",
       "      <td>2.0</td>\n",
       "      <td>0.000000</td>\n",
       "    </tr>\n",
       "    <tr>\n",
       "      <th>1</th>\n",
       "      <td>104725408.0</td>\n",
       "      <td>2021-06-12</td>\n",
       "      <td>Texas Rangers at Los Angeles Dodgers</td>\n",
       "      <td>Los Angeles Dodgers</td>\n",
       "      <td>Texas Rangers</td>\n",
       "      <td>Texas Rangers at Los Angeles Dodgers: 2021-06-12</td>\n",
       "      <td>29.16</td>\n",
       "      <td>2021-06-08 17:51:48.284897</td>\n",
       "      <td>0</td>\n",
       "      <td>3.0</td>\n",
       "      <td>0.000000</td>\n",
       "    </tr>\n",
       "    <tr>\n",
       "      <th>2</th>\n",
       "      <td>104725409.0</td>\n",
       "      <td>2021-06-13</td>\n",
       "      <td>Texas Rangers at Los Angeles Dodgers</td>\n",
       "      <td>Los Angeles Dodgers</td>\n",
       "      <td>Texas Rangers</td>\n",
       "      <td>Texas Rangers at Los Angeles Dodgers: 2021-06-13</td>\n",
       "      <td>28.04</td>\n",
       "      <td>2021-06-08 17:51:48.284897</td>\n",
       "      <td>0</td>\n",
       "      <td>4.0</td>\n",
       "      <td>0.000000</td>\n",
       "    </tr>\n",
       "    <tr>\n",
       "      <th>3</th>\n",
       "      <td>104724531.0</td>\n",
       "      <td>2021-06-14</td>\n",
       "      <td>Philadelphia Phillies at Los Angeles Dodgers</td>\n",
       "      <td>Los Angeles Dodgers</td>\n",
       "      <td>Philadelphia Phillies</td>\n",
       "      <td>Philadelphia Phillies at Los Angeles Dodgers: ...</td>\n",
       "      <td>35.55</td>\n",
       "      <td>2021-06-08 17:51:48.284897</td>\n",
       "      <td>0</td>\n",
       "      <td>5.0</td>\n",
       "      <td>0.000000</td>\n",
       "    </tr>\n",
       "    <tr>\n",
       "      <th>4</th>\n",
       "      <td>104725410.0</td>\n",
       "      <td>2021-06-15</td>\n",
       "      <td>Philadelphia Phillies at Los Angeles Dodgers</td>\n",
       "      <td>Los Angeles Dodgers</td>\n",
       "      <td>Philadelphia Phillies</td>\n",
       "      <td>Philadelphia Phillies at Los Angeles Dodgers: ...</td>\n",
       "      <td>24.99</td>\n",
       "      <td>2021-06-08 17:51:48.284897</td>\n",
       "      <td>0</td>\n",
       "      <td>6.0</td>\n",
       "      <td>0.000000</td>\n",
       "    </tr>\n",
       "    <tr>\n",
       "      <th>...</th>\n",
       "      <td>...</td>\n",
       "      <td>...</td>\n",
       "      <td>...</td>\n",
       "      <td>...</td>\n",
       "      <td>...</td>\n",
       "      <td>...</td>\n",
       "      <td>...</td>\n",
       "      <td>...</td>\n",
       "      <td>...</td>\n",
       "      <td>...</td>\n",
       "      <td>...</td>\n",
       "    </tr>\n",
       "    <tr>\n",
       "      <th>9594</th>\n",
       "      <td>104738380.0</td>\n",
       "      <td>2021-09-29</td>\n",
       "      <td>Arizona Diamondbacks at San Francisco Giants</td>\n",
       "      <td>San Francisco Giants</td>\n",
       "      <td>Arizona Diamondbacks</td>\n",
       "      <td>Arizona Diamondbacks at San Francisco Giants: ...</td>\n",
       "      <td>20.41</td>\n",
       "      <td>2021-07-14 00:42:27.265461</td>\n",
       "      <td>2693</td>\n",
       "      <td>76.0</td>\n",
       "      <td>-0.158746</td>\n",
       "    </tr>\n",
       "    <tr>\n",
       "      <th>9595</th>\n",
       "      <td>104736599.0</td>\n",
       "      <td>2021-09-30</td>\n",
       "      <td>Arizona Diamondbacks at San Francisco Giants</td>\n",
       "      <td>San Francisco Giants</td>\n",
       "      <td>Arizona Diamondbacks</td>\n",
       "      <td>Arizona Diamondbacks at San Francisco Giants: ...</td>\n",
       "      <td>21.64</td>\n",
       "      <td>2021-07-14 00:42:27.265464</td>\n",
       "      <td>2666</td>\n",
       "      <td>77.0</td>\n",
       "      <td>-0.206562</td>\n",
       "    </tr>\n",
       "    <tr>\n",
       "      <th>9596</th>\n",
       "      <td>104736601.0</td>\n",
       "      <td>2021-10-01</td>\n",
       "      <td>San Diego Padres at San Francisco Giants</td>\n",
       "      <td>San Francisco Giants</td>\n",
       "      <td>San Diego Padres</td>\n",
       "      <td>San Diego Padres at San Francisco Giants: 2021...</td>\n",
       "      <td>33.92</td>\n",
       "      <td>2021-07-14 00:42:27.265467</td>\n",
       "      <td>2825</td>\n",
       "      <td>78.0</td>\n",
       "      <td>0.517099</td>\n",
       "    </tr>\n",
       "    <tr>\n",
       "      <th>9597</th>\n",
       "      <td>104738382.0</td>\n",
       "      <td>2021-10-02</td>\n",
       "      <td>San Diego Padres at San Francisco Giants</td>\n",
       "      <td>San Francisco Giants</td>\n",
       "      <td>San Diego Padres</td>\n",
       "      <td>San Diego Padres at San Francisco Giants: 2021...</td>\n",
       "      <td>54.76</td>\n",
       "      <td>2021-07-14 00:42:27.265470</td>\n",
       "      <td>2940</td>\n",
       "      <td>79.0</td>\n",
       "      <td>0.202155</td>\n",
       "    </tr>\n",
       "    <tr>\n",
       "      <th>9598</th>\n",
       "      <td>104736603.0</td>\n",
       "      <td>2021-10-03</td>\n",
       "      <td>San Diego Padres at San Francisco Giants</td>\n",
       "      <td>San Francisco Giants</td>\n",
       "      <td>San Diego Padres</td>\n",
       "      <td>San Diego Padres at San Francisco Giants: 2021...</td>\n",
       "      <td>62.15</td>\n",
       "      <td>2021-07-14 00:42:27.265473</td>\n",
       "      <td>2770</td>\n",
       "      <td>80.0</td>\n",
       "      <td>0.375221</td>\n",
       "    </tr>\n",
       "  </tbody>\n",
       "</table>\n",
       "<p>9595 rows × 11 columns</p>\n",
       "</div>"
      ],
      "text/plain": [
       "               id       time                                          name  \\\n",
       "0     104722879.0 2021-06-11          Texas Rangers at Los Angeles Dodgers   \n",
       "1     104725408.0 2021-06-12          Texas Rangers at Los Angeles Dodgers   \n",
       "2     104725409.0 2021-06-13          Texas Rangers at Los Angeles Dodgers   \n",
       "3     104724531.0 2021-06-14  Philadelphia Phillies at Los Angeles Dodgers   \n",
       "4     104725410.0 2021-06-15  Philadelphia Phillies at Los Angeles Dodgers   \n",
       "...           ...        ...                                           ...   \n",
       "9594  104738380.0 2021-09-29  Arizona Diamondbacks at San Francisco Giants   \n",
       "9595  104736599.0 2021-09-30  Arizona Diamondbacks at San Francisco Giants   \n",
       "9596  104736601.0 2021-10-01      San Diego Padres at San Francisco Giants   \n",
       "9597  104738382.0 2021-10-02      San Diego Padres at San Francisco Giants   \n",
       "9598  104736603.0 2021-10-03      San Diego Padres at San Francisco Giants   \n",
       "\n",
       "                  homeTeam               awayTeam  \\\n",
       "0      Los Angeles Dodgers          Texas Rangers   \n",
       "1      Los Angeles Dodgers          Texas Rangers   \n",
       "2      Los Angeles Dodgers          Texas Rangers   \n",
       "3      Los Angeles Dodgers  Philadelphia Phillies   \n",
       "4      Los Angeles Dodgers  Philadelphia Phillies   \n",
       "...                    ...                    ...   \n",
       "9594  San Francisco Giants   Arizona Diamondbacks   \n",
       "9595  San Francisco Giants   Arizona Diamondbacks   \n",
       "9596  San Francisco Giants       San Diego Padres   \n",
       "9597  San Francisco Giants       San Diego Padres   \n",
       "9598  San Francisco Giants       San Diego Padres   \n",
       "\n",
       "                                            unique_name  price  \\\n",
       "0      Texas Rangers at Los Angeles Dodgers: 2021-06-11  58.62   \n",
       "1      Texas Rangers at Los Angeles Dodgers: 2021-06-12  29.16   \n",
       "2      Texas Rangers at Los Angeles Dodgers: 2021-06-13  28.04   \n",
       "3     Philadelphia Phillies at Los Angeles Dodgers: ...  35.55   \n",
       "4     Philadelphia Phillies at Los Angeles Dodgers: ...  24.99   \n",
       "...                                                 ...    ...   \n",
       "9594  Arizona Diamondbacks at San Francisco Giants: ...  20.41   \n",
       "9595  Arizona Diamondbacks at San Francisco Giants: ...  21.64   \n",
       "9596  San Diego Padres at San Francisco Giants: 2021...  33.92   \n",
       "9597  San Diego Padres at San Francisco Giants: 2021...  54.76   \n",
       "9598  San Diego Padres at San Francisco Giants: 2021...  62.15   \n",
       "\n",
       "                    extractTime  ticket_count  days_to_game  diff_initial  \n",
       "0    2021-06-08 17:51:48.284897             0           2.0      0.000000  \n",
       "1    2021-06-08 17:51:48.284897             0           3.0      0.000000  \n",
       "2    2021-06-08 17:51:48.284897             0           4.0      0.000000  \n",
       "3    2021-06-08 17:51:48.284897             0           5.0      0.000000  \n",
       "4    2021-06-08 17:51:48.284897             0           6.0      0.000000  \n",
       "...                         ...           ...           ...           ...  \n",
       "9594 2021-07-14 00:42:27.265461          2693          76.0     -0.158746  \n",
       "9595 2021-07-14 00:42:27.265464          2666          77.0     -0.206562  \n",
       "9596 2021-07-14 00:42:27.265467          2825          78.0      0.517099  \n",
       "9597 2021-07-14 00:42:27.265470          2940          79.0      0.202155  \n",
       "9598 2021-07-14 00:42:27.265473          2770          80.0      0.375221  \n",
       "\n",
       "[9595 rows x 11 columns]"
      ]
     },
     "execution_count": 2,
     "metadata": {},
     "output_type": "execute_result"
    }
   ],
   "source": [
    "import pandas as pd \n",
    "import seaborn as sns \n",
    "import sqlite3\n",
    "import numpy as np\n",
    "from plotly import express as px\n",
    "\n",
    "with sqlite3.connect(\"../tickets.db\") as conn: \n",
    "    cmd = \\\n",
    "        \"\"\"\n",
    "        SELECT g.*, e.price, e.extractTime, e.ticket_count FROM extraction e\n",
    "        LEFT JOIN games g on e.id = g.id\n",
    "        \"\"\"\n",
    "    df = pd.read_sql_query(cmd, conn)\n",
    "df['time'], df['extractTime'] = pd.to_datetime(df['time']), pd.to_datetime(df['extractTime'])\n",
    "df['days_to_game'] = (df['time'] - df['extractTime'])\n",
    "df['days_to_game'] = df['days_to_game'].apply(lambda X: X.days)\n",
    "df = df.dropna()\n",
    "def diff_from_max(x):\n",
    "    initial = x.to_numpy()[0]\n",
    "    return (initial - x)/x\n",
    "df[\"diff_initial\"] = df.groupby(\"unique_name\")[\"price\"].transform(diff_from_max)\n",
    "dodgers = df[df['homeTeam'] == 'Los Angeles Dodgers']\n",
    "giants = df[df['homeTeam'] == 'San Francisco Giants']\n",
    "angels = df[df['homeTeam'] == 'Los Angeles Angels']\n",
    "df"
   ]
  },
  {
   "cell_type": "markdown",
   "metadata": {},
   "source": [
    "# Dbacks vs Dodgers 7/11/21"
   ]
  },
  {
   "cell_type": "code",
   "execution_count": 3,
   "metadata": {},
   "outputs": [
    {
     "data": {
      "application/vnd.plotly.v1+json": {
       "config": {
        "plotlyServerURL": "https://plot.ly"
       },
       "data": [
        {
         "hovertemplate": "<b>%{hovertext}</b><br><br>extractTime=%{x}<br>price=%{y}<extra></extra>",
         "hovertext": [
          "2021-07-11T00:00:00",
          "2021-07-11T00:00:00",
          "2021-07-11T00:00:00",
          "2021-07-11T00:00:00",
          "2021-07-11T00:00:00",
          "2021-07-11T00:00:00",
          "2021-07-11T00:00:00",
          "2021-07-11T00:00:00",
          "2021-07-11T00:00:00",
          "2021-07-11T00:00:00",
          "2021-07-11T00:00:00",
          "2021-07-11T00:00:00",
          "2021-07-11T00:00:00",
          "2021-07-11T00:00:00",
          "2021-07-11T00:00:00",
          "2021-07-11T00:00:00",
          "2021-07-11T00:00:00",
          "2021-07-11T00:00:00",
          "2021-07-11T00:00:00",
          "2021-07-11T00:00:00",
          "2021-07-11T00:00:00",
          "2021-07-11T00:00:00",
          "2021-07-11T00:00:00",
          "2021-07-11T00:00:00",
          "2021-07-11T00:00:00",
          "2021-07-11T00:00:00",
          "2021-07-11T00:00:00",
          "2021-07-11T00:00:00",
          "2021-07-11T00:00:00",
          "2021-07-11T00:00:00",
          "2021-07-11T00:00:00",
          "2021-07-11T00:00:00",
          "2021-07-11T00:00:00",
          "2021-07-11T00:00:00",
          "2021-07-11T00:00:00",
          "2021-07-11T00:00:00",
          "2021-07-11T00:00:00",
          "2021-07-11T00:00:00",
          "2021-07-11T00:00:00",
          "2021-07-11T00:00:00",
          "2021-07-11T00:00:00",
          "2021-07-11T00:00:00",
          "2021-07-11T00:00:00",
          "2021-07-11T00:00:00",
          "2021-07-11T00:00:00",
          "2021-07-11T00:00:00",
          "2021-07-11T00:00:00",
          "2021-07-11T00:00:00",
          "2021-07-11T00:00:00",
          "2021-07-11T00:00:00",
          "2021-07-11T00:00:00",
          "2021-07-11T00:00:00",
          "2021-07-11T00:00:00",
          "2021-07-11T00:00:00",
          "2021-07-11T00:00:00",
          "2021-07-11T00:00:00",
          "2021-07-11T00:00:00",
          "2021-07-11T00:00:00",
          "2021-07-11T00:00:00",
          "2021-07-11T00:00:00",
          "2021-07-11T00:00:00",
          "2021-07-11T00:00:00",
          "2021-07-11T00:00:00",
          "2021-07-11T00:00:00",
          "2021-07-11T00:00:00",
          "2021-07-11T00:00:00",
          "2021-07-11T00:00:00"
         ],
         "legendgroup": "",
         "line": {
          "color": "#456987",
          "dash": "solid"
         },
         "mode": "lines",
         "name": "",
         "orientation": "v",
         "showlegend": false,
         "type": "scatter",
         "x": [
          "2021-06-08T17:51:48.284897",
          "2021-06-09T12:10:15.524405",
          "2021-06-10T00:25:10.995267",
          "2021-06-10T12:10:33.528977",
          "2021-06-11T04:00:07.429662",
          "2021-06-11T12:09:17.664544",
          "2021-06-12T00:19:18.579301",
          "2021-06-12T12:08:54.466681",
          "2021-06-13T00:24:03.636304",
          "2021-06-13T12:09:13.396484",
          "2021-06-14T00:21:23.755768",
          "2021-06-14T12:09:32.705279",
          "2021-06-15T00:22:38.376637",
          "2021-06-15T12:09:40.069016",
          "2021-06-16T00:22:32.223632",
          "2021-06-16T12:09:48.628414",
          "2021-06-17T00:21:06.359332",
          "2021-06-17T12:09:51.136945",
          "2021-06-18T00:21:24.007635",
          "2021-06-18T12:09:35.296927",
          "2021-06-19T00:22:13.839899",
          "2021-06-19T12:08:53.454055",
          "2021-06-20T00:23:39.052296",
          "2021-06-20T12:08:58.148671",
          "2021-06-21T00:23:14.970763",
          "2021-06-21T12:10:06.248921",
          "2021-06-22T00:21:41.824822",
          "2021-06-22T12:09:34.428349",
          "2021-06-23T00:21:45.777377",
          "2021-06-23T12:08:08.359857",
          "2021-06-24T00:17:16.336585",
          "2021-06-24T12:10:17.858190",
          "2021-06-25T00:24:02.384490",
          "2021-06-25T12:09:37.496059",
          "2021-06-26T00:20:29.849759",
          "2021-06-26T12:09:13.399048",
          "2021-06-27T00:25:21.484693",
          "2021-06-27T12:09:49.625911",
          "2021-06-28T00:23:09.122672",
          "2021-06-28T12:10:17.185155",
          "2021-06-29T00:22:47.638278",
          "2021-06-29T12:10:11.825251",
          "2021-06-30T00:21:52.223623",
          "2021-06-30T12:09:55.905504",
          "2021-07-01T00:24:22.898083",
          "2021-07-01T12:10:54.558426",
          "2021-07-02T00:22:03.192322",
          "2021-07-02T12:10:07.259557",
          "2021-07-03T00:21:28.423810",
          "2021-07-03T12:09:32.799716",
          "2021-07-04T00:22:12.322703",
          "2021-07-04T12:09:27.394659",
          "2021-07-05T00:20:44.535020",
          "2021-07-05T12:10:18.436680",
          "2021-07-06T00:23:33.695509",
          "2021-07-06T12:10:04.035302",
          "2021-07-07T00:22:35.636865",
          "2021-07-07T12:09:54.403027",
          "2021-07-08T00:20:45.443163",
          "2021-07-08T12:10:10.966082",
          "2021-07-09T00:23:28.119239",
          "2021-07-09T12:09:52.286745",
          "2021-07-10T00:22:25.758686",
          "2021-07-10T12:00:49.061241",
          "2021-07-11T00:10:34.445667",
          "2021-07-11T02:17:34.911550",
          "2021-07-11T12:00:51.656391"
         ],
         "xaxis": "x",
         "y": [
          29.01,
          29.01,
          29.01,
          29.01,
          29.01,
          29.01,
          29.01,
          29.01,
          29.01,
          29.01,
          29.01,
          29.01,
          29.01,
          29.01,
          29.01,
          29.01,
          29.01,
          29.01,
          29.01,
          29.01,
          29.01,
          29.01,
          29.01,
          29.01,
          29.01,
          29.01,
          29.01,
          29.01,
          29.01,
          29.01,
          29.01,
          29.01,
          29.01,
          29.01,
          29.01,
          29.01,
          29.01,
          27.78,
          27.78,
          27.78,
          25.94,
          25.94,
          27.07,
          26.55,
          27.07,
          27.07,
          27.07,
          27.07,
          23.22,
          23.22,
          23.22,
          22.87,
          22.87,
          22.87,
          21.64,
          21.64,
          20.73,
          20.73,
          18.03,
          18.03,
          18.03,
          18.03,
          17.74,
          17.74,
          16.73,
          17.74,
          17.96
         ],
         "yaxis": "y"
        }
       ],
       "layout": {
        "legend": {
         "tracegroupgap": 0
        },
        "margin": {
         "t": 60
        },
        "template": {
         "data": {
          "bar": [
           {
            "error_x": {
             "color": "#2a3f5f"
            },
            "error_y": {
             "color": "#2a3f5f"
            },
            "marker": {
             "line": {
              "color": "#E5ECF6",
              "width": 0.5
             }
            },
            "type": "bar"
           }
          ],
          "barpolar": [
           {
            "marker": {
             "line": {
              "color": "#E5ECF6",
              "width": 0.5
             }
            },
            "type": "barpolar"
           }
          ],
          "carpet": [
           {
            "aaxis": {
             "endlinecolor": "#2a3f5f",
             "gridcolor": "white",
             "linecolor": "white",
             "minorgridcolor": "white",
             "startlinecolor": "#2a3f5f"
            },
            "baxis": {
             "endlinecolor": "#2a3f5f",
             "gridcolor": "white",
             "linecolor": "white",
             "minorgridcolor": "white",
             "startlinecolor": "#2a3f5f"
            },
            "type": "carpet"
           }
          ],
          "choropleth": [
           {
            "colorbar": {
             "outlinewidth": 0,
             "ticks": ""
            },
            "type": "choropleth"
           }
          ],
          "contour": [
           {
            "colorbar": {
             "outlinewidth": 0,
             "ticks": ""
            },
            "colorscale": [
             [
              0,
              "#0d0887"
             ],
             [
              0.1111111111111111,
              "#46039f"
             ],
             [
              0.2222222222222222,
              "#7201a8"
             ],
             [
              0.3333333333333333,
              "#9c179e"
             ],
             [
              0.4444444444444444,
              "#bd3786"
             ],
             [
              0.5555555555555556,
              "#d8576b"
             ],
             [
              0.6666666666666666,
              "#ed7953"
             ],
             [
              0.7777777777777778,
              "#fb9f3a"
             ],
             [
              0.8888888888888888,
              "#fdca26"
             ],
             [
              1,
              "#f0f921"
             ]
            ],
            "type": "contour"
           }
          ],
          "contourcarpet": [
           {
            "colorbar": {
             "outlinewidth": 0,
             "ticks": ""
            },
            "type": "contourcarpet"
           }
          ],
          "heatmap": [
           {
            "colorbar": {
             "outlinewidth": 0,
             "ticks": ""
            },
            "colorscale": [
             [
              0,
              "#0d0887"
             ],
             [
              0.1111111111111111,
              "#46039f"
             ],
             [
              0.2222222222222222,
              "#7201a8"
             ],
             [
              0.3333333333333333,
              "#9c179e"
             ],
             [
              0.4444444444444444,
              "#bd3786"
             ],
             [
              0.5555555555555556,
              "#d8576b"
             ],
             [
              0.6666666666666666,
              "#ed7953"
             ],
             [
              0.7777777777777778,
              "#fb9f3a"
             ],
             [
              0.8888888888888888,
              "#fdca26"
             ],
             [
              1,
              "#f0f921"
             ]
            ],
            "type": "heatmap"
           }
          ],
          "heatmapgl": [
           {
            "colorbar": {
             "outlinewidth": 0,
             "ticks": ""
            },
            "colorscale": [
             [
              0,
              "#0d0887"
             ],
             [
              0.1111111111111111,
              "#46039f"
             ],
             [
              0.2222222222222222,
              "#7201a8"
             ],
             [
              0.3333333333333333,
              "#9c179e"
             ],
             [
              0.4444444444444444,
              "#bd3786"
             ],
             [
              0.5555555555555556,
              "#d8576b"
             ],
             [
              0.6666666666666666,
              "#ed7953"
             ],
             [
              0.7777777777777778,
              "#fb9f3a"
             ],
             [
              0.8888888888888888,
              "#fdca26"
             ],
             [
              1,
              "#f0f921"
             ]
            ],
            "type": "heatmapgl"
           }
          ],
          "histogram": [
           {
            "marker": {
             "colorbar": {
              "outlinewidth": 0,
              "ticks": ""
             }
            },
            "type": "histogram"
           }
          ],
          "histogram2d": [
           {
            "colorbar": {
             "outlinewidth": 0,
             "ticks": ""
            },
            "colorscale": [
             [
              0,
              "#0d0887"
             ],
             [
              0.1111111111111111,
              "#46039f"
             ],
             [
              0.2222222222222222,
              "#7201a8"
             ],
             [
              0.3333333333333333,
              "#9c179e"
             ],
             [
              0.4444444444444444,
              "#bd3786"
             ],
             [
              0.5555555555555556,
              "#d8576b"
             ],
             [
              0.6666666666666666,
              "#ed7953"
             ],
             [
              0.7777777777777778,
              "#fb9f3a"
             ],
             [
              0.8888888888888888,
              "#fdca26"
             ],
             [
              1,
              "#f0f921"
             ]
            ],
            "type": "histogram2d"
           }
          ],
          "histogram2dcontour": [
           {
            "colorbar": {
             "outlinewidth": 0,
             "ticks": ""
            },
            "colorscale": [
             [
              0,
              "#0d0887"
             ],
             [
              0.1111111111111111,
              "#46039f"
             ],
             [
              0.2222222222222222,
              "#7201a8"
             ],
             [
              0.3333333333333333,
              "#9c179e"
             ],
             [
              0.4444444444444444,
              "#bd3786"
             ],
             [
              0.5555555555555556,
              "#d8576b"
             ],
             [
              0.6666666666666666,
              "#ed7953"
             ],
             [
              0.7777777777777778,
              "#fb9f3a"
             ],
             [
              0.8888888888888888,
              "#fdca26"
             ],
             [
              1,
              "#f0f921"
             ]
            ],
            "type": "histogram2dcontour"
           }
          ],
          "mesh3d": [
           {
            "colorbar": {
             "outlinewidth": 0,
             "ticks": ""
            },
            "type": "mesh3d"
           }
          ],
          "parcoords": [
           {
            "line": {
             "colorbar": {
              "outlinewidth": 0,
              "ticks": ""
             }
            },
            "type": "parcoords"
           }
          ],
          "pie": [
           {
            "automargin": true,
            "type": "pie"
           }
          ],
          "scatter": [
           {
            "marker": {
             "colorbar": {
              "outlinewidth": 0,
              "ticks": ""
             }
            },
            "type": "scatter"
           }
          ],
          "scatter3d": [
           {
            "line": {
             "colorbar": {
              "outlinewidth": 0,
              "ticks": ""
             }
            },
            "marker": {
             "colorbar": {
              "outlinewidth": 0,
              "ticks": ""
             }
            },
            "type": "scatter3d"
           }
          ],
          "scattercarpet": [
           {
            "marker": {
             "colorbar": {
              "outlinewidth": 0,
              "ticks": ""
             }
            },
            "type": "scattercarpet"
           }
          ],
          "scattergeo": [
           {
            "marker": {
             "colorbar": {
              "outlinewidth": 0,
              "ticks": ""
             }
            },
            "type": "scattergeo"
           }
          ],
          "scattergl": [
           {
            "marker": {
             "colorbar": {
              "outlinewidth": 0,
              "ticks": ""
             }
            },
            "type": "scattergl"
           }
          ],
          "scattermapbox": [
           {
            "marker": {
             "colorbar": {
              "outlinewidth": 0,
              "ticks": ""
             }
            },
            "type": "scattermapbox"
           }
          ],
          "scatterpolar": [
           {
            "marker": {
             "colorbar": {
              "outlinewidth": 0,
              "ticks": ""
             }
            },
            "type": "scatterpolar"
           }
          ],
          "scatterpolargl": [
           {
            "marker": {
             "colorbar": {
              "outlinewidth": 0,
              "ticks": ""
             }
            },
            "type": "scatterpolargl"
           }
          ],
          "scatterternary": [
           {
            "marker": {
             "colorbar": {
              "outlinewidth": 0,
              "ticks": ""
             }
            },
            "type": "scatterternary"
           }
          ],
          "surface": [
           {
            "colorbar": {
             "outlinewidth": 0,
             "ticks": ""
            },
            "colorscale": [
             [
              0,
              "#0d0887"
             ],
             [
              0.1111111111111111,
              "#46039f"
             ],
             [
              0.2222222222222222,
              "#7201a8"
             ],
             [
              0.3333333333333333,
              "#9c179e"
             ],
             [
              0.4444444444444444,
              "#bd3786"
             ],
             [
              0.5555555555555556,
              "#d8576b"
             ],
             [
              0.6666666666666666,
              "#ed7953"
             ],
             [
              0.7777777777777778,
              "#fb9f3a"
             ],
             [
              0.8888888888888888,
              "#fdca26"
             ],
             [
              1,
              "#f0f921"
             ]
            ],
            "type": "surface"
           }
          ],
          "table": [
           {
            "cells": {
             "fill": {
              "color": "#EBF0F8"
             },
             "line": {
              "color": "white"
             }
            },
            "header": {
             "fill": {
              "color": "#C8D4E3"
             },
             "line": {
              "color": "white"
             }
            },
            "type": "table"
           }
          ]
         },
         "layout": {
          "annotationdefaults": {
           "arrowcolor": "#2a3f5f",
           "arrowhead": 0,
           "arrowwidth": 1
          },
          "autotypenumbers": "strict",
          "coloraxis": {
           "colorbar": {
            "outlinewidth": 0,
            "ticks": ""
           }
          },
          "colorscale": {
           "diverging": [
            [
             0,
             "#8e0152"
            ],
            [
             0.1,
             "#c51b7d"
            ],
            [
             0.2,
             "#de77ae"
            ],
            [
             0.3,
             "#f1b6da"
            ],
            [
             0.4,
             "#fde0ef"
            ],
            [
             0.5,
             "#f7f7f7"
            ],
            [
             0.6,
             "#e6f5d0"
            ],
            [
             0.7,
             "#b8e186"
            ],
            [
             0.8,
             "#7fbc41"
            ],
            [
             0.9,
             "#4d9221"
            ],
            [
             1,
             "#276419"
            ]
           ],
           "sequential": [
            [
             0,
             "#0d0887"
            ],
            [
             0.1111111111111111,
             "#46039f"
            ],
            [
             0.2222222222222222,
             "#7201a8"
            ],
            [
             0.3333333333333333,
             "#9c179e"
            ],
            [
             0.4444444444444444,
             "#bd3786"
            ],
            [
             0.5555555555555556,
             "#d8576b"
            ],
            [
             0.6666666666666666,
             "#ed7953"
            ],
            [
             0.7777777777777778,
             "#fb9f3a"
            ],
            [
             0.8888888888888888,
             "#fdca26"
            ],
            [
             1,
             "#f0f921"
            ]
           ],
           "sequentialminus": [
            [
             0,
             "#0d0887"
            ],
            [
             0.1111111111111111,
             "#46039f"
            ],
            [
             0.2222222222222222,
             "#7201a8"
            ],
            [
             0.3333333333333333,
             "#9c179e"
            ],
            [
             0.4444444444444444,
             "#bd3786"
            ],
            [
             0.5555555555555556,
             "#d8576b"
            ],
            [
             0.6666666666666666,
             "#ed7953"
            ],
            [
             0.7777777777777778,
             "#fb9f3a"
            ],
            [
             0.8888888888888888,
             "#fdca26"
            ],
            [
             1,
             "#f0f921"
            ]
           ]
          },
          "colorway": [
           "#636efa",
           "#EF553B",
           "#00cc96",
           "#ab63fa",
           "#FFA15A",
           "#19d3f3",
           "#FF6692",
           "#B6E880",
           "#FF97FF",
           "#FECB52"
          ],
          "font": {
           "color": "#2a3f5f"
          },
          "geo": {
           "bgcolor": "white",
           "lakecolor": "white",
           "landcolor": "#E5ECF6",
           "showlakes": true,
           "showland": true,
           "subunitcolor": "white"
          },
          "hoverlabel": {
           "align": "left"
          },
          "hovermode": "closest",
          "mapbox": {
           "style": "light"
          },
          "paper_bgcolor": "white",
          "plot_bgcolor": "#E5ECF6",
          "polar": {
           "angularaxis": {
            "gridcolor": "white",
            "linecolor": "white",
            "ticks": ""
           },
           "bgcolor": "#E5ECF6",
           "radialaxis": {
            "gridcolor": "white",
            "linecolor": "white",
            "ticks": ""
           }
          },
          "scene": {
           "xaxis": {
            "backgroundcolor": "#E5ECF6",
            "gridcolor": "white",
            "gridwidth": 2,
            "linecolor": "white",
            "showbackground": true,
            "ticks": "",
            "zerolinecolor": "white"
           },
           "yaxis": {
            "backgroundcolor": "#E5ECF6",
            "gridcolor": "white",
            "gridwidth": 2,
            "linecolor": "white",
            "showbackground": true,
            "ticks": "",
            "zerolinecolor": "white"
           },
           "zaxis": {
            "backgroundcolor": "#E5ECF6",
            "gridcolor": "white",
            "gridwidth": 2,
            "linecolor": "white",
            "showbackground": true,
            "ticks": "",
            "zerolinecolor": "white"
           }
          },
          "shapedefaults": {
           "line": {
            "color": "#2a3f5f"
           }
          },
          "ternary": {
           "aaxis": {
            "gridcolor": "white",
            "linecolor": "white",
            "ticks": ""
           },
           "baxis": {
            "gridcolor": "white",
            "linecolor": "white",
            "ticks": ""
           },
           "bgcolor": "#E5ECF6",
           "caxis": {
            "gridcolor": "white",
            "linecolor": "white",
            "ticks": ""
           }
          },
          "title": {
           "x": 0.05
          },
          "xaxis": {
           "automargin": true,
           "gridcolor": "white",
           "linecolor": "white",
           "ticks": "",
           "title": {
            "standoff": 15
           },
           "zerolinecolor": "white",
           "zerolinewidth": 2
          },
          "yaxis": {
           "automargin": true,
           "gridcolor": "white",
           "linecolor": "white",
           "ticks": "",
           "title": {
            "standoff": 15
           },
           "zerolinecolor": "white",
           "zerolinewidth": 2
          }
         }
        },
        "xaxis": {
         "anchor": "y",
         "domain": [
          0,
          1
         ],
         "title": {
          "text": "extractTime"
         }
        },
        "yaxis": {
         "anchor": "x",
         "domain": [
          0,
          1
         ],
         "title": {
          "text": "price"
         }
        }
       }
      }
     },
     "metadata": {},
     "output_type": "display_data"
    }
   ],
   "source": [
    "gm1 = dodgers[dodgers[\"id\"] == 104724575.0]\n",
    "fig = px.line(gm1, x = \"extractTime\", y = \"price\", hover_name=\"time\")\n",
    "fig.update_traces(line_color='#456987')\n",
    "# px.bar(gm1, x = \"extractTime\", y = \"ticket_count\")"
   ]
  },
  {
   "cell_type": "code",
   "execution_count": 4,
   "metadata": {},
   "outputs": [
    {
     "data": {
      "application/vnd.plotly.v1+json": {
       "config": {
        "plotlyServerURL": "https://plot.ly"
       },
       "data": [
        {
         "alignmentgroup": "True",
         "hovertemplate": "extractTime=%{x}<br>ticket_count=%{y}<extra></extra>",
         "legendgroup": "",
         "marker": {
          "color": "#636efa"
         },
         "name": "",
         "offsetgroup": "",
         "orientation": "v",
         "showlegend": false,
         "textposition": "auto",
         "type": "bar",
         "x": [
          "2021-06-08T17:51:48.284897",
          "2021-06-09T12:10:15.524405",
          "2021-06-10T00:25:10.995267",
          "2021-06-10T12:10:33.528977",
          "2021-06-11T04:00:07.429662",
          "2021-06-11T12:09:17.664544",
          "2021-06-12T00:19:18.579301",
          "2021-06-12T12:08:54.466681",
          "2021-06-13T00:24:03.636304",
          "2021-06-13T12:09:13.396484",
          "2021-06-14T00:21:23.755768",
          "2021-06-14T12:09:32.705279",
          "2021-06-15T00:22:38.376637",
          "2021-06-15T12:09:40.069016",
          "2021-06-16T00:22:32.223632",
          "2021-06-16T12:09:48.628414",
          "2021-06-17T00:21:06.359332",
          "2021-06-17T12:09:51.136945",
          "2021-06-18T00:21:24.007635",
          "2021-06-18T12:09:35.296927",
          "2021-06-19T00:22:13.839899",
          "2021-06-19T12:08:53.454055",
          "2021-06-20T00:23:39.052296",
          "2021-06-20T12:08:58.148671",
          "2021-06-21T00:23:14.970763",
          "2021-06-21T12:10:06.248921",
          "2021-06-22T00:21:41.824822",
          "2021-06-22T12:09:34.428349",
          "2021-06-23T00:21:45.777377",
          "2021-06-23T12:08:08.359857",
          "2021-06-24T00:17:16.336585",
          "2021-06-24T12:10:17.858190",
          "2021-06-25T00:24:02.384490",
          "2021-06-25T12:09:37.496059",
          "2021-06-26T00:20:29.849759",
          "2021-06-26T12:09:13.399048",
          "2021-06-27T00:25:21.484693",
          "2021-06-27T12:09:49.625911",
          "2021-06-28T00:23:09.122672",
          "2021-06-28T12:10:17.185155",
          "2021-06-29T00:22:47.638278",
          "2021-06-29T12:10:11.825251",
          "2021-06-30T00:21:52.223623",
          "2021-06-30T12:09:55.905504",
          "2021-07-01T00:24:22.898083",
          "2021-07-01T12:10:54.558426",
          "2021-07-02T00:22:03.192322",
          "2021-07-02T12:10:07.259557",
          "2021-07-03T00:21:28.423810",
          "2021-07-03T12:09:32.799716",
          "2021-07-04T00:22:12.322703",
          "2021-07-04T12:09:27.394659",
          "2021-07-05T00:20:44.535020",
          "2021-07-05T12:10:18.436680",
          "2021-07-06T00:23:33.695509",
          "2021-07-06T12:10:04.035302",
          "2021-07-07T00:22:35.636865",
          "2021-07-07T12:09:54.403027",
          "2021-07-08T00:20:45.443163",
          "2021-07-08T12:10:10.966082",
          "2021-07-09T00:23:28.119239",
          "2021-07-09T12:09:52.286745",
          "2021-07-10T00:22:25.758686",
          "2021-07-10T12:00:49.061241",
          "2021-07-11T00:10:34.445667",
          "2021-07-11T02:17:34.911550",
          "2021-07-11T12:00:51.656391"
         ],
         "xaxis": "x",
         "y": [
          0,
          0,
          0,
          0,
          3067,
          3063,
          3062,
          3067,
          3072,
          3074,
          3055,
          3073,
          3086,
          3082,
          3036,
          3005,
          2989,
          3004,
          2993,
          2967,
          3002,
          2999,
          2995,
          2961,
          2922,
          2881,
          2894,
          2906,
          2942,
          2928,
          3797,
          3783,
          3782,
          3754,
          3766,
          3753,
          3741,
          3732,
          3724,
          3692,
          4390,
          4241,
          4296,
          4200,
          4153,
          4082,
          4074,
          4057,
          4329,
          4237,
          4210,
          4166,
          4080,
          3998,
          3993,
          3904,
          4421,
          4260,
          4622,
          4530,
          4496,
          4436,
          4511,
          4267,
          4257,
          4145,
          3621
         ],
         "yaxis": "y"
        }
       ],
       "layout": {
        "barmode": "relative",
        "legend": {
         "tracegroupgap": 0
        },
        "margin": {
         "t": 60
        },
        "template": {
         "data": {
          "bar": [
           {
            "error_x": {
             "color": "#2a3f5f"
            },
            "error_y": {
             "color": "#2a3f5f"
            },
            "marker": {
             "line": {
              "color": "#E5ECF6",
              "width": 0.5
             }
            },
            "type": "bar"
           }
          ],
          "barpolar": [
           {
            "marker": {
             "line": {
              "color": "#E5ECF6",
              "width": 0.5
             }
            },
            "type": "barpolar"
           }
          ],
          "carpet": [
           {
            "aaxis": {
             "endlinecolor": "#2a3f5f",
             "gridcolor": "white",
             "linecolor": "white",
             "minorgridcolor": "white",
             "startlinecolor": "#2a3f5f"
            },
            "baxis": {
             "endlinecolor": "#2a3f5f",
             "gridcolor": "white",
             "linecolor": "white",
             "minorgridcolor": "white",
             "startlinecolor": "#2a3f5f"
            },
            "type": "carpet"
           }
          ],
          "choropleth": [
           {
            "colorbar": {
             "outlinewidth": 0,
             "ticks": ""
            },
            "type": "choropleth"
           }
          ],
          "contour": [
           {
            "colorbar": {
             "outlinewidth": 0,
             "ticks": ""
            },
            "colorscale": [
             [
              0,
              "#0d0887"
             ],
             [
              0.1111111111111111,
              "#46039f"
             ],
             [
              0.2222222222222222,
              "#7201a8"
             ],
             [
              0.3333333333333333,
              "#9c179e"
             ],
             [
              0.4444444444444444,
              "#bd3786"
             ],
             [
              0.5555555555555556,
              "#d8576b"
             ],
             [
              0.6666666666666666,
              "#ed7953"
             ],
             [
              0.7777777777777778,
              "#fb9f3a"
             ],
             [
              0.8888888888888888,
              "#fdca26"
             ],
             [
              1,
              "#f0f921"
             ]
            ],
            "type": "contour"
           }
          ],
          "contourcarpet": [
           {
            "colorbar": {
             "outlinewidth": 0,
             "ticks": ""
            },
            "type": "contourcarpet"
           }
          ],
          "heatmap": [
           {
            "colorbar": {
             "outlinewidth": 0,
             "ticks": ""
            },
            "colorscale": [
             [
              0,
              "#0d0887"
             ],
             [
              0.1111111111111111,
              "#46039f"
             ],
             [
              0.2222222222222222,
              "#7201a8"
             ],
             [
              0.3333333333333333,
              "#9c179e"
             ],
             [
              0.4444444444444444,
              "#bd3786"
             ],
             [
              0.5555555555555556,
              "#d8576b"
             ],
             [
              0.6666666666666666,
              "#ed7953"
             ],
             [
              0.7777777777777778,
              "#fb9f3a"
             ],
             [
              0.8888888888888888,
              "#fdca26"
             ],
             [
              1,
              "#f0f921"
             ]
            ],
            "type": "heatmap"
           }
          ],
          "heatmapgl": [
           {
            "colorbar": {
             "outlinewidth": 0,
             "ticks": ""
            },
            "colorscale": [
             [
              0,
              "#0d0887"
             ],
             [
              0.1111111111111111,
              "#46039f"
             ],
             [
              0.2222222222222222,
              "#7201a8"
             ],
             [
              0.3333333333333333,
              "#9c179e"
             ],
             [
              0.4444444444444444,
              "#bd3786"
             ],
             [
              0.5555555555555556,
              "#d8576b"
             ],
             [
              0.6666666666666666,
              "#ed7953"
             ],
             [
              0.7777777777777778,
              "#fb9f3a"
             ],
             [
              0.8888888888888888,
              "#fdca26"
             ],
             [
              1,
              "#f0f921"
             ]
            ],
            "type": "heatmapgl"
           }
          ],
          "histogram": [
           {
            "marker": {
             "colorbar": {
              "outlinewidth": 0,
              "ticks": ""
             }
            },
            "type": "histogram"
           }
          ],
          "histogram2d": [
           {
            "colorbar": {
             "outlinewidth": 0,
             "ticks": ""
            },
            "colorscale": [
             [
              0,
              "#0d0887"
             ],
             [
              0.1111111111111111,
              "#46039f"
             ],
             [
              0.2222222222222222,
              "#7201a8"
             ],
             [
              0.3333333333333333,
              "#9c179e"
             ],
             [
              0.4444444444444444,
              "#bd3786"
             ],
             [
              0.5555555555555556,
              "#d8576b"
             ],
             [
              0.6666666666666666,
              "#ed7953"
             ],
             [
              0.7777777777777778,
              "#fb9f3a"
             ],
             [
              0.8888888888888888,
              "#fdca26"
             ],
             [
              1,
              "#f0f921"
             ]
            ],
            "type": "histogram2d"
           }
          ],
          "histogram2dcontour": [
           {
            "colorbar": {
             "outlinewidth": 0,
             "ticks": ""
            },
            "colorscale": [
             [
              0,
              "#0d0887"
             ],
             [
              0.1111111111111111,
              "#46039f"
             ],
             [
              0.2222222222222222,
              "#7201a8"
             ],
             [
              0.3333333333333333,
              "#9c179e"
             ],
             [
              0.4444444444444444,
              "#bd3786"
             ],
             [
              0.5555555555555556,
              "#d8576b"
             ],
             [
              0.6666666666666666,
              "#ed7953"
             ],
             [
              0.7777777777777778,
              "#fb9f3a"
             ],
             [
              0.8888888888888888,
              "#fdca26"
             ],
             [
              1,
              "#f0f921"
             ]
            ],
            "type": "histogram2dcontour"
           }
          ],
          "mesh3d": [
           {
            "colorbar": {
             "outlinewidth": 0,
             "ticks": ""
            },
            "type": "mesh3d"
           }
          ],
          "parcoords": [
           {
            "line": {
             "colorbar": {
              "outlinewidth": 0,
              "ticks": ""
             }
            },
            "type": "parcoords"
           }
          ],
          "pie": [
           {
            "automargin": true,
            "type": "pie"
           }
          ],
          "scatter": [
           {
            "marker": {
             "colorbar": {
              "outlinewidth": 0,
              "ticks": ""
             }
            },
            "type": "scatter"
           }
          ],
          "scatter3d": [
           {
            "line": {
             "colorbar": {
              "outlinewidth": 0,
              "ticks": ""
             }
            },
            "marker": {
             "colorbar": {
              "outlinewidth": 0,
              "ticks": ""
             }
            },
            "type": "scatter3d"
           }
          ],
          "scattercarpet": [
           {
            "marker": {
             "colorbar": {
              "outlinewidth": 0,
              "ticks": ""
             }
            },
            "type": "scattercarpet"
           }
          ],
          "scattergeo": [
           {
            "marker": {
             "colorbar": {
              "outlinewidth": 0,
              "ticks": ""
             }
            },
            "type": "scattergeo"
           }
          ],
          "scattergl": [
           {
            "marker": {
             "colorbar": {
              "outlinewidth": 0,
              "ticks": ""
             }
            },
            "type": "scattergl"
           }
          ],
          "scattermapbox": [
           {
            "marker": {
             "colorbar": {
              "outlinewidth": 0,
              "ticks": ""
             }
            },
            "type": "scattermapbox"
           }
          ],
          "scatterpolar": [
           {
            "marker": {
             "colorbar": {
              "outlinewidth": 0,
              "ticks": ""
             }
            },
            "type": "scatterpolar"
           }
          ],
          "scatterpolargl": [
           {
            "marker": {
             "colorbar": {
              "outlinewidth": 0,
              "ticks": ""
             }
            },
            "type": "scatterpolargl"
           }
          ],
          "scatterternary": [
           {
            "marker": {
             "colorbar": {
              "outlinewidth": 0,
              "ticks": ""
             }
            },
            "type": "scatterternary"
           }
          ],
          "surface": [
           {
            "colorbar": {
             "outlinewidth": 0,
             "ticks": ""
            },
            "colorscale": [
             [
              0,
              "#0d0887"
             ],
             [
              0.1111111111111111,
              "#46039f"
             ],
             [
              0.2222222222222222,
              "#7201a8"
             ],
             [
              0.3333333333333333,
              "#9c179e"
             ],
             [
              0.4444444444444444,
              "#bd3786"
             ],
             [
              0.5555555555555556,
              "#d8576b"
             ],
             [
              0.6666666666666666,
              "#ed7953"
             ],
             [
              0.7777777777777778,
              "#fb9f3a"
             ],
             [
              0.8888888888888888,
              "#fdca26"
             ],
             [
              1,
              "#f0f921"
             ]
            ],
            "type": "surface"
           }
          ],
          "table": [
           {
            "cells": {
             "fill": {
              "color": "#EBF0F8"
             },
             "line": {
              "color": "white"
             }
            },
            "header": {
             "fill": {
              "color": "#C8D4E3"
             },
             "line": {
              "color": "white"
             }
            },
            "type": "table"
           }
          ]
         },
         "layout": {
          "annotationdefaults": {
           "arrowcolor": "#2a3f5f",
           "arrowhead": 0,
           "arrowwidth": 1
          },
          "autotypenumbers": "strict",
          "coloraxis": {
           "colorbar": {
            "outlinewidth": 0,
            "ticks": ""
           }
          },
          "colorscale": {
           "diverging": [
            [
             0,
             "#8e0152"
            ],
            [
             0.1,
             "#c51b7d"
            ],
            [
             0.2,
             "#de77ae"
            ],
            [
             0.3,
             "#f1b6da"
            ],
            [
             0.4,
             "#fde0ef"
            ],
            [
             0.5,
             "#f7f7f7"
            ],
            [
             0.6,
             "#e6f5d0"
            ],
            [
             0.7,
             "#b8e186"
            ],
            [
             0.8,
             "#7fbc41"
            ],
            [
             0.9,
             "#4d9221"
            ],
            [
             1,
             "#276419"
            ]
           ],
           "sequential": [
            [
             0,
             "#0d0887"
            ],
            [
             0.1111111111111111,
             "#46039f"
            ],
            [
             0.2222222222222222,
             "#7201a8"
            ],
            [
             0.3333333333333333,
             "#9c179e"
            ],
            [
             0.4444444444444444,
             "#bd3786"
            ],
            [
             0.5555555555555556,
             "#d8576b"
            ],
            [
             0.6666666666666666,
             "#ed7953"
            ],
            [
             0.7777777777777778,
             "#fb9f3a"
            ],
            [
             0.8888888888888888,
             "#fdca26"
            ],
            [
             1,
             "#f0f921"
            ]
           ],
           "sequentialminus": [
            [
             0,
             "#0d0887"
            ],
            [
             0.1111111111111111,
             "#46039f"
            ],
            [
             0.2222222222222222,
             "#7201a8"
            ],
            [
             0.3333333333333333,
             "#9c179e"
            ],
            [
             0.4444444444444444,
             "#bd3786"
            ],
            [
             0.5555555555555556,
             "#d8576b"
            ],
            [
             0.6666666666666666,
             "#ed7953"
            ],
            [
             0.7777777777777778,
             "#fb9f3a"
            ],
            [
             0.8888888888888888,
             "#fdca26"
            ],
            [
             1,
             "#f0f921"
            ]
           ]
          },
          "colorway": [
           "#636efa",
           "#EF553B",
           "#00cc96",
           "#ab63fa",
           "#FFA15A",
           "#19d3f3",
           "#FF6692",
           "#B6E880",
           "#FF97FF",
           "#FECB52"
          ],
          "font": {
           "color": "#2a3f5f"
          },
          "geo": {
           "bgcolor": "white",
           "lakecolor": "white",
           "landcolor": "#E5ECF6",
           "showlakes": true,
           "showland": true,
           "subunitcolor": "white"
          },
          "hoverlabel": {
           "align": "left"
          },
          "hovermode": "closest",
          "mapbox": {
           "style": "light"
          },
          "paper_bgcolor": "white",
          "plot_bgcolor": "#E5ECF6",
          "polar": {
           "angularaxis": {
            "gridcolor": "white",
            "linecolor": "white",
            "ticks": ""
           },
           "bgcolor": "#E5ECF6",
           "radialaxis": {
            "gridcolor": "white",
            "linecolor": "white",
            "ticks": ""
           }
          },
          "scene": {
           "xaxis": {
            "backgroundcolor": "#E5ECF6",
            "gridcolor": "white",
            "gridwidth": 2,
            "linecolor": "white",
            "showbackground": true,
            "ticks": "",
            "zerolinecolor": "white"
           },
           "yaxis": {
            "backgroundcolor": "#E5ECF6",
            "gridcolor": "white",
            "gridwidth": 2,
            "linecolor": "white",
            "showbackground": true,
            "ticks": "",
            "zerolinecolor": "white"
           },
           "zaxis": {
            "backgroundcolor": "#E5ECF6",
            "gridcolor": "white",
            "gridwidth": 2,
            "linecolor": "white",
            "showbackground": true,
            "ticks": "",
            "zerolinecolor": "white"
           }
          },
          "shapedefaults": {
           "line": {
            "color": "#2a3f5f"
           }
          },
          "ternary": {
           "aaxis": {
            "gridcolor": "white",
            "linecolor": "white",
            "ticks": ""
           },
           "baxis": {
            "gridcolor": "white",
            "linecolor": "white",
            "ticks": ""
           },
           "bgcolor": "#E5ECF6",
           "caxis": {
            "gridcolor": "white",
            "linecolor": "white",
            "ticks": ""
           }
          },
          "title": {
           "x": 0.05
          },
          "xaxis": {
           "automargin": true,
           "gridcolor": "white",
           "linecolor": "white",
           "ticks": "",
           "title": {
            "standoff": 15
           },
           "zerolinecolor": "white",
           "zerolinewidth": 2
          },
          "yaxis": {
           "automargin": true,
           "gridcolor": "white",
           "linecolor": "white",
           "ticks": "",
           "title": {
            "standoff": 15
           },
           "zerolinecolor": "white",
           "zerolinewidth": 2
          }
         }
        },
        "xaxis": {
         "anchor": "y",
         "domain": [
          0,
          1
         ],
         "title": {
          "text": "extractTime"
         }
        },
        "yaxis": {
         "anchor": "x",
         "domain": [
          0,
          1
         ],
         "title": {
          "text": "ticket_count"
         }
        }
       }
      }
     },
     "metadata": {},
     "output_type": "display_data"
    }
   ],
   "source": [
    "px.bar(gm1, x = \"extractTime\", y = \"ticket_count\")"
   ]
  },
  {
   "cell_type": "markdown",
   "metadata": {},
   "source": [
    "# Mariners vs. Angels 7/16/21"
   ]
  },
  {
   "cell_type": "code",
   "execution_count": 5,
   "metadata": {},
   "outputs": [
    {
     "data": {
      "application/vnd.plotly.v1+json": {
       "config": {
        "plotlyServerURL": "https://plot.ly"
       },
       "data": [
        {
         "hovertemplate": "extractTime=%{x}<br>price=%{y}<extra></extra>",
         "legendgroup": "",
         "line": {
          "color": "#636efa",
          "dash": "solid"
         },
         "mode": "lines",
         "name": "",
         "orientation": "v",
         "showlegend": false,
         "type": "scatter",
         "x": [
          "2021-06-08T17:51:49.018941",
          "2021-06-09T12:10:15.835417",
          "2021-06-10T00:25:11.339264",
          "2021-06-10T12:10:33.991895",
          "2021-06-11T04:00:07.872238",
          "2021-06-11T12:09:18.111076",
          "2021-06-12T00:19:19.100503",
          "2021-06-12T12:08:54.831787",
          "2021-06-13T00:24:04.248945",
          "2021-06-13T12:09:14.069717",
          "2021-06-14T00:21:24.203263",
          "2021-06-14T12:09:33.231056",
          "2021-06-15T00:22:38.720107",
          "2021-06-15T12:09:40.481422",
          "2021-06-16T00:22:32.911615",
          "2021-06-16T12:09:48.990533",
          "2021-06-17T00:21:07.068681",
          "2021-06-17T12:09:51.600977",
          "2021-06-18T00:21:24.294094",
          "2021-06-18T12:09:35.669719",
          "2021-06-19T00:22:14.386704",
          "2021-06-19T12:08:53.773386",
          "2021-06-20T00:23:39.553880",
          "2021-06-20T12:08:58.685633",
          "2021-06-21T00:23:15.439438",
          "2021-06-21T12:10:06.707159",
          "2021-06-22T00:21:42.258678",
          "2021-06-22T12:09:34.815943",
          "2021-06-23T00:21:46.150844",
          "2021-06-23T12:08:09.096536",
          "2021-06-24T00:17:16.691968",
          "2021-06-24T12:10:18.327910",
          "2021-06-25T00:24:02.720078",
          "2021-06-25T12:09:38.056365",
          "2021-06-26T00:20:30.256622",
          "2021-06-26T12:09:13.763606",
          "2021-06-27T00:25:22.117640",
          "2021-06-27T12:09:50.224499",
          "2021-06-28T00:23:09.409107",
          "2021-06-28T12:10:17.566620",
          "2021-06-29T00:22:48.020446",
          "2021-06-29T12:10:12.214925",
          "2021-06-30T00:21:52.592558",
          "2021-06-30T12:09:56.346440",
          "2021-07-01T00:24:23.407878",
          "2021-07-01T12:10:55.332385",
          "2021-07-02T00:22:03.546278",
          "2021-07-02T12:10:07.620555",
          "2021-07-03T00:21:28.807938",
          "2021-07-03T12:09:33.186203",
          "2021-07-04T00:22:12.791560",
          "2021-07-04T12:09:27.707175",
          "2021-07-05T00:20:44.932359",
          "2021-07-05T12:10:18.775313",
          "2021-07-06T00:23:34.404950",
          "2021-07-06T12:10:04.515526",
          "2021-07-07T00:22:36.000423",
          "2021-07-07T12:09:54.725840",
          "2021-07-08T00:20:45.781142",
          "2021-07-08T12:10:11.382284",
          "2021-07-09T00:23:28.432986",
          "2021-07-09T12:09:52.620990",
          "2021-07-10T00:22:26.225272",
          "2021-07-10T12:00:50.223251",
          "2021-07-11T00:10:34.838392",
          "2021-07-11T02:17:35.211645",
          "2021-07-11T12:00:52.107327",
          "2021-07-12T00:00:36.302766",
          "2021-07-12T02:14:49.820128",
          "2021-07-12T12:00:56.964267",
          "2021-07-13T00:47:58.472756",
          "2021-07-13T12:23:45.024293",
          "2021-07-14T00:42:26.601191"
         ],
         "xaxis": "x",
         "y": [
          25.81,
          25.81,
          22.66,
          22.66,
          28.74,
          28.74,
          28.74,
          28.74,
          28.74,
          28.74,
          28.74,
          28.74,
          28.74,
          28.74,
          26.3,
          26.3,
          26.3,
          26.3,
          26.3,
          26.3,
          26.3,
          26.3,
          26.3,
          26.24,
          26.24,
          26.24,
          22.87,
          22.87,
          22.86,
          22.86,
          21.64,
          21.64,
          21.64,
          21.64,
          20.41,
          20.41,
          20.41,
          20.41,
          20.41,
          20.41,
          20.41,
          20.41,
          21.63,
          20.41,
          19.19,
          19.19,
          19.19,
          19.19,
          18.56,
          18.56,
          19.17,
          19.17,
          19.19,
          19.19,
          28.74,
          28.74,
          26.55,
          25.32,
          24.1,
          20.41,
          22.87,
          22.87,
          22.87,
          22.87,
          24.1,
          24.1,
          25.32,
          23.79,
          24.08,
          24.08,
          23.8,
          23.8,
          16.73
         ],
         "yaxis": "y"
        }
       ],
       "layout": {
        "legend": {
         "tracegroupgap": 0
        },
        "margin": {
         "t": 60
        },
        "template": {
         "data": {
          "bar": [
           {
            "error_x": {
             "color": "#2a3f5f"
            },
            "error_y": {
             "color": "#2a3f5f"
            },
            "marker": {
             "line": {
              "color": "#E5ECF6",
              "width": 0.5
             }
            },
            "type": "bar"
           }
          ],
          "barpolar": [
           {
            "marker": {
             "line": {
              "color": "#E5ECF6",
              "width": 0.5
             }
            },
            "type": "barpolar"
           }
          ],
          "carpet": [
           {
            "aaxis": {
             "endlinecolor": "#2a3f5f",
             "gridcolor": "white",
             "linecolor": "white",
             "minorgridcolor": "white",
             "startlinecolor": "#2a3f5f"
            },
            "baxis": {
             "endlinecolor": "#2a3f5f",
             "gridcolor": "white",
             "linecolor": "white",
             "minorgridcolor": "white",
             "startlinecolor": "#2a3f5f"
            },
            "type": "carpet"
           }
          ],
          "choropleth": [
           {
            "colorbar": {
             "outlinewidth": 0,
             "ticks": ""
            },
            "type": "choropleth"
           }
          ],
          "contour": [
           {
            "colorbar": {
             "outlinewidth": 0,
             "ticks": ""
            },
            "colorscale": [
             [
              0,
              "#0d0887"
             ],
             [
              0.1111111111111111,
              "#46039f"
             ],
             [
              0.2222222222222222,
              "#7201a8"
             ],
             [
              0.3333333333333333,
              "#9c179e"
             ],
             [
              0.4444444444444444,
              "#bd3786"
             ],
             [
              0.5555555555555556,
              "#d8576b"
             ],
             [
              0.6666666666666666,
              "#ed7953"
             ],
             [
              0.7777777777777778,
              "#fb9f3a"
             ],
             [
              0.8888888888888888,
              "#fdca26"
             ],
             [
              1,
              "#f0f921"
             ]
            ],
            "type": "contour"
           }
          ],
          "contourcarpet": [
           {
            "colorbar": {
             "outlinewidth": 0,
             "ticks": ""
            },
            "type": "contourcarpet"
           }
          ],
          "heatmap": [
           {
            "colorbar": {
             "outlinewidth": 0,
             "ticks": ""
            },
            "colorscale": [
             [
              0,
              "#0d0887"
             ],
             [
              0.1111111111111111,
              "#46039f"
             ],
             [
              0.2222222222222222,
              "#7201a8"
             ],
             [
              0.3333333333333333,
              "#9c179e"
             ],
             [
              0.4444444444444444,
              "#bd3786"
             ],
             [
              0.5555555555555556,
              "#d8576b"
             ],
             [
              0.6666666666666666,
              "#ed7953"
             ],
             [
              0.7777777777777778,
              "#fb9f3a"
             ],
             [
              0.8888888888888888,
              "#fdca26"
             ],
             [
              1,
              "#f0f921"
             ]
            ],
            "type": "heatmap"
           }
          ],
          "heatmapgl": [
           {
            "colorbar": {
             "outlinewidth": 0,
             "ticks": ""
            },
            "colorscale": [
             [
              0,
              "#0d0887"
             ],
             [
              0.1111111111111111,
              "#46039f"
             ],
             [
              0.2222222222222222,
              "#7201a8"
             ],
             [
              0.3333333333333333,
              "#9c179e"
             ],
             [
              0.4444444444444444,
              "#bd3786"
             ],
             [
              0.5555555555555556,
              "#d8576b"
             ],
             [
              0.6666666666666666,
              "#ed7953"
             ],
             [
              0.7777777777777778,
              "#fb9f3a"
             ],
             [
              0.8888888888888888,
              "#fdca26"
             ],
             [
              1,
              "#f0f921"
             ]
            ],
            "type": "heatmapgl"
           }
          ],
          "histogram": [
           {
            "marker": {
             "colorbar": {
              "outlinewidth": 0,
              "ticks": ""
             }
            },
            "type": "histogram"
           }
          ],
          "histogram2d": [
           {
            "colorbar": {
             "outlinewidth": 0,
             "ticks": ""
            },
            "colorscale": [
             [
              0,
              "#0d0887"
             ],
             [
              0.1111111111111111,
              "#46039f"
             ],
             [
              0.2222222222222222,
              "#7201a8"
             ],
             [
              0.3333333333333333,
              "#9c179e"
             ],
             [
              0.4444444444444444,
              "#bd3786"
             ],
             [
              0.5555555555555556,
              "#d8576b"
             ],
             [
              0.6666666666666666,
              "#ed7953"
             ],
             [
              0.7777777777777778,
              "#fb9f3a"
             ],
             [
              0.8888888888888888,
              "#fdca26"
             ],
             [
              1,
              "#f0f921"
             ]
            ],
            "type": "histogram2d"
           }
          ],
          "histogram2dcontour": [
           {
            "colorbar": {
             "outlinewidth": 0,
             "ticks": ""
            },
            "colorscale": [
             [
              0,
              "#0d0887"
             ],
             [
              0.1111111111111111,
              "#46039f"
             ],
             [
              0.2222222222222222,
              "#7201a8"
             ],
             [
              0.3333333333333333,
              "#9c179e"
             ],
             [
              0.4444444444444444,
              "#bd3786"
             ],
             [
              0.5555555555555556,
              "#d8576b"
             ],
             [
              0.6666666666666666,
              "#ed7953"
             ],
             [
              0.7777777777777778,
              "#fb9f3a"
             ],
             [
              0.8888888888888888,
              "#fdca26"
             ],
             [
              1,
              "#f0f921"
             ]
            ],
            "type": "histogram2dcontour"
           }
          ],
          "mesh3d": [
           {
            "colorbar": {
             "outlinewidth": 0,
             "ticks": ""
            },
            "type": "mesh3d"
           }
          ],
          "parcoords": [
           {
            "line": {
             "colorbar": {
              "outlinewidth": 0,
              "ticks": ""
             }
            },
            "type": "parcoords"
           }
          ],
          "pie": [
           {
            "automargin": true,
            "type": "pie"
           }
          ],
          "scatter": [
           {
            "marker": {
             "colorbar": {
              "outlinewidth": 0,
              "ticks": ""
             }
            },
            "type": "scatter"
           }
          ],
          "scatter3d": [
           {
            "line": {
             "colorbar": {
              "outlinewidth": 0,
              "ticks": ""
             }
            },
            "marker": {
             "colorbar": {
              "outlinewidth": 0,
              "ticks": ""
             }
            },
            "type": "scatter3d"
           }
          ],
          "scattercarpet": [
           {
            "marker": {
             "colorbar": {
              "outlinewidth": 0,
              "ticks": ""
             }
            },
            "type": "scattercarpet"
           }
          ],
          "scattergeo": [
           {
            "marker": {
             "colorbar": {
              "outlinewidth": 0,
              "ticks": ""
             }
            },
            "type": "scattergeo"
           }
          ],
          "scattergl": [
           {
            "marker": {
             "colorbar": {
              "outlinewidth": 0,
              "ticks": ""
             }
            },
            "type": "scattergl"
           }
          ],
          "scattermapbox": [
           {
            "marker": {
             "colorbar": {
              "outlinewidth": 0,
              "ticks": ""
             }
            },
            "type": "scattermapbox"
           }
          ],
          "scatterpolar": [
           {
            "marker": {
             "colorbar": {
              "outlinewidth": 0,
              "ticks": ""
             }
            },
            "type": "scatterpolar"
           }
          ],
          "scatterpolargl": [
           {
            "marker": {
             "colorbar": {
              "outlinewidth": 0,
              "ticks": ""
             }
            },
            "type": "scatterpolargl"
           }
          ],
          "scatterternary": [
           {
            "marker": {
             "colorbar": {
              "outlinewidth": 0,
              "ticks": ""
             }
            },
            "type": "scatterternary"
           }
          ],
          "surface": [
           {
            "colorbar": {
             "outlinewidth": 0,
             "ticks": ""
            },
            "colorscale": [
             [
              0,
              "#0d0887"
             ],
             [
              0.1111111111111111,
              "#46039f"
             ],
             [
              0.2222222222222222,
              "#7201a8"
             ],
             [
              0.3333333333333333,
              "#9c179e"
             ],
             [
              0.4444444444444444,
              "#bd3786"
             ],
             [
              0.5555555555555556,
              "#d8576b"
             ],
             [
              0.6666666666666666,
              "#ed7953"
             ],
             [
              0.7777777777777778,
              "#fb9f3a"
             ],
             [
              0.8888888888888888,
              "#fdca26"
             ],
             [
              1,
              "#f0f921"
             ]
            ],
            "type": "surface"
           }
          ],
          "table": [
           {
            "cells": {
             "fill": {
              "color": "#EBF0F8"
             },
             "line": {
              "color": "white"
             }
            },
            "header": {
             "fill": {
              "color": "#C8D4E3"
             },
             "line": {
              "color": "white"
             }
            },
            "type": "table"
           }
          ]
         },
         "layout": {
          "annotationdefaults": {
           "arrowcolor": "#2a3f5f",
           "arrowhead": 0,
           "arrowwidth": 1
          },
          "autotypenumbers": "strict",
          "coloraxis": {
           "colorbar": {
            "outlinewidth": 0,
            "ticks": ""
           }
          },
          "colorscale": {
           "diverging": [
            [
             0,
             "#8e0152"
            ],
            [
             0.1,
             "#c51b7d"
            ],
            [
             0.2,
             "#de77ae"
            ],
            [
             0.3,
             "#f1b6da"
            ],
            [
             0.4,
             "#fde0ef"
            ],
            [
             0.5,
             "#f7f7f7"
            ],
            [
             0.6,
             "#e6f5d0"
            ],
            [
             0.7,
             "#b8e186"
            ],
            [
             0.8,
             "#7fbc41"
            ],
            [
             0.9,
             "#4d9221"
            ],
            [
             1,
             "#276419"
            ]
           ],
           "sequential": [
            [
             0,
             "#0d0887"
            ],
            [
             0.1111111111111111,
             "#46039f"
            ],
            [
             0.2222222222222222,
             "#7201a8"
            ],
            [
             0.3333333333333333,
             "#9c179e"
            ],
            [
             0.4444444444444444,
             "#bd3786"
            ],
            [
             0.5555555555555556,
             "#d8576b"
            ],
            [
             0.6666666666666666,
             "#ed7953"
            ],
            [
             0.7777777777777778,
             "#fb9f3a"
            ],
            [
             0.8888888888888888,
             "#fdca26"
            ],
            [
             1,
             "#f0f921"
            ]
           ],
           "sequentialminus": [
            [
             0,
             "#0d0887"
            ],
            [
             0.1111111111111111,
             "#46039f"
            ],
            [
             0.2222222222222222,
             "#7201a8"
            ],
            [
             0.3333333333333333,
             "#9c179e"
            ],
            [
             0.4444444444444444,
             "#bd3786"
            ],
            [
             0.5555555555555556,
             "#d8576b"
            ],
            [
             0.6666666666666666,
             "#ed7953"
            ],
            [
             0.7777777777777778,
             "#fb9f3a"
            ],
            [
             0.8888888888888888,
             "#fdca26"
            ],
            [
             1,
             "#f0f921"
            ]
           ]
          },
          "colorway": [
           "#636efa",
           "#EF553B",
           "#00cc96",
           "#ab63fa",
           "#FFA15A",
           "#19d3f3",
           "#FF6692",
           "#B6E880",
           "#FF97FF",
           "#FECB52"
          ],
          "font": {
           "color": "#2a3f5f"
          },
          "geo": {
           "bgcolor": "white",
           "lakecolor": "white",
           "landcolor": "#E5ECF6",
           "showlakes": true,
           "showland": true,
           "subunitcolor": "white"
          },
          "hoverlabel": {
           "align": "left"
          },
          "hovermode": "closest",
          "mapbox": {
           "style": "light"
          },
          "paper_bgcolor": "white",
          "plot_bgcolor": "#E5ECF6",
          "polar": {
           "angularaxis": {
            "gridcolor": "white",
            "linecolor": "white",
            "ticks": ""
           },
           "bgcolor": "#E5ECF6",
           "radialaxis": {
            "gridcolor": "white",
            "linecolor": "white",
            "ticks": ""
           }
          },
          "scene": {
           "xaxis": {
            "backgroundcolor": "#E5ECF6",
            "gridcolor": "white",
            "gridwidth": 2,
            "linecolor": "white",
            "showbackground": true,
            "ticks": "",
            "zerolinecolor": "white"
           },
           "yaxis": {
            "backgroundcolor": "#E5ECF6",
            "gridcolor": "white",
            "gridwidth": 2,
            "linecolor": "white",
            "showbackground": true,
            "ticks": "",
            "zerolinecolor": "white"
           },
           "zaxis": {
            "backgroundcolor": "#E5ECF6",
            "gridcolor": "white",
            "gridwidth": 2,
            "linecolor": "white",
            "showbackground": true,
            "ticks": "",
            "zerolinecolor": "white"
           }
          },
          "shapedefaults": {
           "line": {
            "color": "#2a3f5f"
           }
          },
          "ternary": {
           "aaxis": {
            "gridcolor": "white",
            "linecolor": "white",
            "ticks": ""
           },
           "baxis": {
            "gridcolor": "white",
            "linecolor": "white",
            "ticks": ""
           },
           "bgcolor": "#E5ECF6",
           "caxis": {
            "gridcolor": "white",
            "linecolor": "white",
            "ticks": ""
           }
          },
          "title": {
           "x": 0.05
          },
          "xaxis": {
           "automargin": true,
           "gridcolor": "white",
           "linecolor": "white",
           "ticks": "",
           "title": {
            "standoff": 15
           },
           "zerolinecolor": "white",
           "zerolinewidth": 2
          },
          "yaxis": {
           "automargin": true,
           "gridcolor": "white",
           "linecolor": "white",
           "ticks": "",
           "title": {
            "standoff": 15
           },
           "zerolinecolor": "white",
           "zerolinewidth": 2
          }
         }
        },
        "xaxis": {
         "anchor": "y",
         "domain": [
          0,
          1
         ],
         "title": {
          "text": "extractTime"
         }
        },
        "yaxis": {
         "anchor": "x",
         "domain": [
          0,
          1
         ],
         "title": {
          "text": "price"
         }
        }
       }
      }
     },
     "metadata": {},
     "output_type": "display_data"
    }
   ],
   "source": [
    "gm2 = angels[angels[\"id\"] == 104731803.0]\n",
    "px.line(gm2, x = \"extractTime\", y = \"price\")"
   ]
  },
  {
   "cell_type": "code",
   "execution_count": 5,
   "metadata": {},
   "outputs": [
    {
     "data": {
      "application/vnd.plotly.v1+json": {
       "config": {
        "plotlyServerURL": "https://plot.ly"
       },
       "data": [
        {
         "alignmentgroup": "True",
         "hovertemplate": "extractTime=%{x}<br>ticket_count=%{y}<extra></extra>",
         "legendgroup": "",
         "marker": {
          "color": "#636efa"
         },
         "name": "",
         "offsetgroup": "",
         "orientation": "v",
         "showlegend": false,
         "textposition": "auto",
         "type": "bar",
         "x": [
          "2021-06-08T17:51:49.018941",
          "2021-06-09T12:10:15.835417",
          "2021-06-10T00:25:11.339264",
          "2021-06-10T12:10:33.991895",
          "2021-06-11T04:00:07.872238",
          "2021-06-11T12:09:18.111076",
          "2021-06-12T00:19:19.100503",
          "2021-06-12T12:08:54.831787",
          "2021-06-13T00:24:04.248945",
          "2021-06-13T12:09:14.069717",
          "2021-06-14T00:21:24.203263",
          "2021-06-14T12:09:33.231056",
          "2021-06-15T00:22:38.720107",
          "2021-06-15T12:09:40.481422",
          "2021-06-16T00:22:32.911615",
          "2021-06-16T12:09:48.990533",
          "2021-06-17T00:21:07.068681",
          "2021-06-17T12:09:51.600977",
          "2021-06-18T00:21:24.294094",
          "2021-06-18T12:09:35.669719",
          "2021-06-19T00:22:14.386704",
          "2021-06-19T12:08:53.773386",
          "2021-06-20T00:23:39.553880",
          "2021-06-20T12:08:58.685633",
          "2021-06-21T00:23:15.439438",
          "2021-06-21T12:10:06.707159",
          "2021-06-22T00:21:42.258678",
          "2021-06-22T12:09:34.815943",
          "2021-06-23T00:21:46.150844",
          "2021-06-23T12:08:09.096536",
          "2021-06-24T00:17:16.691968",
          "2021-06-24T12:10:18.327910",
          "2021-06-25T00:24:02.720078",
          "2021-06-25T12:09:38.056365",
          "2021-06-26T00:20:30.256622",
          "2021-06-26T12:09:13.763606",
          "2021-06-27T00:25:22.117640",
          "2021-06-27T12:09:50.224499",
          "2021-06-28T00:23:09.409107",
          "2021-06-28T12:10:17.566620",
          "2021-06-29T00:22:48.020446",
          "2021-06-29T12:10:12.214925",
          "2021-06-30T00:21:52.592558",
          "2021-06-30T12:09:56.346440",
          "2021-07-01T00:24:23.407878",
          "2021-07-01T12:10:55.332385",
          "2021-07-02T00:22:03.546278",
          "2021-07-02T12:10:07.620555",
          "2021-07-03T00:21:28.807938",
          "2021-07-03T12:09:33.186203",
          "2021-07-04T00:22:12.791560",
          "2021-07-04T12:09:27.707175",
          "2021-07-05T00:20:44.932359",
          "2021-07-05T12:10:18.775313",
          "2021-07-06T00:23:34.404950",
          "2021-07-06T12:10:04.515526",
          "2021-07-07T00:22:36.000423",
          "2021-07-07T12:09:54.725840",
          "2021-07-08T00:20:45.781142",
          "2021-07-08T12:10:11.382284",
          "2021-07-09T00:23:28.432986",
          "2021-07-09T12:09:52.620990",
          "2021-07-10T00:22:26.225272",
          "2021-07-10T12:00:50.223251",
          "2021-07-11T00:10:34.838392",
          "2021-07-11T02:17:35.211645",
          "2021-07-11T12:00:52.107327",
          "2021-07-12T00:00:36.302766",
          "2021-07-12T02:14:49.820128",
          "2021-07-12T12:00:56.964267",
          "2021-07-13T00:47:58.472756",
          "2021-07-13T12:23:45.024293"
         ],
         "xaxis": "x",
         "y": [
          0,
          0,
          0,
          0,
          1174,
          1176,
          1043,
          1040,
          1030,
          1026,
          1044,
          1040,
          1046,
          1073,
          1558,
          1550,
          1542,
          1531,
          1561,
          1408,
          1454,
          1440,
          1408,
          1386,
          1364,
          1357,
          1466,
          1444,
          1436,
          1506,
          1535,
          1523,
          1511,
          1499,
          1464,
          1449,
          1424,
          1416,
          1453,
          1431,
          1417,
          1388,
          1432,
          1411,
          1438,
          1417,
          1348,
          1315,
          1258,
          1244,
          1461,
          1391,
          1340,
          1282,
          1286,
          1195,
          1371,
          1499,
          1444,
          1822,
          1885,
          1800,
          2062,
          2115,
          1995,
          1952,
          1930,
          1896,
          1893,
          1810,
          1924,
          2694
         ],
         "yaxis": "y"
        }
       ],
       "layout": {
        "barmode": "relative",
        "legend": {
         "tracegroupgap": 0
        },
        "margin": {
         "t": 60
        },
        "template": {
         "data": {
          "bar": [
           {
            "error_x": {
             "color": "#2a3f5f"
            },
            "error_y": {
             "color": "#2a3f5f"
            },
            "marker": {
             "line": {
              "color": "#E5ECF6",
              "width": 0.5
             }
            },
            "type": "bar"
           }
          ],
          "barpolar": [
           {
            "marker": {
             "line": {
              "color": "#E5ECF6",
              "width": 0.5
             }
            },
            "type": "barpolar"
           }
          ],
          "carpet": [
           {
            "aaxis": {
             "endlinecolor": "#2a3f5f",
             "gridcolor": "white",
             "linecolor": "white",
             "minorgridcolor": "white",
             "startlinecolor": "#2a3f5f"
            },
            "baxis": {
             "endlinecolor": "#2a3f5f",
             "gridcolor": "white",
             "linecolor": "white",
             "minorgridcolor": "white",
             "startlinecolor": "#2a3f5f"
            },
            "type": "carpet"
           }
          ],
          "choropleth": [
           {
            "colorbar": {
             "outlinewidth": 0,
             "ticks": ""
            },
            "type": "choropleth"
           }
          ],
          "contour": [
           {
            "colorbar": {
             "outlinewidth": 0,
             "ticks": ""
            },
            "colorscale": [
             [
              0,
              "#0d0887"
             ],
             [
              0.1111111111111111,
              "#46039f"
             ],
             [
              0.2222222222222222,
              "#7201a8"
             ],
             [
              0.3333333333333333,
              "#9c179e"
             ],
             [
              0.4444444444444444,
              "#bd3786"
             ],
             [
              0.5555555555555556,
              "#d8576b"
             ],
             [
              0.6666666666666666,
              "#ed7953"
             ],
             [
              0.7777777777777778,
              "#fb9f3a"
             ],
             [
              0.8888888888888888,
              "#fdca26"
             ],
             [
              1,
              "#f0f921"
             ]
            ],
            "type": "contour"
           }
          ],
          "contourcarpet": [
           {
            "colorbar": {
             "outlinewidth": 0,
             "ticks": ""
            },
            "type": "contourcarpet"
           }
          ],
          "heatmap": [
           {
            "colorbar": {
             "outlinewidth": 0,
             "ticks": ""
            },
            "colorscale": [
             [
              0,
              "#0d0887"
             ],
             [
              0.1111111111111111,
              "#46039f"
             ],
             [
              0.2222222222222222,
              "#7201a8"
             ],
             [
              0.3333333333333333,
              "#9c179e"
             ],
             [
              0.4444444444444444,
              "#bd3786"
             ],
             [
              0.5555555555555556,
              "#d8576b"
             ],
             [
              0.6666666666666666,
              "#ed7953"
             ],
             [
              0.7777777777777778,
              "#fb9f3a"
             ],
             [
              0.8888888888888888,
              "#fdca26"
             ],
             [
              1,
              "#f0f921"
             ]
            ],
            "type": "heatmap"
           }
          ],
          "heatmapgl": [
           {
            "colorbar": {
             "outlinewidth": 0,
             "ticks": ""
            },
            "colorscale": [
             [
              0,
              "#0d0887"
             ],
             [
              0.1111111111111111,
              "#46039f"
             ],
             [
              0.2222222222222222,
              "#7201a8"
             ],
             [
              0.3333333333333333,
              "#9c179e"
             ],
             [
              0.4444444444444444,
              "#bd3786"
             ],
             [
              0.5555555555555556,
              "#d8576b"
             ],
             [
              0.6666666666666666,
              "#ed7953"
             ],
             [
              0.7777777777777778,
              "#fb9f3a"
             ],
             [
              0.8888888888888888,
              "#fdca26"
             ],
             [
              1,
              "#f0f921"
             ]
            ],
            "type": "heatmapgl"
           }
          ],
          "histogram": [
           {
            "marker": {
             "colorbar": {
              "outlinewidth": 0,
              "ticks": ""
             }
            },
            "type": "histogram"
           }
          ],
          "histogram2d": [
           {
            "colorbar": {
             "outlinewidth": 0,
             "ticks": ""
            },
            "colorscale": [
             [
              0,
              "#0d0887"
             ],
             [
              0.1111111111111111,
              "#46039f"
             ],
             [
              0.2222222222222222,
              "#7201a8"
             ],
             [
              0.3333333333333333,
              "#9c179e"
             ],
             [
              0.4444444444444444,
              "#bd3786"
             ],
             [
              0.5555555555555556,
              "#d8576b"
             ],
             [
              0.6666666666666666,
              "#ed7953"
             ],
             [
              0.7777777777777778,
              "#fb9f3a"
             ],
             [
              0.8888888888888888,
              "#fdca26"
             ],
             [
              1,
              "#f0f921"
             ]
            ],
            "type": "histogram2d"
           }
          ],
          "histogram2dcontour": [
           {
            "colorbar": {
             "outlinewidth": 0,
             "ticks": ""
            },
            "colorscale": [
             [
              0,
              "#0d0887"
             ],
             [
              0.1111111111111111,
              "#46039f"
             ],
             [
              0.2222222222222222,
              "#7201a8"
             ],
             [
              0.3333333333333333,
              "#9c179e"
             ],
             [
              0.4444444444444444,
              "#bd3786"
             ],
             [
              0.5555555555555556,
              "#d8576b"
             ],
             [
              0.6666666666666666,
              "#ed7953"
             ],
             [
              0.7777777777777778,
              "#fb9f3a"
             ],
             [
              0.8888888888888888,
              "#fdca26"
             ],
             [
              1,
              "#f0f921"
             ]
            ],
            "type": "histogram2dcontour"
           }
          ],
          "mesh3d": [
           {
            "colorbar": {
             "outlinewidth": 0,
             "ticks": ""
            },
            "type": "mesh3d"
           }
          ],
          "parcoords": [
           {
            "line": {
             "colorbar": {
              "outlinewidth": 0,
              "ticks": ""
             }
            },
            "type": "parcoords"
           }
          ],
          "pie": [
           {
            "automargin": true,
            "type": "pie"
           }
          ],
          "scatter": [
           {
            "marker": {
             "colorbar": {
              "outlinewidth": 0,
              "ticks": ""
             }
            },
            "type": "scatter"
           }
          ],
          "scatter3d": [
           {
            "line": {
             "colorbar": {
              "outlinewidth": 0,
              "ticks": ""
             }
            },
            "marker": {
             "colorbar": {
              "outlinewidth": 0,
              "ticks": ""
             }
            },
            "type": "scatter3d"
           }
          ],
          "scattercarpet": [
           {
            "marker": {
             "colorbar": {
              "outlinewidth": 0,
              "ticks": ""
             }
            },
            "type": "scattercarpet"
           }
          ],
          "scattergeo": [
           {
            "marker": {
             "colorbar": {
              "outlinewidth": 0,
              "ticks": ""
             }
            },
            "type": "scattergeo"
           }
          ],
          "scattergl": [
           {
            "marker": {
             "colorbar": {
              "outlinewidth": 0,
              "ticks": ""
             }
            },
            "type": "scattergl"
           }
          ],
          "scattermapbox": [
           {
            "marker": {
             "colorbar": {
              "outlinewidth": 0,
              "ticks": ""
             }
            },
            "type": "scattermapbox"
           }
          ],
          "scatterpolar": [
           {
            "marker": {
             "colorbar": {
              "outlinewidth": 0,
              "ticks": ""
             }
            },
            "type": "scatterpolar"
           }
          ],
          "scatterpolargl": [
           {
            "marker": {
             "colorbar": {
              "outlinewidth": 0,
              "ticks": ""
             }
            },
            "type": "scatterpolargl"
           }
          ],
          "scatterternary": [
           {
            "marker": {
             "colorbar": {
              "outlinewidth": 0,
              "ticks": ""
             }
            },
            "type": "scatterternary"
           }
          ],
          "surface": [
           {
            "colorbar": {
             "outlinewidth": 0,
             "ticks": ""
            },
            "colorscale": [
             [
              0,
              "#0d0887"
             ],
             [
              0.1111111111111111,
              "#46039f"
             ],
             [
              0.2222222222222222,
              "#7201a8"
             ],
             [
              0.3333333333333333,
              "#9c179e"
             ],
             [
              0.4444444444444444,
              "#bd3786"
             ],
             [
              0.5555555555555556,
              "#d8576b"
             ],
             [
              0.6666666666666666,
              "#ed7953"
             ],
             [
              0.7777777777777778,
              "#fb9f3a"
             ],
             [
              0.8888888888888888,
              "#fdca26"
             ],
             [
              1,
              "#f0f921"
             ]
            ],
            "type": "surface"
           }
          ],
          "table": [
           {
            "cells": {
             "fill": {
              "color": "#EBF0F8"
             },
             "line": {
              "color": "white"
             }
            },
            "header": {
             "fill": {
              "color": "#C8D4E3"
             },
             "line": {
              "color": "white"
             }
            },
            "type": "table"
           }
          ]
         },
         "layout": {
          "annotationdefaults": {
           "arrowcolor": "#2a3f5f",
           "arrowhead": 0,
           "arrowwidth": 1
          },
          "autotypenumbers": "strict",
          "coloraxis": {
           "colorbar": {
            "outlinewidth": 0,
            "ticks": ""
           }
          },
          "colorscale": {
           "diverging": [
            [
             0,
             "#8e0152"
            ],
            [
             0.1,
             "#c51b7d"
            ],
            [
             0.2,
             "#de77ae"
            ],
            [
             0.3,
             "#f1b6da"
            ],
            [
             0.4,
             "#fde0ef"
            ],
            [
             0.5,
             "#f7f7f7"
            ],
            [
             0.6,
             "#e6f5d0"
            ],
            [
             0.7,
             "#b8e186"
            ],
            [
             0.8,
             "#7fbc41"
            ],
            [
             0.9,
             "#4d9221"
            ],
            [
             1,
             "#276419"
            ]
           ],
           "sequential": [
            [
             0,
             "#0d0887"
            ],
            [
             0.1111111111111111,
             "#46039f"
            ],
            [
             0.2222222222222222,
             "#7201a8"
            ],
            [
             0.3333333333333333,
             "#9c179e"
            ],
            [
             0.4444444444444444,
             "#bd3786"
            ],
            [
             0.5555555555555556,
             "#d8576b"
            ],
            [
             0.6666666666666666,
             "#ed7953"
            ],
            [
             0.7777777777777778,
             "#fb9f3a"
            ],
            [
             0.8888888888888888,
             "#fdca26"
            ],
            [
             1,
             "#f0f921"
            ]
           ],
           "sequentialminus": [
            [
             0,
             "#0d0887"
            ],
            [
             0.1111111111111111,
             "#46039f"
            ],
            [
             0.2222222222222222,
             "#7201a8"
            ],
            [
             0.3333333333333333,
             "#9c179e"
            ],
            [
             0.4444444444444444,
             "#bd3786"
            ],
            [
             0.5555555555555556,
             "#d8576b"
            ],
            [
             0.6666666666666666,
             "#ed7953"
            ],
            [
             0.7777777777777778,
             "#fb9f3a"
            ],
            [
             0.8888888888888888,
             "#fdca26"
            ],
            [
             1,
             "#f0f921"
            ]
           ]
          },
          "colorway": [
           "#636efa",
           "#EF553B",
           "#00cc96",
           "#ab63fa",
           "#FFA15A",
           "#19d3f3",
           "#FF6692",
           "#B6E880",
           "#FF97FF",
           "#FECB52"
          ],
          "font": {
           "color": "#2a3f5f"
          },
          "geo": {
           "bgcolor": "white",
           "lakecolor": "white",
           "landcolor": "#E5ECF6",
           "showlakes": true,
           "showland": true,
           "subunitcolor": "white"
          },
          "hoverlabel": {
           "align": "left"
          },
          "hovermode": "closest",
          "mapbox": {
           "style": "light"
          },
          "paper_bgcolor": "white",
          "plot_bgcolor": "#E5ECF6",
          "polar": {
           "angularaxis": {
            "gridcolor": "white",
            "linecolor": "white",
            "ticks": ""
           },
           "bgcolor": "#E5ECF6",
           "radialaxis": {
            "gridcolor": "white",
            "linecolor": "white",
            "ticks": ""
           }
          },
          "scene": {
           "xaxis": {
            "backgroundcolor": "#E5ECF6",
            "gridcolor": "white",
            "gridwidth": 2,
            "linecolor": "white",
            "showbackground": true,
            "ticks": "",
            "zerolinecolor": "white"
           },
           "yaxis": {
            "backgroundcolor": "#E5ECF6",
            "gridcolor": "white",
            "gridwidth": 2,
            "linecolor": "white",
            "showbackground": true,
            "ticks": "",
            "zerolinecolor": "white"
           },
           "zaxis": {
            "backgroundcolor": "#E5ECF6",
            "gridcolor": "white",
            "gridwidth": 2,
            "linecolor": "white",
            "showbackground": true,
            "ticks": "",
            "zerolinecolor": "white"
           }
          },
          "shapedefaults": {
           "line": {
            "color": "#2a3f5f"
           }
          },
          "ternary": {
           "aaxis": {
            "gridcolor": "white",
            "linecolor": "white",
            "ticks": ""
           },
           "baxis": {
            "gridcolor": "white",
            "linecolor": "white",
            "ticks": ""
           },
           "bgcolor": "#E5ECF6",
           "caxis": {
            "gridcolor": "white",
            "linecolor": "white",
            "ticks": ""
           }
          },
          "title": {
           "x": 0.05
          },
          "xaxis": {
           "automargin": true,
           "gridcolor": "white",
           "linecolor": "white",
           "ticks": "",
           "title": {
            "standoff": 15
           },
           "zerolinecolor": "white",
           "zerolinewidth": 2
          },
          "yaxis": {
           "automargin": true,
           "gridcolor": "white",
           "linecolor": "white",
           "ticks": "",
           "title": {
            "standoff": 15
           },
           "zerolinecolor": "white",
           "zerolinewidth": 2
          }
         }
        },
        "xaxis": {
         "anchor": "y",
         "domain": [
          0,
          1
         ],
         "title": {
          "text": "extractTime"
         }
        },
        "yaxis": {
         "anchor": "x",
         "domain": [
          0,
          1
         ],
         "title": {
          "text": "ticket_count"
         }
        }
       }
      }
     },
     "metadata": {},
     "output_type": "display_data"
    }
   ],
   "source": [
    "px.bar(gm2, x = \"extractTime\", y = \"ticket_count\")"
   ]
  },
  {
   "cell_type": "code",
   "execution_count": 6,
   "metadata": {},
   "outputs": [],
   "source": [
    "#"
   ]
  },
  {
   "cell_type": "markdown",
   "metadata": {},
   "source": [
    "# Dodgers vs Giants 7/27/21"
   ]
  },
  {
   "cell_type": "code",
   "execution_count": 6,
   "metadata": {},
   "outputs": [
    {
     "data": {
      "application/vnd.plotly.v1+json": {
       "config": {
        "plotlyServerURL": "https://plot.ly"
       },
       "data": [
        {
         "hovertemplate": "<b>%{hovertext}</b><br><br>id=104738361.0<br>extractTime=%{x}<br>price=%{y}<extra></extra>",
         "hovertext": [
          "2021-07-27T00:00:00",
          "2021-07-27T00:00:00",
          "2021-07-27T00:00:00",
          "2021-07-27T00:00:00",
          "2021-07-27T00:00:00",
          "2021-07-27T00:00:00",
          "2021-07-27T00:00:00",
          "2021-07-27T00:00:00",
          "2021-07-27T00:00:00",
          "2021-07-27T00:00:00",
          "2021-07-27T00:00:00",
          "2021-07-27T00:00:00",
          "2021-07-27T00:00:00",
          "2021-07-27T00:00:00",
          "2021-07-27T00:00:00",
          "2021-07-27T00:00:00",
          "2021-07-27T00:00:00",
          "2021-07-27T00:00:00",
          "2021-07-27T00:00:00",
          "2021-07-27T00:00:00",
          "2021-07-27T00:00:00",
          "2021-07-27T00:00:00",
          "2021-07-27T00:00:00",
          "2021-07-27T00:00:00",
          "2021-07-27T00:00:00",
          "2021-07-27T00:00:00",
          "2021-07-27T00:00:00",
          "2021-07-27T00:00:00",
          "2021-07-27T00:00:00",
          "2021-07-27T00:00:00",
          "2021-07-27T00:00:00",
          "2021-07-27T00:00:00",
          "2021-07-27T00:00:00",
          "2021-07-27T00:00:00",
          "2021-07-27T00:00:00",
          "2021-07-27T00:00:00",
          "2021-07-27T00:00:00",
          "2021-07-27T00:00:00",
          "2021-07-27T00:00:00",
          "2021-07-27T00:00:00",
          "2021-07-27T00:00:00",
          "2021-07-27T00:00:00",
          "2021-07-27T00:00:00",
          "2021-07-27T00:00:00",
          "2021-07-27T00:00:00",
          "2021-07-27T00:00:00",
          "2021-07-27T00:00:00",
          "2021-07-27T00:00:00",
          "2021-07-27T00:00:00",
          "2021-07-27T00:00:00",
          "2021-07-27T00:00:00",
          "2021-07-27T00:00:00",
          "2021-07-27T00:00:00",
          "2021-07-27T00:00:00",
          "2021-07-27T00:00:00",
          "2021-07-27T00:00:00",
          "2021-07-27T00:00:00",
          "2021-07-27T00:00:00",
          "2021-07-27T00:00:00",
          "2021-07-27T00:00:00",
          "2021-07-27T00:00:00",
          "2021-07-27T00:00:00",
          "2021-07-27T00:00:00",
          "2021-07-27T00:00:00",
          "2021-07-27T00:00:00",
          "2021-07-27T00:00:00",
          "2021-07-27T00:00:00",
          "2021-07-27T00:00:00",
          "2021-07-27T00:00:00",
          "2021-07-27T00:00:00",
          "2021-07-27T00:00:00",
          "2021-07-27T00:00:00",
          "2021-07-27T00:00:00"
         ],
         "legendgroup": "",
         "line": {
          "color": "#F4793E",
          "dash": "solid"
         },
         "mode": "lines",
         "name": "",
         "orientation": "v",
         "showlegend": false,
         "type": "scatter",
         "x": [
          "2021-06-08T17:51:49.782776",
          "2021-06-09T12:10:18.613777",
          "2021-06-10T00:25:11.765555",
          "2021-06-10T12:10:34.477654",
          "2021-06-11T04:00:08.335010",
          "2021-06-11T12:09:18.542960",
          "2021-06-12T00:19:19.627494",
          "2021-06-12T12:08:55.197936",
          "2021-06-13T00:24:04.981032",
          "2021-06-13T12:09:14.866901",
          "2021-06-14T00:21:24.593792",
          "2021-06-14T12:09:33.799808",
          "2021-06-15T00:22:39.049301",
          "2021-06-15T12:09:40.937254",
          "2021-06-16T00:22:33.333970",
          "2021-06-16T12:09:49.442221",
          "2021-06-17T00:21:07.973934",
          "2021-06-17T12:09:52.064765",
          "2021-06-18T00:21:24.655965",
          "2021-06-18T12:09:36.082775",
          "2021-06-19T00:22:14.850219",
          "2021-06-19T12:08:54.173988",
          "2021-06-20T00:23:39.996747",
          "2021-06-20T12:08:59.132132",
          "2021-06-21T00:23:15.822270",
          "2021-06-21T12:10:07.355102",
          "2021-06-22T00:21:42.711116",
          "2021-06-22T12:09:35.274074",
          "2021-06-23T00:21:46.492726",
          "2021-06-23T12:08:09.466364",
          "2021-06-24T00:17:17.048746",
          "2021-06-24T12:10:18.882766",
          "2021-06-25T00:24:03.093984",
          "2021-06-25T12:09:38.584303",
          "2021-06-26T00:20:30.616864",
          "2021-06-26T12:09:14.048618",
          "2021-06-27T00:25:22.411522",
          "2021-06-27T12:09:50.605015",
          "2021-06-28T00:23:09.703863",
          "2021-06-28T12:10:17.892515",
          "2021-06-29T00:22:48.682048",
          "2021-06-29T12:10:12.583580",
          "2021-06-30T00:21:52.928674",
          "2021-06-30T12:09:56.720886",
          "2021-07-01T00:24:24.104292",
          "2021-07-01T12:10:55.709777",
          "2021-07-02T00:22:03.833475",
          "2021-07-02T12:10:08.065654",
          "2021-07-03T00:21:29.166196",
          "2021-07-03T12:09:33.532768",
          "2021-07-04T00:22:13.219684",
          "2021-07-04T12:09:28.059932",
          "2021-07-05T00:20:45.303363",
          "2021-07-05T12:10:19.150187",
          "2021-07-06T00:23:34.824902",
          "2021-07-06T12:10:04.857271",
          "2021-07-07T00:22:36.697288",
          "2021-07-07T12:09:55.056221",
          "2021-07-08T00:20:46.098633",
          "2021-07-08T12:10:11.768247",
          "2021-07-09T00:23:28.724885",
          "2021-07-09T12:09:53.176642",
          "2021-07-10T00:22:26.575065",
          "2021-07-10T12:00:50.563099",
          "2021-07-11T00:10:35.299888",
          "2021-07-11T02:17:35.690600",
          "2021-07-11T12:00:52.604331",
          "2021-07-12T00:00:36.627865",
          "2021-07-12T02:14:50.157068",
          "2021-07-12T12:00:57.304773",
          "2021-07-13T00:47:58.834030",
          "2021-07-13T12:23:45.313568",
          "2021-07-14T00:42:27.265374"
         ],
         "xaxis": "x3",
         "y": [
          69.51,
          69.51,
          69.51,
          69.51,
          69.51,
          69.51,
          79.32,
          79.32,
          73.2,
          73.2,
          64.44,
          64.44,
          63.38,
          64.44,
          64.44,
          64.44,
          64.44,
          64.44,
          64.44,
          64.44,
          64.44,
          64.44,
          64.42,
          63.38,
          64.42,
          64.42,
          60.9,
          60.6,
          60.6,
          60.6,
          45.58,
          59.69,
          48.65,
          48.65,
          48.65,
          50.98,
          50.98,
          50.98,
          51.1,
          51.1,
          46.04,
          46.04,
          46.04,
          46.04,
          46.04,
          46.04,
          46.04,
          46.04,
          46.04,
          46.04,
          46.04,
          44.96,
          44.96,
          44.96,
          44.96,
          42.51,
          44.96,
          44.96,
          44.96,
          44.96,
          44.95,
          44.96,
          44.96,
          44.96,
          44.96,
          44.96,
          44.96,
          44.96,
          44.96,
          44.96,
          44.96,
          57.23,
          57.23
         ],
         "yaxis": "y3"
        },
        {
         "hovertemplate": "<b>%{hovertext}</b><br><br>id=104736558.0<br>extractTime=%{x}<br>price=%{y}<extra></extra>",
         "hovertext": [
          "2021-07-28T00:00:00",
          "2021-07-28T00:00:00",
          "2021-07-28T00:00:00",
          "2021-07-28T00:00:00",
          "2021-07-28T00:00:00",
          "2021-07-28T00:00:00",
          "2021-07-28T00:00:00",
          "2021-07-28T00:00:00",
          "2021-07-28T00:00:00",
          "2021-07-28T00:00:00",
          "2021-07-28T00:00:00",
          "2021-07-28T00:00:00",
          "2021-07-28T00:00:00",
          "2021-07-28T00:00:00",
          "2021-07-28T00:00:00",
          "2021-07-28T00:00:00",
          "2021-07-28T00:00:00",
          "2021-07-28T00:00:00",
          "2021-07-28T00:00:00",
          "2021-07-28T00:00:00",
          "2021-07-28T00:00:00",
          "2021-07-28T00:00:00",
          "2021-07-28T00:00:00",
          "2021-07-28T00:00:00",
          "2021-07-28T00:00:00",
          "2021-07-28T00:00:00",
          "2021-07-28T00:00:00",
          "2021-07-28T00:00:00",
          "2021-07-28T00:00:00",
          "2021-07-28T00:00:00",
          "2021-07-28T00:00:00",
          "2021-07-28T00:00:00",
          "2021-07-28T00:00:00",
          "2021-07-28T00:00:00",
          "2021-07-28T00:00:00",
          "2021-07-28T00:00:00",
          "2021-07-28T00:00:00",
          "2021-07-28T00:00:00",
          "2021-07-28T00:00:00",
          "2021-07-28T00:00:00",
          "2021-07-28T00:00:00",
          "2021-07-28T00:00:00",
          "2021-07-28T00:00:00",
          "2021-07-28T00:00:00",
          "2021-07-28T00:00:00",
          "2021-07-28T00:00:00",
          "2021-07-28T00:00:00",
          "2021-07-28T00:00:00",
          "2021-07-28T00:00:00",
          "2021-07-28T00:00:00",
          "2021-07-28T00:00:00",
          "2021-07-28T00:00:00",
          "2021-07-28T00:00:00",
          "2021-07-28T00:00:00",
          "2021-07-28T00:00:00",
          "2021-07-28T00:00:00",
          "2021-07-28T00:00:00",
          "2021-07-28T00:00:00",
          "2021-07-28T00:00:00",
          "2021-07-28T00:00:00",
          "2021-07-28T00:00:00",
          "2021-07-28T00:00:00",
          "2021-07-28T00:00:00",
          "2021-07-28T00:00:00",
          "2021-07-28T00:00:00",
          "2021-07-28T00:00:00",
          "2021-07-28T00:00:00",
          "2021-07-28T00:00:00",
          "2021-07-28T00:00:00",
          "2021-07-28T00:00:00",
          "2021-07-28T00:00:00",
          "2021-07-28T00:00:00",
          "2021-07-28T00:00:00"
         ],
         "legendgroup": "",
         "line": {
          "color": "#F4793E",
          "dash": "solid"
         },
         "mode": "lines",
         "name": "",
         "orientation": "v",
         "showlegend": false,
         "type": "scatter",
         "x": [
          "2021-06-08T17:51:49.782776",
          "2021-06-09T12:10:18.613780",
          "2021-06-10T00:25:11.765557",
          "2021-06-10T12:10:34.477656",
          "2021-06-11T04:00:08.335012",
          "2021-06-11T12:09:18.542961",
          "2021-06-12T00:19:19.627496",
          "2021-06-12T12:08:55.197937",
          "2021-06-13T00:24:04.981034",
          "2021-06-13T12:09:14.866903",
          "2021-06-14T00:21:24.593795",
          "2021-06-14T12:09:33.799809",
          "2021-06-15T00:22:39.049303",
          "2021-06-15T12:09:40.937256",
          "2021-06-16T00:22:33.333972",
          "2021-06-16T12:09:49.442223",
          "2021-06-17T00:21:07.973936",
          "2021-06-17T12:09:52.064767",
          "2021-06-18T00:21:24.655966",
          "2021-06-18T12:09:36.082777",
          "2021-06-19T00:22:14.850221",
          "2021-06-19T12:08:54.173989",
          "2021-06-20T00:23:39.996749",
          "2021-06-20T12:08:59.132133",
          "2021-06-21T00:23:15.822271",
          "2021-06-21T12:10:07.355104",
          "2021-06-22T00:21:42.711117",
          "2021-06-22T12:09:35.274076",
          "2021-06-23T00:21:46.492727",
          "2021-06-23T12:08:09.466366",
          "2021-06-24T00:17:17.048748",
          "2021-06-24T12:10:18.882768",
          "2021-06-25T00:24:03.093986",
          "2021-06-25T12:09:38.584304",
          "2021-06-26T00:20:30.616865",
          "2021-06-26T12:09:14.048867",
          "2021-06-27T00:25:22.411524",
          "2021-06-27T12:09:50.605017",
          "2021-06-28T00:23:09.703864",
          "2021-06-28T12:10:17.892517",
          "2021-06-29T00:22:48.682049",
          "2021-06-29T12:10:12.583582",
          "2021-06-30T00:21:52.928676",
          "2021-06-30T12:09:56.720888",
          "2021-07-01T00:24:24.104295",
          "2021-07-01T12:10:55.709779",
          "2021-07-02T00:22:03.833478",
          "2021-07-02T12:10:08.065655",
          "2021-07-03T00:21:29.166197",
          "2021-07-03T12:09:33.532769",
          "2021-07-04T00:22:13.219686",
          "2021-07-04T12:09:28.059934",
          "2021-07-05T00:20:45.303365",
          "2021-07-05T12:10:19.150188",
          "2021-07-06T00:23:34.824904",
          "2021-07-06T12:10:04.857273",
          "2021-07-07T00:22:36.697289",
          "2021-07-07T12:09:55.056223",
          "2021-07-08T00:20:46.098635",
          "2021-07-08T12:10:11.768248",
          "2021-07-09T00:23:28.724887",
          "2021-07-09T12:09:53.176645",
          "2021-07-10T00:22:26.575067",
          "2021-07-10T12:00:50.563102",
          "2021-07-11T00:10:35.299891",
          "2021-07-11T02:17:35.690602",
          "2021-07-11T12:00:52.604334",
          "2021-07-12T00:00:36.627868",
          "2021-07-12T02:14:50.157070",
          "2021-07-12T12:00:57.304775",
          "2021-07-13T00:47:58.834032",
          "2021-07-13T12:23:45.313570",
          "2021-07-14T00:42:27.265377"
         ],
         "xaxis": "x2",
         "y": [
          70.13,
          69.5,
          69.5,
          69.5,
          69.5,
          69.5,
          69.5,
          69.5,
          65.83,
          65.83,
          61.04,
          61.04,
          59.69,
          59.69,
          59.69,
          59.69,
          58.47,
          58.47,
          58.47,
          61.04,
          61.04,
          61.04,
          60.91,
          59.77,
          59.77,
          59.77,
          57.23,
          57.23,
          57.23,
          57.23,
          57.23,
          56.01,
          53.56,
          53.56,
          53.54,
          53.54,
          52.32,
          52.32,
          51.09,
          50.02,
          48.63,
          50.02,
          44.94,
          44.94,
          44.96,
          50.02,
          50.02,
          50.02,
          50.02,
          50.02,
          50.02,
          50.02,
          50.02,
          50.02,
          50.02,
          42.51,
          42.51,
          42.51,
          42.51,
          48.62,
          44.95,
          44.95,
          50.02,
          49.87,
          49.87,
          49.87,
          49.87,
          49.87,
          49.87,
          49.87,
          48.65,
          48.65,
          48.65
         ],
         "yaxis": "y2"
        },
        {
         "hovertemplate": "<b>%{hovertext}</b><br><br>id=104736560.0<br>extractTime=%{x}<br>price=%{y}<extra></extra>",
         "hovertext": [
          "2021-07-29T00:00:00",
          "2021-07-29T00:00:00",
          "2021-07-29T00:00:00",
          "2021-07-29T00:00:00",
          "2021-07-29T00:00:00",
          "2021-07-29T00:00:00",
          "2021-07-29T00:00:00",
          "2021-07-29T00:00:00",
          "2021-07-29T00:00:00",
          "2021-07-29T00:00:00",
          "2021-07-29T00:00:00",
          "2021-07-29T00:00:00",
          "2021-07-29T00:00:00",
          "2021-07-29T00:00:00",
          "2021-07-29T00:00:00",
          "2021-07-29T00:00:00",
          "2021-07-29T00:00:00",
          "2021-07-29T00:00:00",
          "2021-07-29T00:00:00",
          "2021-07-29T00:00:00",
          "2021-07-29T00:00:00",
          "2021-07-29T00:00:00",
          "2021-07-29T00:00:00",
          "2021-07-29T00:00:00",
          "2021-07-29T00:00:00",
          "2021-07-29T00:00:00",
          "2021-07-29T00:00:00",
          "2021-07-29T00:00:00",
          "2021-07-29T00:00:00",
          "2021-07-29T00:00:00",
          "2021-07-29T00:00:00",
          "2021-07-29T00:00:00",
          "2021-07-29T00:00:00",
          "2021-07-29T00:00:00",
          "2021-07-29T00:00:00",
          "2021-07-29T00:00:00",
          "2021-07-29T00:00:00",
          "2021-07-29T00:00:00",
          "2021-07-29T00:00:00",
          "2021-07-29T00:00:00",
          "2021-07-29T00:00:00",
          "2021-07-29T00:00:00",
          "2021-07-29T00:00:00",
          "2021-07-29T00:00:00",
          "2021-07-29T00:00:00",
          "2021-07-29T00:00:00",
          "2021-07-29T00:00:00",
          "2021-07-29T00:00:00",
          "2021-07-29T00:00:00",
          "2021-07-29T00:00:00",
          "2021-07-29T00:00:00",
          "2021-07-29T00:00:00",
          "2021-07-29T00:00:00",
          "2021-07-29T00:00:00",
          "2021-07-29T00:00:00",
          "2021-07-29T00:00:00",
          "2021-07-29T00:00:00",
          "2021-07-29T00:00:00",
          "2021-07-29T00:00:00",
          "2021-07-29T00:00:00",
          "2021-07-29T00:00:00",
          "2021-07-29T00:00:00",
          "2021-07-29T00:00:00",
          "2021-07-29T00:00:00",
          "2021-07-29T00:00:00",
          "2021-07-29T00:00:00",
          "2021-07-29T00:00:00",
          "2021-07-29T00:00:00",
          "2021-07-29T00:00:00",
          "2021-07-29T00:00:00",
          "2021-07-29T00:00:00",
          "2021-07-29T00:00:00",
          "2021-07-29T00:00:00"
         ],
         "legendgroup": "",
         "line": {
          "color": "#F4793E",
          "dash": "solid"
         },
         "mode": "lines",
         "name": "",
         "orientation": "v",
         "showlegend": false,
         "type": "scatter",
         "x": [
          "2021-06-08T17:51:49.782776",
          "2021-06-09T12:10:18.613781",
          "2021-06-10T00:25:11.765558",
          "2021-06-10T12:10:34.477658",
          "2021-06-11T04:00:08.335014",
          "2021-06-11T12:09:18.542963",
          "2021-06-12T00:19:19.627497",
          "2021-06-12T12:08:55.197939",
          "2021-06-13T00:24:04.981036",
          "2021-06-13T12:09:14.866904",
          "2021-06-14T00:21:24.593798",
          "2021-06-14T12:09:33.799811",
          "2021-06-15T00:22:39.049304",
          "2021-06-15T12:09:40.937258",
          "2021-06-16T00:22:33.333973",
          "2021-06-16T12:09:49.442225",
          "2021-06-17T00:21:07.973938",
          "2021-06-17T12:09:52.064769",
          "2021-06-18T00:21:24.655968",
          "2021-06-18T12:09:36.082779",
          "2021-06-19T00:22:14.850223",
          "2021-06-19T12:08:54.173991",
          "2021-06-20T00:23:39.996751",
          "2021-06-20T12:08:59.132135",
          "2021-06-21T00:23:15.822273",
          "2021-06-21T12:10:07.355105",
          "2021-06-22T00:21:42.711119",
          "2021-06-22T12:09:35.274077",
          "2021-06-23T00:21:46.492729",
          "2021-06-23T12:08:09.466368",
          "2021-06-24T00:17:17.048750",
          "2021-06-24T12:10:18.882770",
          "2021-06-25T00:24:03.093987",
          "2021-06-25T12:09:38.584306",
          "2021-06-26T00:20:30.616867",
          "2021-06-26T12:09:14.048871",
          "2021-06-27T00:25:22.411525",
          "2021-06-27T12:09:50.605019",
          "2021-06-28T00:23:09.703867",
          "2021-06-28T12:10:17.892519",
          "2021-06-29T00:22:48.682051",
          "2021-06-29T12:10:12.583585",
          "2021-06-30T00:21:52.928678",
          "2021-06-30T12:09:56.720891",
          "2021-07-01T00:24:24.104300",
          "2021-07-01T12:10:55.709781",
          "2021-07-02T00:22:03.833482",
          "2021-07-02T12:10:08.065658",
          "2021-07-03T00:21:29.166199",
          "2021-07-03T12:09:33.532772",
          "2021-07-04T00:22:13.219688",
          "2021-07-04T12:09:28.059936",
          "2021-07-05T00:20:45.303367",
          "2021-07-05T12:10:19.150191",
          "2021-07-06T00:23:34.824907",
          "2021-07-06T12:10:04.857298",
          "2021-07-07T00:22:36.697291",
          "2021-07-07T12:09:55.056225",
          "2021-07-08T00:20:46.098637",
          "2021-07-08T12:10:11.768250",
          "2021-07-09T00:23:28.724889",
          "2021-07-09T12:09:53.176648",
          "2021-07-10T00:22:26.575068",
          "2021-07-10T12:00:50.563105",
          "2021-07-11T00:10:35.299894",
          "2021-07-11T02:17:35.690604",
          "2021-07-11T12:00:52.604337",
          "2021-07-12T00:00:36.627881",
          "2021-07-12T02:14:50.157072",
          "2021-07-12T12:00:57.304777",
          "2021-07-13T00:47:58.834034",
          "2021-07-13T12:23:45.313572",
          "2021-07-14T00:42:27.265379"
         ],
         "xaxis": "x",
         "y": [
          89.14,
          89.14,
          83.25,
          83.25,
          83.25,
          83.25,
          83.25,
          83.25,
          73.2,
          73.2,
          67.84,
          67.84,
          63.38,
          67.06,
          67.06,
          67.06,
          65.83,
          65.83,
          67.84,
          67.84,
          67.84,
          63.38,
          63.38,
          63.38,
          63.38,
          63.38,
          63.36,
          63.36,
          63.36,
          63.36,
          63.36,
          63.36,
          60.92,
          60.92,
          60.91,
          58.47,
          59.69,
          59.69,
          59.08,
          58.96,
          59.08,
          59.08,
          58.86,
          58.86,
          58.86,
          58.86,
          57.24,
          56.27,
          56,
          56,
          56,
          44.96,
          44.96,
          44.96,
          54.66,
          54.66,
          54.76,
          56.27,
          56.27,
          56.27,
          56.27,
          56.27,
          48.39,
          48.39,
          48.83,
          48.83,
          48.83,
          48.83,
          48.83,
          48.83,
          48.83,
          48.83,
          48.83
         ],
         "yaxis": "y"
        }
       ],
       "layout": {
        "annotations": [
         {
          "font": {},
          "showarrow": false,
          "text": "id=104736560.0",
          "textangle": 90,
          "x": 0.98,
          "xanchor": "left",
          "xref": "paper",
          "y": 0.15666666666666665,
          "yanchor": "middle",
          "yref": "paper"
         },
         {
          "font": {},
          "showarrow": false,
          "text": "id=104736558.0",
          "textangle": 90,
          "x": 0.98,
          "xanchor": "left",
          "xref": "paper",
          "y": 0.4999999999999999,
          "yanchor": "middle",
          "yref": "paper"
         },
         {
          "font": {},
          "showarrow": false,
          "text": "id=104738361.0",
          "textangle": 90,
          "x": 0.98,
          "xanchor": "left",
          "xref": "paper",
          "y": 0.8433333333333332,
          "yanchor": "middle",
          "yref": "paper"
         }
        ],
        "height": 700,
        "legend": {
         "tracegroupgap": 0
        },
        "margin": {
         "t": 60
        },
        "template": {
         "data": {
          "bar": [
           {
            "error_x": {
             "color": "#2a3f5f"
            },
            "error_y": {
             "color": "#2a3f5f"
            },
            "marker": {
             "line": {
              "color": "#E5ECF6",
              "width": 0.5
             }
            },
            "type": "bar"
           }
          ],
          "barpolar": [
           {
            "marker": {
             "line": {
              "color": "#E5ECF6",
              "width": 0.5
             }
            },
            "type": "barpolar"
           }
          ],
          "carpet": [
           {
            "aaxis": {
             "endlinecolor": "#2a3f5f",
             "gridcolor": "white",
             "linecolor": "white",
             "minorgridcolor": "white",
             "startlinecolor": "#2a3f5f"
            },
            "baxis": {
             "endlinecolor": "#2a3f5f",
             "gridcolor": "white",
             "linecolor": "white",
             "minorgridcolor": "white",
             "startlinecolor": "#2a3f5f"
            },
            "type": "carpet"
           }
          ],
          "choropleth": [
           {
            "colorbar": {
             "outlinewidth": 0,
             "ticks": ""
            },
            "type": "choropleth"
           }
          ],
          "contour": [
           {
            "colorbar": {
             "outlinewidth": 0,
             "ticks": ""
            },
            "colorscale": [
             [
              0,
              "#0d0887"
             ],
             [
              0.1111111111111111,
              "#46039f"
             ],
             [
              0.2222222222222222,
              "#7201a8"
             ],
             [
              0.3333333333333333,
              "#9c179e"
             ],
             [
              0.4444444444444444,
              "#bd3786"
             ],
             [
              0.5555555555555556,
              "#d8576b"
             ],
             [
              0.6666666666666666,
              "#ed7953"
             ],
             [
              0.7777777777777778,
              "#fb9f3a"
             ],
             [
              0.8888888888888888,
              "#fdca26"
             ],
             [
              1,
              "#f0f921"
             ]
            ],
            "type": "contour"
           }
          ],
          "contourcarpet": [
           {
            "colorbar": {
             "outlinewidth": 0,
             "ticks": ""
            },
            "type": "contourcarpet"
           }
          ],
          "heatmap": [
           {
            "colorbar": {
             "outlinewidth": 0,
             "ticks": ""
            },
            "colorscale": [
             [
              0,
              "#0d0887"
             ],
             [
              0.1111111111111111,
              "#46039f"
             ],
             [
              0.2222222222222222,
              "#7201a8"
             ],
             [
              0.3333333333333333,
              "#9c179e"
             ],
             [
              0.4444444444444444,
              "#bd3786"
             ],
             [
              0.5555555555555556,
              "#d8576b"
             ],
             [
              0.6666666666666666,
              "#ed7953"
             ],
             [
              0.7777777777777778,
              "#fb9f3a"
             ],
             [
              0.8888888888888888,
              "#fdca26"
             ],
             [
              1,
              "#f0f921"
             ]
            ],
            "type": "heatmap"
           }
          ],
          "heatmapgl": [
           {
            "colorbar": {
             "outlinewidth": 0,
             "ticks": ""
            },
            "colorscale": [
             [
              0,
              "#0d0887"
             ],
             [
              0.1111111111111111,
              "#46039f"
             ],
             [
              0.2222222222222222,
              "#7201a8"
             ],
             [
              0.3333333333333333,
              "#9c179e"
             ],
             [
              0.4444444444444444,
              "#bd3786"
             ],
             [
              0.5555555555555556,
              "#d8576b"
             ],
             [
              0.6666666666666666,
              "#ed7953"
             ],
             [
              0.7777777777777778,
              "#fb9f3a"
             ],
             [
              0.8888888888888888,
              "#fdca26"
             ],
             [
              1,
              "#f0f921"
             ]
            ],
            "type": "heatmapgl"
           }
          ],
          "histogram": [
           {
            "marker": {
             "colorbar": {
              "outlinewidth": 0,
              "ticks": ""
             }
            },
            "type": "histogram"
           }
          ],
          "histogram2d": [
           {
            "colorbar": {
             "outlinewidth": 0,
             "ticks": ""
            },
            "colorscale": [
             [
              0,
              "#0d0887"
             ],
             [
              0.1111111111111111,
              "#46039f"
             ],
             [
              0.2222222222222222,
              "#7201a8"
             ],
             [
              0.3333333333333333,
              "#9c179e"
             ],
             [
              0.4444444444444444,
              "#bd3786"
             ],
             [
              0.5555555555555556,
              "#d8576b"
             ],
             [
              0.6666666666666666,
              "#ed7953"
             ],
             [
              0.7777777777777778,
              "#fb9f3a"
             ],
             [
              0.8888888888888888,
              "#fdca26"
             ],
             [
              1,
              "#f0f921"
             ]
            ],
            "type": "histogram2d"
           }
          ],
          "histogram2dcontour": [
           {
            "colorbar": {
             "outlinewidth": 0,
             "ticks": ""
            },
            "colorscale": [
             [
              0,
              "#0d0887"
             ],
             [
              0.1111111111111111,
              "#46039f"
             ],
             [
              0.2222222222222222,
              "#7201a8"
             ],
             [
              0.3333333333333333,
              "#9c179e"
             ],
             [
              0.4444444444444444,
              "#bd3786"
             ],
             [
              0.5555555555555556,
              "#d8576b"
             ],
             [
              0.6666666666666666,
              "#ed7953"
             ],
             [
              0.7777777777777778,
              "#fb9f3a"
             ],
             [
              0.8888888888888888,
              "#fdca26"
             ],
             [
              1,
              "#f0f921"
             ]
            ],
            "type": "histogram2dcontour"
           }
          ],
          "mesh3d": [
           {
            "colorbar": {
             "outlinewidth": 0,
             "ticks": ""
            },
            "type": "mesh3d"
           }
          ],
          "parcoords": [
           {
            "line": {
             "colorbar": {
              "outlinewidth": 0,
              "ticks": ""
             }
            },
            "type": "parcoords"
           }
          ],
          "pie": [
           {
            "automargin": true,
            "type": "pie"
           }
          ],
          "scatter": [
           {
            "marker": {
             "colorbar": {
              "outlinewidth": 0,
              "ticks": ""
             }
            },
            "type": "scatter"
           }
          ],
          "scatter3d": [
           {
            "line": {
             "colorbar": {
              "outlinewidth": 0,
              "ticks": ""
             }
            },
            "marker": {
             "colorbar": {
              "outlinewidth": 0,
              "ticks": ""
             }
            },
            "type": "scatter3d"
           }
          ],
          "scattercarpet": [
           {
            "marker": {
             "colorbar": {
              "outlinewidth": 0,
              "ticks": ""
             }
            },
            "type": "scattercarpet"
           }
          ],
          "scattergeo": [
           {
            "marker": {
             "colorbar": {
              "outlinewidth": 0,
              "ticks": ""
             }
            },
            "type": "scattergeo"
           }
          ],
          "scattergl": [
           {
            "marker": {
             "colorbar": {
              "outlinewidth": 0,
              "ticks": ""
             }
            },
            "type": "scattergl"
           }
          ],
          "scattermapbox": [
           {
            "marker": {
             "colorbar": {
              "outlinewidth": 0,
              "ticks": ""
             }
            },
            "type": "scattermapbox"
           }
          ],
          "scatterpolar": [
           {
            "marker": {
             "colorbar": {
              "outlinewidth": 0,
              "ticks": ""
             }
            },
            "type": "scatterpolar"
           }
          ],
          "scatterpolargl": [
           {
            "marker": {
             "colorbar": {
              "outlinewidth": 0,
              "ticks": ""
             }
            },
            "type": "scatterpolargl"
           }
          ],
          "scatterternary": [
           {
            "marker": {
             "colorbar": {
              "outlinewidth": 0,
              "ticks": ""
             }
            },
            "type": "scatterternary"
           }
          ],
          "surface": [
           {
            "colorbar": {
             "outlinewidth": 0,
             "ticks": ""
            },
            "colorscale": [
             [
              0,
              "#0d0887"
             ],
             [
              0.1111111111111111,
              "#46039f"
             ],
             [
              0.2222222222222222,
              "#7201a8"
             ],
             [
              0.3333333333333333,
              "#9c179e"
             ],
             [
              0.4444444444444444,
              "#bd3786"
             ],
             [
              0.5555555555555556,
              "#d8576b"
             ],
             [
              0.6666666666666666,
              "#ed7953"
             ],
             [
              0.7777777777777778,
              "#fb9f3a"
             ],
             [
              0.8888888888888888,
              "#fdca26"
             ],
             [
              1,
              "#f0f921"
             ]
            ],
            "type": "surface"
           }
          ],
          "table": [
           {
            "cells": {
             "fill": {
              "color": "#EBF0F8"
             },
             "line": {
              "color": "white"
             }
            },
            "header": {
             "fill": {
              "color": "#C8D4E3"
             },
             "line": {
              "color": "white"
             }
            },
            "type": "table"
           }
          ]
         },
         "layout": {
          "annotationdefaults": {
           "arrowcolor": "#2a3f5f",
           "arrowhead": 0,
           "arrowwidth": 1
          },
          "autotypenumbers": "strict",
          "coloraxis": {
           "colorbar": {
            "outlinewidth": 0,
            "ticks": ""
           }
          },
          "colorscale": {
           "diverging": [
            [
             0,
             "#8e0152"
            ],
            [
             0.1,
             "#c51b7d"
            ],
            [
             0.2,
             "#de77ae"
            ],
            [
             0.3,
             "#f1b6da"
            ],
            [
             0.4,
             "#fde0ef"
            ],
            [
             0.5,
             "#f7f7f7"
            ],
            [
             0.6,
             "#e6f5d0"
            ],
            [
             0.7,
             "#b8e186"
            ],
            [
             0.8,
             "#7fbc41"
            ],
            [
             0.9,
             "#4d9221"
            ],
            [
             1,
             "#276419"
            ]
           ],
           "sequential": [
            [
             0,
             "#0d0887"
            ],
            [
             0.1111111111111111,
             "#46039f"
            ],
            [
             0.2222222222222222,
             "#7201a8"
            ],
            [
             0.3333333333333333,
             "#9c179e"
            ],
            [
             0.4444444444444444,
             "#bd3786"
            ],
            [
             0.5555555555555556,
             "#d8576b"
            ],
            [
             0.6666666666666666,
             "#ed7953"
            ],
            [
             0.7777777777777778,
             "#fb9f3a"
            ],
            [
             0.8888888888888888,
             "#fdca26"
            ],
            [
             1,
             "#f0f921"
            ]
           ],
           "sequentialminus": [
            [
             0,
             "#0d0887"
            ],
            [
             0.1111111111111111,
             "#46039f"
            ],
            [
             0.2222222222222222,
             "#7201a8"
            ],
            [
             0.3333333333333333,
             "#9c179e"
            ],
            [
             0.4444444444444444,
             "#bd3786"
            ],
            [
             0.5555555555555556,
             "#d8576b"
            ],
            [
             0.6666666666666666,
             "#ed7953"
            ],
            [
             0.7777777777777778,
             "#fb9f3a"
            ],
            [
             0.8888888888888888,
             "#fdca26"
            ],
            [
             1,
             "#f0f921"
            ]
           ]
          },
          "colorway": [
           "#636efa",
           "#EF553B",
           "#00cc96",
           "#ab63fa",
           "#FFA15A",
           "#19d3f3",
           "#FF6692",
           "#B6E880",
           "#FF97FF",
           "#FECB52"
          ],
          "font": {
           "color": "#2a3f5f"
          },
          "geo": {
           "bgcolor": "white",
           "lakecolor": "white",
           "landcolor": "#E5ECF6",
           "showlakes": true,
           "showland": true,
           "subunitcolor": "white"
          },
          "hoverlabel": {
           "align": "left"
          },
          "hovermode": "closest",
          "mapbox": {
           "style": "light"
          },
          "paper_bgcolor": "white",
          "plot_bgcolor": "#E5ECF6",
          "polar": {
           "angularaxis": {
            "gridcolor": "white",
            "linecolor": "white",
            "ticks": ""
           },
           "bgcolor": "#E5ECF6",
           "radialaxis": {
            "gridcolor": "white",
            "linecolor": "white",
            "ticks": ""
           }
          },
          "scene": {
           "xaxis": {
            "backgroundcolor": "#E5ECF6",
            "gridcolor": "white",
            "gridwidth": 2,
            "linecolor": "white",
            "showbackground": true,
            "ticks": "",
            "zerolinecolor": "white"
           },
           "yaxis": {
            "backgroundcolor": "#E5ECF6",
            "gridcolor": "white",
            "gridwidth": 2,
            "linecolor": "white",
            "showbackground": true,
            "ticks": "",
            "zerolinecolor": "white"
           },
           "zaxis": {
            "backgroundcolor": "#E5ECF6",
            "gridcolor": "white",
            "gridwidth": 2,
            "linecolor": "white",
            "showbackground": true,
            "ticks": "",
            "zerolinecolor": "white"
           }
          },
          "shapedefaults": {
           "line": {
            "color": "#2a3f5f"
           }
          },
          "ternary": {
           "aaxis": {
            "gridcolor": "white",
            "linecolor": "white",
            "ticks": ""
           },
           "baxis": {
            "gridcolor": "white",
            "linecolor": "white",
            "ticks": ""
           },
           "bgcolor": "#E5ECF6",
           "caxis": {
            "gridcolor": "white",
            "linecolor": "white",
            "ticks": ""
           }
          },
          "title": {
           "x": 0.05
          },
          "xaxis": {
           "automargin": true,
           "gridcolor": "white",
           "linecolor": "white",
           "ticks": "",
           "title": {
            "standoff": 15
           },
           "zerolinecolor": "white",
           "zerolinewidth": 2
          },
          "yaxis": {
           "automargin": true,
           "gridcolor": "white",
           "linecolor": "white",
           "ticks": "",
           "title": {
            "standoff": 15
           },
           "zerolinecolor": "white",
           "zerolinewidth": 2
          }
         }
        },
        "xaxis": {
         "anchor": "y",
         "domain": [
          0,
          0.98
         ],
         "title": {
          "text": "extractTime"
         }
        },
        "xaxis2": {
         "anchor": "y2",
         "domain": [
          0,
          0.98
         ],
         "matches": "x",
         "showticklabels": false
        },
        "xaxis3": {
         "anchor": "y3",
         "domain": [
          0,
          0.98
         ],
         "matches": "x",
         "showticklabels": false
        },
        "yaxis": {
         "anchor": "x",
         "domain": [
          0,
          0.3133333333333333
         ],
         "title": {
          "text": "price"
         }
        },
        "yaxis2": {
         "anchor": "x2",
         "domain": [
          0.34333333333333327,
          0.6566666666666665
         ],
         "matches": "y",
         "title": {
          "text": "price"
         }
        },
        "yaxis3": {
         "anchor": "x3",
         "domain": [
          0.6866666666666665,
          0.9999999999999998
         ],
         "matches": "y",
         "title": {
          "text": "price"
         }
        }
       }
      }
     },
     "metadata": {},
     "output_type": "display_data"
    }
   ],
   "source": [
    "possible_gms = giants[giants[\"id\"].isin([104738361.0, 104736558.0, 104736560.0])]\n",
    "gm3 = giants[giants[\"id\"] == 104738361.0]\n",
    "fig = px.line(possible_gms, x = \"extractTime\", y = \"price\", facet_row= \"id\", height= 700, hover_name=\"time\")\n",
    "fig.update_traces(line_color='#F4793E')"
   ]
  },
  {
   "cell_type": "code",
   "execution_count": 8,
   "metadata": {},
   "outputs": [
    {
     "data": {
      "application/vnd.plotly.v1+json": {
       "config": {
        "plotlyServerURL": "https://plot.ly"
       },
       "data": [
        {
         "alignmentgroup": "True",
         "hovertemplate": "id=104738361.0<br>extractTime=%{x}<br>ticket_count=%{y}<extra></extra>",
         "legendgroup": "",
         "marker": {
          "color": "#636efa"
         },
         "name": "",
         "offsetgroup": "",
         "orientation": "v",
         "showlegend": false,
         "textposition": "auto",
         "type": "bar",
         "x": [
          "2021-06-08T17:51:49.782776",
          "2021-06-09T12:10:18.613777",
          "2021-06-10T00:25:11.765555",
          "2021-06-10T12:10:34.477654",
          "2021-06-11T04:00:08.335010",
          "2021-06-11T12:09:18.542960",
          "2021-06-12T00:19:19.627494",
          "2021-06-12T12:08:55.197936",
          "2021-06-13T00:24:04.981032",
          "2021-06-13T12:09:14.866901",
          "2021-06-14T00:21:24.593792",
          "2021-06-14T12:09:33.799808",
          "2021-06-15T00:22:39.049301",
          "2021-06-15T12:09:40.937254",
          "2021-06-16T00:22:33.333970",
          "2021-06-16T12:09:49.442221",
          "2021-06-17T00:21:07.973934",
          "2021-06-17T12:09:52.064765",
          "2021-06-18T00:21:24.655965",
          "2021-06-18T12:09:36.082775",
          "2021-06-19T00:22:14.850219",
          "2021-06-19T12:08:54.173988",
          "2021-06-20T00:23:39.996747",
          "2021-06-20T12:08:59.132132",
          "2021-06-21T00:23:15.822270",
          "2021-06-21T12:10:07.355102",
          "2021-06-22T00:21:42.711116",
          "2021-06-22T12:09:35.274074",
          "2021-06-23T00:21:46.492726",
          "2021-06-23T12:08:09.466364",
          "2021-06-24T00:17:17.048746",
          "2021-06-24T12:10:18.882766",
          "2021-06-25T00:24:03.093984",
          "2021-06-25T12:09:38.584303",
          "2021-06-26T00:20:30.616864",
          "2021-06-26T12:09:14.048618",
          "2021-06-27T00:25:22.411522",
          "2021-06-27T12:09:50.605015",
          "2021-06-28T00:23:09.703863",
          "2021-06-28T12:10:17.892515",
          "2021-06-29T00:22:48.682048",
          "2021-06-29T12:10:12.583580",
          "2021-06-30T00:21:52.928674",
          "2021-06-30T12:09:56.720886",
          "2021-07-01T00:24:24.104292",
          "2021-07-01T12:10:55.709777",
          "2021-07-02T00:22:03.833475",
          "2021-07-02T12:10:08.065654",
          "2021-07-03T00:21:29.166196",
          "2021-07-03T12:09:33.532768",
          "2021-07-04T00:22:13.219684",
          "2021-07-04T12:09:28.059932",
          "2021-07-05T00:20:45.303363",
          "2021-07-05T12:10:19.150187",
          "2021-07-06T00:23:34.824902",
          "2021-07-06T12:10:04.857271",
          "2021-07-07T00:22:36.697288",
          "2021-07-07T12:09:55.056221",
          "2021-07-08T00:20:46.098633",
          "2021-07-08T12:10:11.768247",
          "2021-07-09T00:23:28.724885",
          "2021-07-09T12:09:53.176642",
          "2021-07-10T00:22:26.575065",
          "2021-07-10T12:00:50.563099",
          "2021-07-11T00:10:35.299888",
          "2021-07-11T02:17:35.690600",
          "2021-07-11T12:00:52.604331",
          "2021-07-12T00:00:36.627865",
          "2021-07-12T02:14:50.157068",
          "2021-07-12T12:00:57.304773",
          "2021-07-13T00:47:58.834030",
          "2021-07-13T12:23:45.313568"
         ],
         "xaxis": "x3",
         "y": [
          0,
          0,
          0,
          0,
          1403,
          1405,
          1351,
          1365,
          1497,
          1746,
          2444,
          2454,
          2525,
          2562,
          2581,
          2585,
          2622,
          2626,
          2627,
          2621,
          2612,
          2703,
          2732,
          2750,
          2755,
          2738,
          2766,
          2406,
          2927,
          2938,
          2941,
          2926,
          3032,
          3057,
          3046,
          3021,
          3024,
          3015,
          3029,
          3007,
          3122,
          3072,
          3069,
          3034,
          3094,
          3080,
          3126,
          3114,
          3487,
          3444,
          3431,
          3414,
          3407,
          3386,
          3381,
          3373,
          3337,
          3329,
          3329,
          3283,
          3254,
          3192,
          3114,
          3081,
          2984,
          2976,
          2942,
          2904,
          2891,
          2853,
          2863,
          2820
         ],
         "yaxis": "y3"
        },
        {
         "alignmentgroup": "True",
         "hovertemplate": "id=104736558.0<br>extractTime=%{x}<br>ticket_count=%{y}<extra></extra>",
         "legendgroup": "",
         "marker": {
          "color": "#636efa"
         },
         "name": "",
         "offsetgroup": "",
         "orientation": "v",
         "showlegend": false,
         "textposition": "auto",
         "type": "bar",
         "x": [
          "2021-06-08T17:51:49.782776",
          "2021-06-09T12:10:18.613780",
          "2021-06-10T00:25:11.765557",
          "2021-06-10T12:10:34.477656",
          "2021-06-11T04:00:08.335012",
          "2021-06-11T12:09:18.542961",
          "2021-06-12T00:19:19.627496",
          "2021-06-12T12:08:55.197937",
          "2021-06-13T00:24:04.981034",
          "2021-06-13T12:09:14.866903",
          "2021-06-14T00:21:24.593795",
          "2021-06-14T12:09:33.799809",
          "2021-06-15T00:22:39.049303",
          "2021-06-15T12:09:40.937256",
          "2021-06-16T00:22:33.333972",
          "2021-06-16T12:09:49.442223",
          "2021-06-17T00:21:07.973936",
          "2021-06-17T12:09:52.064767",
          "2021-06-18T00:21:24.655966",
          "2021-06-18T12:09:36.082777",
          "2021-06-19T00:22:14.850221",
          "2021-06-19T12:08:54.173989",
          "2021-06-20T00:23:39.996749",
          "2021-06-20T12:08:59.132133",
          "2021-06-21T00:23:15.822271",
          "2021-06-21T12:10:07.355104",
          "2021-06-22T00:21:42.711117",
          "2021-06-22T12:09:35.274076",
          "2021-06-23T00:21:46.492727",
          "2021-06-23T12:08:09.466366",
          "2021-06-24T00:17:17.048748",
          "2021-06-24T12:10:18.882768",
          "2021-06-25T00:24:03.093986",
          "2021-06-25T12:09:38.584304",
          "2021-06-26T00:20:30.616865",
          "2021-06-26T12:09:14.048867",
          "2021-06-27T00:25:22.411524",
          "2021-06-27T12:09:50.605017",
          "2021-06-28T00:23:09.703864",
          "2021-06-28T12:10:17.892517",
          "2021-06-29T00:22:48.682049",
          "2021-06-29T12:10:12.583582",
          "2021-06-30T00:21:52.928676",
          "2021-06-30T12:09:56.720888",
          "2021-07-01T00:24:24.104295",
          "2021-07-01T12:10:55.709779",
          "2021-07-02T00:22:03.833478",
          "2021-07-02T12:10:08.065655",
          "2021-07-03T00:21:29.166197",
          "2021-07-03T12:09:33.532769",
          "2021-07-04T00:22:13.219686",
          "2021-07-04T12:09:28.059934",
          "2021-07-05T00:20:45.303365",
          "2021-07-05T12:10:19.150188",
          "2021-07-06T00:23:34.824904",
          "2021-07-06T12:10:04.857273",
          "2021-07-07T00:22:36.697289",
          "2021-07-07T12:09:55.056223",
          "2021-07-08T00:20:46.098635",
          "2021-07-08T12:10:11.768248",
          "2021-07-09T00:23:28.724887",
          "2021-07-09T12:09:53.176645",
          "2021-07-10T00:22:26.575067",
          "2021-07-10T12:00:50.563102",
          "2021-07-11T00:10:35.299891",
          "2021-07-11T02:17:35.690602",
          "2021-07-11T12:00:52.604334",
          "2021-07-12T00:00:36.627868",
          "2021-07-12T02:14:50.157070",
          "2021-07-12T12:00:57.304775",
          "2021-07-13T00:47:58.834032",
          "2021-07-13T12:23:45.313570"
         ],
         "xaxis": "x2",
         "y": [
          0,
          0,
          0,
          0,
          1433,
          1435,
          1395,
          1397,
          1537,
          1837,
          2429,
          2522,
          2592,
          2614,
          2640,
          2644,
          2686,
          2695,
          2695,
          2688,
          2694,
          2795,
          2793,
          2790,
          2807,
          2806,
          2814,
          2482,
          2966,
          2950,
          2944,
          2937,
          3053,
          3063,
          3090,
          3103,
          3099,
          3087,
          3118,
          3116,
          3157,
          3143,
          3145,
          3126,
          3156,
          3106,
          3124,
          3151,
          3547,
          3527,
          3524,
          3521,
          3526,
          3534,
          3528,
          3496,
          3495,
          3491,
          3495,
          3473,
          3413,
          3425,
          3360,
          3389,
          3343,
          3351,
          3337,
          3327,
          3316,
          3281,
          3254,
          3224
         ],
         "yaxis": "y2"
        },
        {
         "alignmentgroup": "True",
         "hovertemplate": "id=104736560.0<br>extractTime=%{x}<br>ticket_count=%{y}<extra></extra>",
         "legendgroup": "",
         "marker": {
          "color": "#636efa"
         },
         "name": "",
         "offsetgroup": "",
         "orientation": "v",
         "showlegend": false,
         "textposition": "auto",
         "type": "bar",
         "x": [
          "2021-06-08T17:51:49.782776",
          "2021-06-09T12:10:18.613781",
          "2021-06-10T00:25:11.765558",
          "2021-06-10T12:10:34.477658",
          "2021-06-11T04:00:08.335014",
          "2021-06-11T12:09:18.542963",
          "2021-06-12T00:19:19.627497",
          "2021-06-12T12:08:55.197939",
          "2021-06-13T00:24:04.981036",
          "2021-06-13T12:09:14.866904",
          "2021-06-14T00:21:24.593798",
          "2021-06-14T12:09:33.799811",
          "2021-06-15T00:22:39.049304",
          "2021-06-15T12:09:40.937258",
          "2021-06-16T00:22:33.333973",
          "2021-06-16T12:09:49.442225",
          "2021-06-17T00:21:07.973938",
          "2021-06-17T12:09:52.064769",
          "2021-06-18T00:21:24.655968",
          "2021-06-18T12:09:36.082779",
          "2021-06-19T00:22:14.850223",
          "2021-06-19T12:08:54.173991",
          "2021-06-20T00:23:39.996751",
          "2021-06-20T12:08:59.132135",
          "2021-06-21T00:23:15.822273",
          "2021-06-21T12:10:07.355105",
          "2021-06-22T00:21:42.711119",
          "2021-06-22T12:09:35.274077",
          "2021-06-23T00:21:46.492729",
          "2021-06-23T12:08:09.466368",
          "2021-06-24T00:17:17.048750",
          "2021-06-24T12:10:18.882770",
          "2021-06-25T00:24:03.093987",
          "2021-06-25T12:09:38.584306",
          "2021-06-26T00:20:30.616867",
          "2021-06-26T12:09:14.048871",
          "2021-06-27T00:25:22.411525",
          "2021-06-27T12:09:50.605019",
          "2021-06-28T00:23:09.703867",
          "2021-06-28T12:10:17.892519",
          "2021-06-29T00:22:48.682051",
          "2021-06-29T12:10:12.583585",
          "2021-06-30T00:21:52.928678",
          "2021-06-30T12:09:56.720891",
          "2021-07-01T00:24:24.104300",
          "2021-07-01T12:10:55.709781",
          "2021-07-02T00:22:03.833482",
          "2021-07-02T12:10:08.065658",
          "2021-07-03T00:21:29.166199",
          "2021-07-03T12:09:33.532772",
          "2021-07-04T00:22:13.219688",
          "2021-07-04T12:09:28.059936",
          "2021-07-05T00:20:45.303367",
          "2021-07-05T12:10:19.150191",
          "2021-07-06T00:23:34.824907",
          "2021-07-06T12:10:04.857298",
          "2021-07-07T00:22:36.697291",
          "2021-07-07T12:09:55.056225",
          "2021-07-08T00:20:46.098637",
          "2021-07-08T12:10:11.768250",
          "2021-07-09T00:23:28.724889",
          "2021-07-09T12:09:53.176648",
          "2021-07-10T00:22:26.575068",
          "2021-07-10T12:00:50.563105",
          "2021-07-11T00:10:35.299894",
          "2021-07-11T02:17:35.690604",
          "2021-07-11T12:00:52.604337",
          "2021-07-12T00:00:36.627881",
          "2021-07-12T02:14:50.157072",
          "2021-07-12T12:00:57.304777",
          "2021-07-13T00:47:58.834034",
          "2021-07-13T12:23:45.313572"
         ],
         "xaxis": "x",
         "y": [
          0,
          0,
          0,
          0,
          1357,
          1361,
          1300,
          1314,
          1440,
          1629,
          2180,
          2247,
          2332,
          2353,
          2394,
          2386,
          2399,
          2400,
          2378,
          2383,
          2382,
          2519,
          2514,
          2495,
          2457,
          2453,
          2440,
          2138,
          2599,
          2585,
          2587,
          2578,
          2566,
          2573,
          2577,
          2585,
          2576,
          2547,
          2547,
          2530,
          2612,
          2577,
          2538,
          2504,
          2520,
          2458,
          2490,
          2511,
          2835,
          2801,
          2780,
          2743,
          2693,
          2675,
          2576,
          2562,
          2640,
          2616,
          2562,
          2536,
          2523,
          2530,
          2616,
          2576,
          2524,
          2505,
          2506,
          2438,
          2415,
          2405,
          2398,
          2348
         ],
         "yaxis": "y"
        }
       ],
       "layout": {
        "annotations": [
         {
          "font": {},
          "showarrow": false,
          "text": "id=104736560.0",
          "textangle": 90,
          "x": 0.98,
          "xanchor": "left",
          "xref": "paper",
          "y": 0.15666666666666665,
          "yanchor": "middle",
          "yref": "paper"
         },
         {
          "font": {},
          "showarrow": false,
          "text": "id=104736558.0",
          "textangle": 90,
          "x": 0.98,
          "xanchor": "left",
          "xref": "paper",
          "y": 0.4999999999999999,
          "yanchor": "middle",
          "yref": "paper"
         },
         {
          "font": {},
          "showarrow": false,
          "text": "id=104738361.0",
          "textangle": 90,
          "x": 0.98,
          "xanchor": "left",
          "xref": "paper",
          "y": 0.8433333333333332,
          "yanchor": "middle",
          "yref": "paper"
         }
        ],
        "barmode": "relative",
        "height": 500,
        "legend": {
         "tracegroupgap": 0
        },
        "margin": {
         "t": 60
        },
        "template": {
         "data": {
          "bar": [
           {
            "error_x": {
             "color": "#2a3f5f"
            },
            "error_y": {
             "color": "#2a3f5f"
            },
            "marker": {
             "line": {
              "color": "#E5ECF6",
              "width": 0.5
             }
            },
            "type": "bar"
           }
          ],
          "barpolar": [
           {
            "marker": {
             "line": {
              "color": "#E5ECF6",
              "width": 0.5
             }
            },
            "type": "barpolar"
           }
          ],
          "carpet": [
           {
            "aaxis": {
             "endlinecolor": "#2a3f5f",
             "gridcolor": "white",
             "linecolor": "white",
             "minorgridcolor": "white",
             "startlinecolor": "#2a3f5f"
            },
            "baxis": {
             "endlinecolor": "#2a3f5f",
             "gridcolor": "white",
             "linecolor": "white",
             "minorgridcolor": "white",
             "startlinecolor": "#2a3f5f"
            },
            "type": "carpet"
           }
          ],
          "choropleth": [
           {
            "colorbar": {
             "outlinewidth": 0,
             "ticks": ""
            },
            "type": "choropleth"
           }
          ],
          "contour": [
           {
            "colorbar": {
             "outlinewidth": 0,
             "ticks": ""
            },
            "colorscale": [
             [
              0,
              "#0d0887"
             ],
             [
              0.1111111111111111,
              "#46039f"
             ],
             [
              0.2222222222222222,
              "#7201a8"
             ],
             [
              0.3333333333333333,
              "#9c179e"
             ],
             [
              0.4444444444444444,
              "#bd3786"
             ],
             [
              0.5555555555555556,
              "#d8576b"
             ],
             [
              0.6666666666666666,
              "#ed7953"
             ],
             [
              0.7777777777777778,
              "#fb9f3a"
             ],
             [
              0.8888888888888888,
              "#fdca26"
             ],
             [
              1,
              "#f0f921"
             ]
            ],
            "type": "contour"
           }
          ],
          "contourcarpet": [
           {
            "colorbar": {
             "outlinewidth": 0,
             "ticks": ""
            },
            "type": "contourcarpet"
           }
          ],
          "heatmap": [
           {
            "colorbar": {
             "outlinewidth": 0,
             "ticks": ""
            },
            "colorscale": [
             [
              0,
              "#0d0887"
             ],
             [
              0.1111111111111111,
              "#46039f"
             ],
             [
              0.2222222222222222,
              "#7201a8"
             ],
             [
              0.3333333333333333,
              "#9c179e"
             ],
             [
              0.4444444444444444,
              "#bd3786"
             ],
             [
              0.5555555555555556,
              "#d8576b"
             ],
             [
              0.6666666666666666,
              "#ed7953"
             ],
             [
              0.7777777777777778,
              "#fb9f3a"
             ],
             [
              0.8888888888888888,
              "#fdca26"
             ],
             [
              1,
              "#f0f921"
             ]
            ],
            "type": "heatmap"
           }
          ],
          "heatmapgl": [
           {
            "colorbar": {
             "outlinewidth": 0,
             "ticks": ""
            },
            "colorscale": [
             [
              0,
              "#0d0887"
             ],
             [
              0.1111111111111111,
              "#46039f"
             ],
             [
              0.2222222222222222,
              "#7201a8"
             ],
             [
              0.3333333333333333,
              "#9c179e"
             ],
             [
              0.4444444444444444,
              "#bd3786"
             ],
             [
              0.5555555555555556,
              "#d8576b"
             ],
             [
              0.6666666666666666,
              "#ed7953"
             ],
             [
              0.7777777777777778,
              "#fb9f3a"
             ],
             [
              0.8888888888888888,
              "#fdca26"
             ],
             [
              1,
              "#f0f921"
             ]
            ],
            "type": "heatmapgl"
           }
          ],
          "histogram": [
           {
            "marker": {
             "colorbar": {
              "outlinewidth": 0,
              "ticks": ""
             }
            },
            "type": "histogram"
           }
          ],
          "histogram2d": [
           {
            "colorbar": {
             "outlinewidth": 0,
             "ticks": ""
            },
            "colorscale": [
             [
              0,
              "#0d0887"
             ],
             [
              0.1111111111111111,
              "#46039f"
             ],
             [
              0.2222222222222222,
              "#7201a8"
             ],
             [
              0.3333333333333333,
              "#9c179e"
             ],
             [
              0.4444444444444444,
              "#bd3786"
             ],
             [
              0.5555555555555556,
              "#d8576b"
             ],
             [
              0.6666666666666666,
              "#ed7953"
             ],
             [
              0.7777777777777778,
              "#fb9f3a"
             ],
             [
              0.8888888888888888,
              "#fdca26"
             ],
             [
              1,
              "#f0f921"
             ]
            ],
            "type": "histogram2d"
           }
          ],
          "histogram2dcontour": [
           {
            "colorbar": {
             "outlinewidth": 0,
             "ticks": ""
            },
            "colorscale": [
             [
              0,
              "#0d0887"
             ],
             [
              0.1111111111111111,
              "#46039f"
             ],
             [
              0.2222222222222222,
              "#7201a8"
             ],
             [
              0.3333333333333333,
              "#9c179e"
             ],
             [
              0.4444444444444444,
              "#bd3786"
             ],
             [
              0.5555555555555556,
              "#d8576b"
             ],
             [
              0.6666666666666666,
              "#ed7953"
             ],
             [
              0.7777777777777778,
              "#fb9f3a"
             ],
             [
              0.8888888888888888,
              "#fdca26"
             ],
             [
              1,
              "#f0f921"
             ]
            ],
            "type": "histogram2dcontour"
           }
          ],
          "mesh3d": [
           {
            "colorbar": {
             "outlinewidth": 0,
             "ticks": ""
            },
            "type": "mesh3d"
           }
          ],
          "parcoords": [
           {
            "line": {
             "colorbar": {
              "outlinewidth": 0,
              "ticks": ""
             }
            },
            "type": "parcoords"
           }
          ],
          "pie": [
           {
            "automargin": true,
            "type": "pie"
           }
          ],
          "scatter": [
           {
            "marker": {
             "colorbar": {
              "outlinewidth": 0,
              "ticks": ""
             }
            },
            "type": "scatter"
           }
          ],
          "scatter3d": [
           {
            "line": {
             "colorbar": {
              "outlinewidth": 0,
              "ticks": ""
             }
            },
            "marker": {
             "colorbar": {
              "outlinewidth": 0,
              "ticks": ""
             }
            },
            "type": "scatter3d"
           }
          ],
          "scattercarpet": [
           {
            "marker": {
             "colorbar": {
              "outlinewidth": 0,
              "ticks": ""
             }
            },
            "type": "scattercarpet"
           }
          ],
          "scattergeo": [
           {
            "marker": {
             "colorbar": {
              "outlinewidth": 0,
              "ticks": ""
             }
            },
            "type": "scattergeo"
           }
          ],
          "scattergl": [
           {
            "marker": {
             "colorbar": {
              "outlinewidth": 0,
              "ticks": ""
             }
            },
            "type": "scattergl"
           }
          ],
          "scattermapbox": [
           {
            "marker": {
             "colorbar": {
              "outlinewidth": 0,
              "ticks": ""
             }
            },
            "type": "scattermapbox"
           }
          ],
          "scatterpolar": [
           {
            "marker": {
             "colorbar": {
              "outlinewidth": 0,
              "ticks": ""
             }
            },
            "type": "scatterpolar"
           }
          ],
          "scatterpolargl": [
           {
            "marker": {
             "colorbar": {
              "outlinewidth": 0,
              "ticks": ""
             }
            },
            "type": "scatterpolargl"
           }
          ],
          "scatterternary": [
           {
            "marker": {
             "colorbar": {
              "outlinewidth": 0,
              "ticks": ""
             }
            },
            "type": "scatterternary"
           }
          ],
          "surface": [
           {
            "colorbar": {
             "outlinewidth": 0,
             "ticks": ""
            },
            "colorscale": [
             [
              0,
              "#0d0887"
             ],
             [
              0.1111111111111111,
              "#46039f"
             ],
             [
              0.2222222222222222,
              "#7201a8"
             ],
             [
              0.3333333333333333,
              "#9c179e"
             ],
             [
              0.4444444444444444,
              "#bd3786"
             ],
             [
              0.5555555555555556,
              "#d8576b"
             ],
             [
              0.6666666666666666,
              "#ed7953"
             ],
             [
              0.7777777777777778,
              "#fb9f3a"
             ],
             [
              0.8888888888888888,
              "#fdca26"
             ],
             [
              1,
              "#f0f921"
             ]
            ],
            "type": "surface"
           }
          ],
          "table": [
           {
            "cells": {
             "fill": {
              "color": "#EBF0F8"
             },
             "line": {
              "color": "white"
             }
            },
            "header": {
             "fill": {
              "color": "#C8D4E3"
             },
             "line": {
              "color": "white"
             }
            },
            "type": "table"
           }
          ]
         },
         "layout": {
          "annotationdefaults": {
           "arrowcolor": "#2a3f5f",
           "arrowhead": 0,
           "arrowwidth": 1
          },
          "autotypenumbers": "strict",
          "coloraxis": {
           "colorbar": {
            "outlinewidth": 0,
            "ticks": ""
           }
          },
          "colorscale": {
           "diverging": [
            [
             0,
             "#8e0152"
            ],
            [
             0.1,
             "#c51b7d"
            ],
            [
             0.2,
             "#de77ae"
            ],
            [
             0.3,
             "#f1b6da"
            ],
            [
             0.4,
             "#fde0ef"
            ],
            [
             0.5,
             "#f7f7f7"
            ],
            [
             0.6,
             "#e6f5d0"
            ],
            [
             0.7,
             "#b8e186"
            ],
            [
             0.8,
             "#7fbc41"
            ],
            [
             0.9,
             "#4d9221"
            ],
            [
             1,
             "#276419"
            ]
           ],
           "sequential": [
            [
             0,
             "#0d0887"
            ],
            [
             0.1111111111111111,
             "#46039f"
            ],
            [
             0.2222222222222222,
             "#7201a8"
            ],
            [
             0.3333333333333333,
             "#9c179e"
            ],
            [
             0.4444444444444444,
             "#bd3786"
            ],
            [
             0.5555555555555556,
             "#d8576b"
            ],
            [
             0.6666666666666666,
             "#ed7953"
            ],
            [
             0.7777777777777778,
             "#fb9f3a"
            ],
            [
             0.8888888888888888,
             "#fdca26"
            ],
            [
             1,
             "#f0f921"
            ]
           ],
           "sequentialminus": [
            [
             0,
             "#0d0887"
            ],
            [
             0.1111111111111111,
             "#46039f"
            ],
            [
             0.2222222222222222,
             "#7201a8"
            ],
            [
             0.3333333333333333,
             "#9c179e"
            ],
            [
             0.4444444444444444,
             "#bd3786"
            ],
            [
             0.5555555555555556,
             "#d8576b"
            ],
            [
             0.6666666666666666,
             "#ed7953"
            ],
            [
             0.7777777777777778,
             "#fb9f3a"
            ],
            [
             0.8888888888888888,
             "#fdca26"
            ],
            [
             1,
             "#f0f921"
            ]
           ]
          },
          "colorway": [
           "#636efa",
           "#EF553B",
           "#00cc96",
           "#ab63fa",
           "#FFA15A",
           "#19d3f3",
           "#FF6692",
           "#B6E880",
           "#FF97FF",
           "#FECB52"
          ],
          "font": {
           "color": "#2a3f5f"
          },
          "geo": {
           "bgcolor": "white",
           "lakecolor": "white",
           "landcolor": "#E5ECF6",
           "showlakes": true,
           "showland": true,
           "subunitcolor": "white"
          },
          "hoverlabel": {
           "align": "left"
          },
          "hovermode": "closest",
          "mapbox": {
           "style": "light"
          },
          "paper_bgcolor": "white",
          "plot_bgcolor": "#E5ECF6",
          "polar": {
           "angularaxis": {
            "gridcolor": "white",
            "linecolor": "white",
            "ticks": ""
           },
           "bgcolor": "#E5ECF6",
           "radialaxis": {
            "gridcolor": "white",
            "linecolor": "white",
            "ticks": ""
           }
          },
          "scene": {
           "xaxis": {
            "backgroundcolor": "#E5ECF6",
            "gridcolor": "white",
            "gridwidth": 2,
            "linecolor": "white",
            "showbackground": true,
            "ticks": "",
            "zerolinecolor": "white"
           },
           "yaxis": {
            "backgroundcolor": "#E5ECF6",
            "gridcolor": "white",
            "gridwidth": 2,
            "linecolor": "white",
            "showbackground": true,
            "ticks": "",
            "zerolinecolor": "white"
           },
           "zaxis": {
            "backgroundcolor": "#E5ECF6",
            "gridcolor": "white",
            "gridwidth": 2,
            "linecolor": "white",
            "showbackground": true,
            "ticks": "",
            "zerolinecolor": "white"
           }
          },
          "shapedefaults": {
           "line": {
            "color": "#2a3f5f"
           }
          },
          "ternary": {
           "aaxis": {
            "gridcolor": "white",
            "linecolor": "white",
            "ticks": ""
           },
           "baxis": {
            "gridcolor": "white",
            "linecolor": "white",
            "ticks": ""
           },
           "bgcolor": "#E5ECF6",
           "caxis": {
            "gridcolor": "white",
            "linecolor": "white",
            "ticks": ""
           }
          },
          "title": {
           "x": 0.05
          },
          "xaxis": {
           "automargin": true,
           "gridcolor": "white",
           "linecolor": "white",
           "ticks": "",
           "title": {
            "standoff": 15
           },
           "zerolinecolor": "white",
           "zerolinewidth": 2
          },
          "yaxis": {
           "automargin": true,
           "gridcolor": "white",
           "linecolor": "white",
           "ticks": "",
           "title": {
            "standoff": 15
           },
           "zerolinecolor": "white",
           "zerolinewidth": 2
          }
         }
        },
        "xaxis": {
         "anchor": "y",
         "domain": [
          0,
          0.98
         ],
         "title": {
          "text": "extractTime"
         }
        },
        "xaxis2": {
         "anchor": "y2",
         "domain": [
          0,
          0.98
         ],
         "matches": "x",
         "showticklabels": false
        },
        "xaxis3": {
         "anchor": "y3",
         "domain": [
          0,
          0.98
         ],
         "matches": "x",
         "showticklabels": false
        },
        "yaxis": {
         "anchor": "x",
         "domain": [
          0,
          0.3133333333333333
         ],
         "title": {
          "text": "ticket_count"
         }
        },
        "yaxis2": {
         "anchor": "x2",
         "domain": [
          0.34333333333333327,
          0.6566666666666665
         ],
         "matches": "y",
         "title": {
          "text": "ticket_count"
         }
        },
        "yaxis3": {
         "anchor": "x3",
         "domain": [
          0.6866666666666665,
          0.9999999999999998
         ],
         "matches": "y",
         "title": {
          "text": "ticket_count"
         }
        }
       }
      }
     },
     "metadata": {},
     "output_type": "display_data"
    }
   ],
   "source": [
    "px.bar(possible_gms, x = \"extractTime\", y = \"ticket_count\", facet_row= \"id\", height= 500)"
   ]
  },
  {
   "cell_type": "markdown",
   "metadata": {},
   "source": [
    "# Week of 19 to 25"
   ]
  },
  {
   "cell_type": "code",
   "execution_count": 9,
   "metadata": {},
   "outputs": [
    {
     "data": {
      "application/vnd.plotly.v1+json": {
       "config": {
        "plotlyServerURL": "https://plot.ly"
       },
       "data": [
        {
         "hovertemplate": "id=104724576.0<br>extractTime=%{x}<br>price=%{y}<extra></extra>",
         "legendgroup": "",
         "line": {
          "color": "#F4793E",
          "dash": "solid"
         },
         "mode": "lines",
         "name": "",
         "orientation": "v",
         "showlegend": false,
         "type": "scatter",
         "x": [
          "2021-06-08T17:51:48.284897",
          "2021-06-09T12:10:15.524406",
          "2021-06-10T00:25:10.995269",
          "2021-06-10T12:10:33.528979",
          "2021-06-11T04:00:07.429664",
          "2021-06-11T12:09:17.664545",
          "2021-06-12T00:19:18.579303",
          "2021-06-12T12:08:54.466683",
          "2021-06-13T00:24:03.636306",
          "2021-06-13T12:09:13.396485",
          "2021-06-14T00:21:23.755769",
          "2021-06-14T12:09:32.705281",
          "2021-06-15T00:22:38.376638",
          "2021-06-15T12:09:40.069018",
          "2021-06-16T00:22:32.223634",
          "2021-06-16T12:09:48.628416",
          "2021-06-17T00:21:06.359334",
          "2021-06-17T12:09:51.136947",
          "2021-06-18T00:21:24.007636",
          "2021-06-18T12:09:35.296929",
          "2021-06-19T00:22:13.839900",
          "2021-06-19T12:08:53.454056",
          "2021-06-20T00:23:39.052298",
          "2021-06-20T12:08:58.148673",
          "2021-06-21T00:23:14.970765",
          "2021-06-21T12:10:06.248923",
          "2021-06-22T00:21:41.824824",
          "2021-06-22T12:09:34.428351",
          "2021-06-23T00:21:45.777379",
          "2021-06-23T12:08:08.359859",
          "2021-06-24T00:17:16.336586",
          "2021-06-24T12:10:17.858191",
          "2021-06-25T00:24:02.384491",
          "2021-06-25T12:09:37.496060",
          "2021-06-26T00:20:29.849761",
          "2021-06-26T12:09:13.399049",
          "2021-06-27T00:25:21.484694",
          "2021-06-27T12:09:49.625912",
          "2021-06-28T00:23:09.122674",
          "2021-06-28T12:10:17.185157",
          "2021-06-29T00:22:47.638280",
          "2021-06-29T12:10:11.825252",
          "2021-06-30T00:21:52.223624",
          "2021-06-30T12:09:55.905505",
          "2021-07-01T00:24:22.898088",
          "2021-07-01T12:10:54.558428",
          "2021-07-02T00:22:03.192325",
          "2021-07-02T12:10:07.259560",
          "2021-07-03T00:21:28.423812",
          "2021-07-03T12:09:32.799721",
          "2021-07-04T00:22:12.322705",
          "2021-07-04T12:09:27.394661",
          "2021-07-05T00:20:44.535022",
          "2021-07-05T12:10:18.436682",
          "2021-07-06T00:23:33.695511",
          "2021-07-06T12:10:04.035304",
          "2021-07-07T00:22:35.636867",
          "2021-07-07T12:09:54.403029",
          "2021-07-08T00:20:45.443164",
          "2021-07-08T12:10:10.966084",
          "2021-07-09T00:23:28.119241",
          "2021-07-09T12:09:52.286748",
          "2021-07-10T00:22:25.758687",
          "2021-07-10T12:00:49.061245",
          "2021-07-11T00:10:34.445669",
          "2021-07-11T02:17:34.911553",
          "2021-07-11T12:00:51.656404",
          "2021-07-12T00:00:36.001172",
          "2021-07-12T02:14:49.477546",
          "2021-07-12T12:00:56.620223",
          "2021-07-13T00:47:58.155305",
          "2021-07-13T12:23:44.732311"
         ],
         "xaxis": "x4",
         "y": [
          37.6,
          37.6,
          37.6,
          37.6,
          37.6,
          37.6,
          37.6,
          37.6,
          37.6,
          37.6,
          37.6,
          37.6,
          37.6,
          37.6,
          36.37,
          36.37,
          36.37,
          36.37,
          40.05,
          40.05,
          40.05,
          42.51,
          42.51,
          42.51,
          42.51,
          42.51,
          42.51,
          42.51,
          42.51,
          42.51,
          42.51,
          42.51,
          42.51,
          42.51,
          42.51,
          42.51,
          42.51,
          42.51,
          42.51,
          42.35,
          42.51,
          50.61,
          45.76,
          46.42,
          53.56,
          53.56,
          53.56,
          58.66,
          56.57,
          56.57,
          56.57,
          56.57,
          49.87,
          49.87,
          57.38,
          57.24,
          54.19,
          54.18,
          54.18,
          54.18,
          54.18,
          54.18,
          52.18,
          52.18,
          52.18,
          52.18,
          52.19,
          52.19,
          44.96,
          52.19,
          52.92,
          52.92
         ],
         "yaxis": "y4"
        },
        {
         "hovertemplate": "id=104724577.0<br>extractTime=%{x}<br>price=%{y}<extra></extra>",
         "legendgroup": "",
         "line": {
          "color": "#F4793E",
          "dash": "solid"
         },
         "mode": "lines",
         "name": "",
         "orientation": "v",
         "showlegend": false,
         "type": "scatter",
         "x": [
          "2021-06-08T17:51:48.284897",
          "2021-06-09T12:10:15.524408",
          "2021-06-10T00:25:10.995271",
          "2021-06-10T12:10:33.528981",
          "2021-06-11T04:00:07.429666",
          "2021-06-11T12:09:17.664547",
          "2021-06-12T00:19:18.579304",
          "2021-06-12T12:08:54.466684",
          "2021-06-13T00:24:03.636307",
          "2021-06-13T12:09:13.396487",
          "2021-06-14T00:21:23.755771",
          "2021-06-14T12:09:32.705282",
          "2021-06-15T00:22:38.376640",
          "2021-06-15T12:09:40.069020",
          "2021-06-16T00:22:32.223635",
          "2021-06-16T12:09:48.628418",
          "2021-06-17T00:21:06.359336",
          "2021-06-17T12:09:51.136949",
          "2021-06-18T00:21:24.007638",
          "2021-06-18T12:09:35.296931",
          "2021-06-19T00:22:13.839902",
          "2021-06-19T12:08:53.454057",
          "2021-06-20T00:23:39.052299",
          "2021-06-20T12:08:58.148674",
          "2021-06-21T00:23:14.970767",
          "2021-06-21T12:10:06.248924",
          "2021-06-22T00:21:41.824825",
          "2021-06-22T12:09:34.428353",
          "2021-06-23T00:21:45.777380",
          "2021-06-23T12:08:08.359861",
          "2021-06-24T00:17:16.336588",
          "2021-06-24T12:10:17.858193",
          "2021-06-25T00:24:02.384493",
          "2021-06-25T12:09:37.496062",
          "2021-06-26T00:20:29.849762",
          "2021-06-26T12:09:13.399051",
          "2021-06-27T00:25:21.484695",
          "2021-06-27T12:09:49.625914",
          "2021-06-28T00:23:09.122675",
          "2021-06-28T12:10:17.185159",
          "2021-06-29T00:22:47.638281",
          "2021-06-29T12:10:11.825254",
          "2021-06-30T00:21:52.223626",
          "2021-06-30T12:09:55.905507",
          "2021-07-01T00:24:22.898090",
          "2021-07-01T12:10:54.558429",
          "2021-07-02T00:22:03.192333",
          "2021-07-02T12:10:07.259563",
          "2021-07-03T00:21:28.423813",
          "2021-07-03T12:09:32.799722",
          "2021-07-04T00:22:12.322706",
          "2021-07-04T12:09:27.394662",
          "2021-07-05T00:20:44.535028",
          "2021-07-05T12:10:18.436684",
          "2021-07-06T00:23:33.695513",
          "2021-07-06T12:10:04.035305",
          "2021-07-07T00:22:35.636868",
          "2021-07-07T12:09:54.403031",
          "2021-07-08T00:20:45.443166",
          "2021-07-08T12:10:10.966088",
          "2021-07-09T00:23:28.119242",
          "2021-07-09T12:09:52.286750",
          "2021-07-10T00:22:25.758689",
          "2021-07-10T12:00:49.061249",
          "2021-07-11T00:10:34.445671",
          "2021-07-11T02:17:34.911555",
          "2021-07-11T12:00:51.656407",
          "2021-07-12T00:00:36.001180",
          "2021-07-12T02:14:49.477555",
          "2021-07-12T12:00:56.620232",
          "2021-07-13T00:47:58.155315",
          "2021-07-13T12:23:44.732320"
         ],
         "xaxis": "x3",
         "y": [
          37.6,
          37.6,
          37.6,
          37.6,
          37.6,
          37.6,
          37.6,
          37.6,
          37.6,
          37.6,
          37.6,
          32.68,
          32.68,
          32.68,
          32.68,
          32.68,
          32.68,
          32.68,
          37.6,
          37.6,
          37.6,
          37.6,
          37.6,
          37.6,
          37.6,
          37.6,
          37.6,
          37.6,
          37.6,
          36.37,
          36.37,
          36.37,
          36.37,
          36.37,
          36.37,
          36.37,
          36.37,
          36.37,
          36.37,
          36.37,
          36.36,
          36.36,
          36.36,
          36.36,
          36.36,
          36.36,
          36.36,
          36.36,
          27.5,
          27.5,
          27.5,
          27.5,
          25.11,
          25.11,
          24.78,
          24.78,
          20.41,
          24.78,
          24.1,
          24.1,
          24.1,
          24.1,
          23.54,
          23.54,
          24.03,
          24.03,
          24.03,
          24.03,
          24.03,
          24.03,
          24.1,
          24.34
         ],
         "yaxis": "y3"
        },
        {
         "hovertemplate": "id=104725433.0<br>extractTime=%{x}<br>price=%{y}<extra></extra>",
         "legendgroup": "",
         "line": {
          "color": "#F4793E",
          "dash": "solid"
         },
         "mode": "lines",
         "name": "",
         "orientation": "v",
         "showlegend": false,
         "type": "scatter",
         "x": [
          "2021-06-08T17:51:48.284897",
          "2021-06-09T12:10:15.524409",
          "2021-06-10T00:25:10.995272",
          "2021-06-10T12:10:33.528984",
          "2021-06-11T04:00:07.429667",
          "2021-06-11T12:09:17.664548",
          "2021-06-12T00:19:18.579306",
          "2021-06-12T12:08:54.466686",
          "2021-06-13T00:24:03.636309",
          "2021-06-13T12:09:13.396488",
          "2021-06-14T00:21:23.755773",
          "2021-06-14T12:09:32.705284",
          "2021-06-15T00:22:38.376642",
          "2021-06-15T12:09:40.069022",
          "2021-06-16T00:22:32.223637",
          "2021-06-16T12:09:48.628420",
          "2021-06-17T00:21:06.359338",
          "2021-06-17T12:09:51.136950",
          "2021-06-18T00:21:24.007640",
          "2021-06-18T12:09:35.296932",
          "2021-06-19T00:22:13.839904",
          "2021-06-19T12:08:53.454060",
          "2021-06-20T00:23:39.052302",
          "2021-06-20T12:08:58.148677",
          "2021-06-21T00:23:14.970769",
          "2021-06-21T12:10:06.248926",
          "2021-06-22T00:21:41.824828",
          "2021-06-22T12:09:34.428355",
          "2021-06-23T00:21:45.777382",
          "2021-06-23T12:08:08.359863",
          "2021-06-24T00:17:16.336590",
          "2021-06-24T12:10:17.858195",
          "2021-06-25T00:24:02.384495",
          "2021-06-25T12:09:37.496063",
          "2021-06-26T00:20:29.849764",
          "2021-06-26T12:09:13.399053",
          "2021-06-27T00:25:21.484697",
          "2021-06-27T12:09:49.625915",
          "2021-06-28T00:23:09.122677",
          "2021-06-28T12:10:17.185160",
          "2021-06-29T00:22:47.638283",
          "2021-06-29T12:10:11.825256",
          "2021-06-30T00:21:52.223627",
          "2021-06-30T12:09:55.905511",
          "2021-07-01T00:24:22.898092",
          "2021-07-01T12:10:54.558431",
          "2021-07-02T00:22:03.192335",
          "2021-07-02T12:10:07.259566",
          "2021-07-03T00:21:28.423814",
          "2021-07-03T12:09:32.799724",
          "2021-07-04T00:22:12.322707",
          "2021-07-04T12:09:27.394664",
          "2021-07-05T00:20:44.535030",
          "2021-07-05T12:10:18.436685",
          "2021-07-06T00:23:33.695517",
          "2021-07-06T12:10:04.035306",
          "2021-07-07T00:22:35.636870",
          "2021-07-07T12:09:54.403032",
          "2021-07-08T00:20:45.443168",
          "2021-07-08T12:10:10.966090",
          "2021-07-09T00:23:28.119244",
          "2021-07-09T12:09:52.286752",
          "2021-07-10T00:22:25.758690",
          "2021-07-10T12:00:49.061252",
          "2021-07-11T00:10:34.445672",
          "2021-07-11T02:17:34.911556",
          "2021-07-11T12:00:51.656410",
          "2021-07-12T00:00:36.001215",
          "2021-07-12T02:14:49.477558",
          "2021-07-12T12:00:56.620235",
          "2021-07-13T00:47:58.155318",
          "2021-07-13T12:23:44.732322"
         ],
         "xaxis": "x2",
         "y": [
          33.92,
          33.92,
          33.92,
          33.92,
          33.92,
          33.92,
          33.92,
          33.92,
          33.92,
          33.92,
          33.92,
          32.68,
          32.68,
          32.68,
          32.68,
          32.68,
          32.68,
          32.68,
          32.68,
          32.68,
          32.68,
          32.68,
          32.68,
          32.68,
          32.68,
          32.68,
          32.68,
          32.68,
          32.68,
          32.68,
          32.68,
          32.69,
          32.69,
          32.69,
          32.69,
          32.69,
          32.69,
          32.69,
          32.69,
          32.69,
          32.68,
          32.68,
          32.05,
          32.05,
          32.05,
          32.05,
          32.05,
          31.46,
          31.46,
          31.46,
          31.46,
          32.05,
          31.46,
          31.46,
          31.46,
          31.46,
          29.01,
          29.01,
          29.01,
          29.01,
          29.01,
          29.01,
          29.01,
          29.01,
          29.01,
          29.01,
          27.78,
          27.78,
          27.78,
          27.78,
          27.78,
          27.78
         ],
         "yaxis": "y2"
        },
        {
         "hovertemplate": "id=104724579.0<br>extractTime=%{x}<br>price=%{y}<extra></extra>",
         "legendgroup": "",
         "line": {
          "color": "#F4793E",
          "dash": "solid"
         },
         "mode": "lines",
         "name": "",
         "orientation": "v",
         "showlegend": false,
         "type": "scatter",
         "x": [
          "2021-06-08T17:51:48.284897",
          "2021-06-09T12:10:15.524411",
          "2021-06-10T00:25:10.995275",
          "2021-06-10T12:10:33.528986",
          "2021-06-11T04:00:07.429669",
          "2021-06-11T12:09:17.664571",
          "2021-06-12T00:19:18.579308",
          "2021-06-12T12:08:54.466687",
          "2021-06-13T00:24:03.636311",
          "2021-06-13T12:09:13.396490",
          "2021-06-14T00:21:23.755774",
          "2021-06-14T12:09:32.705285",
          "2021-06-15T00:22:38.376643",
          "2021-06-15T12:09:40.069024",
          "2021-06-16T00:22:32.223639",
          "2021-06-16T12:09:48.628422",
          "2021-06-17T00:21:06.359339",
          "2021-06-17T12:09:51.136952",
          "2021-06-18T00:21:24.007641",
          "2021-06-18T12:09:35.296934",
          "2021-06-19T00:22:13.839905",
          "2021-06-19T12:08:53.454061",
          "2021-06-20T00:23:39.052303",
          "2021-06-20T12:08:58.148678",
          "2021-06-21T00:23:14.970770",
          "2021-06-21T12:10:06.248928",
          "2021-06-22T00:21:41.824829",
          "2021-06-22T12:09:34.428357",
          "2021-06-23T00:21:45.777383",
          "2021-06-23T12:08:08.359865",
          "2021-06-24T00:17:16.336592",
          "2021-06-24T12:10:17.858196",
          "2021-06-25T00:24:02.384497",
          "2021-06-25T12:09:37.496065",
          "2021-06-26T00:20:29.849766",
          "2021-06-26T12:09:13.399054",
          "2021-06-27T00:25:21.484698",
          "2021-06-27T12:09:49.625917",
          "2021-06-28T00:23:09.122679",
          "2021-06-28T12:10:17.185162",
          "2021-06-29T00:22:47.638284",
          "2021-06-29T12:10:11.825258",
          "2021-06-30T00:21:52.223629",
          "2021-06-30T12:09:55.905513",
          "2021-07-01T00:24:22.898095",
          "2021-07-01T12:10:54.558433",
          "2021-07-02T00:22:03.192339",
          "2021-07-02T12:10:07.259569",
          "2021-07-03T00:21:28.423816",
          "2021-07-03T12:09:32.799725",
          "2021-07-04T00:22:12.322711",
          "2021-07-04T12:09:27.394665",
          "2021-07-05T00:20:44.535033",
          "2021-07-05T12:10:18.436687",
          "2021-07-06T00:23:33.695519",
          "2021-07-06T12:10:04.035308",
          "2021-07-07T00:22:35.636871",
          "2021-07-07T12:09:54.403034",
          "2021-07-08T00:20:45.443172",
          "2021-07-08T12:10:10.966092",
          "2021-07-09T00:23:28.119246",
          "2021-07-09T12:09:52.286755",
          "2021-07-10T00:22:25.758692",
          "2021-07-10T12:00:49.061255",
          "2021-07-11T00:10:34.445674",
          "2021-07-11T02:17:34.911558",
          "2021-07-11T12:00:51.656417",
          "2021-07-12T00:00:36.001218",
          "2021-07-12T02:14:49.477560",
          "2021-07-12T12:00:56.620237",
          "2021-07-13T00:47:58.155321",
          "2021-07-13T12:23:44.732324"
         ],
         "xaxis": "x",
         "y": [
          38.83,
          38.83,
          38.83,
          38.83,
          38.83,
          38.83,
          38.83,
          38.83,
          38.83,
          38.83,
          38.83,
          38.83,
          38.83,
          38.83,
          38.83,
          38.83,
          38.83,
          38.83,
          38.83,
          38.83,
          38.83,
          38.83,
          38.83,
          38.83,
          38.83,
          38.83,
          38.83,
          38.83,
          38.83,
          38.83,
          38.83,
          38.83,
          38.83,
          38.83,
          38.83,
          38.83,
          38.83,
          38.83,
          38.83,
          38.83,
          38.83,
          38.83,
          38.83,
          38.83,
          38.83,
          38.83,
          38.83,
          38.83,
          38.83,
          42.51,
          42.51,
          42.51,
          42.51,
          42.51,
          42.51,
          42.51,
          42.51,
          40.05,
          40.05,
          37.91,
          36.37,
          36.37,
          35.14,
          35.14,
          35.14,
          35.14,
          35.14,
          35.14,
          36.37,
          37.6,
          36.37,
          38.83
         ],
         "yaxis": "y"
        }
       ],
       "layout": {
        "annotations": [
         {
          "font": {},
          "showarrow": false,
          "text": "id=104724579.0",
          "textangle": 90,
          "x": 0.98,
          "xanchor": "left",
          "xref": "paper",
          "y": 0.11375,
          "yanchor": "middle",
          "yref": "paper"
         },
         {
          "font": {},
          "showarrow": false,
          "text": "id=104725433.0",
          "textangle": 90,
          "x": 0.98,
          "xanchor": "left",
          "xref": "paper",
          "y": 0.37124999999999997,
          "yanchor": "middle",
          "yref": "paper"
         },
         {
          "font": {},
          "showarrow": false,
          "text": "id=104724577.0",
          "textangle": 90,
          "x": 0.98,
          "xanchor": "left",
          "xref": "paper",
          "y": 0.62875,
          "yanchor": "middle",
          "yref": "paper"
         },
         {
          "font": {},
          "showarrow": false,
          "text": "id=104724576.0",
          "textangle": 90,
          "x": 0.98,
          "xanchor": "left",
          "xref": "paper",
          "y": 0.88625,
          "yanchor": "middle",
          "yref": "paper"
         }
        ],
        "height": 700,
        "legend": {
         "tracegroupgap": 0
        },
        "margin": {
         "t": 60
        },
        "template": {
         "data": {
          "bar": [
           {
            "error_x": {
             "color": "#2a3f5f"
            },
            "error_y": {
             "color": "#2a3f5f"
            },
            "marker": {
             "line": {
              "color": "#E5ECF6",
              "width": 0.5
             }
            },
            "type": "bar"
           }
          ],
          "barpolar": [
           {
            "marker": {
             "line": {
              "color": "#E5ECF6",
              "width": 0.5
             }
            },
            "type": "barpolar"
           }
          ],
          "carpet": [
           {
            "aaxis": {
             "endlinecolor": "#2a3f5f",
             "gridcolor": "white",
             "linecolor": "white",
             "minorgridcolor": "white",
             "startlinecolor": "#2a3f5f"
            },
            "baxis": {
             "endlinecolor": "#2a3f5f",
             "gridcolor": "white",
             "linecolor": "white",
             "minorgridcolor": "white",
             "startlinecolor": "#2a3f5f"
            },
            "type": "carpet"
           }
          ],
          "choropleth": [
           {
            "colorbar": {
             "outlinewidth": 0,
             "ticks": ""
            },
            "type": "choropleth"
           }
          ],
          "contour": [
           {
            "colorbar": {
             "outlinewidth": 0,
             "ticks": ""
            },
            "colorscale": [
             [
              0,
              "#0d0887"
             ],
             [
              0.1111111111111111,
              "#46039f"
             ],
             [
              0.2222222222222222,
              "#7201a8"
             ],
             [
              0.3333333333333333,
              "#9c179e"
             ],
             [
              0.4444444444444444,
              "#bd3786"
             ],
             [
              0.5555555555555556,
              "#d8576b"
             ],
             [
              0.6666666666666666,
              "#ed7953"
             ],
             [
              0.7777777777777778,
              "#fb9f3a"
             ],
             [
              0.8888888888888888,
              "#fdca26"
             ],
             [
              1,
              "#f0f921"
             ]
            ],
            "type": "contour"
           }
          ],
          "contourcarpet": [
           {
            "colorbar": {
             "outlinewidth": 0,
             "ticks": ""
            },
            "type": "contourcarpet"
           }
          ],
          "heatmap": [
           {
            "colorbar": {
             "outlinewidth": 0,
             "ticks": ""
            },
            "colorscale": [
             [
              0,
              "#0d0887"
             ],
             [
              0.1111111111111111,
              "#46039f"
             ],
             [
              0.2222222222222222,
              "#7201a8"
             ],
             [
              0.3333333333333333,
              "#9c179e"
             ],
             [
              0.4444444444444444,
              "#bd3786"
             ],
             [
              0.5555555555555556,
              "#d8576b"
             ],
             [
              0.6666666666666666,
              "#ed7953"
             ],
             [
              0.7777777777777778,
              "#fb9f3a"
             ],
             [
              0.8888888888888888,
              "#fdca26"
             ],
             [
              1,
              "#f0f921"
             ]
            ],
            "type": "heatmap"
           }
          ],
          "heatmapgl": [
           {
            "colorbar": {
             "outlinewidth": 0,
             "ticks": ""
            },
            "colorscale": [
             [
              0,
              "#0d0887"
             ],
             [
              0.1111111111111111,
              "#46039f"
             ],
             [
              0.2222222222222222,
              "#7201a8"
             ],
             [
              0.3333333333333333,
              "#9c179e"
             ],
             [
              0.4444444444444444,
              "#bd3786"
             ],
             [
              0.5555555555555556,
              "#d8576b"
             ],
             [
              0.6666666666666666,
              "#ed7953"
             ],
             [
              0.7777777777777778,
              "#fb9f3a"
             ],
             [
              0.8888888888888888,
              "#fdca26"
             ],
             [
              1,
              "#f0f921"
             ]
            ],
            "type": "heatmapgl"
           }
          ],
          "histogram": [
           {
            "marker": {
             "colorbar": {
              "outlinewidth": 0,
              "ticks": ""
             }
            },
            "type": "histogram"
           }
          ],
          "histogram2d": [
           {
            "colorbar": {
             "outlinewidth": 0,
             "ticks": ""
            },
            "colorscale": [
             [
              0,
              "#0d0887"
             ],
             [
              0.1111111111111111,
              "#46039f"
             ],
             [
              0.2222222222222222,
              "#7201a8"
             ],
             [
              0.3333333333333333,
              "#9c179e"
             ],
             [
              0.4444444444444444,
              "#bd3786"
             ],
             [
              0.5555555555555556,
              "#d8576b"
             ],
             [
              0.6666666666666666,
              "#ed7953"
             ],
             [
              0.7777777777777778,
              "#fb9f3a"
             ],
             [
              0.8888888888888888,
              "#fdca26"
             ],
             [
              1,
              "#f0f921"
             ]
            ],
            "type": "histogram2d"
           }
          ],
          "histogram2dcontour": [
           {
            "colorbar": {
             "outlinewidth": 0,
             "ticks": ""
            },
            "colorscale": [
             [
              0,
              "#0d0887"
             ],
             [
              0.1111111111111111,
              "#46039f"
             ],
             [
              0.2222222222222222,
              "#7201a8"
             ],
             [
              0.3333333333333333,
              "#9c179e"
             ],
             [
              0.4444444444444444,
              "#bd3786"
             ],
             [
              0.5555555555555556,
              "#d8576b"
             ],
             [
              0.6666666666666666,
              "#ed7953"
             ],
             [
              0.7777777777777778,
              "#fb9f3a"
             ],
             [
              0.8888888888888888,
              "#fdca26"
             ],
             [
              1,
              "#f0f921"
             ]
            ],
            "type": "histogram2dcontour"
           }
          ],
          "mesh3d": [
           {
            "colorbar": {
             "outlinewidth": 0,
             "ticks": ""
            },
            "type": "mesh3d"
           }
          ],
          "parcoords": [
           {
            "line": {
             "colorbar": {
              "outlinewidth": 0,
              "ticks": ""
             }
            },
            "type": "parcoords"
           }
          ],
          "pie": [
           {
            "automargin": true,
            "type": "pie"
           }
          ],
          "scatter": [
           {
            "marker": {
             "colorbar": {
              "outlinewidth": 0,
              "ticks": ""
             }
            },
            "type": "scatter"
           }
          ],
          "scatter3d": [
           {
            "line": {
             "colorbar": {
              "outlinewidth": 0,
              "ticks": ""
             }
            },
            "marker": {
             "colorbar": {
              "outlinewidth": 0,
              "ticks": ""
             }
            },
            "type": "scatter3d"
           }
          ],
          "scattercarpet": [
           {
            "marker": {
             "colorbar": {
              "outlinewidth": 0,
              "ticks": ""
             }
            },
            "type": "scattercarpet"
           }
          ],
          "scattergeo": [
           {
            "marker": {
             "colorbar": {
              "outlinewidth": 0,
              "ticks": ""
             }
            },
            "type": "scattergeo"
           }
          ],
          "scattergl": [
           {
            "marker": {
             "colorbar": {
              "outlinewidth": 0,
              "ticks": ""
             }
            },
            "type": "scattergl"
           }
          ],
          "scattermapbox": [
           {
            "marker": {
             "colorbar": {
              "outlinewidth": 0,
              "ticks": ""
             }
            },
            "type": "scattermapbox"
           }
          ],
          "scatterpolar": [
           {
            "marker": {
             "colorbar": {
              "outlinewidth": 0,
              "ticks": ""
             }
            },
            "type": "scatterpolar"
           }
          ],
          "scatterpolargl": [
           {
            "marker": {
             "colorbar": {
              "outlinewidth": 0,
              "ticks": ""
             }
            },
            "type": "scatterpolargl"
           }
          ],
          "scatterternary": [
           {
            "marker": {
             "colorbar": {
              "outlinewidth": 0,
              "ticks": ""
             }
            },
            "type": "scatterternary"
           }
          ],
          "surface": [
           {
            "colorbar": {
             "outlinewidth": 0,
             "ticks": ""
            },
            "colorscale": [
             [
              0,
              "#0d0887"
             ],
             [
              0.1111111111111111,
              "#46039f"
             ],
             [
              0.2222222222222222,
              "#7201a8"
             ],
             [
              0.3333333333333333,
              "#9c179e"
             ],
             [
              0.4444444444444444,
              "#bd3786"
             ],
             [
              0.5555555555555556,
              "#d8576b"
             ],
             [
              0.6666666666666666,
              "#ed7953"
             ],
             [
              0.7777777777777778,
              "#fb9f3a"
             ],
             [
              0.8888888888888888,
              "#fdca26"
             ],
             [
              1,
              "#f0f921"
             ]
            ],
            "type": "surface"
           }
          ],
          "table": [
           {
            "cells": {
             "fill": {
              "color": "#EBF0F8"
             },
             "line": {
              "color": "white"
             }
            },
            "header": {
             "fill": {
              "color": "#C8D4E3"
             },
             "line": {
              "color": "white"
             }
            },
            "type": "table"
           }
          ]
         },
         "layout": {
          "annotationdefaults": {
           "arrowcolor": "#2a3f5f",
           "arrowhead": 0,
           "arrowwidth": 1
          },
          "autotypenumbers": "strict",
          "coloraxis": {
           "colorbar": {
            "outlinewidth": 0,
            "ticks": ""
           }
          },
          "colorscale": {
           "diverging": [
            [
             0,
             "#8e0152"
            ],
            [
             0.1,
             "#c51b7d"
            ],
            [
             0.2,
             "#de77ae"
            ],
            [
             0.3,
             "#f1b6da"
            ],
            [
             0.4,
             "#fde0ef"
            ],
            [
             0.5,
             "#f7f7f7"
            ],
            [
             0.6,
             "#e6f5d0"
            ],
            [
             0.7,
             "#b8e186"
            ],
            [
             0.8,
             "#7fbc41"
            ],
            [
             0.9,
             "#4d9221"
            ],
            [
             1,
             "#276419"
            ]
           ],
           "sequential": [
            [
             0,
             "#0d0887"
            ],
            [
             0.1111111111111111,
             "#46039f"
            ],
            [
             0.2222222222222222,
             "#7201a8"
            ],
            [
             0.3333333333333333,
             "#9c179e"
            ],
            [
             0.4444444444444444,
             "#bd3786"
            ],
            [
             0.5555555555555556,
             "#d8576b"
            ],
            [
             0.6666666666666666,
             "#ed7953"
            ],
            [
             0.7777777777777778,
             "#fb9f3a"
            ],
            [
             0.8888888888888888,
             "#fdca26"
            ],
            [
             1,
             "#f0f921"
            ]
           ],
           "sequentialminus": [
            [
             0,
             "#0d0887"
            ],
            [
             0.1111111111111111,
             "#46039f"
            ],
            [
             0.2222222222222222,
             "#7201a8"
            ],
            [
             0.3333333333333333,
             "#9c179e"
            ],
            [
             0.4444444444444444,
             "#bd3786"
            ],
            [
             0.5555555555555556,
             "#d8576b"
            ],
            [
             0.6666666666666666,
             "#ed7953"
            ],
            [
             0.7777777777777778,
             "#fb9f3a"
            ],
            [
             0.8888888888888888,
             "#fdca26"
            ],
            [
             1,
             "#f0f921"
            ]
           ]
          },
          "colorway": [
           "#636efa",
           "#EF553B",
           "#00cc96",
           "#ab63fa",
           "#FFA15A",
           "#19d3f3",
           "#FF6692",
           "#B6E880",
           "#FF97FF",
           "#FECB52"
          ],
          "font": {
           "color": "#2a3f5f"
          },
          "geo": {
           "bgcolor": "white",
           "lakecolor": "white",
           "landcolor": "#E5ECF6",
           "showlakes": true,
           "showland": true,
           "subunitcolor": "white"
          },
          "hoverlabel": {
           "align": "left"
          },
          "hovermode": "closest",
          "mapbox": {
           "style": "light"
          },
          "paper_bgcolor": "white",
          "plot_bgcolor": "#E5ECF6",
          "polar": {
           "angularaxis": {
            "gridcolor": "white",
            "linecolor": "white",
            "ticks": ""
           },
           "bgcolor": "#E5ECF6",
           "radialaxis": {
            "gridcolor": "white",
            "linecolor": "white",
            "ticks": ""
           }
          },
          "scene": {
           "xaxis": {
            "backgroundcolor": "#E5ECF6",
            "gridcolor": "white",
            "gridwidth": 2,
            "linecolor": "white",
            "showbackground": true,
            "ticks": "",
            "zerolinecolor": "white"
           },
           "yaxis": {
            "backgroundcolor": "#E5ECF6",
            "gridcolor": "white",
            "gridwidth": 2,
            "linecolor": "white",
            "showbackground": true,
            "ticks": "",
            "zerolinecolor": "white"
           },
           "zaxis": {
            "backgroundcolor": "#E5ECF6",
            "gridcolor": "white",
            "gridwidth": 2,
            "linecolor": "white",
            "showbackground": true,
            "ticks": "",
            "zerolinecolor": "white"
           }
          },
          "shapedefaults": {
           "line": {
            "color": "#2a3f5f"
           }
          },
          "ternary": {
           "aaxis": {
            "gridcolor": "white",
            "linecolor": "white",
            "ticks": ""
           },
           "baxis": {
            "gridcolor": "white",
            "linecolor": "white",
            "ticks": ""
           },
           "bgcolor": "#E5ECF6",
           "caxis": {
            "gridcolor": "white",
            "linecolor": "white",
            "ticks": ""
           }
          },
          "title": {
           "x": 0.05
          },
          "xaxis": {
           "automargin": true,
           "gridcolor": "white",
           "linecolor": "white",
           "ticks": "",
           "title": {
            "standoff": 15
           },
           "zerolinecolor": "white",
           "zerolinewidth": 2
          },
          "yaxis": {
           "automargin": true,
           "gridcolor": "white",
           "linecolor": "white",
           "ticks": "",
           "title": {
            "standoff": 15
           },
           "zerolinecolor": "white",
           "zerolinewidth": 2
          }
         }
        },
        "xaxis": {
         "anchor": "y",
         "domain": [
          0,
          0.98
         ],
         "title": {
          "text": "extractTime"
         }
        },
        "xaxis2": {
         "anchor": "y2",
         "domain": [
          0,
          0.98
         ],
         "matches": "x",
         "showticklabels": false
        },
        "xaxis3": {
         "anchor": "y3",
         "domain": [
          0,
          0.98
         ],
         "matches": "x",
         "showticklabels": false
        },
        "xaxis4": {
         "anchor": "y4",
         "domain": [
          0,
          0.98
         ],
         "matches": "x",
         "showticklabels": false
        },
        "yaxis": {
         "anchor": "x",
         "domain": [
          0,
          0.2275
         ],
         "title": {
          "text": "price"
         }
        },
        "yaxis2": {
         "anchor": "x2",
         "domain": [
          0.2575,
          0.485
         ],
         "matches": "y",
         "title": {
          "text": "price"
         }
        },
        "yaxis3": {
         "anchor": "x3",
         "domain": [
          0.515,
          0.7425
         ],
         "matches": "y",
         "title": {
          "text": "price"
         }
        },
        "yaxis4": {
         "anchor": "x4",
         "domain": [
          0.7725,
          1
         ],
         "matches": "y",
         "title": {
          "text": "price"
         }
        }
       }
      }
     },
     "metadata": {},
     "output_type": "display_data"
    },
    {
     "data": {
      "application/vnd.plotly.v1+json": {
       "config": {
        "plotlyServerURL": "https://plot.ly"
       },
       "data": [
        {
         "alignmentgroup": "True",
         "hovertemplate": "id=104724576.0<br>extractTime=%{x}<br>ticket_count=%{y}<extra></extra>",
         "legendgroup": "",
         "marker": {
          "color": "#636efa"
         },
         "name": "",
         "offsetgroup": "",
         "orientation": "v",
         "showlegend": false,
         "textposition": "auto",
         "type": "bar",
         "x": [
          "2021-06-08T17:51:48.284897",
          "2021-06-09T12:10:15.524406",
          "2021-06-10T00:25:10.995269",
          "2021-06-10T12:10:33.528979",
          "2021-06-11T04:00:07.429664",
          "2021-06-11T12:09:17.664545",
          "2021-06-12T00:19:18.579303",
          "2021-06-12T12:08:54.466683",
          "2021-06-13T00:24:03.636306",
          "2021-06-13T12:09:13.396485",
          "2021-06-14T00:21:23.755769",
          "2021-06-14T12:09:32.705281",
          "2021-06-15T00:22:38.376638",
          "2021-06-15T12:09:40.069018",
          "2021-06-16T00:22:32.223634",
          "2021-06-16T12:09:48.628416",
          "2021-06-17T00:21:06.359334",
          "2021-06-17T12:09:51.136947",
          "2021-06-18T00:21:24.007636",
          "2021-06-18T12:09:35.296929",
          "2021-06-19T00:22:13.839900",
          "2021-06-19T12:08:53.454056",
          "2021-06-20T00:23:39.052298",
          "2021-06-20T12:08:58.148673",
          "2021-06-21T00:23:14.970765",
          "2021-06-21T12:10:06.248923",
          "2021-06-22T00:21:41.824824",
          "2021-06-22T12:09:34.428351",
          "2021-06-23T00:21:45.777379",
          "2021-06-23T12:08:08.359859",
          "2021-06-24T00:17:16.336586",
          "2021-06-24T12:10:17.858191",
          "2021-06-25T00:24:02.384491",
          "2021-06-25T12:09:37.496060",
          "2021-06-26T00:20:29.849761",
          "2021-06-26T12:09:13.399049",
          "2021-06-27T00:25:21.484694",
          "2021-06-27T12:09:49.625912",
          "2021-06-28T00:23:09.122674",
          "2021-06-28T12:10:17.185157",
          "2021-06-29T00:22:47.638280",
          "2021-06-29T12:10:11.825252",
          "2021-06-30T00:21:52.223624",
          "2021-06-30T12:09:55.905505",
          "2021-07-01T00:24:22.898088",
          "2021-07-01T12:10:54.558428",
          "2021-07-02T00:22:03.192325",
          "2021-07-02T12:10:07.259560",
          "2021-07-03T00:21:28.423812",
          "2021-07-03T12:09:32.799721",
          "2021-07-04T00:22:12.322705",
          "2021-07-04T12:09:27.394661",
          "2021-07-05T00:20:44.535022",
          "2021-07-05T12:10:18.436682",
          "2021-07-06T00:23:33.695511",
          "2021-07-06T12:10:04.035304",
          "2021-07-07T00:22:35.636867",
          "2021-07-07T12:09:54.403029",
          "2021-07-08T00:20:45.443164",
          "2021-07-08T12:10:10.966084",
          "2021-07-09T00:23:28.119241",
          "2021-07-09T12:09:52.286748",
          "2021-07-10T00:22:25.758687",
          "2021-07-10T12:00:49.061245",
          "2021-07-11T00:10:34.445669",
          "2021-07-11T02:17:34.911553",
          "2021-07-11T12:00:51.656404",
          "2021-07-12T00:00:36.001172",
          "2021-07-12T02:14:49.477546",
          "2021-07-12T12:00:56.620223",
          "2021-07-13T00:47:58.155305",
          "2021-07-13T12:23:44.732311"
         ],
         "xaxis": "x4",
         "y": [
          0,
          0,
          0,
          0,
          2979,
          2979,
          3006,
          2999,
          3000,
          2978,
          2947,
          2928,
          2906,
          2894,
          2880,
          2857,
          2849,
          2803,
          2783,
          2761,
          2762,
          2765,
          2767,
          2764,
          2760,
          2757,
          2726,
          2674,
          2683,
          2661,
          2649,
          2633,
          2629,
          2599,
          2573,
          2517,
          2504,
          2441,
          2421,
          2367,
          2321,
          2180,
          3692,
          3518,
          3530,
          3469,
          3446,
          3379,
          3429,
          3337,
          3306,
          3278,
          3214,
          3173,
          3127,
          3045,
          3853,
          3775,
          3725,
          3690,
          3705,
          3665,
          4528,
          4421,
          4376,
          4364,
          4305,
          4263,
          4249,
          4132,
          4021,
          3883
         ],
         "yaxis": "y4"
        },
        {
         "alignmentgroup": "True",
         "hovertemplate": "id=104724577.0<br>extractTime=%{x}<br>ticket_count=%{y}<extra></extra>",
         "legendgroup": "",
         "marker": {
          "color": "#636efa"
         },
         "name": "",
         "offsetgroup": "",
         "orientation": "v",
         "showlegend": false,
         "textposition": "auto",
         "type": "bar",
         "x": [
          "2021-06-08T17:51:48.284897",
          "2021-06-09T12:10:15.524408",
          "2021-06-10T00:25:10.995271",
          "2021-06-10T12:10:33.528981",
          "2021-06-11T04:00:07.429666",
          "2021-06-11T12:09:17.664547",
          "2021-06-12T00:19:18.579304",
          "2021-06-12T12:08:54.466684",
          "2021-06-13T00:24:03.636307",
          "2021-06-13T12:09:13.396487",
          "2021-06-14T00:21:23.755771",
          "2021-06-14T12:09:32.705282",
          "2021-06-15T00:22:38.376640",
          "2021-06-15T12:09:40.069020",
          "2021-06-16T00:22:32.223635",
          "2021-06-16T12:09:48.628418",
          "2021-06-17T00:21:06.359336",
          "2021-06-17T12:09:51.136949",
          "2021-06-18T00:21:24.007638",
          "2021-06-18T12:09:35.296931",
          "2021-06-19T00:22:13.839902",
          "2021-06-19T12:08:53.454057",
          "2021-06-20T00:23:39.052299",
          "2021-06-20T12:08:58.148674",
          "2021-06-21T00:23:14.970767",
          "2021-06-21T12:10:06.248924",
          "2021-06-22T00:21:41.824825",
          "2021-06-22T12:09:34.428353",
          "2021-06-23T00:21:45.777380",
          "2021-06-23T12:08:08.359861",
          "2021-06-24T00:17:16.336588",
          "2021-06-24T12:10:17.858193",
          "2021-06-25T00:24:02.384493",
          "2021-06-25T12:09:37.496062",
          "2021-06-26T00:20:29.849762",
          "2021-06-26T12:09:13.399051",
          "2021-06-27T00:25:21.484695",
          "2021-06-27T12:09:49.625914",
          "2021-06-28T00:23:09.122675",
          "2021-06-28T12:10:17.185159",
          "2021-06-29T00:22:47.638281",
          "2021-06-29T12:10:11.825254",
          "2021-06-30T00:21:52.223626",
          "2021-06-30T12:09:55.905507",
          "2021-07-01T00:24:22.898090",
          "2021-07-01T12:10:54.558429",
          "2021-07-02T00:22:03.192333",
          "2021-07-02T12:10:07.259563",
          "2021-07-03T00:21:28.423813",
          "2021-07-03T12:09:32.799722",
          "2021-07-04T00:22:12.322706",
          "2021-07-04T12:09:27.394662",
          "2021-07-05T00:20:44.535028",
          "2021-07-05T12:10:18.436684",
          "2021-07-06T00:23:33.695513",
          "2021-07-06T12:10:04.035305",
          "2021-07-07T00:22:35.636868",
          "2021-07-07T12:09:54.403031",
          "2021-07-08T00:20:45.443166",
          "2021-07-08T12:10:10.966088",
          "2021-07-09T00:23:28.119242",
          "2021-07-09T12:09:52.286750",
          "2021-07-10T00:22:25.758689",
          "2021-07-10T12:00:49.061249",
          "2021-07-11T00:10:34.445671",
          "2021-07-11T02:17:34.911555",
          "2021-07-11T12:00:51.656407",
          "2021-07-12T00:00:36.001180",
          "2021-07-12T02:14:49.477555",
          "2021-07-12T12:00:56.620232",
          "2021-07-13T00:47:58.155315",
          "2021-07-13T12:23:44.732320"
         ],
         "xaxis": "x3",
         "y": [
          0,
          0,
          0,
          0,
          3520,
          3520,
          3526,
          3529,
          3533,
          3536,
          3539,
          3523,
          3541,
          3531,
          3516,
          3510,
          3504,
          3508,
          3502,
          3494,
          3523,
          3514,
          3509,
          3504,
          3488,
          3482,
          3464,
          3465,
          3464,
          3472,
          3467,
          3483,
          3483,
          3473,
          3464,
          3454,
          3452,
          3442,
          3435,
          3444,
          3456,
          3418,
          4306,
          4279,
          4251,
          4232,
          4238,
          4229,
          5024,
          4992,
          4953,
          4958,
          4963,
          4939,
          4914,
          4850,
          4790,
          4727,
          4679,
          4687,
          4596,
          4569,
          4971,
          4905,
          4836,
          4820,
          4799,
          4689,
          4667,
          4606,
          4596,
          4509
         ],
         "yaxis": "y3"
        },
        {
         "alignmentgroup": "True",
         "hovertemplate": "id=104725433.0<br>extractTime=%{x}<br>ticket_count=%{y}<extra></extra>",
         "legendgroup": "",
         "marker": {
          "color": "#636efa"
         },
         "name": "",
         "offsetgroup": "",
         "orientation": "v",
         "showlegend": false,
         "textposition": "auto",
         "type": "bar",
         "x": [
          "2021-06-08T17:51:48.284897",
          "2021-06-09T12:10:15.524409",
          "2021-06-10T00:25:10.995272",
          "2021-06-10T12:10:33.528984",
          "2021-06-11T04:00:07.429667",
          "2021-06-11T12:09:17.664548",
          "2021-06-12T00:19:18.579306",
          "2021-06-12T12:08:54.466686",
          "2021-06-13T00:24:03.636309",
          "2021-06-13T12:09:13.396488",
          "2021-06-14T00:21:23.755773",
          "2021-06-14T12:09:32.705284",
          "2021-06-15T00:22:38.376642",
          "2021-06-15T12:09:40.069022",
          "2021-06-16T00:22:32.223637",
          "2021-06-16T12:09:48.628420",
          "2021-06-17T00:21:06.359338",
          "2021-06-17T12:09:51.136950",
          "2021-06-18T00:21:24.007640",
          "2021-06-18T12:09:35.296932",
          "2021-06-19T00:22:13.839904",
          "2021-06-19T12:08:53.454060",
          "2021-06-20T00:23:39.052302",
          "2021-06-20T12:08:58.148677",
          "2021-06-21T00:23:14.970769",
          "2021-06-21T12:10:06.248926",
          "2021-06-22T00:21:41.824828",
          "2021-06-22T12:09:34.428355",
          "2021-06-23T00:21:45.777382",
          "2021-06-23T12:08:08.359863",
          "2021-06-24T00:17:16.336590",
          "2021-06-24T12:10:17.858195",
          "2021-06-25T00:24:02.384495",
          "2021-06-25T12:09:37.496063",
          "2021-06-26T00:20:29.849764",
          "2021-06-26T12:09:13.399053",
          "2021-06-27T00:25:21.484697",
          "2021-06-27T12:09:49.625915",
          "2021-06-28T00:23:09.122677",
          "2021-06-28T12:10:17.185160",
          "2021-06-29T00:22:47.638283",
          "2021-06-29T12:10:11.825256",
          "2021-06-30T00:21:52.223627",
          "2021-06-30T12:09:55.905511",
          "2021-07-01T00:24:22.898092",
          "2021-07-01T12:10:54.558431",
          "2021-07-02T00:22:03.192335",
          "2021-07-02T12:10:07.259566",
          "2021-07-03T00:21:28.423814",
          "2021-07-03T12:09:32.799724",
          "2021-07-04T00:22:12.322707",
          "2021-07-04T12:09:27.394664",
          "2021-07-05T00:20:44.535030",
          "2021-07-05T12:10:18.436685",
          "2021-07-06T00:23:33.695517",
          "2021-07-06T12:10:04.035306",
          "2021-07-07T00:22:35.636870",
          "2021-07-07T12:09:54.403032",
          "2021-07-08T00:20:45.443168",
          "2021-07-08T12:10:10.966090",
          "2021-07-09T00:23:28.119244",
          "2021-07-09T12:09:52.286752",
          "2021-07-10T00:22:25.758690",
          "2021-07-10T12:00:49.061252",
          "2021-07-11T00:10:34.445672",
          "2021-07-11T02:17:34.911556",
          "2021-07-11T12:00:51.656410",
          "2021-07-12T00:00:36.001215",
          "2021-07-12T02:14:49.477558",
          "2021-07-12T12:00:56.620235",
          "2021-07-13T00:47:58.155318",
          "2021-07-13T12:23:44.732322"
         ],
         "xaxis": "x2",
         "y": [
          0,
          0,
          0,
          0,
          3522,
          3518,
          3538,
          3533,
          3544,
          3540,
          3552,
          3543,
          3546,
          3535,
          3535,
          3525,
          3522,
          3523,
          3518,
          3489,
          3522,
          3511,
          3507,
          3515,
          3495,
          3482,
          3493,
          3481,
          3474,
          3447,
          3444,
          3456,
          3476,
          3462,
          3425,
          3421,
          3425,
          3410,
          3420,
          3409,
          3396,
          3405,
          4833,
          4769,
          4754,
          4704,
          4630,
          4564,
          4883,
          4892,
          4839,
          4775,
          4764,
          4761,
          4719,
          4658,
          4642,
          4552,
          4482,
          4382,
          4298,
          4226,
          4094,
          3999,
          3886,
          3870,
          3779,
          3623,
          3587,
          3503,
          3329,
          3140
         ],
         "yaxis": "y2"
        },
        {
         "alignmentgroup": "True",
         "hovertemplate": "id=104724579.0<br>extractTime=%{x}<br>ticket_count=%{y}<extra></extra>",
         "legendgroup": "",
         "marker": {
          "color": "#636efa"
         },
         "name": "",
         "offsetgroup": "",
         "orientation": "v",
         "showlegend": false,
         "textposition": "auto",
         "type": "bar",
         "x": [
          "2021-06-08T17:51:48.284897",
          "2021-06-09T12:10:15.524411",
          "2021-06-10T00:25:10.995275",
          "2021-06-10T12:10:33.528986",
          "2021-06-11T04:00:07.429669",
          "2021-06-11T12:09:17.664571",
          "2021-06-12T00:19:18.579308",
          "2021-06-12T12:08:54.466687",
          "2021-06-13T00:24:03.636311",
          "2021-06-13T12:09:13.396490",
          "2021-06-14T00:21:23.755774",
          "2021-06-14T12:09:32.705285",
          "2021-06-15T00:22:38.376643",
          "2021-06-15T12:09:40.069024",
          "2021-06-16T00:22:32.223639",
          "2021-06-16T12:09:48.628422",
          "2021-06-17T00:21:06.359339",
          "2021-06-17T12:09:51.136952",
          "2021-06-18T00:21:24.007641",
          "2021-06-18T12:09:35.296934",
          "2021-06-19T00:22:13.839905",
          "2021-06-19T12:08:53.454061",
          "2021-06-20T00:23:39.052303",
          "2021-06-20T12:08:58.148678",
          "2021-06-21T00:23:14.970770",
          "2021-06-21T12:10:06.248928",
          "2021-06-22T00:21:41.824829",
          "2021-06-22T12:09:34.428357",
          "2021-06-23T00:21:45.777383",
          "2021-06-23T12:08:08.359865",
          "2021-06-24T00:17:16.336592",
          "2021-06-24T12:10:17.858196",
          "2021-06-25T00:24:02.384497",
          "2021-06-25T12:09:37.496065",
          "2021-06-26T00:20:29.849766",
          "2021-06-26T12:09:13.399054",
          "2021-06-27T00:25:21.484698",
          "2021-06-27T12:09:49.625917",
          "2021-06-28T00:23:09.122679",
          "2021-06-28T12:10:17.185162",
          "2021-06-29T00:22:47.638284",
          "2021-06-29T12:10:11.825258",
          "2021-06-30T00:21:52.223629",
          "2021-06-30T12:09:55.905513",
          "2021-07-01T00:24:22.898095",
          "2021-07-01T12:10:54.558433",
          "2021-07-02T00:22:03.192339",
          "2021-07-02T12:10:07.259569",
          "2021-07-03T00:21:28.423816",
          "2021-07-03T12:09:32.799725",
          "2021-07-04T00:22:12.322711",
          "2021-07-04T12:09:27.394665",
          "2021-07-05T00:20:44.535033",
          "2021-07-05T12:10:18.436687",
          "2021-07-06T00:23:33.695519",
          "2021-07-06T12:10:04.035308",
          "2021-07-07T00:22:35.636871",
          "2021-07-07T12:09:54.403034",
          "2021-07-08T00:20:45.443172",
          "2021-07-08T12:10:10.966092",
          "2021-07-09T00:23:28.119246",
          "2021-07-09T12:09:52.286755",
          "2021-07-10T00:22:25.758692",
          "2021-07-10T12:00:49.061255",
          "2021-07-11T00:10:34.445674",
          "2021-07-11T02:17:34.911558",
          "2021-07-11T12:00:51.656417",
          "2021-07-12T00:00:36.001218",
          "2021-07-12T02:14:49.477560",
          "2021-07-12T12:00:56.620237",
          "2021-07-13T00:47:58.155321",
          "2021-07-13T12:23:44.732324"
         ],
         "xaxis": "x",
         "y": [
          0,
          0,
          0,
          0,
          3162,
          3158,
          3180,
          3166,
          3164,
          3163,
          3150,
          3130,
          3122,
          3113,
          3115,
          3102,
          3121,
          3108,
          3097,
          3085,
          3113,
          3100,
          3085,
          3061,
          3025,
          3017,
          2999,
          3002,
          2987,
          3000,
          2976,
          2970,
          2961,
          2959,
          2940,
          2934,
          2922,
          2924,
          2922,
          2917,
          2918,
          2888,
          4338,
          4267,
          4248,
          4231,
          4235,
          4197,
          4579,
          4544,
          4522,
          4504,
          4446,
          4424,
          4406,
          4338,
          4322,
          4318,
          4290,
          4251,
          4224,
          4194,
          4118,
          4050,
          4031,
          4039,
          3983,
          3934,
          3883,
          3833,
          3788,
          3739
         ],
         "yaxis": "y"
        }
       ],
       "layout": {
        "annotations": [
         {
          "font": {},
          "showarrow": false,
          "text": "id=104724579.0",
          "textangle": 90,
          "x": 0.98,
          "xanchor": "left",
          "xref": "paper",
          "y": 0.11375,
          "yanchor": "middle",
          "yref": "paper"
         },
         {
          "font": {},
          "showarrow": false,
          "text": "id=104725433.0",
          "textangle": 90,
          "x": 0.98,
          "xanchor": "left",
          "xref": "paper",
          "y": 0.37124999999999997,
          "yanchor": "middle",
          "yref": "paper"
         },
         {
          "font": {},
          "showarrow": false,
          "text": "id=104724577.0",
          "textangle": 90,
          "x": 0.98,
          "xanchor": "left",
          "xref": "paper",
          "y": 0.62875,
          "yanchor": "middle",
          "yref": "paper"
         },
         {
          "font": {},
          "showarrow": false,
          "text": "id=104724576.0",
          "textangle": 90,
          "x": 0.98,
          "xanchor": "left",
          "xref": "paper",
          "y": 0.88625,
          "yanchor": "middle",
          "yref": "paper"
         }
        ],
        "barmode": "relative",
        "height": 500,
        "legend": {
         "tracegroupgap": 0
        },
        "margin": {
         "t": 60
        },
        "template": {
         "data": {
          "bar": [
           {
            "error_x": {
             "color": "#2a3f5f"
            },
            "error_y": {
             "color": "#2a3f5f"
            },
            "marker": {
             "line": {
              "color": "#E5ECF6",
              "width": 0.5
             }
            },
            "type": "bar"
           }
          ],
          "barpolar": [
           {
            "marker": {
             "line": {
              "color": "#E5ECF6",
              "width": 0.5
             }
            },
            "type": "barpolar"
           }
          ],
          "carpet": [
           {
            "aaxis": {
             "endlinecolor": "#2a3f5f",
             "gridcolor": "white",
             "linecolor": "white",
             "minorgridcolor": "white",
             "startlinecolor": "#2a3f5f"
            },
            "baxis": {
             "endlinecolor": "#2a3f5f",
             "gridcolor": "white",
             "linecolor": "white",
             "minorgridcolor": "white",
             "startlinecolor": "#2a3f5f"
            },
            "type": "carpet"
           }
          ],
          "choropleth": [
           {
            "colorbar": {
             "outlinewidth": 0,
             "ticks": ""
            },
            "type": "choropleth"
           }
          ],
          "contour": [
           {
            "colorbar": {
             "outlinewidth": 0,
             "ticks": ""
            },
            "colorscale": [
             [
              0,
              "#0d0887"
             ],
             [
              0.1111111111111111,
              "#46039f"
             ],
             [
              0.2222222222222222,
              "#7201a8"
             ],
             [
              0.3333333333333333,
              "#9c179e"
             ],
             [
              0.4444444444444444,
              "#bd3786"
             ],
             [
              0.5555555555555556,
              "#d8576b"
             ],
             [
              0.6666666666666666,
              "#ed7953"
             ],
             [
              0.7777777777777778,
              "#fb9f3a"
             ],
             [
              0.8888888888888888,
              "#fdca26"
             ],
             [
              1,
              "#f0f921"
             ]
            ],
            "type": "contour"
           }
          ],
          "contourcarpet": [
           {
            "colorbar": {
             "outlinewidth": 0,
             "ticks": ""
            },
            "type": "contourcarpet"
           }
          ],
          "heatmap": [
           {
            "colorbar": {
             "outlinewidth": 0,
             "ticks": ""
            },
            "colorscale": [
             [
              0,
              "#0d0887"
             ],
             [
              0.1111111111111111,
              "#46039f"
             ],
             [
              0.2222222222222222,
              "#7201a8"
             ],
             [
              0.3333333333333333,
              "#9c179e"
             ],
             [
              0.4444444444444444,
              "#bd3786"
             ],
             [
              0.5555555555555556,
              "#d8576b"
             ],
             [
              0.6666666666666666,
              "#ed7953"
             ],
             [
              0.7777777777777778,
              "#fb9f3a"
             ],
             [
              0.8888888888888888,
              "#fdca26"
             ],
             [
              1,
              "#f0f921"
             ]
            ],
            "type": "heatmap"
           }
          ],
          "heatmapgl": [
           {
            "colorbar": {
             "outlinewidth": 0,
             "ticks": ""
            },
            "colorscale": [
             [
              0,
              "#0d0887"
             ],
             [
              0.1111111111111111,
              "#46039f"
             ],
             [
              0.2222222222222222,
              "#7201a8"
             ],
             [
              0.3333333333333333,
              "#9c179e"
             ],
             [
              0.4444444444444444,
              "#bd3786"
             ],
             [
              0.5555555555555556,
              "#d8576b"
             ],
             [
              0.6666666666666666,
              "#ed7953"
             ],
             [
              0.7777777777777778,
              "#fb9f3a"
             ],
             [
              0.8888888888888888,
              "#fdca26"
             ],
             [
              1,
              "#f0f921"
             ]
            ],
            "type": "heatmapgl"
           }
          ],
          "histogram": [
           {
            "marker": {
             "colorbar": {
              "outlinewidth": 0,
              "ticks": ""
             }
            },
            "type": "histogram"
           }
          ],
          "histogram2d": [
           {
            "colorbar": {
             "outlinewidth": 0,
             "ticks": ""
            },
            "colorscale": [
             [
              0,
              "#0d0887"
             ],
             [
              0.1111111111111111,
              "#46039f"
             ],
             [
              0.2222222222222222,
              "#7201a8"
             ],
             [
              0.3333333333333333,
              "#9c179e"
             ],
             [
              0.4444444444444444,
              "#bd3786"
             ],
             [
              0.5555555555555556,
              "#d8576b"
             ],
             [
              0.6666666666666666,
              "#ed7953"
             ],
             [
              0.7777777777777778,
              "#fb9f3a"
             ],
             [
              0.8888888888888888,
              "#fdca26"
             ],
             [
              1,
              "#f0f921"
             ]
            ],
            "type": "histogram2d"
           }
          ],
          "histogram2dcontour": [
           {
            "colorbar": {
             "outlinewidth": 0,
             "ticks": ""
            },
            "colorscale": [
             [
              0,
              "#0d0887"
             ],
             [
              0.1111111111111111,
              "#46039f"
             ],
             [
              0.2222222222222222,
              "#7201a8"
             ],
             [
              0.3333333333333333,
              "#9c179e"
             ],
             [
              0.4444444444444444,
              "#bd3786"
             ],
             [
              0.5555555555555556,
              "#d8576b"
             ],
             [
              0.6666666666666666,
              "#ed7953"
             ],
             [
              0.7777777777777778,
              "#fb9f3a"
             ],
             [
              0.8888888888888888,
              "#fdca26"
             ],
             [
              1,
              "#f0f921"
             ]
            ],
            "type": "histogram2dcontour"
           }
          ],
          "mesh3d": [
           {
            "colorbar": {
             "outlinewidth": 0,
             "ticks": ""
            },
            "type": "mesh3d"
           }
          ],
          "parcoords": [
           {
            "line": {
             "colorbar": {
              "outlinewidth": 0,
              "ticks": ""
             }
            },
            "type": "parcoords"
           }
          ],
          "pie": [
           {
            "automargin": true,
            "type": "pie"
           }
          ],
          "scatter": [
           {
            "marker": {
             "colorbar": {
              "outlinewidth": 0,
              "ticks": ""
             }
            },
            "type": "scatter"
           }
          ],
          "scatter3d": [
           {
            "line": {
             "colorbar": {
              "outlinewidth": 0,
              "ticks": ""
             }
            },
            "marker": {
             "colorbar": {
              "outlinewidth": 0,
              "ticks": ""
             }
            },
            "type": "scatter3d"
           }
          ],
          "scattercarpet": [
           {
            "marker": {
             "colorbar": {
              "outlinewidth": 0,
              "ticks": ""
             }
            },
            "type": "scattercarpet"
           }
          ],
          "scattergeo": [
           {
            "marker": {
             "colorbar": {
              "outlinewidth": 0,
              "ticks": ""
             }
            },
            "type": "scattergeo"
           }
          ],
          "scattergl": [
           {
            "marker": {
             "colorbar": {
              "outlinewidth": 0,
              "ticks": ""
             }
            },
            "type": "scattergl"
           }
          ],
          "scattermapbox": [
           {
            "marker": {
             "colorbar": {
              "outlinewidth": 0,
              "ticks": ""
             }
            },
            "type": "scattermapbox"
           }
          ],
          "scatterpolar": [
           {
            "marker": {
             "colorbar": {
              "outlinewidth": 0,
              "ticks": ""
             }
            },
            "type": "scatterpolar"
           }
          ],
          "scatterpolargl": [
           {
            "marker": {
             "colorbar": {
              "outlinewidth": 0,
              "ticks": ""
             }
            },
            "type": "scatterpolargl"
           }
          ],
          "scatterternary": [
           {
            "marker": {
             "colorbar": {
              "outlinewidth": 0,
              "ticks": ""
             }
            },
            "type": "scatterternary"
           }
          ],
          "surface": [
           {
            "colorbar": {
             "outlinewidth": 0,
             "ticks": ""
            },
            "colorscale": [
             [
              0,
              "#0d0887"
             ],
             [
              0.1111111111111111,
              "#46039f"
             ],
             [
              0.2222222222222222,
              "#7201a8"
             ],
             [
              0.3333333333333333,
              "#9c179e"
             ],
             [
              0.4444444444444444,
              "#bd3786"
             ],
             [
              0.5555555555555556,
              "#d8576b"
             ],
             [
              0.6666666666666666,
              "#ed7953"
             ],
             [
              0.7777777777777778,
              "#fb9f3a"
             ],
             [
              0.8888888888888888,
              "#fdca26"
             ],
             [
              1,
              "#f0f921"
             ]
            ],
            "type": "surface"
           }
          ],
          "table": [
           {
            "cells": {
             "fill": {
              "color": "#EBF0F8"
             },
             "line": {
              "color": "white"
             }
            },
            "header": {
             "fill": {
              "color": "#C8D4E3"
             },
             "line": {
              "color": "white"
             }
            },
            "type": "table"
           }
          ]
         },
         "layout": {
          "annotationdefaults": {
           "arrowcolor": "#2a3f5f",
           "arrowhead": 0,
           "arrowwidth": 1
          },
          "autotypenumbers": "strict",
          "coloraxis": {
           "colorbar": {
            "outlinewidth": 0,
            "ticks": ""
           }
          },
          "colorscale": {
           "diverging": [
            [
             0,
             "#8e0152"
            ],
            [
             0.1,
             "#c51b7d"
            ],
            [
             0.2,
             "#de77ae"
            ],
            [
             0.3,
             "#f1b6da"
            ],
            [
             0.4,
             "#fde0ef"
            ],
            [
             0.5,
             "#f7f7f7"
            ],
            [
             0.6,
             "#e6f5d0"
            ],
            [
             0.7,
             "#b8e186"
            ],
            [
             0.8,
             "#7fbc41"
            ],
            [
             0.9,
             "#4d9221"
            ],
            [
             1,
             "#276419"
            ]
           ],
           "sequential": [
            [
             0,
             "#0d0887"
            ],
            [
             0.1111111111111111,
             "#46039f"
            ],
            [
             0.2222222222222222,
             "#7201a8"
            ],
            [
             0.3333333333333333,
             "#9c179e"
            ],
            [
             0.4444444444444444,
             "#bd3786"
            ],
            [
             0.5555555555555556,
             "#d8576b"
            ],
            [
             0.6666666666666666,
             "#ed7953"
            ],
            [
             0.7777777777777778,
             "#fb9f3a"
            ],
            [
             0.8888888888888888,
             "#fdca26"
            ],
            [
             1,
             "#f0f921"
            ]
           ],
           "sequentialminus": [
            [
             0,
             "#0d0887"
            ],
            [
             0.1111111111111111,
             "#46039f"
            ],
            [
             0.2222222222222222,
             "#7201a8"
            ],
            [
             0.3333333333333333,
             "#9c179e"
            ],
            [
             0.4444444444444444,
             "#bd3786"
            ],
            [
             0.5555555555555556,
             "#d8576b"
            ],
            [
             0.6666666666666666,
             "#ed7953"
            ],
            [
             0.7777777777777778,
             "#fb9f3a"
            ],
            [
             0.8888888888888888,
             "#fdca26"
            ],
            [
             1,
             "#f0f921"
            ]
           ]
          },
          "colorway": [
           "#636efa",
           "#EF553B",
           "#00cc96",
           "#ab63fa",
           "#FFA15A",
           "#19d3f3",
           "#FF6692",
           "#B6E880",
           "#FF97FF",
           "#FECB52"
          ],
          "font": {
           "color": "#2a3f5f"
          },
          "geo": {
           "bgcolor": "white",
           "lakecolor": "white",
           "landcolor": "#E5ECF6",
           "showlakes": true,
           "showland": true,
           "subunitcolor": "white"
          },
          "hoverlabel": {
           "align": "left"
          },
          "hovermode": "closest",
          "mapbox": {
           "style": "light"
          },
          "paper_bgcolor": "white",
          "plot_bgcolor": "#E5ECF6",
          "polar": {
           "angularaxis": {
            "gridcolor": "white",
            "linecolor": "white",
            "ticks": ""
           },
           "bgcolor": "#E5ECF6",
           "radialaxis": {
            "gridcolor": "white",
            "linecolor": "white",
            "ticks": ""
           }
          },
          "scene": {
           "xaxis": {
            "backgroundcolor": "#E5ECF6",
            "gridcolor": "white",
            "gridwidth": 2,
            "linecolor": "white",
            "showbackground": true,
            "ticks": "",
            "zerolinecolor": "white"
           },
           "yaxis": {
            "backgroundcolor": "#E5ECF6",
            "gridcolor": "white",
            "gridwidth": 2,
            "linecolor": "white",
            "showbackground": true,
            "ticks": "",
            "zerolinecolor": "white"
           },
           "zaxis": {
            "backgroundcolor": "#E5ECF6",
            "gridcolor": "white",
            "gridwidth": 2,
            "linecolor": "white",
            "showbackground": true,
            "ticks": "",
            "zerolinecolor": "white"
           }
          },
          "shapedefaults": {
           "line": {
            "color": "#2a3f5f"
           }
          },
          "ternary": {
           "aaxis": {
            "gridcolor": "white",
            "linecolor": "white",
            "ticks": ""
           },
           "baxis": {
            "gridcolor": "white",
            "linecolor": "white",
            "ticks": ""
           },
           "bgcolor": "#E5ECF6",
           "caxis": {
            "gridcolor": "white",
            "linecolor": "white",
            "ticks": ""
           }
          },
          "title": {
           "x": 0.05
          },
          "xaxis": {
           "automargin": true,
           "gridcolor": "white",
           "linecolor": "white",
           "ticks": "",
           "title": {
            "standoff": 15
           },
           "zerolinecolor": "white",
           "zerolinewidth": 2
          },
          "yaxis": {
           "automargin": true,
           "gridcolor": "white",
           "linecolor": "white",
           "ticks": "",
           "title": {
            "standoff": 15
           },
           "zerolinecolor": "white",
           "zerolinewidth": 2
          }
         }
        },
        "xaxis": {
         "anchor": "y",
         "domain": [
          0,
          0.98
         ],
         "title": {
          "text": "extractTime"
         }
        },
        "xaxis2": {
         "anchor": "y2",
         "domain": [
          0,
          0.98
         ],
         "matches": "x",
         "showticklabels": false
        },
        "xaxis3": {
         "anchor": "y3",
         "domain": [
          0,
          0.98
         ],
         "matches": "x",
         "showticklabels": false
        },
        "xaxis4": {
         "anchor": "y4",
         "domain": [
          0,
          0.98
         ],
         "matches": "x",
         "showticklabels": false
        },
        "yaxis": {
         "anchor": "x",
         "domain": [
          0,
          0.2275
         ],
         "title": {
          "text": "ticket_count"
         }
        },
        "yaxis2": {
         "anchor": "x2",
         "domain": [
          0.2575,
          0.485
         ],
         "matches": "y",
         "title": {
          "text": "ticket_count"
         }
        },
        "yaxis3": {
         "anchor": "x3",
         "domain": [
          0.515,
          0.7425
         ],
         "matches": "y",
         "title": {
          "text": "ticket_count"
         }
        },
        "yaxis4": {
         "anchor": "x4",
         "domain": [
          0.7725,
          1
         ],
         "matches": "y",
         "title": {
          "text": "ticket_count"
         }
        }
       }
      }
     },
     "metadata": {},
     "output_type": "display_data"
    }
   ],
   "source": [
    "giants_gms = [104724576.0, 104724577.0, 104725433.0, 104724579.0]\n",
    "rockies_gms = [104724581.0, 104724583.0, 104724585.0]\n",
    "possible_gms = dodgers[dodgers[\"id\"].isin(giants_gms)]\n",
    "fig = px.line(possible_gms, x = \"extractTime\", y = \"price\", facet_row= \"id\", height= 700)\n",
    "fig.update_traces(line_color='#F4793E')\n",
    "fig.show()\n",
    "fig2 = px.bar(possible_gms, x = \"extractTime\", y = \"ticket_count\", facet_row= \"id\", height= 500)\n",
    "fig2.show()"
   ]
  },
  {
   "cell_type": "code",
   "execution_count": 7,
   "metadata": {},
   "outputs": [
    {
     "ename": "NameError",
     "evalue": "name 'rockies_gms' is not defined",
     "output_type": "error",
     "traceback": [
      "\u001b[1;31m---------------------------------------------------------------------------\u001b[0m",
      "\u001b[1;31mNameError\u001b[0m                                 Traceback (most recent call last)",
      "\u001b[1;32m~\\AppData\\Local\\Temp/ipykernel_4428/1178108336.py\u001b[0m in \u001b[0;36m<module>\u001b[1;34m\u001b[0m\n\u001b[1;32m----> 1\u001b[1;33m \u001b[0mpossible_gms\u001b[0m \u001b[1;33m=\u001b[0m \u001b[0mdodgers\u001b[0m\u001b[1;33m[\u001b[0m\u001b[0mdodgers\u001b[0m\u001b[1;33m[\u001b[0m\u001b[1;34m\"id\"\u001b[0m\u001b[1;33m]\u001b[0m\u001b[1;33m.\u001b[0m\u001b[0misin\u001b[0m\u001b[1;33m(\u001b[0m\u001b[0mrockies_gms\u001b[0m\u001b[1;33m)\u001b[0m\u001b[1;33m]\u001b[0m\u001b[1;33m\u001b[0m\u001b[1;33m\u001b[0m\u001b[0m\n\u001b[0m\u001b[0;32m      2\u001b[0m \u001b[0mfig\u001b[0m \u001b[1;33m=\u001b[0m \u001b[0mpx\u001b[0m\u001b[1;33m.\u001b[0m\u001b[0mline\u001b[0m\u001b[1;33m(\u001b[0m\u001b[0mpossible_gms\u001b[0m\u001b[1;33m,\u001b[0m \u001b[0mx\u001b[0m \u001b[1;33m=\u001b[0m \u001b[1;34m\"extractTime\"\u001b[0m\u001b[1;33m,\u001b[0m \u001b[0my\u001b[0m \u001b[1;33m=\u001b[0m \u001b[1;34m\"price\"\u001b[0m\u001b[1;33m,\u001b[0m \u001b[0mfacet_row\u001b[0m\u001b[1;33m=\u001b[0m \u001b[1;34m\"id\"\u001b[0m\u001b[1;33m,\u001b[0m \u001b[0mheight\u001b[0m\u001b[1;33m=\u001b[0m \u001b[1;36m700\u001b[0m\u001b[1;33m,\u001b[0m \u001b[0mhover_name\u001b[0m\u001b[1;33m=\u001b[0m\u001b[1;34m\"time\"\u001b[0m\u001b[1;33m)\u001b[0m\u001b[1;33m\u001b[0m\u001b[1;33m\u001b[0m\u001b[0m\n\u001b[0;32m      3\u001b[0m \u001b[0mfig\u001b[0m\u001b[1;33m.\u001b[0m\u001b[0mupdate_traces\u001b[0m\u001b[1;33m(\u001b[0m\u001b[0mline_color\u001b[0m\u001b[1;33m=\u001b[0m\u001b[1;34m'#33006F'\u001b[0m\u001b[1;33m)\u001b[0m\u001b[1;33m\u001b[0m\u001b[1;33m\u001b[0m\u001b[0m\n\u001b[0;32m      4\u001b[0m \u001b[0mfig\u001b[0m\u001b[1;33m.\u001b[0m\u001b[0mshow\u001b[0m\u001b[1;33m(\u001b[0m\u001b[1;33m)\u001b[0m\u001b[1;33m\u001b[0m\u001b[1;33m\u001b[0m\u001b[0m\n\u001b[0;32m      5\u001b[0m \u001b[0mfig2\u001b[0m \u001b[1;33m=\u001b[0m \u001b[0mpx\u001b[0m\u001b[1;33m.\u001b[0m\u001b[0mbar\u001b[0m\u001b[1;33m(\u001b[0m\u001b[0mpossible_gms\u001b[0m\u001b[1;33m,\u001b[0m \u001b[0mx\u001b[0m \u001b[1;33m=\u001b[0m \u001b[1;34m\"extractTime\"\u001b[0m\u001b[1;33m,\u001b[0m \u001b[0my\u001b[0m \u001b[1;33m=\u001b[0m \u001b[1;34m\"ticket_count\"\u001b[0m\u001b[1;33m,\u001b[0m \u001b[0mfacet_row\u001b[0m\u001b[1;33m=\u001b[0m \u001b[1;34m\"id\"\u001b[0m\u001b[1;33m,\u001b[0m \u001b[0mheight\u001b[0m\u001b[1;33m=\u001b[0m \u001b[1;36m500\u001b[0m\u001b[1;33m)\u001b[0m\u001b[1;33m\u001b[0m\u001b[1;33m\u001b[0m\u001b[0m\n",
      "\u001b[1;31mNameError\u001b[0m: name 'rockies_gms' is not defined"
     ]
    }
   ],
   "source": [
    "possible_gms = dodgers[dodgers[\"id\"].isin(rockies_gms)]\n",
    "fig = px.line(possible_gms, x = \"extractTime\", y = \"price\", facet_row= \"id\", height= 700, hover_name=\"time\")\n",
    "fig.update_traces(line_color='#33006F')\n",
    "fig.show()\n",
    "fig2 = px.bar(possible_gms, x = \"extractTime\", y = \"ticket_count\", facet_row= \"id\", height= 500)\n",
    "fig2.show()"
   ]
  },
  {
   "cell_type": "code",
   "execution_count": 11,
   "metadata": {},
   "outputs": [
    {
     "name": "stdout",
     "output_type": "stream",
     "text": [
      "\u001b[1;31mSignature:\u001b[0m\n",
      "\u001b[0mpx\u001b[0m\u001b[1;33m.\u001b[0m\u001b[0mline\u001b[0m\u001b[1;33m(\u001b[0m\u001b[1;33m\n",
      "\u001b[0m    \u001b[0mdata_frame\u001b[0m\u001b[1;33m=\u001b[0m\u001b[1;32mNone\u001b[0m\u001b[1;33m,\u001b[0m\u001b[1;33m\n",
      "\u001b[0m    \u001b[0mx\u001b[0m\u001b[1;33m=\u001b[0m\u001b[1;32mNone\u001b[0m\u001b[1;33m,\u001b[0m\u001b[1;33m\n",
      "\u001b[0m    \u001b[0my\u001b[0m\u001b[1;33m=\u001b[0m\u001b[1;32mNone\u001b[0m\u001b[1;33m,\u001b[0m\u001b[1;33m\n",
      "\u001b[0m    \u001b[0mline_group\u001b[0m\u001b[1;33m=\u001b[0m\u001b[1;32mNone\u001b[0m\u001b[1;33m,\u001b[0m\u001b[1;33m\n",
      "\u001b[0m    \u001b[0mcolor\u001b[0m\u001b[1;33m=\u001b[0m\u001b[1;32mNone\u001b[0m\u001b[1;33m,\u001b[0m\u001b[1;33m\n",
      "\u001b[0m    \u001b[0mline_dash\u001b[0m\u001b[1;33m=\u001b[0m\u001b[1;32mNone\u001b[0m\u001b[1;33m,\u001b[0m\u001b[1;33m\n",
      "\u001b[0m    \u001b[0mhover_name\u001b[0m\u001b[1;33m=\u001b[0m\u001b[1;32mNone\u001b[0m\u001b[1;33m,\u001b[0m\u001b[1;33m\n",
      "\u001b[0m    \u001b[0mhover_data\u001b[0m\u001b[1;33m=\u001b[0m\u001b[1;32mNone\u001b[0m\u001b[1;33m,\u001b[0m\u001b[1;33m\n",
      "\u001b[0m    \u001b[0mcustom_data\u001b[0m\u001b[1;33m=\u001b[0m\u001b[1;32mNone\u001b[0m\u001b[1;33m,\u001b[0m\u001b[1;33m\n",
      "\u001b[0m    \u001b[0mtext\u001b[0m\u001b[1;33m=\u001b[0m\u001b[1;32mNone\u001b[0m\u001b[1;33m,\u001b[0m\u001b[1;33m\n",
      "\u001b[0m    \u001b[0mfacet_row\u001b[0m\u001b[1;33m=\u001b[0m\u001b[1;32mNone\u001b[0m\u001b[1;33m,\u001b[0m\u001b[1;33m\n",
      "\u001b[0m    \u001b[0mfacet_col\u001b[0m\u001b[1;33m=\u001b[0m\u001b[1;32mNone\u001b[0m\u001b[1;33m,\u001b[0m\u001b[1;33m\n",
      "\u001b[0m    \u001b[0mfacet_col_wrap\u001b[0m\u001b[1;33m=\u001b[0m\u001b[1;36m0\u001b[0m\u001b[1;33m,\u001b[0m\u001b[1;33m\n",
      "\u001b[0m    \u001b[0mfacet_row_spacing\u001b[0m\u001b[1;33m=\u001b[0m\u001b[1;32mNone\u001b[0m\u001b[1;33m,\u001b[0m\u001b[1;33m\n",
      "\u001b[0m    \u001b[0mfacet_col_spacing\u001b[0m\u001b[1;33m=\u001b[0m\u001b[1;32mNone\u001b[0m\u001b[1;33m,\u001b[0m\u001b[1;33m\n",
      "\u001b[0m    \u001b[0merror_x\u001b[0m\u001b[1;33m=\u001b[0m\u001b[1;32mNone\u001b[0m\u001b[1;33m,\u001b[0m\u001b[1;33m\n",
      "\u001b[0m    \u001b[0merror_x_minus\u001b[0m\u001b[1;33m=\u001b[0m\u001b[1;32mNone\u001b[0m\u001b[1;33m,\u001b[0m\u001b[1;33m\n",
      "\u001b[0m    \u001b[0merror_y\u001b[0m\u001b[1;33m=\u001b[0m\u001b[1;32mNone\u001b[0m\u001b[1;33m,\u001b[0m\u001b[1;33m\n",
      "\u001b[0m    \u001b[0merror_y_minus\u001b[0m\u001b[1;33m=\u001b[0m\u001b[1;32mNone\u001b[0m\u001b[1;33m,\u001b[0m\u001b[1;33m\n",
      "\u001b[0m    \u001b[0manimation_frame\u001b[0m\u001b[1;33m=\u001b[0m\u001b[1;32mNone\u001b[0m\u001b[1;33m,\u001b[0m\u001b[1;33m\n",
      "\u001b[0m    \u001b[0manimation_group\u001b[0m\u001b[1;33m=\u001b[0m\u001b[1;32mNone\u001b[0m\u001b[1;33m,\u001b[0m\u001b[1;33m\n",
      "\u001b[0m    \u001b[0mcategory_orders\u001b[0m\u001b[1;33m=\u001b[0m\u001b[1;32mNone\u001b[0m\u001b[1;33m,\u001b[0m\u001b[1;33m\n",
      "\u001b[0m    \u001b[0mlabels\u001b[0m\u001b[1;33m=\u001b[0m\u001b[1;32mNone\u001b[0m\u001b[1;33m,\u001b[0m\u001b[1;33m\n",
      "\u001b[0m    \u001b[0morientation\u001b[0m\u001b[1;33m=\u001b[0m\u001b[1;32mNone\u001b[0m\u001b[1;33m,\u001b[0m\u001b[1;33m\n",
      "\u001b[0m    \u001b[0mcolor_discrete_sequence\u001b[0m\u001b[1;33m=\u001b[0m\u001b[1;32mNone\u001b[0m\u001b[1;33m,\u001b[0m\u001b[1;33m\n",
      "\u001b[0m    \u001b[0mcolor_discrete_map\u001b[0m\u001b[1;33m=\u001b[0m\u001b[1;32mNone\u001b[0m\u001b[1;33m,\u001b[0m\u001b[1;33m\n",
      "\u001b[0m    \u001b[0mline_dash_sequence\u001b[0m\u001b[1;33m=\u001b[0m\u001b[1;32mNone\u001b[0m\u001b[1;33m,\u001b[0m\u001b[1;33m\n",
      "\u001b[0m    \u001b[0mline_dash_map\u001b[0m\u001b[1;33m=\u001b[0m\u001b[1;32mNone\u001b[0m\u001b[1;33m,\u001b[0m\u001b[1;33m\n",
      "\u001b[0m    \u001b[0mlog_x\u001b[0m\u001b[1;33m=\u001b[0m\u001b[1;32mFalse\u001b[0m\u001b[1;33m,\u001b[0m\u001b[1;33m\n",
      "\u001b[0m    \u001b[0mlog_y\u001b[0m\u001b[1;33m=\u001b[0m\u001b[1;32mFalse\u001b[0m\u001b[1;33m,\u001b[0m\u001b[1;33m\n",
      "\u001b[0m    \u001b[0mrange_x\u001b[0m\u001b[1;33m=\u001b[0m\u001b[1;32mNone\u001b[0m\u001b[1;33m,\u001b[0m\u001b[1;33m\n",
      "\u001b[0m    \u001b[0mrange_y\u001b[0m\u001b[1;33m=\u001b[0m\u001b[1;32mNone\u001b[0m\u001b[1;33m,\u001b[0m\u001b[1;33m\n",
      "\u001b[0m    \u001b[0mline_shape\u001b[0m\u001b[1;33m=\u001b[0m\u001b[1;32mNone\u001b[0m\u001b[1;33m,\u001b[0m\u001b[1;33m\n",
      "\u001b[0m    \u001b[0mrender_mode\u001b[0m\u001b[1;33m=\u001b[0m\u001b[1;34m'auto'\u001b[0m\u001b[1;33m,\u001b[0m\u001b[1;33m\n",
      "\u001b[0m    \u001b[0mtitle\u001b[0m\u001b[1;33m=\u001b[0m\u001b[1;32mNone\u001b[0m\u001b[1;33m,\u001b[0m\u001b[1;33m\n",
      "\u001b[0m    \u001b[0mtemplate\u001b[0m\u001b[1;33m=\u001b[0m\u001b[1;32mNone\u001b[0m\u001b[1;33m,\u001b[0m\u001b[1;33m\n",
      "\u001b[0m    \u001b[0mwidth\u001b[0m\u001b[1;33m=\u001b[0m\u001b[1;32mNone\u001b[0m\u001b[1;33m,\u001b[0m\u001b[1;33m\n",
      "\u001b[0m    \u001b[0mheight\u001b[0m\u001b[1;33m=\u001b[0m\u001b[1;32mNone\u001b[0m\u001b[1;33m,\u001b[0m\u001b[1;33m\n",
      "\u001b[0m\u001b[1;33m)\u001b[0m\u001b[1;33m\u001b[0m\u001b[1;33m\u001b[0m\u001b[0m\n",
      "\u001b[1;31mDocstring:\u001b[0m\n",
      "    In a 2D line plot, each row of `data_frame` is represented as vertex of\n",
      "    a polyline mark in 2D space.\n",
      "    \n",
      "Parameters\n",
      "----------\n",
      "data_frame: DataFrame or array-like or dict\n",
      "    This argument needs to be passed for column names (and not keyword\n",
      "    names) to be used. Array-like and dict are tranformed internally to a\n",
      "    pandas DataFrame. Optional: if missing, a DataFrame gets constructed\n",
      "    under the hood using the other arguments.\n",
      "x: str or int or Series or array-like\n",
      "    Either a name of a column in `data_frame`, or a pandas Series or\n",
      "    array_like object. Values from this column or array_like are used to\n",
      "    position marks along the x axis in cartesian coordinates. Either `x` or\n",
      "    `y` can optionally be a list of column references or array_likes,  in\n",
      "    which case the data will be treated as if it were 'wide' rather than\n",
      "    'long'.\n",
      "y: str or int or Series or array-like\n",
      "    Either a name of a column in `data_frame`, or a pandas Series or\n",
      "    array_like object. Values from this column or array_like are used to\n",
      "    position marks along the y axis in cartesian coordinates. Either `x` or\n",
      "    `y` can optionally be a list of column references or array_likes,  in\n",
      "    which case the data will be treated as if it were 'wide' rather than\n",
      "    'long'.\n",
      "line_group: str or int or Series or array-like\n",
      "    Either a name of a column in `data_frame`, or a pandas Series or\n",
      "    array_like object. Values from this column or array_like are used to\n",
      "    group rows of `data_frame` into lines.\n",
      "color: str or int or Series or array-like\n",
      "    Either a name of a column in `data_frame`, or a pandas Series or\n",
      "    array_like object. Values from this column or array_like are used to\n",
      "    assign color to marks.\n",
      "line_dash: str or int or Series or array-like\n",
      "    Either a name of a column in `data_frame`, or a pandas Series or\n",
      "    array_like object. Values from this column or array_like are used to\n",
      "    assign dash-patterns to lines.\n",
      "hover_name: str or int or Series or array-like\n",
      "    Either a name of a column in `data_frame`, or a pandas Series or\n",
      "    array_like object. Values from this column or array_like appear in bold\n",
      "    in the hover tooltip.\n",
      "hover_data: list of str or int, or Series or array-like, or dict\n",
      "    Either a list of names of columns in `data_frame`, or pandas Series, or\n",
      "    array_like objects or a dict with column names as keys, with values\n",
      "    True (for default formatting) False (in order to remove this column\n",
      "    from hover information), or a formatting string, for example ':.3f' or\n",
      "    '|%a' or list-like data to appear in the hover tooltip or tuples with a\n",
      "    bool or formatting string as first element, and list-like data to\n",
      "    appear in hover as second element Values from these columns appear as\n",
      "    extra data in the hover tooltip.\n",
      "custom_data: list of str or int, or Series or array-like\n",
      "    Either names of columns in `data_frame`, or pandas Series, or\n",
      "    array_like objects Values from these columns are extra data, to be used\n",
      "    in widgets or Dash callbacks for example. This data is not user-visible\n",
      "    but is included in events emitted by the figure (lasso selection etc.)\n",
      "text: str or int or Series or array-like\n",
      "    Either a name of a column in `data_frame`, or a pandas Series or\n",
      "    array_like object. Values from this column or array_like appear in the\n",
      "    figure as text labels.\n",
      "facet_row: str or int or Series or array-like\n",
      "    Either a name of a column in `data_frame`, or a pandas Series or\n",
      "    array_like object. Values from this column or array_like are used to\n",
      "    assign marks to facetted subplots in the vertical direction.\n",
      "facet_col: str or int or Series or array-like\n",
      "    Either a name of a column in `data_frame`, or a pandas Series or\n",
      "    array_like object. Values from this column or array_like are used to\n",
      "    assign marks to facetted subplots in the horizontal direction.\n",
      "facet_col_wrap: int\n",
      "    Maximum number of facet columns. Wraps the column variable at this\n",
      "    width, so that the column facets span multiple rows. Ignored if 0, and\n",
      "    forced to 0 if `facet_row` or a `marginal` is set.\n",
      "facet_row_spacing: float between 0 and 1\n",
      "    Spacing between facet rows, in paper units. Default is 0.03 or 0.0.7\n",
      "    when facet_col_wrap is used.\n",
      "facet_col_spacing: float between 0 and 1\n",
      "    Spacing between facet columns, in paper units Default is 0.02.\n",
      "error_x: str or int or Series or array-like\n",
      "    Either a name of a column in `data_frame`, or a pandas Series or\n",
      "    array_like object. Values from this column or array_like are used to\n",
      "    size x-axis error bars. If `error_x_minus` is `None`, error bars will\n",
      "    be symmetrical, otherwise `error_x` is used for the positive direction\n",
      "    only.\n",
      "error_x_minus: str or int or Series or array-like\n",
      "    Either a name of a column in `data_frame`, or a pandas Series or\n",
      "    array_like object. Values from this column or array_like are used to\n",
      "    size x-axis error bars in the negative direction. Ignored if `error_x`\n",
      "    is `None`.\n",
      "error_y: str or int or Series or array-like\n",
      "    Either a name of a column in `data_frame`, or a pandas Series or\n",
      "    array_like object. Values from this column or array_like are used to\n",
      "    size y-axis error bars. If `error_y_minus` is `None`, error bars will\n",
      "    be symmetrical, otherwise `error_y` is used for the positive direction\n",
      "    only.\n",
      "error_y_minus: str or int or Series or array-like\n",
      "    Either a name of a column in `data_frame`, or a pandas Series or\n",
      "    array_like object. Values from this column or array_like are used to\n",
      "    size y-axis error bars in the negative direction. Ignored if `error_y`\n",
      "    is `None`.\n",
      "animation_frame: str or int or Series or array-like\n",
      "    Either a name of a column in `data_frame`, or a pandas Series or\n",
      "    array_like object. Values from this column or array_like are used to\n",
      "    assign marks to animation frames.\n",
      "animation_group: str or int or Series or array-like\n",
      "    Either a name of a column in `data_frame`, or a pandas Series or\n",
      "    array_like object. Values from this column or array_like are used to\n",
      "    provide object-constancy across animation frames: rows with matching\n",
      "    `animation_group`s will be treated as if they describe the same object\n",
      "    in each frame.\n",
      "category_orders: dict with str keys and list of str values (default `{}`)\n",
      "    By default, in Python 3.6+, the order of categorical values in axes,\n",
      "    legends and facets depends on the order in which these values are first\n",
      "    encountered in `data_frame` (and no order is guaranteed by default in\n",
      "    Python below 3.6). This parameter is used to force a specific ordering\n",
      "    of values per column. The keys of this dict should correspond to column\n",
      "    names, and the values should be lists of strings corresponding to the\n",
      "    specific display order desired.\n",
      "labels: dict with str keys and str values (default `{}`)\n",
      "    By default, column names are used in the figure for axis titles, legend\n",
      "    entries and hovers. This parameter allows this to be overridden. The\n",
      "    keys of this dict should correspond to column names, and the values\n",
      "    should correspond to the desired label to be displayed.\n",
      "orientation: str, one of `'h'` for horizontal or `'v'` for vertical. \n",
      "    (default `'v'` if `x` and `y` are provided and both continous or both\n",
      "    categorical,  otherwise `'v'`(`'h'`) if `x`(`y`) is categorical and\n",
      "    `y`(`x`) is continuous,  otherwise `'v'`(`'h'`) if only `x`(`y`) is\n",
      "    provided)\n",
      "color_discrete_sequence: list of str\n",
      "    Strings should define valid CSS-colors. When `color` is set and the\n",
      "    values in the corresponding column are not numeric, values in that\n",
      "    column are assigned colors by cycling through `color_discrete_sequence`\n",
      "    in the order described in `category_orders`, unless the value of\n",
      "    `color` is a key in `color_discrete_map`. Various useful color\n",
      "    sequences are available in the `plotly.express.colors` submodules,\n",
      "    specifically `plotly.express.colors.qualitative`.\n",
      "color_discrete_map: dict with str keys and str values (default `{}`)\n",
      "    String values should define valid CSS-colors Used to override\n",
      "    `color_discrete_sequence` to assign a specific colors to marks\n",
      "    corresponding with specific values. Keys in `color_discrete_map` should\n",
      "    be values in the column denoted by `color`. Alternatively, if the\n",
      "    values of `color` are valid colors, the string `'identity'` may be\n",
      "    passed to cause them to be used directly.\n",
      "line_dash_sequence: list of str\n",
      "    Strings should define valid plotly.js dash-patterns. When `line_dash`\n",
      "    is set, values in that column are assigned dash-patterns by cycling\n",
      "    through `line_dash_sequence` in the order described in\n",
      "    `category_orders`, unless the value of `line_dash` is a key in\n",
      "    `line_dash_map`.\n",
      "line_dash_map: dict with str keys and str values (default `{}`)\n",
      "    Strings values define plotly.js dash-patterns. Used to override\n",
      "    `line_dash_sequences` to assign a specific dash-patterns to lines\n",
      "    corresponding with specific values. Keys in `line_dash_map` should be\n",
      "    values in the column denoted by `line_dash`. Alternatively, if the\n",
      "    values of `line_dash` are valid line-dash names, the string\n",
      "    `'identity'` may be passed to cause them to be used directly.\n",
      "log_x: boolean (default `False`)\n",
      "    If `True`, the x-axis is log-scaled in cartesian coordinates.\n",
      "log_y: boolean (default `False`)\n",
      "    If `True`, the y-axis is log-scaled in cartesian coordinates.\n",
      "range_x: list of two numbers\n",
      "    If provided, overrides auto-scaling on the x-axis in cartesian\n",
      "    coordinates.\n",
      "range_y: list of two numbers\n",
      "    If provided, overrides auto-scaling on the y-axis in cartesian\n",
      "    coordinates.\n",
      "line_shape: str (default `'linear'`)\n",
      "    One of `'linear'` or `'spline'`.\n",
      "render_mode: str\n",
      "    One of `'auto'`, `'svg'` or `'webgl'`, default `'auto'` Controls the\n",
      "    browser API used to draw marks. `'svg`' is appropriate for figures of\n",
      "    less than 1000 data points, and will allow for fully-vectorized output.\n",
      "    `'webgl'` is likely necessary for acceptable performance above 1000\n",
      "    points but rasterizes part of the output.  `'auto'` uses heuristics to\n",
      "    choose the mode.\n",
      "title: str\n",
      "    The figure title.\n",
      "template: str or dict or plotly.graph_objects.layout.Template instance\n",
      "    The figure template name (must be a key in plotly.io.templates) or\n",
      "    definition.\n",
      "width: int (default `None`)\n",
      "    The figure width in pixels.\n",
      "height: int (default `None`)\n",
      "    The figure height in pixels.\n",
      "\n",
      "Returns\n",
      "-------\n",
      "    plotly.graph_objects.Figure\n",
      "\u001b[1;31mFile:\u001b[0m      c:\\users\\brill\\anaconda3\\envs\\pic16b\\lib\\site-packages\\plotly\\express\\_chart_types.py\n",
      "\u001b[1;31mType:\u001b[0m      function\n"
     ]
    }
   ],
   "source": [
    "?px.line"
   ]
  },
  {
   "cell_type": "code",
   "execution_count": null,
   "metadata": {},
   "outputs": [],
   "source": []
  }
 ],
 "metadata": {
  "interpreter": {
   "hash": "477362a61becd1fc3f6af1137cb150a0360a8bc15fcfe15ec96bed26a9a26e2e"
  },
  "kernelspec": {
   "display_name": "Python 3.8.8 64-bit ('PIC16B': conda)",
   "name": "python3"
  },
  "language_info": {
   "codemirror_mode": {
    "name": "ipython",
    "version": 3
   },
   "file_extension": ".py",
   "mimetype": "text/x-python",
   "name": "python",
   "nbconvert_exporter": "python",
   "pygments_lexer": "ipython3",
   "version": "3.9.7"
  },
  "orig_nbformat": 4
 },
 "nbformat": 4,
 "nbformat_minor": 2
}
