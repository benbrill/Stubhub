{
 "cells": [
  {
   "cell_type": "code",
   "execution_count": 1,
   "metadata": {},
   "outputs": [],
   "source": [
    "import pandas as pd \n",
    "import seaborn as sns \n",
    "import sqlite3\n",
    "import numpy as np\n",
    "from plotly import express as px\n",
    "import ipywidgets as widgets\n",
    "\n",
    "with sqlite3.connect(\"../tickets.db\") as conn: \n",
    "    cmd = \\\n",
    "        \"\"\"\n",
    "        SELECT g.*, e.price, e.extractTime, e.ticket_count FROM extraction e\n",
    "        LEFT JOIN games g on e.id = g.id\n",
    "        WHERE g.season = 2022\n",
    "        \"\"\"\n",
    "    df = pd.read_sql_query(cmd, conn)\n",
    "df['time'], df['extractTime'] = pd.to_datetime(df['time']), pd.to_datetime(df['extractTime'])\n",
    "df['days_to_game'] = (df['time'] - df['extractTime'])\n",
    "df['days_to_game'] = df['days_to_game'].apply(lambda X: X.days)\n",
    "df = df.dropna()\n",
    "def diff_from_max(x):\n",
    "    initial = x.to_numpy()[0]\n",
    "    return (initial - x)/x\n",
    "df[\"diff_initial\"] = df.groupby(\"unique_name\")[\"price\"].transform(diff_from_max)\n",
    "df = df[df['extractTime'] > '2022-03-01']\n",
    "dodgers = df[df['homeTeam'] == 'Los Angeles Dodgers']\n",
    "giants = df[df['homeTeam'] == 'San Francisco Giants']\n",
    "angels = df[df['homeTeam'] == 'Los Angeles Angels']"
   ]
  },
  {
   "cell_type": "markdown",
   "metadata": {},
   "source": [
    "# Dodgers"
   ]
  },
  {
   "cell_type": "code",
   "execution_count": 2,
   "metadata": {},
   "outputs": [
    {
     "data": {
      "application/vnd.jupyter.widget-view+json": {
       "model_id": "c7a24994d25c490f8d1f71f4dc7a9f9d",
       "version_major": 2,
       "version_minor": 0
      },
      "text/plain": [
       "interactive(children=(Dropdown(description='team', index=13, options=('Arizona Diamondbacks', 'Atlanta Braves'…"
      ]
     },
     "metadata": {},
     "output_type": "display_data"
    }
   ],
   "source": [
    "from ipywidgets import interact\n",
    "team_games = {team: df[df[\"homeTeam\"] == team][\"unique_name\"].unique() for team in df[\"homeTeam\"].sort_values().unique()}\n",
    "\n",
    "teamW = widgets.Dropdown(options = team_games.keys(), value = \"Los Angeles Dodgers\")\n",
    "gameW = widgets.Dropdown()\n",
    "\n",
    "@interact(team = teamW, game = gameW)\n",
    "def print_city(team, game):\n",
    "    gameW.options = team_games[team]\n",
    "    ids = df.loc[df[\"unique_name\"] == game, \"id\"].unique()[0]\n",
    "    gm1 = df[df[\"id\"] == ids].sort_values(by=\"extractTime\", ascending=True)\n",
    "    fig = sns.lineplot(data = gm1, x = \"extractTime\", y = \"price\") # Here is the trick, i.e. update cityW.options based on country, namely countryW.value.\n",
    "    sns.set(rc={\"figure.figsize\":(15, 6)})\n",
    "    fig.tick_params('x', rotation=45)"
   ]
  },
  {
   "cell_type": "code",
   "execution_count": null,
   "metadata": {},
   "outputs": [],
   "source": []
  }
 ],
 "metadata": {
  "interpreter": {
   "hash": "477362a61becd1fc3f6af1137cb150a0360a8bc15fcfe15ec96bed26a9a26e2e"
  },
  "kernelspec": {
   "display_name": "Python 3.8.8 64-bit ('PIC16B': conda)",
   "name": "python3"
  },
  "language_info": {
   "codemirror_mode": {
    "name": "ipython",
    "version": 3
   },
   "file_extension": ".py",
   "mimetype": "text/x-python",
   "name": "python",
   "nbconvert_exporter": "python",
   "pygments_lexer": "ipython3",
   "version": "3.9.7"
  },
  "orig_nbformat": 4
 },
 "nbformat": 4,
 "nbformat_minor": 2
}
