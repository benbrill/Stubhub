{
 "cells": [
  {
   "cell_type": "code",
   "execution_count": 1,
   "metadata": {},
   "outputs": [
    {
     "data": {
      "text/html": [
       "<div>\n",
       "<style scoped>\n",
       "    .dataframe tbody tr th:only-of-type {\n",
       "        vertical-align: middle;\n",
       "    }\n",
       "\n",
       "    .dataframe tbody tr th {\n",
       "        vertical-align: top;\n",
       "    }\n",
       "\n",
       "    .dataframe thead th {\n",
       "        text-align: right;\n",
       "    }\n",
       "</style>\n",
       "<table border=\"1\" class=\"dataframe\">\n",
       "  <thead>\n",
       "    <tr style=\"text-align: right;\">\n",
       "      <th></th>\n",
       "      <th>id</th>\n",
       "      <th>time</th>\n",
       "      <th>name</th>\n",
       "      <th>homeTeam</th>\n",
       "      <th>awayTeam</th>\n",
       "      <th>unique_name</th>\n",
       "      <th>price</th>\n",
       "      <th>extractTime</th>\n",
       "      <th>ticket_count</th>\n",
       "      <th>days_to_game</th>\n",
       "      <th>diff_initial</th>\n",
       "    </tr>\n",
       "  </thead>\n",
       "  <tbody>\n",
       "    <tr>\n",
       "      <th>0</th>\n",
       "      <td>104722879.0</td>\n",
       "      <td>2021-06-11</td>\n",
       "      <td>Texas Rangers at Los Angeles Dodgers</td>\n",
       "      <td>Los Angeles Dodgers</td>\n",
       "      <td>Texas Rangers</td>\n",
       "      <td>Texas Rangers at Los Angeles Dodgers: 2021-06-11</td>\n",
       "      <td>58.62</td>\n",
       "      <td>2021-06-08 17:51:48.284897</td>\n",
       "      <td>0</td>\n",
       "      <td>2.0</td>\n",
       "      <td>0.000000</td>\n",
       "    </tr>\n",
       "    <tr>\n",
       "      <th>1</th>\n",
       "      <td>104725408.0</td>\n",
       "      <td>2021-06-12</td>\n",
       "      <td>Texas Rangers at Los Angeles Dodgers</td>\n",
       "      <td>Los Angeles Dodgers</td>\n",
       "      <td>Texas Rangers</td>\n",
       "      <td>Texas Rangers at Los Angeles Dodgers: 2021-06-12</td>\n",
       "      <td>29.16</td>\n",
       "      <td>2021-06-08 17:51:48.284897</td>\n",
       "      <td>0</td>\n",
       "      <td>3.0</td>\n",
       "      <td>0.000000</td>\n",
       "    </tr>\n",
       "    <tr>\n",
       "      <th>2</th>\n",
       "      <td>104725409.0</td>\n",
       "      <td>2021-06-13</td>\n",
       "      <td>Texas Rangers at Los Angeles Dodgers</td>\n",
       "      <td>Los Angeles Dodgers</td>\n",
       "      <td>Texas Rangers</td>\n",
       "      <td>Texas Rangers at Los Angeles Dodgers: 2021-06-13</td>\n",
       "      <td>28.04</td>\n",
       "      <td>2021-06-08 17:51:48.284897</td>\n",
       "      <td>0</td>\n",
       "      <td>4.0</td>\n",
       "      <td>0.000000</td>\n",
       "    </tr>\n",
       "    <tr>\n",
       "      <th>3</th>\n",
       "      <td>104724531.0</td>\n",
       "      <td>2021-06-14</td>\n",
       "      <td>Philadelphia Phillies at Los Angeles Dodgers</td>\n",
       "      <td>Los Angeles Dodgers</td>\n",
       "      <td>Philadelphia Phillies</td>\n",
       "      <td>Philadelphia Phillies at Los Angeles Dodgers: ...</td>\n",
       "      <td>35.55</td>\n",
       "      <td>2021-06-08 17:51:48.284897</td>\n",
       "      <td>0</td>\n",
       "      <td>5.0</td>\n",
       "      <td>0.000000</td>\n",
       "    </tr>\n",
       "    <tr>\n",
       "      <th>4</th>\n",
       "      <td>104725410.0</td>\n",
       "      <td>2021-06-15</td>\n",
       "      <td>Philadelphia Phillies at Los Angeles Dodgers</td>\n",
       "      <td>Los Angeles Dodgers</td>\n",
       "      <td>Philadelphia Phillies</td>\n",
       "      <td>Philadelphia Phillies at Los Angeles Dodgers: ...</td>\n",
       "      <td>24.99</td>\n",
       "      <td>2021-06-08 17:51:48.284897</td>\n",
       "      <td>0</td>\n",
       "      <td>6.0</td>\n",
       "      <td>0.000000</td>\n",
       "    </tr>\n",
       "    <tr>\n",
       "      <th>...</th>\n",
       "      <td>...</td>\n",
       "      <td>...</td>\n",
       "      <td>...</td>\n",
       "      <td>...</td>\n",
       "      <td>...</td>\n",
       "      <td>...</td>\n",
       "      <td>...</td>\n",
       "      <td>...</td>\n",
       "      <td>...</td>\n",
       "      <td>...</td>\n",
       "      <td>...</td>\n",
       "    </tr>\n",
       "    <tr>\n",
       "      <th>8134</th>\n",
       "      <td>104738380.0</td>\n",
       "      <td>2021-09-29</td>\n",
       "      <td>Arizona Diamondbacks at San Francisco Giants</td>\n",
       "      <td>San Francisco Giants</td>\n",
       "      <td>Arizona Diamondbacks</td>\n",
       "      <td>Arizona Diamondbacks at San Francisco Giants: ...</td>\n",
       "      <td>20.41</td>\n",
       "      <td>2021-07-08 12:10:11.768296</td>\n",
       "      <td>2668</td>\n",
       "      <td>82.0</td>\n",
       "      <td>-0.158746</td>\n",
       "    </tr>\n",
       "    <tr>\n",
       "      <th>8135</th>\n",
       "      <td>104736599.0</td>\n",
       "      <td>2021-09-30</td>\n",
       "      <td>Arizona Diamondbacks at San Francisco Giants</td>\n",
       "      <td>San Francisco Giants</td>\n",
       "      <td>Arizona Diamondbacks</td>\n",
       "      <td>Arizona Diamondbacks at San Francisco Giants: ...</td>\n",
       "      <td>21.64</td>\n",
       "      <td>2021-07-08 12:10:11.768298</td>\n",
       "      <td>2659</td>\n",
       "      <td>83.0</td>\n",
       "      <td>-0.206562</td>\n",
       "    </tr>\n",
       "    <tr>\n",
       "      <th>8136</th>\n",
       "      <td>104736601.0</td>\n",
       "      <td>2021-10-01</td>\n",
       "      <td>San Diego Padres at San Francisco Giants</td>\n",
       "      <td>San Francisco Giants</td>\n",
       "      <td>San Diego Padres</td>\n",
       "      <td>San Diego Padres at San Francisco Giants: 2021...</td>\n",
       "      <td>32.69</td>\n",
       "      <td>2021-07-08 12:10:11.768300</td>\n",
       "      <td>2880</td>\n",
       "      <td>84.0</td>\n",
       "      <td>0.574182</td>\n",
       "    </tr>\n",
       "    <tr>\n",
       "      <th>8137</th>\n",
       "      <td>104738382.0</td>\n",
       "      <td>2021-10-02</td>\n",
       "      <td>San Diego Padres at San Francisco Giants</td>\n",
       "      <td>San Francisco Giants</td>\n",
       "      <td>San Diego Padres</td>\n",
       "      <td>San Diego Padres at San Francisco Giants: 2021...</td>\n",
       "      <td>44.96</td>\n",
       "      <td>2021-07-08 12:10:11.768301</td>\n",
       "      <td>2990</td>\n",
       "      <td>85.0</td>\n",
       "      <td>0.464190</td>\n",
       "    </tr>\n",
       "    <tr>\n",
       "      <th>8138</th>\n",
       "      <td>104736603.0</td>\n",
       "      <td>2021-10-03</td>\n",
       "      <td>San Diego Padres at San Francisco Giants</td>\n",
       "      <td>San Francisco Giants</td>\n",
       "      <td>San Diego Padres</td>\n",
       "      <td>San Diego Padres at San Francisco Giants: 2021...</td>\n",
       "      <td>52.33</td>\n",
       "      <td>2021-07-08 12:10:11.768303</td>\n",
       "      <td>2791</td>\n",
       "      <td>86.0</td>\n",
       "      <td>0.633289</td>\n",
       "    </tr>\n",
       "  </tbody>\n",
       "</table>\n",
       "<p>8135 rows × 11 columns</p>\n",
       "</div>"
      ],
      "text/plain": [
       "               id       time                                          name  \\\n",
       "0     104722879.0 2021-06-11          Texas Rangers at Los Angeles Dodgers   \n",
       "1     104725408.0 2021-06-12          Texas Rangers at Los Angeles Dodgers   \n",
       "2     104725409.0 2021-06-13          Texas Rangers at Los Angeles Dodgers   \n",
       "3     104724531.0 2021-06-14  Philadelphia Phillies at Los Angeles Dodgers   \n",
       "4     104725410.0 2021-06-15  Philadelphia Phillies at Los Angeles Dodgers   \n",
       "...           ...        ...                                           ...   \n",
       "8134  104738380.0 2021-09-29  Arizona Diamondbacks at San Francisco Giants   \n",
       "8135  104736599.0 2021-09-30  Arizona Diamondbacks at San Francisco Giants   \n",
       "8136  104736601.0 2021-10-01      San Diego Padres at San Francisco Giants   \n",
       "8137  104738382.0 2021-10-02      San Diego Padres at San Francisco Giants   \n",
       "8138  104736603.0 2021-10-03      San Diego Padres at San Francisco Giants   \n",
       "\n",
       "                  homeTeam               awayTeam  \\\n",
       "0      Los Angeles Dodgers          Texas Rangers   \n",
       "1      Los Angeles Dodgers          Texas Rangers   \n",
       "2      Los Angeles Dodgers          Texas Rangers   \n",
       "3      Los Angeles Dodgers  Philadelphia Phillies   \n",
       "4      Los Angeles Dodgers  Philadelphia Phillies   \n",
       "...                    ...                    ...   \n",
       "8134  San Francisco Giants   Arizona Diamondbacks   \n",
       "8135  San Francisco Giants   Arizona Diamondbacks   \n",
       "8136  San Francisco Giants       San Diego Padres   \n",
       "8137  San Francisco Giants       San Diego Padres   \n",
       "8138  San Francisco Giants       San Diego Padres   \n",
       "\n",
       "                                            unique_name  price  \\\n",
       "0      Texas Rangers at Los Angeles Dodgers: 2021-06-11  58.62   \n",
       "1      Texas Rangers at Los Angeles Dodgers: 2021-06-12  29.16   \n",
       "2      Texas Rangers at Los Angeles Dodgers: 2021-06-13  28.04   \n",
       "3     Philadelphia Phillies at Los Angeles Dodgers: ...  35.55   \n",
       "4     Philadelphia Phillies at Los Angeles Dodgers: ...  24.99   \n",
       "...                                                 ...    ...   \n",
       "8134  Arizona Diamondbacks at San Francisco Giants: ...  20.41   \n",
       "8135  Arizona Diamondbacks at San Francisco Giants: ...  21.64   \n",
       "8136  San Diego Padres at San Francisco Giants: 2021...  32.69   \n",
       "8137  San Diego Padres at San Francisco Giants: 2021...  44.96   \n",
       "8138  San Diego Padres at San Francisco Giants: 2021...  52.33   \n",
       "\n",
       "                    extractTime  ticket_count  days_to_game  diff_initial  \n",
       "0    2021-06-08 17:51:48.284897             0           2.0      0.000000  \n",
       "1    2021-06-08 17:51:48.284897             0           3.0      0.000000  \n",
       "2    2021-06-08 17:51:48.284897             0           4.0      0.000000  \n",
       "3    2021-06-08 17:51:48.284897             0           5.0      0.000000  \n",
       "4    2021-06-08 17:51:48.284897             0           6.0      0.000000  \n",
       "...                         ...           ...           ...           ...  \n",
       "8134 2021-07-08 12:10:11.768296          2668          82.0     -0.158746  \n",
       "8135 2021-07-08 12:10:11.768298          2659          83.0     -0.206562  \n",
       "8136 2021-07-08 12:10:11.768300          2880          84.0      0.574182  \n",
       "8137 2021-07-08 12:10:11.768301          2990          85.0      0.464190  \n",
       "8138 2021-07-08 12:10:11.768303          2791          86.0      0.633289  \n",
       "\n",
       "[8135 rows x 11 columns]"
      ]
     },
     "execution_count": 1,
     "metadata": {},
     "output_type": "execute_result"
    }
   ],
   "source": [
    "import pandas as pd \r\n",
    "import seaborn as sns \r\n",
    "import sqlite3\r\n",
    "import numpy as np\r\n",
    "from plotly import express as px\r\n",
    "\r\n",
    "with sqlite3.connect(\"../tickets.db\") as conn: \r\n",
    "    cmd = \\\r\n",
    "        \"\"\"\r\n",
    "        SELECT g.*, e.price, e.extractTime, e.ticket_count FROM extraction e\r\n",
    "        LEFT JOIN games g on e.id = g.id\r\n",
    "        \"\"\"\r\n",
    "    df = pd.read_sql_query(cmd, conn)\r\n",
    "df['time'], df['extractTime'] = pd.to_datetime(df['time']), pd.to_datetime(df['extractTime'])\r\n",
    "df['days_to_game'] = (df['time'] - df['extractTime'])\r\n",
    "df['days_to_game'] = df['days_to_game'].apply(lambda X: X.days)\r\n",
    "df = df.dropna()\r\n",
    "def diff_from_max(x):\r\n",
    "    initial = x.to_numpy()[0]\r\n",
    "    return (initial - x)/x\r\n",
    "df[\"diff_initial\"] = df.groupby(\"unique_name\")[\"price\"].transform(diff_from_max)\r\n",
    "dodgers = df[df['homeTeam'] == 'Los Angeles Dodgers']\r\n",
    "giants = df[df['homeTeam'] == 'San Francisco Giants']\r\n",
    "angels = df[df['homeTeam'] == 'Los Angeles Angels']\r\n",
    "df"
   ]
  },
  {
   "cell_type": "markdown",
   "metadata": {},
   "source": [
    "# Dbacks vs Dodgers 7/11/21"
   ]
  },
  {
   "cell_type": "code",
   "execution_count": 2,
   "metadata": {},
   "outputs": [
    {
     "data": {
      "application/vnd.plotly.v1+json": {
       "config": {
        "plotlyServerURL": "https://plot.ly"
       },
       "data": [
        {
         "hovertemplate": "extractTime=%{x}<br>price=%{y}<extra></extra>",
         "legendgroup": "",
         "line": {
          "color": "#456987",
          "dash": "solid"
         },
         "mode": "lines",
         "name": "",
         "orientation": "v",
         "showlegend": false,
         "type": "scatter",
         "x": [
          "2021-06-08T17:51:48.284897",
          "2021-06-09T12:10:15.524405",
          "2021-06-10T00:25:10.995267",
          "2021-06-10T12:10:33.528977",
          "2021-06-11T04:00:07.429662",
          "2021-06-11T12:09:17.664544",
          "2021-06-12T00:19:18.579301",
          "2021-06-12T12:08:54.466681",
          "2021-06-13T00:24:03.636304",
          "2021-06-13T12:09:13.396484",
          "2021-06-14T00:21:23.755768",
          "2021-06-14T12:09:32.705279",
          "2021-06-15T00:22:38.376637",
          "2021-06-15T12:09:40.069016",
          "2021-06-16T00:22:32.223632",
          "2021-06-16T12:09:48.628414",
          "2021-06-17T00:21:06.359332",
          "2021-06-17T12:09:51.136945",
          "2021-06-18T00:21:24.007635",
          "2021-06-18T12:09:35.296927",
          "2021-06-19T00:22:13.839899",
          "2021-06-19T12:08:53.454055",
          "2021-06-20T00:23:39.052296",
          "2021-06-20T12:08:58.148671",
          "2021-06-21T00:23:14.970763",
          "2021-06-21T12:10:06.248921",
          "2021-06-22T00:21:41.824822",
          "2021-06-22T12:09:34.428349",
          "2021-06-23T00:21:45.777377",
          "2021-06-23T12:08:08.359857",
          "2021-06-24T00:17:16.336585",
          "2021-06-24T12:10:17.858190",
          "2021-06-25T00:24:02.384490",
          "2021-06-25T12:09:37.496059",
          "2021-06-26T00:20:29.849759",
          "2021-06-26T12:09:13.399048",
          "2021-06-27T00:25:21.484693",
          "2021-06-27T12:09:49.625911",
          "2021-06-28T00:23:09.122672",
          "2021-06-28T12:10:17.185155",
          "2021-06-29T00:22:47.638278",
          "2021-06-29T12:10:11.825251",
          "2021-06-30T00:21:52.223623",
          "2021-06-30T12:09:55.905504",
          "2021-07-01T00:24:22.898083",
          "2021-07-01T12:10:54.558426",
          "2021-07-02T00:22:03.192322",
          "2021-07-02T12:10:07.259557",
          "2021-07-03T00:21:28.423810",
          "2021-07-03T12:09:32.799716",
          "2021-07-04T00:22:12.322703",
          "2021-07-04T12:09:27.394659",
          "2021-07-05T00:20:44.535020",
          "2021-07-05T12:10:18.436680",
          "2021-07-06T00:23:33.695509",
          "2021-07-06T12:10:04.035302",
          "2021-07-07T00:22:35.636865",
          "2021-07-07T12:09:54.403027",
          "2021-07-08T00:20:45.443163",
          "2021-07-08T12:10:10.966082"
         ],
         "xaxis": "x",
         "y": [
          29.01,
          29.01,
          29.01,
          29.01,
          29.01,
          29.01,
          29.01,
          29.01,
          29.01,
          29.01,
          29.01,
          29.01,
          29.01,
          29.01,
          29.01,
          29.01,
          29.01,
          29.01,
          29.01,
          29.01,
          29.01,
          29.01,
          29.01,
          29.01,
          29.01,
          29.01,
          29.01,
          29.01,
          29.01,
          29.01,
          29.01,
          29.01,
          29.01,
          29.01,
          29.01,
          29.01,
          29.01,
          27.78,
          27.78,
          27.78,
          25.94,
          25.94,
          27.07,
          26.55,
          27.07,
          27.07,
          27.07,
          27.07,
          23.22,
          23.22,
          23.22,
          22.87,
          22.87,
          22.87,
          21.64,
          21.64,
          20.73,
          20.73,
          18.03,
          18.03
         ],
         "yaxis": "y"
        }
       ],
       "layout": {
        "legend": {
         "tracegroupgap": 0
        },
        "margin": {
         "t": 60
        },
        "template": {
         "data": {
          "bar": [
           {
            "error_x": {
             "color": "#2a3f5f"
            },
            "error_y": {
             "color": "#2a3f5f"
            },
            "marker": {
             "line": {
              "color": "#E5ECF6",
              "width": 0.5
             }
            },
            "type": "bar"
           }
          ],
          "barpolar": [
           {
            "marker": {
             "line": {
              "color": "#E5ECF6",
              "width": 0.5
             }
            },
            "type": "barpolar"
           }
          ],
          "carpet": [
           {
            "aaxis": {
             "endlinecolor": "#2a3f5f",
             "gridcolor": "white",
             "linecolor": "white",
             "minorgridcolor": "white",
             "startlinecolor": "#2a3f5f"
            },
            "baxis": {
             "endlinecolor": "#2a3f5f",
             "gridcolor": "white",
             "linecolor": "white",
             "minorgridcolor": "white",
             "startlinecolor": "#2a3f5f"
            },
            "type": "carpet"
           }
          ],
          "choropleth": [
           {
            "colorbar": {
             "outlinewidth": 0,
             "ticks": ""
            },
            "type": "choropleth"
           }
          ],
          "contour": [
           {
            "colorbar": {
             "outlinewidth": 0,
             "ticks": ""
            },
            "colorscale": [
             [
              0,
              "#0d0887"
             ],
             [
              0.1111111111111111,
              "#46039f"
             ],
             [
              0.2222222222222222,
              "#7201a8"
             ],
             [
              0.3333333333333333,
              "#9c179e"
             ],
             [
              0.4444444444444444,
              "#bd3786"
             ],
             [
              0.5555555555555556,
              "#d8576b"
             ],
             [
              0.6666666666666666,
              "#ed7953"
             ],
             [
              0.7777777777777778,
              "#fb9f3a"
             ],
             [
              0.8888888888888888,
              "#fdca26"
             ],
             [
              1,
              "#f0f921"
             ]
            ],
            "type": "contour"
           }
          ],
          "contourcarpet": [
           {
            "colorbar": {
             "outlinewidth": 0,
             "ticks": ""
            },
            "type": "contourcarpet"
           }
          ],
          "heatmap": [
           {
            "colorbar": {
             "outlinewidth": 0,
             "ticks": ""
            },
            "colorscale": [
             [
              0,
              "#0d0887"
             ],
             [
              0.1111111111111111,
              "#46039f"
             ],
             [
              0.2222222222222222,
              "#7201a8"
             ],
             [
              0.3333333333333333,
              "#9c179e"
             ],
             [
              0.4444444444444444,
              "#bd3786"
             ],
             [
              0.5555555555555556,
              "#d8576b"
             ],
             [
              0.6666666666666666,
              "#ed7953"
             ],
             [
              0.7777777777777778,
              "#fb9f3a"
             ],
             [
              0.8888888888888888,
              "#fdca26"
             ],
             [
              1,
              "#f0f921"
             ]
            ],
            "type": "heatmap"
           }
          ],
          "heatmapgl": [
           {
            "colorbar": {
             "outlinewidth": 0,
             "ticks": ""
            },
            "colorscale": [
             [
              0,
              "#0d0887"
             ],
             [
              0.1111111111111111,
              "#46039f"
             ],
             [
              0.2222222222222222,
              "#7201a8"
             ],
             [
              0.3333333333333333,
              "#9c179e"
             ],
             [
              0.4444444444444444,
              "#bd3786"
             ],
             [
              0.5555555555555556,
              "#d8576b"
             ],
             [
              0.6666666666666666,
              "#ed7953"
             ],
             [
              0.7777777777777778,
              "#fb9f3a"
             ],
             [
              0.8888888888888888,
              "#fdca26"
             ],
             [
              1,
              "#f0f921"
             ]
            ],
            "type": "heatmapgl"
           }
          ],
          "histogram": [
           {
            "marker": {
             "colorbar": {
              "outlinewidth": 0,
              "ticks": ""
             }
            },
            "type": "histogram"
           }
          ],
          "histogram2d": [
           {
            "colorbar": {
             "outlinewidth": 0,
             "ticks": ""
            },
            "colorscale": [
             [
              0,
              "#0d0887"
             ],
             [
              0.1111111111111111,
              "#46039f"
             ],
             [
              0.2222222222222222,
              "#7201a8"
             ],
             [
              0.3333333333333333,
              "#9c179e"
             ],
             [
              0.4444444444444444,
              "#bd3786"
             ],
             [
              0.5555555555555556,
              "#d8576b"
             ],
             [
              0.6666666666666666,
              "#ed7953"
             ],
             [
              0.7777777777777778,
              "#fb9f3a"
             ],
             [
              0.8888888888888888,
              "#fdca26"
             ],
             [
              1,
              "#f0f921"
             ]
            ],
            "type": "histogram2d"
           }
          ],
          "histogram2dcontour": [
           {
            "colorbar": {
             "outlinewidth": 0,
             "ticks": ""
            },
            "colorscale": [
             [
              0,
              "#0d0887"
             ],
             [
              0.1111111111111111,
              "#46039f"
             ],
             [
              0.2222222222222222,
              "#7201a8"
             ],
             [
              0.3333333333333333,
              "#9c179e"
             ],
             [
              0.4444444444444444,
              "#bd3786"
             ],
             [
              0.5555555555555556,
              "#d8576b"
             ],
             [
              0.6666666666666666,
              "#ed7953"
             ],
             [
              0.7777777777777778,
              "#fb9f3a"
             ],
             [
              0.8888888888888888,
              "#fdca26"
             ],
             [
              1,
              "#f0f921"
             ]
            ],
            "type": "histogram2dcontour"
           }
          ],
          "mesh3d": [
           {
            "colorbar": {
             "outlinewidth": 0,
             "ticks": ""
            },
            "type": "mesh3d"
           }
          ],
          "parcoords": [
           {
            "line": {
             "colorbar": {
              "outlinewidth": 0,
              "ticks": ""
             }
            },
            "type": "parcoords"
           }
          ],
          "pie": [
           {
            "automargin": true,
            "type": "pie"
           }
          ],
          "scatter": [
           {
            "marker": {
             "colorbar": {
              "outlinewidth": 0,
              "ticks": ""
             }
            },
            "type": "scatter"
           }
          ],
          "scatter3d": [
           {
            "line": {
             "colorbar": {
              "outlinewidth": 0,
              "ticks": ""
             }
            },
            "marker": {
             "colorbar": {
              "outlinewidth": 0,
              "ticks": ""
             }
            },
            "type": "scatter3d"
           }
          ],
          "scattercarpet": [
           {
            "marker": {
             "colorbar": {
              "outlinewidth": 0,
              "ticks": ""
             }
            },
            "type": "scattercarpet"
           }
          ],
          "scattergeo": [
           {
            "marker": {
             "colorbar": {
              "outlinewidth": 0,
              "ticks": ""
             }
            },
            "type": "scattergeo"
           }
          ],
          "scattergl": [
           {
            "marker": {
             "colorbar": {
              "outlinewidth": 0,
              "ticks": ""
             }
            },
            "type": "scattergl"
           }
          ],
          "scattermapbox": [
           {
            "marker": {
             "colorbar": {
              "outlinewidth": 0,
              "ticks": ""
             }
            },
            "type": "scattermapbox"
           }
          ],
          "scatterpolar": [
           {
            "marker": {
             "colorbar": {
              "outlinewidth": 0,
              "ticks": ""
             }
            },
            "type": "scatterpolar"
           }
          ],
          "scatterpolargl": [
           {
            "marker": {
             "colorbar": {
              "outlinewidth": 0,
              "ticks": ""
             }
            },
            "type": "scatterpolargl"
           }
          ],
          "scatterternary": [
           {
            "marker": {
             "colorbar": {
              "outlinewidth": 0,
              "ticks": ""
             }
            },
            "type": "scatterternary"
           }
          ],
          "surface": [
           {
            "colorbar": {
             "outlinewidth": 0,
             "ticks": ""
            },
            "colorscale": [
             [
              0,
              "#0d0887"
             ],
             [
              0.1111111111111111,
              "#46039f"
             ],
             [
              0.2222222222222222,
              "#7201a8"
             ],
             [
              0.3333333333333333,
              "#9c179e"
             ],
             [
              0.4444444444444444,
              "#bd3786"
             ],
             [
              0.5555555555555556,
              "#d8576b"
             ],
             [
              0.6666666666666666,
              "#ed7953"
             ],
             [
              0.7777777777777778,
              "#fb9f3a"
             ],
             [
              0.8888888888888888,
              "#fdca26"
             ],
             [
              1,
              "#f0f921"
             ]
            ],
            "type": "surface"
           }
          ],
          "table": [
           {
            "cells": {
             "fill": {
              "color": "#EBF0F8"
             },
             "line": {
              "color": "white"
             }
            },
            "header": {
             "fill": {
              "color": "#C8D4E3"
             },
             "line": {
              "color": "white"
             }
            },
            "type": "table"
           }
          ]
         },
         "layout": {
          "annotationdefaults": {
           "arrowcolor": "#2a3f5f",
           "arrowhead": 0,
           "arrowwidth": 1
          },
          "autotypenumbers": "strict",
          "coloraxis": {
           "colorbar": {
            "outlinewidth": 0,
            "ticks": ""
           }
          },
          "colorscale": {
           "diverging": [
            [
             0,
             "#8e0152"
            ],
            [
             0.1,
             "#c51b7d"
            ],
            [
             0.2,
             "#de77ae"
            ],
            [
             0.3,
             "#f1b6da"
            ],
            [
             0.4,
             "#fde0ef"
            ],
            [
             0.5,
             "#f7f7f7"
            ],
            [
             0.6,
             "#e6f5d0"
            ],
            [
             0.7,
             "#b8e186"
            ],
            [
             0.8,
             "#7fbc41"
            ],
            [
             0.9,
             "#4d9221"
            ],
            [
             1,
             "#276419"
            ]
           ],
           "sequential": [
            [
             0,
             "#0d0887"
            ],
            [
             0.1111111111111111,
             "#46039f"
            ],
            [
             0.2222222222222222,
             "#7201a8"
            ],
            [
             0.3333333333333333,
             "#9c179e"
            ],
            [
             0.4444444444444444,
             "#bd3786"
            ],
            [
             0.5555555555555556,
             "#d8576b"
            ],
            [
             0.6666666666666666,
             "#ed7953"
            ],
            [
             0.7777777777777778,
             "#fb9f3a"
            ],
            [
             0.8888888888888888,
             "#fdca26"
            ],
            [
             1,
             "#f0f921"
            ]
           ],
           "sequentialminus": [
            [
             0,
             "#0d0887"
            ],
            [
             0.1111111111111111,
             "#46039f"
            ],
            [
             0.2222222222222222,
             "#7201a8"
            ],
            [
             0.3333333333333333,
             "#9c179e"
            ],
            [
             0.4444444444444444,
             "#bd3786"
            ],
            [
             0.5555555555555556,
             "#d8576b"
            ],
            [
             0.6666666666666666,
             "#ed7953"
            ],
            [
             0.7777777777777778,
             "#fb9f3a"
            ],
            [
             0.8888888888888888,
             "#fdca26"
            ],
            [
             1,
             "#f0f921"
            ]
           ]
          },
          "colorway": [
           "#636efa",
           "#EF553B",
           "#00cc96",
           "#ab63fa",
           "#FFA15A",
           "#19d3f3",
           "#FF6692",
           "#B6E880",
           "#FF97FF",
           "#FECB52"
          ],
          "font": {
           "color": "#2a3f5f"
          },
          "geo": {
           "bgcolor": "white",
           "lakecolor": "white",
           "landcolor": "#E5ECF6",
           "showlakes": true,
           "showland": true,
           "subunitcolor": "white"
          },
          "hoverlabel": {
           "align": "left"
          },
          "hovermode": "closest",
          "mapbox": {
           "style": "light"
          },
          "paper_bgcolor": "white",
          "plot_bgcolor": "#E5ECF6",
          "polar": {
           "angularaxis": {
            "gridcolor": "white",
            "linecolor": "white",
            "ticks": ""
           },
           "bgcolor": "#E5ECF6",
           "radialaxis": {
            "gridcolor": "white",
            "linecolor": "white",
            "ticks": ""
           }
          },
          "scene": {
           "xaxis": {
            "backgroundcolor": "#E5ECF6",
            "gridcolor": "white",
            "gridwidth": 2,
            "linecolor": "white",
            "showbackground": true,
            "ticks": "",
            "zerolinecolor": "white"
           },
           "yaxis": {
            "backgroundcolor": "#E5ECF6",
            "gridcolor": "white",
            "gridwidth": 2,
            "linecolor": "white",
            "showbackground": true,
            "ticks": "",
            "zerolinecolor": "white"
           },
           "zaxis": {
            "backgroundcolor": "#E5ECF6",
            "gridcolor": "white",
            "gridwidth": 2,
            "linecolor": "white",
            "showbackground": true,
            "ticks": "",
            "zerolinecolor": "white"
           }
          },
          "shapedefaults": {
           "line": {
            "color": "#2a3f5f"
           }
          },
          "ternary": {
           "aaxis": {
            "gridcolor": "white",
            "linecolor": "white",
            "ticks": ""
           },
           "baxis": {
            "gridcolor": "white",
            "linecolor": "white",
            "ticks": ""
           },
           "bgcolor": "#E5ECF6",
           "caxis": {
            "gridcolor": "white",
            "linecolor": "white",
            "ticks": ""
           }
          },
          "title": {
           "x": 0.05
          },
          "xaxis": {
           "automargin": true,
           "gridcolor": "white",
           "linecolor": "white",
           "ticks": "",
           "title": {
            "standoff": 15
           },
           "zerolinecolor": "white",
           "zerolinewidth": 2
          },
          "yaxis": {
           "automargin": true,
           "gridcolor": "white",
           "linecolor": "white",
           "ticks": "",
           "title": {
            "standoff": 15
           },
           "zerolinecolor": "white",
           "zerolinewidth": 2
          }
         }
        },
        "xaxis": {
         "anchor": "y",
         "domain": [
          0,
          1
         ],
         "title": {
          "text": "extractTime"
         }
        },
        "yaxis": {
         "anchor": "x",
         "domain": [
          0,
          1
         ],
         "title": {
          "text": "price"
         }
        }
       }
      }
     },
     "metadata": {},
     "output_type": "display_data"
    }
   ],
   "source": [
    "gm1 = dodgers[dodgers[\"id\"] == 104724575.0]\r\n",
    "fig = px.line(gm1, x = \"extractTime\", y = \"price\",)\r\n",
    "fig.update_traces(line_color='#456987')\r\n",
    "# px.bar(gm1, x = \"extractTime\", y = \"ticket_count\")"
   ]
  },
  {
   "cell_type": "code",
   "execution_count": 19,
   "metadata": {},
   "outputs": [
    {
     "data": {
      "application/vnd.plotly.v1+json": {
       "config": {
        "plotlyServerURL": "https://plot.ly"
       },
       "data": [
        {
         "alignmentgroup": "True",
         "hovertemplate": "extractTime=%{x}<br>ticket_count=%{y}<extra></extra>",
         "legendgroup": "",
         "marker": {
          "color": "#636efa"
         },
         "name": "",
         "offsetgroup": "",
         "orientation": "v",
         "showlegend": false,
         "textposition": "auto",
         "type": "bar",
         "x": [
          "2021-06-08T17:51:48.284897",
          "2021-06-09T12:10:15.524405",
          "2021-06-10T00:25:10.995267",
          "2021-06-10T12:10:33.528977",
          "2021-06-11T04:00:07.429662",
          "2021-06-11T12:09:17.664544",
          "2021-06-12T00:19:18.579301",
          "2021-06-12T12:08:54.466681",
          "2021-06-13T00:24:03.636304",
          "2021-06-13T12:09:13.396484",
          "2021-06-14T00:21:23.755768",
          "2021-06-14T12:09:32.705279",
          "2021-06-15T00:22:38.376637",
          "2021-06-15T12:09:40.069016",
          "2021-06-16T00:22:32.223632",
          "2021-06-16T12:09:48.628414",
          "2021-06-17T00:21:06.359332",
          "2021-06-17T12:09:51.136945",
          "2021-06-18T00:21:24.007635",
          "2021-06-18T12:09:35.296927",
          "2021-06-19T00:22:13.839899",
          "2021-06-19T12:08:53.454055",
          "2021-06-20T00:23:39.052296",
          "2021-06-20T12:08:58.148671",
          "2021-06-21T00:23:14.970763",
          "2021-06-21T12:10:06.248921",
          "2021-06-22T00:21:41.824822",
          "2021-06-22T12:09:34.428349",
          "2021-06-23T00:21:45.777377",
          "2021-06-23T12:08:08.359857",
          "2021-06-24T00:17:16.336585",
          "2021-06-24T12:10:17.858190",
          "2021-06-25T00:24:02.384490",
          "2021-06-25T12:09:37.496059",
          "2021-06-26T00:20:29.849759",
          "2021-06-26T12:09:13.399048",
          "2021-06-27T00:25:21.484693",
          "2021-06-27T12:09:49.625911",
          "2021-06-28T00:23:09.122672",
          "2021-06-28T12:10:17.185155",
          "2021-06-29T00:22:47.638278",
          "2021-06-29T12:10:11.825251",
          "2021-06-30T00:21:52.223623",
          "2021-06-30T12:09:55.905504",
          "2021-07-01T00:24:22.898083",
          "2021-07-01T12:10:54.558426",
          "2021-07-02T00:22:03.192322",
          "2021-07-02T12:10:07.259557",
          "2021-07-03T00:21:28.423810",
          "2021-07-03T12:09:32.799716",
          "2021-07-04T00:22:12.322703",
          "2021-07-04T12:09:27.394659",
          "2021-07-05T00:20:44.535020",
          "2021-07-05T12:10:18.436680",
          "2021-07-06T00:23:33.695509",
          "2021-07-06T12:10:04.035302",
          "2021-07-07T00:22:35.636865",
          "2021-07-07T12:09:54.403027",
          "2021-07-08T00:20:45.443163"
         ],
         "xaxis": "x",
         "y": [
          0,
          0,
          0,
          0,
          3067,
          3063,
          3062,
          3067,
          3072,
          3074,
          3055,
          3073,
          3086,
          3082,
          3036,
          3005,
          2989,
          3004,
          2993,
          2967,
          3002,
          2999,
          2995,
          2961,
          2922,
          2881,
          2894,
          2906,
          2942,
          2928,
          3797,
          3783,
          3782,
          3754,
          3766,
          3753,
          3741,
          3732,
          3724,
          3692,
          4390,
          4241,
          4296,
          4200,
          4153,
          4082,
          4074,
          4057,
          4329,
          4237,
          4210,
          4166,
          4080,
          3998,
          3993,
          3904,
          4421,
          4260,
          4622
         ],
         "yaxis": "y"
        }
       ],
       "layout": {
        "barmode": "relative",
        "legend": {
         "tracegroupgap": 0
        },
        "margin": {
         "t": 60
        },
        "template": {
         "data": {
          "bar": [
           {
            "error_x": {
             "color": "#2a3f5f"
            },
            "error_y": {
             "color": "#2a3f5f"
            },
            "marker": {
             "line": {
              "color": "#E5ECF6",
              "width": 0.5
             }
            },
            "type": "bar"
           }
          ],
          "barpolar": [
           {
            "marker": {
             "line": {
              "color": "#E5ECF6",
              "width": 0.5
             }
            },
            "type": "barpolar"
           }
          ],
          "carpet": [
           {
            "aaxis": {
             "endlinecolor": "#2a3f5f",
             "gridcolor": "white",
             "linecolor": "white",
             "minorgridcolor": "white",
             "startlinecolor": "#2a3f5f"
            },
            "baxis": {
             "endlinecolor": "#2a3f5f",
             "gridcolor": "white",
             "linecolor": "white",
             "minorgridcolor": "white",
             "startlinecolor": "#2a3f5f"
            },
            "type": "carpet"
           }
          ],
          "choropleth": [
           {
            "colorbar": {
             "outlinewidth": 0,
             "ticks": ""
            },
            "type": "choropleth"
           }
          ],
          "contour": [
           {
            "colorbar": {
             "outlinewidth": 0,
             "ticks": ""
            },
            "colorscale": [
             [
              0,
              "#0d0887"
             ],
             [
              0.1111111111111111,
              "#46039f"
             ],
             [
              0.2222222222222222,
              "#7201a8"
             ],
             [
              0.3333333333333333,
              "#9c179e"
             ],
             [
              0.4444444444444444,
              "#bd3786"
             ],
             [
              0.5555555555555556,
              "#d8576b"
             ],
             [
              0.6666666666666666,
              "#ed7953"
             ],
             [
              0.7777777777777778,
              "#fb9f3a"
             ],
             [
              0.8888888888888888,
              "#fdca26"
             ],
             [
              1,
              "#f0f921"
             ]
            ],
            "type": "contour"
           }
          ],
          "contourcarpet": [
           {
            "colorbar": {
             "outlinewidth": 0,
             "ticks": ""
            },
            "type": "contourcarpet"
           }
          ],
          "heatmap": [
           {
            "colorbar": {
             "outlinewidth": 0,
             "ticks": ""
            },
            "colorscale": [
             [
              0,
              "#0d0887"
             ],
             [
              0.1111111111111111,
              "#46039f"
             ],
             [
              0.2222222222222222,
              "#7201a8"
             ],
             [
              0.3333333333333333,
              "#9c179e"
             ],
             [
              0.4444444444444444,
              "#bd3786"
             ],
             [
              0.5555555555555556,
              "#d8576b"
             ],
             [
              0.6666666666666666,
              "#ed7953"
             ],
             [
              0.7777777777777778,
              "#fb9f3a"
             ],
             [
              0.8888888888888888,
              "#fdca26"
             ],
             [
              1,
              "#f0f921"
             ]
            ],
            "type": "heatmap"
           }
          ],
          "heatmapgl": [
           {
            "colorbar": {
             "outlinewidth": 0,
             "ticks": ""
            },
            "colorscale": [
             [
              0,
              "#0d0887"
             ],
             [
              0.1111111111111111,
              "#46039f"
             ],
             [
              0.2222222222222222,
              "#7201a8"
             ],
             [
              0.3333333333333333,
              "#9c179e"
             ],
             [
              0.4444444444444444,
              "#bd3786"
             ],
             [
              0.5555555555555556,
              "#d8576b"
             ],
             [
              0.6666666666666666,
              "#ed7953"
             ],
             [
              0.7777777777777778,
              "#fb9f3a"
             ],
             [
              0.8888888888888888,
              "#fdca26"
             ],
             [
              1,
              "#f0f921"
             ]
            ],
            "type": "heatmapgl"
           }
          ],
          "histogram": [
           {
            "marker": {
             "colorbar": {
              "outlinewidth": 0,
              "ticks": ""
             }
            },
            "type": "histogram"
           }
          ],
          "histogram2d": [
           {
            "colorbar": {
             "outlinewidth": 0,
             "ticks": ""
            },
            "colorscale": [
             [
              0,
              "#0d0887"
             ],
             [
              0.1111111111111111,
              "#46039f"
             ],
             [
              0.2222222222222222,
              "#7201a8"
             ],
             [
              0.3333333333333333,
              "#9c179e"
             ],
             [
              0.4444444444444444,
              "#bd3786"
             ],
             [
              0.5555555555555556,
              "#d8576b"
             ],
             [
              0.6666666666666666,
              "#ed7953"
             ],
             [
              0.7777777777777778,
              "#fb9f3a"
             ],
             [
              0.8888888888888888,
              "#fdca26"
             ],
             [
              1,
              "#f0f921"
             ]
            ],
            "type": "histogram2d"
           }
          ],
          "histogram2dcontour": [
           {
            "colorbar": {
             "outlinewidth": 0,
             "ticks": ""
            },
            "colorscale": [
             [
              0,
              "#0d0887"
             ],
             [
              0.1111111111111111,
              "#46039f"
             ],
             [
              0.2222222222222222,
              "#7201a8"
             ],
             [
              0.3333333333333333,
              "#9c179e"
             ],
             [
              0.4444444444444444,
              "#bd3786"
             ],
             [
              0.5555555555555556,
              "#d8576b"
             ],
             [
              0.6666666666666666,
              "#ed7953"
             ],
             [
              0.7777777777777778,
              "#fb9f3a"
             ],
             [
              0.8888888888888888,
              "#fdca26"
             ],
             [
              1,
              "#f0f921"
             ]
            ],
            "type": "histogram2dcontour"
           }
          ],
          "mesh3d": [
           {
            "colorbar": {
             "outlinewidth": 0,
             "ticks": ""
            },
            "type": "mesh3d"
           }
          ],
          "parcoords": [
           {
            "line": {
             "colorbar": {
              "outlinewidth": 0,
              "ticks": ""
             }
            },
            "type": "parcoords"
           }
          ],
          "pie": [
           {
            "automargin": true,
            "type": "pie"
           }
          ],
          "scatter": [
           {
            "marker": {
             "colorbar": {
              "outlinewidth": 0,
              "ticks": ""
             }
            },
            "type": "scatter"
           }
          ],
          "scatter3d": [
           {
            "line": {
             "colorbar": {
              "outlinewidth": 0,
              "ticks": ""
             }
            },
            "marker": {
             "colorbar": {
              "outlinewidth": 0,
              "ticks": ""
             }
            },
            "type": "scatter3d"
           }
          ],
          "scattercarpet": [
           {
            "marker": {
             "colorbar": {
              "outlinewidth": 0,
              "ticks": ""
             }
            },
            "type": "scattercarpet"
           }
          ],
          "scattergeo": [
           {
            "marker": {
             "colorbar": {
              "outlinewidth": 0,
              "ticks": ""
             }
            },
            "type": "scattergeo"
           }
          ],
          "scattergl": [
           {
            "marker": {
             "colorbar": {
              "outlinewidth": 0,
              "ticks": ""
             }
            },
            "type": "scattergl"
           }
          ],
          "scattermapbox": [
           {
            "marker": {
             "colorbar": {
              "outlinewidth": 0,
              "ticks": ""
             }
            },
            "type": "scattermapbox"
           }
          ],
          "scatterpolar": [
           {
            "marker": {
             "colorbar": {
              "outlinewidth": 0,
              "ticks": ""
             }
            },
            "type": "scatterpolar"
           }
          ],
          "scatterpolargl": [
           {
            "marker": {
             "colorbar": {
              "outlinewidth": 0,
              "ticks": ""
             }
            },
            "type": "scatterpolargl"
           }
          ],
          "scatterternary": [
           {
            "marker": {
             "colorbar": {
              "outlinewidth": 0,
              "ticks": ""
             }
            },
            "type": "scatterternary"
           }
          ],
          "surface": [
           {
            "colorbar": {
             "outlinewidth": 0,
             "ticks": ""
            },
            "colorscale": [
             [
              0,
              "#0d0887"
             ],
             [
              0.1111111111111111,
              "#46039f"
             ],
             [
              0.2222222222222222,
              "#7201a8"
             ],
             [
              0.3333333333333333,
              "#9c179e"
             ],
             [
              0.4444444444444444,
              "#bd3786"
             ],
             [
              0.5555555555555556,
              "#d8576b"
             ],
             [
              0.6666666666666666,
              "#ed7953"
             ],
             [
              0.7777777777777778,
              "#fb9f3a"
             ],
             [
              0.8888888888888888,
              "#fdca26"
             ],
             [
              1,
              "#f0f921"
             ]
            ],
            "type": "surface"
           }
          ],
          "table": [
           {
            "cells": {
             "fill": {
              "color": "#EBF0F8"
             },
             "line": {
              "color": "white"
             }
            },
            "header": {
             "fill": {
              "color": "#C8D4E3"
             },
             "line": {
              "color": "white"
             }
            },
            "type": "table"
           }
          ]
         },
         "layout": {
          "annotationdefaults": {
           "arrowcolor": "#2a3f5f",
           "arrowhead": 0,
           "arrowwidth": 1
          },
          "autotypenumbers": "strict",
          "coloraxis": {
           "colorbar": {
            "outlinewidth": 0,
            "ticks": ""
           }
          },
          "colorscale": {
           "diverging": [
            [
             0,
             "#8e0152"
            ],
            [
             0.1,
             "#c51b7d"
            ],
            [
             0.2,
             "#de77ae"
            ],
            [
             0.3,
             "#f1b6da"
            ],
            [
             0.4,
             "#fde0ef"
            ],
            [
             0.5,
             "#f7f7f7"
            ],
            [
             0.6,
             "#e6f5d0"
            ],
            [
             0.7,
             "#b8e186"
            ],
            [
             0.8,
             "#7fbc41"
            ],
            [
             0.9,
             "#4d9221"
            ],
            [
             1,
             "#276419"
            ]
           ],
           "sequential": [
            [
             0,
             "#0d0887"
            ],
            [
             0.1111111111111111,
             "#46039f"
            ],
            [
             0.2222222222222222,
             "#7201a8"
            ],
            [
             0.3333333333333333,
             "#9c179e"
            ],
            [
             0.4444444444444444,
             "#bd3786"
            ],
            [
             0.5555555555555556,
             "#d8576b"
            ],
            [
             0.6666666666666666,
             "#ed7953"
            ],
            [
             0.7777777777777778,
             "#fb9f3a"
            ],
            [
             0.8888888888888888,
             "#fdca26"
            ],
            [
             1,
             "#f0f921"
            ]
           ],
           "sequentialminus": [
            [
             0,
             "#0d0887"
            ],
            [
             0.1111111111111111,
             "#46039f"
            ],
            [
             0.2222222222222222,
             "#7201a8"
            ],
            [
             0.3333333333333333,
             "#9c179e"
            ],
            [
             0.4444444444444444,
             "#bd3786"
            ],
            [
             0.5555555555555556,
             "#d8576b"
            ],
            [
             0.6666666666666666,
             "#ed7953"
            ],
            [
             0.7777777777777778,
             "#fb9f3a"
            ],
            [
             0.8888888888888888,
             "#fdca26"
            ],
            [
             1,
             "#f0f921"
            ]
           ]
          },
          "colorway": [
           "#636efa",
           "#EF553B",
           "#00cc96",
           "#ab63fa",
           "#FFA15A",
           "#19d3f3",
           "#FF6692",
           "#B6E880",
           "#FF97FF",
           "#FECB52"
          ],
          "font": {
           "color": "#2a3f5f"
          },
          "geo": {
           "bgcolor": "white",
           "lakecolor": "white",
           "landcolor": "#E5ECF6",
           "showlakes": true,
           "showland": true,
           "subunitcolor": "white"
          },
          "hoverlabel": {
           "align": "left"
          },
          "hovermode": "closest",
          "mapbox": {
           "style": "light"
          },
          "paper_bgcolor": "white",
          "plot_bgcolor": "#E5ECF6",
          "polar": {
           "angularaxis": {
            "gridcolor": "white",
            "linecolor": "white",
            "ticks": ""
           },
           "bgcolor": "#E5ECF6",
           "radialaxis": {
            "gridcolor": "white",
            "linecolor": "white",
            "ticks": ""
           }
          },
          "scene": {
           "xaxis": {
            "backgroundcolor": "#E5ECF6",
            "gridcolor": "white",
            "gridwidth": 2,
            "linecolor": "white",
            "showbackground": true,
            "ticks": "",
            "zerolinecolor": "white"
           },
           "yaxis": {
            "backgroundcolor": "#E5ECF6",
            "gridcolor": "white",
            "gridwidth": 2,
            "linecolor": "white",
            "showbackground": true,
            "ticks": "",
            "zerolinecolor": "white"
           },
           "zaxis": {
            "backgroundcolor": "#E5ECF6",
            "gridcolor": "white",
            "gridwidth": 2,
            "linecolor": "white",
            "showbackground": true,
            "ticks": "",
            "zerolinecolor": "white"
           }
          },
          "shapedefaults": {
           "line": {
            "color": "#2a3f5f"
           }
          },
          "ternary": {
           "aaxis": {
            "gridcolor": "white",
            "linecolor": "white",
            "ticks": ""
           },
           "baxis": {
            "gridcolor": "white",
            "linecolor": "white",
            "ticks": ""
           },
           "bgcolor": "#E5ECF6",
           "caxis": {
            "gridcolor": "white",
            "linecolor": "white",
            "ticks": ""
           }
          },
          "title": {
           "x": 0.05
          },
          "xaxis": {
           "automargin": true,
           "gridcolor": "white",
           "linecolor": "white",
           "ticks": "",
           "title": {
            "standoff": 15
           },
           "zerolinecolor": "white",
           "zerolinewidth": 2
          },
          "yaxis": {
           "automargin": true,
           "gridcolor": "white",
           "linecolor": "white",
           "ticks": "",
           "title": {
            "standoff": 15
           },
           "zerolinecolor": "white",
           "zerolinewidth": 2
          }
         }
        },
        "xaxis": {
         "anchor": "y",
         "domain": [
          0,
          1
         ],
         "title": {
          "text": "extractTime"
         }
        },
        "yaxis": {
         "anchor": "x",
         "domain": [
          0,
          1
         ],
         "title": {
          "text": "ticket_count"
         }
        }
       }
      }
     },
     "metadata": {},
     "output_type": "display_data"
    }
   ],
   "source": [
    "px.bar(gm1, x = \"extractTime\", y = \"ticket_count\")"
   ]
  },
  {
   "cell_type": "markdown",
   "metadata": {},
   "source": [
    "# Angels 7/16/21"
   ]
  },
  {
   "cell_type": "code",
   "execution_count": 3,
   "metadata": {},
   "outputs": [
    {
     "data": {
      "application/vnd.plotly.v1+json": {
       "config": {
        "plotlyServerURL": "https://plot.ly"
       },
       "data": [
        {
         "hovertemplate": "extractTime=%{x}<br>price=%{y}<extra></extra>",
         "legendgroup": "",
         "line": {
          "color": "#636efa",
          "dash": "solid"
         },
         "mode": "lines",
         "name": "",
         "orientation": "v",
         "showlegend": false,
         "type": "scatter",
         "x": [
          "2021-06-08T17:51:49.018941",
          "2021-06-09T12:10:15.835417",
          "2021-06-10T00:25:11.339264",
          "2021-06-10T12:10:33.991895",
          "2021-06-11T04:00:07.872238",
          "2021-06-11T12:09:18.111076",
          "2021-06-12T00:19:19.100503",
          "2021-06-12T12:08:54.831787",
          "2021-06-13T00:24:04.248945",
          "2021-06-13T12:09:14.069717",
          "2021-06-14T00:21:24.203263",
          "2021-06-14T12:09:33.231056",
          "2021-06-15T00:22:38.720107",
          "2021-06-15T12:09:40.481422",
          "2021-06-16T00:22:32.911615",
          "2021-06-16T12:09:48.990533",
          "2021-06-17T00:21:07.068681",
          "2021-06-17T12:09:51.600977",
          "2021-06-18T00:21:24.294094",
          "2021-06-18T12:09:35.669719",
          "2021-06-19T00:22:14.386704",
          "2021-06-19T12:08:53.773386",
          "2021-06-20T00:23:39.553880",
          "2021-06-20T12:08:58.685633",
          "2021-06-21T00:23:15.439438",
          "2021-06-21T12:10:06.707159",
          "2021-06-22T00:21:42.258678",
          "2021-06-22T12:09:34.815943",
          "2021-06-23T00:21:46.150844",
          "2021-06-23T12:08:09.096536",
          "2021-06-24T00:17:16.691968",
          "2021-06-24T12:10:18.327910",
          "2021-06-25T00:24:02.720078",
          "2021-06-25T12:09:38.056365",
          "2021-06-26T00:20:30.256622",
          "2021-06-26T12:09:13.763606",
          "2021-06-27T00:25:22.117640",
          "2021-06-27T12:09:50.224499",
          "2021-06-28T00:23:09.409107",
          "2021-06-28T12:10:17.566620",
          "2021-06-29T00:22:48.020446",
          "2021-06-29T12:10:12.214925",
          "2021-06-30T00:21:52.592558",
          "2021-06-30T12:09:56.346440",
          "2021-07-01T00:24:23.407878",
          "2021-07-01T12:10:55.332385",
          "2021-07-02T00:22:03.546278",
          "2021-07-02T12:10:07.620555",
          "2021-07-03T00:21:28.807938",
          "2021-07-03T12:09:33.186203",
          "2021-07-04T00:22:12.791560",
          "2021-07-04T12:09:27.707175",
          "2021-07-05T00:20:44.932359",
          "2021-07-05T12:10:18.775313",
          "2021-07-06T00:23:34.404950",
          "2021-07-06T12:10:04.515526",
          "2021-07-07T00:22:36.000423",
          "2021-07-07T12:09:54.725840",
          "2021-07-08T00:20:45.781142",
          "2021-07-08T12:10:11.382284"
         ],
         "xaxis": "x",
         "y": [
          25.81,
          25.81,
          22.66,
          22.66,
          28.74,
          28.74,
          28.74,
          28.74,
          28.74,
          28.74,
          28.74,
          28.74,
          28.74,
          28.74,
          26.3,
          26.3,
          26.3,
          26.3,
          26.3,
          26.3,
          26.3,
          26.3,
          26.3,
          26.24,
          26.24,
          26.24,
          22.87,
          22.87,
          22.86,
          22.86,
          21.64,
          21.64,
          21.64,
          21.64,
          20.41,
          20.41,
          20.41,
          20.41,
          20.41,
          20.41,
          20.41,
          20.41,
          21.63,
          20.41,
          19.19,
          19.19,
          19.19,
          19.19,
          18.56,
          18.56,
          19.17,
          19.17,
          19.19,
          19.19,
          28.74,
          28.74,
          26.55,
          25.32,
          24.1,
          20.41
         ],
         "yaxis": "y"
        }
       ],
       "layout": {
        "legend": {
         "tracegroupgap": 0
        },
        "margin": {
         "t": 60
        },
        "template": {
         "data": {
          "bar": [
           {
            "error_x": {
             "color": "#2a3f5f"
            },
            "error_y": {
             "color": "#2a3f5f"
            },
            "marker": {
             "line": {
              "color": "#E5ECF6",
              "width": 0.5
             }
            },
            "type": "bar"
           }
          ],
          "barpolar": [
           {
            "marker": {
             "line": {
              "color": "#E5ECF6",
              "width": 0.5
             }
            },
            "type": "barpolar"
           }
          ],
          "carpet": [
           {
            "aaxis": {
             "endlinecolor": "#2a3f5f",
             "gridcolor": "white",
             "linecolor": "white",
             "minorgridcolor": "white",
             "startlinecolor": "#2a3f5f"
            },
            "baxis": {
             "endlinecolor": "#2a3f5f",
             "gridcolor": "white",
             "linecolor": "white",
             "minorgridcolor": "white",
             "startlinecolor": "#2a3f5f"
            },
            "type": "carpet"
           }
          ],
          "choropleth": [
           {
            "colorbar": {
             "outlinewidth": 0,
             "ticks": ""
            },
            "type": "choropleth"
           }
          ],
          "contour": [
           {
            "colorbar": {
             "outlinewidth": 0,
             "ticks": ""
            },
            "colorscale": [
             [
              0,
              "#0d0887"
             ],
             [
              0.1111111111111111,
              "#46039f"
             ],
             [
              0.2222222222222222,
              "#7201a8"
             ],
             [
              0.3333333333333333,
              "#9c179e"
             ],
             [
              0.4444444444444444,
              "#bd3786"
             ],
             [
              0.5555555555555556,
              "#d8576b"
             ],
             [
              0.6666666666666666,
              "#ed7953"
             ],
             [
              0.7777777777777778,
              "#fb9f3a"
             ],
             [
              0.8888888888888888,
              "#fdca26"
             ],
             [
              1,
              "#f0f921"
             ]
            ],
            "type": "contour"
           }
          ],
          "contourcarpet": [
           {
            "colorbar": {
             "outlinewidth": 0,
             "ticks": ""
            },
            "type": "contourcarpet"
           }
          ],
          "heatmap": [
           {
            "colorbar": {
             "outlinewidth": 0,
             "ticks": ""
            },
            "colorscale": [
             [
              0,
              "#0d0887"
             ],
             [
              0.1111111111111111,
              "#46039f"
             ],
             [
              0.2222222222222222,
              "#7201a8"
             ],
             [
              0.3333333333333333,
              "#9c179e"
             ],
             [
              0.4444444444444444,
              "#bd3786"
             ],
             [
              0.5555555555555556,
              "#d8576b"
             ],
             [
              0.6666666666666666,
              "#ed7953"
             ],
             [
              0.7777777777777778,
              "#fb9f3a"
             ],
             [
              0.8888888888888888,
              "#fdca26"
             ],
             [
              1,
              "#f0f921"
             ]
            ],
            "type": "heatmap"
           }
          ],
          "heatmapgl": [
           {
            "colorbar": {
             "outlinewidth": 0,
             "ticks": ""
            },
            "colorscale": [
             [
              0,
              "#0d0887"
             ],
             [
              0.1111111111111111,
              "#46039f"
             ],
             [
              0.2222222222222222,
              "#7201a8"
             ],
             [
              0.3333333333333333,
              "#9c179e"
             ],
             [
              0.4444444444444444,
              "#bd3786"
             ],
             [
              0.5555555555555556,
              "#d8576b"
             ],
             [
              0.6666666666666666,
              "#ed7953"
             ],
             [
              0.7777777777777778,
              "#fb9f3a"
             ],
             [
              0.8888888888888888,
              "#fdca26"
             ],
             [
              1,
              "#f0f921"
             ]
            ],
            "type": "heatmapgl"
           }
          ],
          "histogram": [
           {
            "marker": {
             "colorbar": {
              "outlinewidth": 0,
              "ticks": ""
             }
            },
            "type": "histogram"
           }
          ],
          "histogram2d": [
           {
            "colorbar": {
             "outlinewidth": 0,
             "ticks": ""
            },
            "colorscale": [
             [
              0,
              "#0d0887"
             ],
             [
              0.1111111111111111,
              "#46039f"
             ],
             [
              0.2222222222222222,
              "#7201a8"
             ],
             [
              0.3333333333333333,
              "#9c179e"
             ],
             [
              0.4444444444444444,
              "#bd3786"
             ],
             [
              0.5555555555555556,
              "#d8576b"
             ],
             [
              0.6666666666666666,
              "#ed7953"
             ],
             [
              0.7777777777777778,
              "#fb9f3a"
             ],
             [
              0.8888888888888888,
              "#fdca26"
             ],
             [
              1,
              "#f0f921"
             ]
            ],
            "type": "histogram2d"
           }
          ],
          "histogram2dcontour": [
           {
            "colorbar": {
             "outlinewidth": 0,
             "ticks": ""
            },
            "colorscale": [
             [
              0,
              "#0d0887"
             ],
             [
              0.1111111111111111,
              "#46039f"
             ],
             [
              0.2222222222222222,
              "#7201a8"
             ],
             [
              0.3333333333333333,
              "#9c179e"
             ],
             [
              0.4444444444444444,
              "#bd3786"
             ],
             [
              0.5555555555555556,
              "#d8576b"
             ],
             [
              0.6666666666666666,
              "#ed7953"
             ],
             [
              0.7777777777777778,
              "#fb9f3a"
             ],
             [
              0.8888888888888888,
              "#fdca26"
             ],
             [
              1,
              "#f0f921"
             ]
            ],
            "type": "histogram2dcontour"
           }
          ],
          "mesh3d": [
           {
            "colorbar": {
             "outlinewidth": 0,
             "ticks": ""
            },
            "type": "mesh3d"
           }
          ],
          "parcoords": [
           {
            "line": {
             "colorbar": {
              "outlinewidth": 0,
              "ticks": ""
             }
            },
            "type": "parcoords"
           }
          ],
          "pie": [
           {
            "automargin": true,
            "type": "pie"
           }
          ],
          "scatter": [
           {
            "marker": {
             "colorbar": {
              "outlinewidth": 0,
              "ticks": ""
             }
            },
            "type": "scatter"
           }
          ],
          "scatter3d": [
           {
            "line": {
             "colorbar": {
              "outlinewidth": 0,
              "ticks": ""
             }
            },
            "marker": {
             "colorbar": {
              "outlinewidth": 0,
              "ticks": ""
             }
            },
            "type": "scatter3d"
           }
          ],
          "scattercarpet": [
           {
            "marker": {
             "colorbar": {
              "outlinewidth": 0,
              "ticks": ""
             }
            },
            "type": "scattercarpet"
           }
          ],
          "scattergeo": [
           {
            "marker": {
             "colorbar": {
              "outlinewidth": 0,
              "ticks": ""
             }
            },
            "type": "scattergeo"
           }
          ],
          "scattergl": [
           {
            "marker": {
             "colorbar": {
              "outlinewidth": 0,
              "ticks": ""
             }
            },
            "type": "scattergl"
           }
          ],
          "scattermapbox": [
           {
            "marker": {
             "colorbar": {
              "outlinewidth": 0,
              "ticks": ""
             }
            },
            "type": "scattermapbox"
           }
          ],
          "scatterpolar": [
           {
            "marker": {
             "colorbar": {
              "outlinewidth": 0,
              "ticks": ""
             }
            },
            "type": "scatterpolar"
           }
          ],
          "scatterpolargl": [
           {
            "marker": {
             "colorbar": {
              "outlinewidth": 0,
              "ticks": ""
             }
            },
            "type": "scatterpolargl"
           }
          ],
          "scatterternary": [
           {
            "marker": {
             "colorbar": {
              "outlinewidth": 0,
              "ticks": ""
             }
            },
            "type": "scatterternary"
           }
          ],
          "surface": [
           {
            "colorbar": {
             "outlinewidth": 0,
             "ticks": ""
            },
            "colorscale": [
             [
              0,
              "#0d0887"
             ],
             [
              0.1111111111111111,
              "#46039f"
             ],
             [
              0.2222222222222222,
              "#7201a8"
             ],
             [
              0.3333333333333333,
              "#9c179e"
             ],
             [
              0.4444444444444444,
              "#bd3786"
             ],
             [
              0.5555555555555556,
              "#d8576b"
             ],
             [
              0.6666666666666666,
              "#ed7953"
             ],
             [
              0.7777777777777778,
              "#fb9f3a"
             ],
             [
              0.8888888888888888,
              "#fdca26"
             ],
             [
              1,
              "#f0f921"
             ]
            ],
            "type": "surface"
           }
          ],
          "table": [
           {
            "cells": {
             "fill": {
              "color": "#EBF0F8"
             },
             "line": {
              "color": "white"
             }
            },
            "header": {
             "fill": {
              "color": "#C8D4E3"
             },
             "line": {
              "color": "white"
             }
            },
            "type": "table"
           }
          ]
         },
         "layout": {
          "annotationdefaults": {
           "arrowcolor": "#2a3f5f",
           "arrowhead": 0,
           "arrowwidth": 1
          },
          "autotypenumbers": "strict",
          "coloraxis": {
           "colorbar": {
            "outlinewidth": 0,
            "ticks": ""
           }
          },
          "colorscale": {
           "diverging": [
            [
             0,
             "#8e0152"
            ],
            [
             0.1,
             "#c51b7d"
            ],
            [
             0.2,
             "#de77ae"
            ],
            [
             0.3,
             "#f1b6da"
            ],
            [
             0.4,
             "#fde0ef"
            ],
            [
             0.5,
             "#f7f7f7"
            ],
            [
             0.6,
             "#e6f5d0"
            ],
            [
             0.7,
             "#b8e186"
            ],
            [
             0.8,
             "#7fbc41"
            ],
            [
             0.9,
             "#4d9221"
            ],
            [
             1,
             "#276419"
            ]
           ],
           "sequential": [
            [
             0,
             "#0d0887"
            ],
            [
             0.1111111111111111,
             "#46039f"
            ],
            [
             0.2222222222222222,
             "#7201a8"
            ],
            [
             0.3333333333333333,
             "#9c179e"
            ],
            [
             0.4444444444444444,
             "#bd3786"
            ],
            [
             0.5555555555555556,
             "#d8576b"
            ],
            [
             0.6666666666666666,
             "#ed7953"
            ],
            [
             0.7777777777777778,
             "#fb9f3a"
            ],
            [
             0.8888888888888888,
             "#fdca26"
            ],
            [
             1,
             "#f0f921"
            ]
           ],
           "sequentialminus": [
            [
             0,
             "#0d0887"
            ],
            [
             0.1111111111111111,
             "#46039f"
            ],
            [
             0.2222222222222222,
             "#7201a8"
            ],
            [
             0.3333333333333333,
             "#9c179e"
            ],
            [
             0.4444444444444444,
             "#bd3786"
            ],
            [
             0.5555555555555556,
             "#d8576b"
            ],
            [
             0.6666666666666666,
             "#ed7953"
            ],
            [
             0.7777777777777778,
             "#fb9f3a"
            ],
            [
             0.8888888888888888,
             "#fdca26"
            ],
            [
             1,
             "#f0f921"
            ]
           ]
          },
          "colorway": [
           "#636efa",
           "#EF553B",
           "#00cc96",
           "#ab63fa",
           "#FFA15A",
           "#19d3f3",
           "#FF6692",
           "#B6E880",
           "#FF97FF",
           "#FECB52"
          ],
          "font": {
           "color": "#2a3f5f"
          },
          "geo": {
           "bgcolor": "white",
           "lakecolor": "white",
           "landcolor": "#E5ECF6",
           "showlakes": true,
           "showland": true,
           "subunitcolor": "white"
          },
          "hoverlabel": {
           "align": "left"
          },
          "hovermode": "closest",
          "mapbox": {
           "style": "light"
          },
          "paper_bgcolor": "white",
          "plot_bgcolor": "#E5ECF6",
          "polar": {
           "angularaxis": {
            "gridcolor": "white",
            "linecolor": "white",
            "ticks": ""
           },
           "bgcolor": "#E5ECF6",
           "radialaxis": {
            "gridcolor": "white",
            "linecolor": "white",
            "ticks": ""
           }
          },
          "scene": {
           "xaxis": {
            "backgroundcolor": "#E5ECF6",
            "gridcolor": "white",
            "gridwidth": 2,
            "linecolor": "white",
            "showbackground": true,
            "ticks": "",
            "zerolinecolor": "white"
           },
           "yaxis": {
            "backgroundcolor": "#E5ECF6",
            "gridcolor": "white",
            "gridwidth": 2,
            "linecolor": "white",
            "showbackground": true,
            "ticks": "",
            "zerolinecolor": "white"
           },
           "zaxis": {
            "backgroundcolor": "#E5ECF6",
            "gridcolor": "white",
            "gridwidth": 2,
            "linecolor": "white",
            "showbackground": true,
            "ticks": "",
            "zerolinecolor": "white"
           }
          },
          "shapedefaults": {
           "line": {
            "color": "#2a3f5f"
           }
          },
          "ternary": {
           "aaxis": {
            "gridcolor": "white",
            "linecolor": "white",
            "ticks": ""
           },
           "baxis": {
            "gridcolor": "white",
            "linecolor": "white",
            "ticks": ""
           },
           "bgcolor": "#E5ECF6",
           "caxis": {
            "gridcolor": "white",
            "linecolor": "white",
            "ticks": ""
           }
          },
          "title": {
           "x": 0.05
          },
          "xaxis": {
           "automargin": true,
           "gridcolor": "white",
           "linecolor": "white",
           "ticks": "",
           "title": {
            "standoff": 15
           },
           "zerolinecolor": "white",
           "zerolinewidth": 2
          },
          "yaxis": {
           "automargin": true,
           "gridcolor": "white",
           "linecolor": "white",
           "ticks": "",
           "title": {
            "standoff": 15
           },
           "zerolinecolor": "white",
           "zerolinewidth": 2
          }
         }
        },
        "xaxis": {
         "anchor": "y",
         "domain": [
          0,
          1
         ],
         "title": {
          "text": "extractTime"
         }
        },
        "yaxis": {
         "anchor": "x",
         "domain": [
          0,
          1
         ],
         "title": {
          "text": "price"
         }
        }
       }
      }
     },
     "metadata": {},
     "output_type": "display_data"
    }
   ],
   "source": [
    "gm2 = angels[angels[\"id\"] == 104731803.0]\r\n",
    "px.line(gm2, x = \"extractTime\", y = \"price\")"
   ]
  },
  {
   "cell_type": "code",
   "execution_count": 11,
   "metadata": {},
   "outputs": [
    {
     "data": {
      "application/vnd.plotly.v1+json": {
       "config": {
        "plotlyServerURL": "https://plot.ly"
       },
       "data": [
        {
         "alignmentgroup": "True",
         "hovertemplate": "extractTime=%{x}<br>ticket_count=%{y}<extra></extra>",
         "legendgroup": "",
         "marker": {
          "color": "#636efa"
         },
         "name": "",
         "offsetgroup": "",
         "orientation": "v",
         "showlegend": false,
         "textposition": "auto",
         "type": "bar",
         "x": [
          "2021-06-08T17:51:49.018941",
          "2021-06-09T12:10:15.835417",
          "2021-06-10T00:25:11.339264",
          "2021-06-10T12:10:33.991895",
          "2021-06-11T04:00:07.872238",
          "2021-06-11T12:09:18.111076",
          "2021-06-12T00:19:19.100503",
          "2021-06-12T12:08:54.831787",
          "2021-06-13T00:24:04.248945",
          "2021-06-13T12:09:14.069717",
          "2021-06-14T00:21:24.203263",
          "2021-06-14T12:09:33.231056",
          "2021-06-15T00:22:38.720107",
          "2021-06-15T12:09:40.481422",
          "2021-06-16T00:22:32.911615",
          "2021-06-16T12:09:48.990533",
          "2021-06-17T00:21:07.068681",
          "2021-06-17T12:09:51.600977",
          "2021-06-18T00:21:24.294094",
          "2021-06-18T12:09:35.669719",
          "2021-06-19T00:22:14.386704",
          "2021-06-19T12:08:53.773386",
          "2021-06-20T00:23:39.553880",
          "2021-06-20T12:08:58.685633",
          "2021-06-21T00:23:15.439438",
          "2021-06-21T12:10:06.707159",
          "2021-06-22T00:21:42.258678",
          "2021-06-22T12:09:34.815943",
          "2021-06-23T00:21:46.150844",
          "2021-06-23T12:08:09.096536",
          "2021-06-24T00:17:16.691968",
          "2021-06-24T12:10:18.327910",
          "2021-06-25T00:24:02.720078",
          "2021-06-25T12:09:38.056365",
          "2021-06-26T00:20:30.256622",
          "2021-06-26T12:09:13.763606",
          "2021-06-27T00:25:22.117640",
          "2021-06-27T12:09:50.224499",
          "2021-06-28T00:23:09.409107",
          "2021-06-28T12:10:17.566620",
          "2021-06-29T00:22:48.020446",
          "2021-06-29T12:10:12.214925",
          "2021-06-30T00:21:52.592558",
          "2021-06-30T12:09:56.346440",
          "2021-07-01T00:24:23.407878",
          "2021-07-01T12:10:55.332385",
          "2021-07-02T00:22:03.546278",
          "2021-07-02T12:10:07.620555",
          "2021-07-03T00:21:28.807938",
          "2021-07-03T12:09:33.186203",
          "2021-07-04T00:22:12.791560",
          "2021-07-04T12:09:27.707175",
          "2021-07-05T00:20:44.932359",
          "2021-07-05T12:10:18.775313",
          "2021-07-06T00:23:34.404950",
          "2021-07-06T12:10:04.515526",
          "2021-07-07T00:22:36.000423",
          "2021-07-07T12:09:54.725840",
          "2021-07-08T00:20:45.781142"
         ],
         "xaxis": "x",
         "y": [
          0,
          0,
          0,
          0,
          1174,
          1176,
          1043,
          1040,
          1030,
          1026,
          1044,
          1040,
          1046,
          1073,
          1558,
          1550,
          1542,
          1531,
          1561,
          1408,
          1454,
          1440,
          1408,
          1386,
          1364,
          1357,
          1466,
          1444,
          1436,
          1506,
          1535,
          1523,
          1511,
          1499,
          1464,
          1449,
          1424,
          1416,
          1453,
          1431,
          1417,
          1388,
          1432,
          1411,
          1438,
          1417,
          1348,
          1315,
          1258,
          1244,
          1461,
          1391,
          1340,
          1282,
          1286,
          1195,
          1371,
          1499,
          1444
         ],
         "yaxis": "y"
        }
       ],
       "layout": {
        "barmode": "relative",
        "legend": {
         "tracegroupgap": 0
        },
        "margin": {
         "t": 60
        },
        "template": {
         "data": {
          "bar": [
           {
            "error_x": {
             "color": "#2a3f5f"
            },
            "error_y": {
             "color": "#2a3f5f"
            },
            "marker": {
             "line": {
              "color": "#E5ECF6",
              "width": 0.5
             }
            },
            "type": "bar"
           }
          ],
          "barpolar": [
           {
            "marker": {
             "line": {
              "color": "#E5ECF6",
              "width": 0.5
             }
            },
            "type": "barpolar"
           }
          ],
          "carpet": [
           {
            "aaxis": {
             "endlinecolor": "#2a3f5f",
             "gridcolor": "white",
             "linecolor": "white",
             "minorgridcolor": "white",
             "startlinecolor": "#2a3f5f"
            },
            "baxis": {
             "endlinecolor": "#2a3f5f",
             "gridcolor": "white",
             "linecolor": "white",
             "minorgridcolor": "white",
             "startlinecolor": "#2a3f5f"
            },
            "type": "carpet"
           }
          ],
          "choropleth": [
           {
            "colorbar": {
             "outlinewidth": 0,
             "ticks": ""
            },
            "type": "choropleth"
           }
          ],
          "contour": [
           {
            "colorbar": {
             "outlinewidth": 0,
             "ticks": ""
            },
            "colorscale": [
             [
              0,
              "#0d0887"
             ],
             [
              0.1111111111111111,
              "#46039f"
             ],
             [
              0.2222222222222222,
              "#7201a8"
             ],
             [
              0.3333333333333333,
              "#9c179e"
             ],
             [
              0.4444444444444444,
              "#bd3786"
             ],
             [
              0.5555555555555556,
              "#d8576b"
             ],
             [
              0.6666666666666666,
              "#ed7953"
             ],
             [
              0.7777777777777778,
              "#fb9f3a"
             ],
             [
              0.8888888888888888,
              "#fdca26"
             ],
             [
              1,
              "#f0f921"
             ]
            ],
            "type": "contour"
           }
          ],
          "contourcarpet": [
           {
            "colorbar": {
             "outlinewidth": 0,
             "ticks": ""
            },
            "type": "contourcarpet"
           }
          ],
          "heatmap": [
           {
            "colorbar": {
             "outlinewidth": 0,
             "ticks": ""
            },
            "colorscale": [
             [
              0,
              "#0d0887"
             ],
             [
              0.1111111111111111,
              "#46039f"
             ],
             [
              0.2222222222222222,
              "#7201a8"
             ],
             [
              0.3333333333333333,
              "#9c179e"
             ],
             [
              0.4444444444444444,
              "#bd3786"
             ],
             [
              0.5555555555555556,
              "#d8576b"
             ],
             [
              0.6666666666666666,
              "#ed7953"
             ],
             [
              0.7777777777777778,
              "#fb9f3a"
             ],
             [
              0.8888888888888888,
              "#fdca26"
             ],
             [
              1,
              "#f0f921"
             ]
            ],
            "type": "heatmap"
           }
          ],
          "heatmapgl": [
           {
            "colorbar": {
             "outlinewidth": 0,
             "ticks": ""
            },
            "colorscale": [
             [
              0,
              "#0d0887"
             ],
             [
              0.1111111111111111,
              "#46039f"
             ],
             [
              0.2222222222222222,
              "#7201a8"
             ],
             [
              0.3333333333333333,
              "#9c179e"
             ],
             [
              0.4444444444444444,
              "#bd3786"
             ],
             [
              0.5555555555555556,
              "#d8576b"
             ],
             [
              0.6666666666666666,
              "#ed7953"
             ],
             [
              0.7777777777777778,
              "#fb9f3a"
             ],
             [
              0.8888888888888888,
              "#fdca26"
             ],
             [
              1,
              "#f0f921"
             ]
            ],
            "type": "heatmapgl"
           }
          ],
          "histogram": [
           {
            "marker": {
             "colorbar": {
              "outlinewidth": 0,
              "ticks": ""
             }
            },
            "type": "histogram"
           }
          ],
          "histogram2d": [
           {
            "colorbar": {
             "outlinewidth": 0,
             "ticks": ""
            },
            "colorscale": [
             [
              0,
              "#0d0887"
             ],
             [
              0.1111111111111111,
              "#46039f"
             ],
             [
              0.2222222222222222,
              "#7201a8"
             ],
             [
              0.3333333333333333,
              "#9c179e"
             ],
             [
              0.4444444444444444,
              "#bd3786"
             ],
             [
              0.5555555555555556,
              "#d8576b"
             ],
             [
              0.6666666666666666,
              "#ed7953"
             ],
             [
              0.7777777777777778,
              "#fb9f3a"
             ],
             [
              0.8888888888888888,
              "#fdca26"
             ],
             [
              1,
              "#f0f921"
             ]
            ],
            "type": "histogram2d"
           }
          ],
          "histogram2dcontour": [
           {
            "colorbar": {
             "outlinewidth": 0,
             "ticks": ""
            },
            "colorscale": [
             [
              0,
              "#0d0887"
             ],
             [
              0.1111111111111111,
              "#46039f"
             ],
             [
              0.2222222222222222,
              "#7201a8"
             ],
             [
              0.3333333333333333,
              "#9c179e"
             ],
             [
              0.4444444444444444,
              "#bd3786"
             ],
             [
              0.5555555555555556,
              "#d8576b"
             ],
             [
              0.6666666666666666,
              "#ed7953"
             ],
             [
              0.7777777777777778,
              "#fb9f3a"
             ],
             [
              0.8888888888888888,
              "#fdca26"
             ],
             [
              1,
              "#f0f921"
             ]
            ],
            "type": "histogram2dcontour"
           }
          ],
          "mesh3d": [
           {
            "colorbar": {
             "outlinewidth": 0,
             "ticks": ""
            },
            "type": "mesh3d"
           }
          ],
          "parcoords": [
           {
            "line": {
             "colorbar": {
              "outlinewidth": 0,
              "ticks": ""
             }
            },
            "type": "parcoords"
           }
          ],
          "pie": [
           {
            "automargin": true,
            "type": "pie"
           }
          ],
          "scatter": [
           {
            "marker": {
             "colorbar": {
              "outlinewidth": 0,
              "ticks": ""
             }
            },
            "type": "scatter"
           }
          ],
          "scatter3d": [
           {
            "line": {
             "colorbar": {
              "outlinewidth": 0,
              "ticks": ""
             }
            },
            "marker": {
             "colorbar": {
              "outlinewidth": 0,
              "ticks": ""
             }
            },
            "type": "scatter3d"
           }
          ],
          "scattercarpet": [
           {
            "marker": {
             "colorbar": {
              "outlinewidth": 0,
              "ticks": ""
             }
            },
            "type": "scattercarpet"
           }
          ],
          "scattergeo": [
           {
            "marker": {
             "colorbar": {
              "outlinewidth": 0,
              "ticks": ""
             }
            },
            "type": "scattergeo"
           }
          ],
          "scattergl": [
           {
            "marker": {
             "colorbar": {
              "outlinewidth": 0,
              "ticks": ""
             }
            },
            "type": "scattergl"
           }
          ],
          "scattermapbox": [
           {
            "marker": {
             "colorbar": {
              "outlinewidth": 0,
              "ticks": ""
             }
            },
            "type": "scattermapbox"
           }
          ],
          "scatterpolar": [
           {
            "marker": {
             "colorbar": {
              "outlinewidth": 0,
              "ticks": ""
             }
            },
            "type": "scatterpolar"
           }
          ],
          "scatterpolargl": [
           {
            "marker": {
             "colorbar": {
              "outlinewidth": 0,
              "ticks": ""
             }
            },
            "type": "scatterpolargl"
           }
          ],
          "scatterternary": [
           {
            "marker": {
             "colorbar": {
              "outlinewidth": 0,
              "ticks": ""
             }
            },
            "type": "scatterternary"
           }
          ],
          "surface": [
           {
            "colorbar": {
             "outlinewidth": 0,
             "ticks": ""
            },
            "colorscale": [
             [
              0,
              "#0d0887"
             ],
             [
              0.1111111111111111,
              "#46039f"
             ],
             [
              0.2222222222222222,
              "#7201a8"
             ],
             [
              0.3333333333333333,
              "#9c179e"
             ],
             [
              0.4444444444444444,
              "#bd3786"
             ],
             [
              0.5555555555555556,
              "#d8576b"
             ],
             [
              0.6666666666666666,
              "#ed7953"
             ],
             [
              0.7777777777777778,
              "#fb9f3a"
             ],
             [
              0.8888888888888888,
              "#fdca26"
             ],
             [
              1,
              "#f0f921"
             ]
            ],
            "type": "surface"
           }
          ],
          "table": [
           {
            "cells": {
             "fill": {
              "color": "#EBF0F8"
             },
             "line": {
              "color": "white"
             }
            },
            "header": {
             "fill": {
              "color": "#C8D4E3"
             },
             "line": {
              "color": "white"
             }
            },
            "type": "table"
           }
          ]
         },
         "layout": {
          "annotationdefaults": {
           "arrowcolor": "#2a3f5f",
           "arrowhead": 0,
           "arrowwidth": 1
          },
          "autotypenumbers": "strict",
          "coloraxis": {
           "colorbar": {
            "outlinewidth": 0,
            "ticks": ""
           }
          },
          "colorscale": {
           "diverging": [
            [
             0,
             "#8e0152"
            ],
            [
             0.1,
             "#c51b7d"
            ],
            [
             0.2,
             "#de77ae"
            ],
            [
             0.3,
             "#f1b6da"
            ],
            [
             0.4,
             "#fde0ef"
            ],
            [
             0.5,
             "#f7f7f7"
            ],
            [
             0.6,
             "#e6f5d0"
            ],
            [
             0.7,
             "#b8e186"
            ],
            [
             0.8,
             "#7fbc41"
            ],
            [
             0.9,
             "#4d9221"
            ],
            [
             1,
             "#276419"
            ]
           ],
           "sequential": [
            [
             0,
             "#0d0887"
            ],
            [
             0.1111111111111111,
             "#46039f"
            ],
            [
             0.2222222222222222,
             "#7201a8"
            ],
            [
             0.3333333333333333,
             "#9c179e"
            ],
            [
             0.4444444444444444,
             "#bd3786"
            ],
            [
             0.5555555555555556,
             "#d8576b"
            ],
            [
             0.6666666666666666,
             "#ed7953"
            ],
            [
             0.7777777777777778,
             "#fb9f3a"
            ],
            [
             0.8888888888888888,
             "#fdca26"
            ],
            [
             1,
             "#f0f921"
            ]
           ],
           "sequentialminus": [
            [
             0,
             "#0d0887"
            ],
            [
             0.1111111111111111,
             "#46039f"
            ],
            [
             0.2222222222222222,
             "#7201a8"
            ],
            [
             0.3333333333333333,
             "#9c179e"
            ],
            [
             0.4444444444444444,
             "#bd3786"
            ],
            [
             0.5555555555555556,
             "#d8576b"
            ],
            [
             0.6666666666666666,
             "#ed7953"
            ],
            [
             0.7777777777777778,
             "#fb9f3a"
            ],
            [
             0.8888888888888888,
             "#fdca26"
            ],
            [
             1,
             "#f0f921"
            ]
           ]
          },
          "colorway": [
           "#636efa",
           "#EF553B",
           "#00cc96",
           "#ab63fa",
           "#FFA15A",
           "#19d3f3",
           "#FF6692",
           "#B6E880",
           "#FF97FF",
           "#FECB52"
          ],
          "font": {
           "color": "#2a3f5f"
          },
          "geo": {
           "bgcolor": "white",
           "lakecolor": "white",
           "landcolor": "#E5ECF6",
           "showlakes": true,
           "showland": true,
           "subunitcolor": "white"
          },
          "hoverlabel": {
           "align": "left"
          },
          "hovermode": "closest",
          "mapbox": {
           "style": "light"
          },
          "paper_bgcolor": "white",
          "plot_bgcolor": "#E5ECF6",
          "polar": {
           "angularaxis": {
            "gridcolor": "white",
            "linecolor": "white",
            "ticks": ""
           },
           "bgcolor": "#E5ECF6",
           "radialaxis": {
            "gridcolor": "white",
            "linecolor": "white",
            "ticks": ""
           }
          },
          "scene": {
           "xaxis": {
            "backgroundcolor": "#E5ECF6",
            "gridcolor": "white",
            "gridwidth": 2,
            "linecolor": "white",
            "showbackground": true,
            "ticks": "",
            "zerolinecolor": "white"
           },
           "yaxis": {
            "backgroundcolor": "#E5ECF6",
            "gridcolor": "white",
            "gridwidth": 2,
            "linecolor": "white",
            "showbackground": true,
            "ticks": "",
            "zerolinecolor": "white"
           },
           "zaxis": {
            "backgroundcolor": "#E5ECF6",
            "gridcolor": "white",
            "gridwidth": 2,
            "linecolor": "white",
            "showbackground": true,
            "ticks": "",
            "zerolinecolor": "white"
           }
          },
          "shapedefaults": {
           "line": {
            "color": "#2a3f5f"
           }
          },
          "ternary": {
           "aaxis": {
            "gridcolor": "white",
            "linecolor": "white",
            "ticks": ""
           },
           "baxis": {
            "gridcolor": "white",
            "linecolor": "white",
            "ticks": ""
           },
           "bgcolor": "#E5ECF6",
           "caxis": {
            "gridcolor": "white",
            "linecolor": "white",
            "ticks": ""
           }
          },
          "title": {
           "x": 0.05
          },
          "xaxis": {
           "automargin": true,
           "gridcolor": "white",
           "linecolor": "white",
           "ticks": "",
           "title": {
            "standoff": 15
           },
           "zerolinecolor": "white",
           "zerolinewidth": 2
          },
          "yaxis": {
           "automargin": true,
           "gridcolor": "white",
           "linecolor": "white",
           "ticks": "",
           "title": {
            "standoff": 15
           },
           "zerolinecolor": "white",
           "zerolinewidth": 2
          }
         }
        },
        "xaxis": {
         "anchor": "y",
         "domain": [
          0,
          1
         ],
         "title": {
          "text": "extractTime"
         }
        },
        "yaxis": {
         "anchor": "x",
         "domain": [
          0,
          1
         ],
         "title": {
          "text": "ticket_count"
         }
        }
       }
      }
     },
     "metadata": {},
     "output_type": "display_data"
    }
   ],
   "source": [
    "px.bar(gm2, x = \"extractTime\", y = \"ticket_count\")"
   ]
  },
  {
   "cell_type": "code",
   "execution_count": null,
   "metadata": {},
   "outputs": [],
   "source": [
    "#"
   ]
  },
  {
   "cell_type": "markdown",
   "metadata": {},
   "source": [
    "# Dodgers vs Giants 7/27/21"
   ]
  },
  {
   "cell_type": "code",
   "execution_count": 4,
   "metadata": {},
   "outputs": [
    {
     "data": {
      "application/vnd.plotly.v1+json": {
       "config": {
        "plotlyServerURL": "https://plot.ly"
       },
       "data": [
        {
         "hovertemplate": "id=104738361.0<br>extractTime=%{x}<br>price=%{y}<extra></extra>",
         "legendgroup": "",
         "line": {
          "color": "#F4793E",
          "dash": "solid"
         },
         "mode": "lines",
         "name": "",
         "orientation": "v",
         "showlegend": false,
         "type": "scatter",
         "x": [
          "2021-06-08T17:51:49.782776",
          "2021-06-09T12:10:18.613777",
          "2021-06-10T00:25:11.765555",
          "2021-06-10T12:10:34.477654",
          "2021-06-11T04:00:08.335010",
          "2021-06-11T12:09:18.542960",
          "2021-06-12T00:19:19.627494",
          "2021-06-12T12:08:55.197936",
          "2021-06-13T00:24:04.981032",
          "2021-06-13T12:09:14.866901",
          "2021-06-14T00:21:24.593792",
          "2021-06-14T12:09:33.799808",
          "2021-06-15T00:22:39.049301",
          "2021-06-15T12:09:40.937254",
          "2021-06-16T00:22:33.333970",
          "2021-06-16T12:09:49.442221",
          "2021-06-17T00:21:07.973934",
          "2021-06-17T12:09:52.064765",
          "2021-06-18T00:21:24.655965",
          "2021-06-18T12:09:36.082775",
          "2021-06-19T00:22:14.850219",
          "2021-06-19T12:08:54.173988",
          "2021-06-20T00:23:39.996747",
          "2021-06-20T12:08:59.132132",
          "2021-06-21T00:23:15.822270",
          "2021-06-21T12:10:07.355102",
          "2021-06-22T00:21:42.711116",
          "2021-06-22T12:09:35.274074",
          "2021-06-23T00:21:46.492726",
          "2021-06-23T12:08:09.466364",
          "2021-06-24T00:17:17.048746",
          "2021-06-24T12:10:18.882766",
          "2021-06-25T00:24:03.093984",
          "2021-06-25T12:09:38.584303",
          "2021-06-26T00:20:30.616864",
          "2021-06-26T12:09:14.048618",
          "2021-06-27T00:25:22.411522",
          "2021-06-27T12:09:50.605015",
          "2021-06-28T00:23:09.703863",
          "2021-06-28T12:10:17.892515",
          "2021-06-29T00:22:48.682048",
          "2021-06-29T12:10:12.583580",
          "2021-06-30T00:21:52.928674",
          "2021-06-30T12:09:56.720886",
          "2021-07-01T00:24:24.104292",
          "2021-07-01T12:10:55.709777",
          "2021-07-02T00:22:03.833475",
          "2021-07-02T12:10:08.065654",
          "2021-07-03T00:21:29.166196",
          "2021-07-03T12:09:33.532768",
          "2021-07-04T00:22:13.219684",
          "2021-07-04T12:09:28.059932",
          "2021-07-05T00:20:45.303363",
          "2021-07-05T12:10:19.150187",
          "2021-07-06T00:23:34.824902",
          "2021-07-06T12:10:04.857271",
          "2021-07-07T00:22:36.697288",
          "2021-07-07T12:09:55.056221",
          "2021-07-08T00:20:46.098633",
          "2021-07-08T12:10:11.768247"
         ],
         "xaxis": "x3",
         "y": [
          69.51,
          69.51,
          69.51,
          69.51,
          69.51,
          69.51,
          79.32,
          79.32,
          73.2,
          73.2,
          64.44,
          64.44,
          63.38,
          64.44,
          64.44,
          64.44,
          64.44,
          64.44,
          64.44,
          64.44,
          64.44,
          64.44,
          64.42,
          63.38,
          64.42,
          64.42,
          60.9,
          60.6,
          60.6,
          60.6,
          45.58,
          59.69,
          48.65,
          48.65,
          48.65,
          50.98,
          50.98,
          50.98,
          51.1,
          51.1,
          46.04,
          46.04,
          46.04,
          46.04,
          46.04,
          46.04,
          46.04,
          46.04,
          46.04,
          46.04,
          46.04,
          44.96,
          44.96,
          44.96,
          44.96,
          42.51,
          44.96,
          44.96,
          44.96,
          44.96
         ],
         "yaxis": "y3"
        },
        {
         "hovertemplate": "id=104736558.0<br>extractTime=%{x}<br>price=%{y}<extra></extra>",
         "legendgroup": "",
         "line": {
          "color": "#F4793E",
          "dash": "solid"
         },
         "mode": "lines",
         "name": "",
         "orientation": "v",
         "showlegend": false,
         "type": "scatter",
         "x": [
          "2021-06-08T17:51:49.782776",
          "2021-06-09T12:10:18.613780",
          "2021-06-10T00:25:11.765557",
          "2021-06-10T12:10:34.477656",
          "2021-06-11T04:00:08.335012",
          "2021-06-11T12:09:18.542961",
          "2021-06-12T00:19:19.627496",
          "2021-06-12T12:08:55.197937",
          "2021-06-13T00:24:04.981034",
          "2021-06-13T12:09:14.866903",
          "2021-06-14T00:21:24.593795",
          "2021-06-14T12:09:33.799809",
          "2021-06-15T00:22:39.049303",
          "2021-06-15T12:09:40.937256",
          "2021-06-16T00:22:33.333972",
          "2021-06-16T12:09:49.442223",
          "2021-06-17T00:21:07.973936",
          "2021-06-17T12:09:52.064767",
          "2021-06-18T00:21:24.655966",
          "2021-06-18T12:09:36.082777",
          "2021-06-19T00:22:14.850221",
          "2021-06-19T12:08:54.173989",
          "2021-06-20T00:23:39.996749",
          "2021-06-20T12:08:59.132133",
          "2021-06-21T00:23:15.822271",
          "2021-06-21T12:10:07.355104",
          "2021-06-22T00:21:42.711117",
          "2021-06-22T12:09:35.274076",
          "2021-06-23T00:21:46.492727",
          "2021-06-23T12:08:09.466366",
          "2021-06-24T00:17:17.048748",
          "2021-06-24T12:10:18.882768",
          "2021-06-25T00:24:03.093986",
          "2021-06-25T12:09:38.584304",
          "2021-06-26T00:20:30.616865",
          "2021-06-26T12:09:14.048867",
          "2021-06-27T00:25:22.411524",
          "2021-06-27T12:09:50.605017",
          "2021-06-28T00:23:09.703864",
          "2021-06-28T12:10:17.892517",
          "2021-06-29T00:22:48.682049",
          "2021-06-29T12:10:12.583582",
          "2021-06-30T00:21:52.928676",
          "2021-06-30T12:09:56.720888",
          "2021-07-01T00:24:24.104295",
          "2021-07-01T12:10:55.709779",
          "2021-07-02T00:22:03.833478",
          "2021-07-02T12:10:08.065655",
          "2021-07-03T00:21:29.166197",
          "2021-07-03T12:09:33.532769",
          "2021-07-04T00:22:13.219686",
          "2021-07-04T12:09:28.059934",
          "2021-07-05T00:20:45.303365",
          "2021-07-05T12:10:19.150188",
          "2021-07-06T00:23:34.824904",
          "2021-07-06T12:10:04.857273",
          "2021-07-07T00:22:36.697289",
          "2021-07-07T12:09:55.056223",
          "2021-07-08T00:20:46.098635",
          "2021-07-08T12:10:11.768248"
         ],
         "xaxis": "x2",
         "y": [
          70.13,
          69.5,
          69.5,
          69.5,
          69.5,
          69.5,
          69.5,
          69.5,
          65.83,
          65.83,
          61.04,
          61.04,
          59.69,
          59.69,
          59.69,
          59.69,
          58.47,
          58.47,
          58.47,
          61.04,
          61.04,
          61.04,
          60.91,
          59.77,
          59.77,
          59.77,
          57.23,
          57.23,
          57.23,
          57.23,
          57.23,
          56.01,
          53.56,
          53.56,
          53.54,
          53.54,
          52.32,
          52.32,
          51.09,
          50.02,
          48.63,
          50.02,
          44.94,
          44.94,
          44.96,
          50.02,
          50.02,
          50.02,
          50.02,
          50.02,
          50.02,
          50.02,
          50.02,
          50.02,
          50.02,
          42.51,
          42.51,
          42.51,
          42.51,
          48.62
         ],
         "yaxis": "y2"
        },
        {
         "hovertemplate": "id=104736560.0<br>extractTime=%{x}<br>price=%{y}<extra></extra>",
         "legendgroup": "",
         "line": {
          "color": "#F4793E",
          "dash": "solid"
         },
         "mode": "lines",
         "name": "",
         "orientation": "v",
         "showlegend": false,
         "type": "scatter",
         "x": [
          "2021-06-08T17:51:49.782776",
          "2021-06-09T12:10:18.613781",
          "2021-06-10T00:25:11.765558",
          "2021-06-10T12:10:34.477658",
          "2021-06-11T04:00:08.335014",
          "2021-06-11T12:09:18.542963",
          "2021-06-12T00:19:19.627497",
          "2021-06-12T12:08:55.197939",
          "2021-06-13T00:24:04.981036",
          "2021-06-13T12:09:14.866904",
          "2021-06-14T00:21:24.593798",
          "2021-06-14T12:09:33.799811",
          "2021-06-15T00:22:39.049304",
          "2021-06-15T12:09:40.937258",
          "2021-06-16T00:22:33.333973",
          "2021-06-16T12:09:49.442225",
          "2021-06-17T00:21:07.973938",
          "2021-06-17T12:09:52.064769",
          "2021-06-18T00:21:24.655968",
          "2021-06-18T12:09:36.082779",
          "2021-06-19T00:22:14.850223",
          "2021-06-19T12:08:54.173991",
          "2021-06-20T00:23:39.996751",
          "2021-06-20T12:08:59.132135",
          "2021-06-21T00:23:15.822273",
          "2021-06-21T12:10:07.355105",
          "2021-06-22T00:21:42.711119",
          "2021-06-22T12:09:35.274077",
          "2021-06-23T00:21:46.492729",
          "2021-06-23T12:08:09.466368",
          "2021-06-24T00:17:17.048750",
          "2021-06-24T12:10:18.882770",
          "2021-06-25T00:24:03.093987",
          "2021-06-25T12:09:38.584306",
          "2021-06-26T00:20:30.616867",
          "2021-06-26T12:09:14.048871",
          "2021-06-27T00:25:22.411525",
          "2021-06-27T12:09:50.605019",
          "2021-06-28T00:23:09.703867",
          "2021-06-28T12:10:17.892519",
          "2021-06-29T00:22:48.682051",
          "2021-06-29T12:10:12.583585",
          "2021-06-30T00:21:52.928678",
          "2021-06-30T12:09:56.720891",
          "2021-07-01T00:24:24.104300",
          "2021-07-01T12:10:55.709781",
          "2021-07-02T00:22:03.833482",
          "2021-07-02T12:10:08.065658",
          "2021-07-03T00:21:29.166199",
          "2021-07-03T12:09:33.532772",
          "2021-07-04T00:22:13.219688",
          "2021-07-04T12:09:28.059936",
          "2021-07-05T00:20:45.303367",
          "2021-07-05T12:10:19.150191",
          "2021-07-06T00:23:34.824907",
          "2021-07-06T12:10:04.857298",
          "2021-07-07T00:22:36.697291",
          "2021-07-07T12:09:55.056225",
          "2021-07-08T00:20:46.098637",
          "2021-07-08T12:10:11.768250"
         ],
         "xaxis": "x",
         "y": [
          89.14,
          89.14,
          83.25,
          83.25,
          83.25,
          83.25,
          83.25,
          83.25,
          73.2,
          73.2,
          67.84,
          67.84,
          63.38,
          67.06,
          67.06,
          67.06,
          65.83,
          65.83,
          67.84,
          67.84,
          67.84,
          63.38,
          63.38,
          63.38,
          63.38,
          63.38,
          63.36,
          63.36,
          63.36,
          63.36,
          63.36,
          63.36,
          60.92,
          60.92,
          60.91,
          58.47,
          59.69,
          59.69,
          59.08,
          58.96,
          59.08,
          59.08,
          58.86,
          58.86,
          58.86,
          58.86,
          57.24,
          56.27,
          56,
          56,
          56,
          44.96,
          44.96,
          44.96,
          54.66,
          54.66,
          54.76,
          56.27,
          56.27,
          56.27
         ],
         "yaxis": "y"
        }
       ],
       "layout": {
        "annotations": [
         {
          "font": {},
          "showarrow": false,
          "text": "id=104736560.0",
          "textangle": 90,
          "x": 0.98,
          "xanchor": "left",
          "xref": "paper",
          "y": 0.15666666666666665,
          "yanchor": "middle",
          "yref": "paper"
         },
         {
          "font": {},
          "showarrow": false,
          "text": "id=104736558.0",
          "textangle": 90,
          "x": 0.98,
          "xanchor": "left",
          "xref": "paper",
          "y": 0.4999999999999999,
          "yanchor": "middle",
          "yref": "paper"
         },
         {
          "font": {},
          "showarrow": false,
          "text": "id=104738361.0",
          "textangle": 90,
          "x": 0.98,
          "xanchor": "left",
          "xref": "paper",
          "y": 0.8433333333333332,
          "yanchor": "middle",
          "yref": "paper"
         }
        ],
        "height": 700,
        "legend": {
         "tracegroupgap": 0
        },
        "margin": {
         "t": 60
        },
        "template": {
         "data": {
          "bar": [
           {
            "error_x": {
             "color": "#2a3f5f"
            },
            "error_y": {
             "color": "#2a3f5f"
            },
            "marker": {
             "line": {
              "color": "#E5ECF6",
              "width": 0.5
             }
            },
            "type": "bar"
           }
          ],
          "barpolar": [
           {
            "marker": {
             "line": {
              "color": "#E5ECF6",
              "width": 0.5
             }
            },
            "type": "barpolar"
           }
          ],
          "carpet": [
           {
            "aaxis": {
             "endlinecolor": "#2a3f5f",
             "gridcolor": "white",
             "linecolor": "white",
             "minorgridcolor": "white",
             "startlinecolor": "#2a3f5f"
            },
            "baxis": {
             "endlinecolor": "#2a3f5f",
             "gridcolor": "white",
             "linecolor": "white",
             "minorgridcolor": "white",
             "startlinecolor": "#2a3f5f"
            },
            "type": "carpet"
           }
          ],
          "choropleth": [
           {
            "colorbar": {
             "outlinewidth": 0,
             "ticks": ""
            },
            "type": "choropleth"
           }
          ],
          "contour": [
           {
            "colorbar": {
             "outlinewidth": 0,
             "ticks": ""
            },
            "colorscale": [
             [
              0,
              "#0d0887"
             ],
             [
              0.1111111111111111,
              "#46039f"
             ],
             [
              0.2222222222222222,
              "#7201a8"
             ],
             [
              0.3333333333333333,
              "#9c179e"
             ],
             [
              0.4444444444444444,
              "#bd3786"
             ],
             [
              0.5555555555555556,
              "#d8576b"
             ],
             [
              0.6666666666666666,
              "#ed7953"
             ],
             [
              0.7777777777777778,
              "#fb9f3a"
             ],
             [
              0.8888888888888888,
              "#fdca26"
             ],
             [
              1,
              "#f0f921"
             ]
            ],
            "type": "contour"
           }
          ],
          "contourcarpet": [
           {
            "colorbar": {
             "outlinewidth": 0,
             "ticks": ""
            },
            "type": "contourcarpet"
           }
          ],
          "heatmap": [
           {
            "colorbar": {
             "outlinewidth": 0,
             "ticks": ""
            },
            "colorscale": [
             [
              0,
              "#0d0887"
             ],
             [
              0.1111111111111111,
              "#46039f"
             ],
             [
              0.2222222222222222,
              "#7201a8"
             ],
             [
              0.3333333333333333,
              "#9c179e"
             ],
             [
              0.4444444444444444,
              "#bd3786"
             ],
             [
              0.5555555555555556,
              "#d8576b"
             ],
             [
              0.6666666666666666,
              "#ed7953"
             ],
             [
              0.7777777777777778,
              "#fb9f3a"
             ],
             [
              0.8888888888888888,
              "#fdca26"
             ],
             [
              1,
              "#f0f921"
             ]
            ],
            "type": "heatmap"
           }
          ],
          "heatmapgl": [
           {
            "colorbar": {
             "outlinewidth": 0,
             "ticks": ""
            },
            "colorscale": [
             [
              0,
              "#0d0887"
             ],
             [
              0.1111111111111111,
              "#46039f"
             ],
             [
              0.2222222222222222,
              "#7201a8"
             ],
             [
              0.3333333333333333,
              "#9c179e"
             ],
             [
              0.4444444444444444,
              "#bd3786"
             ],
             [
              0.5555555555555556,
              "#d8576b"
             ],
             [
              0.6666666666666666,
              "#ed7953"
             ],
             [
              0.7777777777777778,
              "#fb9f3a"
             ],
             [
              0.8888888888888888,
              "#fdca26"
             ],
             [
              1,
              "#f0f921"
             ]
            ],
            "type": "heatmapgl"
           }
          ],
          "histogram": [
           {
            "marker": {
             "colorbar": {
              "outlinewidth": 0,
              "ticks": ""
             }
            },
            "type": "histogram"
           }
          ],
          "histogram2d": [
           {
            "colorbar": {
             "outlinewidth": 0,
             "ticks": ""
            },
            "colorscale": [
             [
              0,
              "#0d0887"
             ],
             [
              0.1111111111111111,
              "#46039f"
             ],
             [
              0.2222222222222222,
              "#7201a8"
             ],
             [
              0.3333333333333333,
              "#9c179e"
             ],
             [
              0.4444444444444444,
              "#bd3786"
             ],
             [
              0.5555555555555556,
              "#d8576b"
             ],
             [
              0.6666666666666666,
              "#ed7953"
             ],
             [
              0.7777777777777778,
              "#fb9f3a"
             ],
             [
              0.8888888888888888,
              "#fdca26"
             ],
             [
              1,
              "#f0f921"
             ]
            ],
            "type": "histogram2d"
           }
          ],
          "histogram2dcontour": [
           {
            "colorbar": {
             "outlinewidth": 0,
             "ticks": ""
            },
            "colorscale": [
             [
              0,
              "#0d0887"
             ],
             [
              0.1111111111111111,
              "#46039f"
             ],
             [
              0.2222222222222222,
              "#7201a8"
             ],
             [
              0.3333333333333333,
              "#9c179e"
             ],
             [
              0.4444444444444444,
              "#bd3786"
             ],
             [
              0.5555555555555556,
              "#d8576b"
             ],
             [
              0.6666666666666666,
              "#ed7953"
             ],
             [
              0.7777777777777778,
              "#fb9f3a"
             ],
             [
              0.8888888888888888,
              "#fdca26"
             ],
             [
              1,
              "#f0f921"
             ]
            ],
            "type": "histogram2dcontour"
           }
          ],
          "mesh3d": [
           {
            "colorbar": {
             "outlinewidth": 0,
             "ticks": ""
            },
            "type": "mesh3d"
           }
          ],
          "parcoords": [
           {
            "line": {
             "colorbar": {
              "outlinewidth": 0,
              "ticks": ""
             }
            },
            "type": "parcoords"
           }
          ],
          "pie": [
           {
            "automargin": true,
            "type": "pie"
           }
          ],
          "scatter": [
           {
            "marker": {
             "colorbar": {
              "outlinewidth": 0,
              "ticks": ""
             }
            },
            "type": "scatter"
           }
          ],
          "scatter3d": [
           {
            "line": {
             "colorbar": {
              "outlinewidth": 0,
              "ticks": ""
             }
            },
            "marker": {
             "colorbar": {
              "outlinewidth": 0,
              "ticks": ""
             }
            },
            "type": "scatter3d"
           }
          ],
          "scattercarpet": [
           {
            "marker": {
             "colorbar": {
              "outlinewidth": 0,
              "ticks": ""
             }
            },
            "type": "scattercarpet"
           }
          ],
          "scattergeo": [
           {
            "marker": {
             "colorbar": {
              "outlinewidth": 0,
              "ticks": ""
             }
            },
            "type": "scattergeo"
           }
          ],
          "scattergl": [
           {
            "marker": {
             "colorbar": {
              "outlinewidth": 0,
              "ticks": ""
             }
            },
            "type": "scattergl"
           }
          ],
          "scattermapbox": [
           {
            "marker": {
             "colorbar": {
              "outlinewidth": 0,
              "ticks": ""
             }
            },
            "type": "scattermapbox"
           }
          ],
          "scatterpolar": [
           {
            "marker": {
             "colorbar": {
              "outlinewidth": 0,
              "ticks": ""
             }
            },
            "type": "scatterpolar"
           }
          ],
          "scatterpolargl": [
           {
            "marker": {
             "colorbar": {
              "outlinewidth": 0,
              "ticks": ""
             }
            },
            "type": "scatterpolargl"
           }
          ],
          "scatterternary": [
           {
            "marker": {
             "colorbar": {
              "outlinewidth": 0,
              "ticks": ""
             }
            },
            "type": "scatterternary"
           }
          ],
          "surface": [
           {
            "colorbar": {
             "outlinewidth": 0,
             "ticks": ""
            },
            "colorscale": [
             [
              0,
              "#0d0887"
             ],
             [
              0.1111111111111111,
              "#46039f"
             ],
             [
              0.2222222222222222,
              "#7201a8"
             ],
             [
              0.3333333333333333,
              "#9c179e"
             ],
             [
              0.4444444444444444,
              "#bd3786"
             ],
             [
              0.5555555555555556,
              "#d8576b"
             ],
             [
              0.6666666666666666,
              "#ed7953"
             ],
             [
              0.7777777777777778,
              "#fb9f3a"
             ],
             [
              0.8888888888888888,
              "#fdca26"
             ],
             [
              1,
              "#f0f921"
             ]
            ],
            "type": "surface"
           }
          ],
          "table": [
           {
            "cells": {
             "fill": {
              "color": "#EBF0F8"
             },
             "line": {
              "color": "white"
             }
            },
            "header": {
             "fill": {
              "color": "#C8D4E3"
             },
             "line": {
              "color": "white"
             }
            },
            "type": "table"
           }
          ]
         },
         "layout": {
          "annotationdefaults": {
           "arrowcolor": "#2a3f5f",
           "arrowhead": 0,
           "arrowwidth": 1
          },
          "autotypenumbers": "strict",
          "coloraxis": {
           "colorbar": {
            "outlinewidth": 0,
            "ticks": ""
           }
          },
          "colorscale": {
           "diverging": [
            [
             0,
             "#8e0152"
            ],
            [
             0.1,
             "#c51b7d"
            ],
            [
             0.2,
             "#de77ae"
            ],
            [
             0.3,
             "#f1b6da"
            ],
            [
             0.4,
             "#fde0ef"
            ],
            [
             0.5,
             "#f7f7f7"
            ],
            [
             0.6,
             "#e6f5d0"
            ],
            [
             0.7,
             "#b8e186"
            ],
            [
             0.8,
             "#7fbc41"
            ],
            [
             0.9,
             "#4d9221"
            ],
            [
             1,
             "#276419"
            ]
           ],
           "sequential": [
            [
             0,
             "#0d0887"
            ],
            [
             0.1111111111111111,
             "#46039f"
            ],
            [
             0.2222222222222222,
             "#7201a8"
            ],
            [
             0.3333333333333333,
             "#9c179e"
            ],
            [
             0.4444444444444444,
             "#bd3786"
            ],
            [
             0.5555555555555556,
             "#d8576b"
            ],
            [
             0.6666666666666666,
             "#ed7953"
            ],
            [
             0.7777777777777778,
             "#fb9f3a"
            ],
            [
             0.8888888888888888,
             "#fdca26"
            ],
            [
             1,
             "#f0f921"
            ]
           ],
           "sequentialminus": [
            [
             0,
             "#0d0887"
            ],
            [
             0.1111111111111111,
             "#46039f"
            ],
            [
             0.2222222222222222,
             "#7201a8"
            ],
            [
             0.3333333333333333,
             "#9c179e"
            ],
            [
             0.4444444444444444,
             "#bd3786"
            ],
            [
             0.5555555555555556,
             "#d8576b"
            ],
            [
             0.6666666666666666,
             "#ed7953"
            ],
            [
             0.7777777777777778,
             "#fb9f3a"
            ],
            [
             0.8888888888888888,
             "#fdca26"
            ],
            [
             1,
             "#f0f921"
            ]
           ]
          },
          "colorway": [
           "#636efa",
           "#EF553B",
           "#00cc96",
           "#ab63fa",
           "#FFA15A",
           "#19d3f3",
           "#FF6692",
           "#B6E880",
           "#FF97FF",
           "#FECB52"
          ],
          "font": {
           "color": "#2a3f5f"
          },
          "geo": {
           "bgcolor": "white",
           "lakecolor": "white",
           "landcolor": "#E5ECF6",
           "showlakes": true,
           "showland": true,
           "subunitcolor": "white"
          },
          "hoverlabel": {
           "align": "left"
          },
          "hovermode": "closest",
          "mapbox": {
           "style": "light"
          },
          "paper_bgcolor": "white",
          "plot_bgcolor": "#E5ECF6",
          "polar": {
           "angularaxis": {
            "gridcolor": "white",
            "linecolor": "white",
            "ticks": ""
           },
           "bgcolor": "#E5ECF6",
           "radialaxis": {
            "gridcolor": "white",
            "linecolor": "white",
            "ticks": ""
           }
          },
          "scene": {
           "xaxis": {
            "backgroundcolor": "#E5ECF6",
            "gridcolor": "white",
            "gridwidth": 2,
            "linecolor": "white",
            "showbackground": true,
            "ticks": "",
            "zerolinecolor": "white"
           },
           "yaxis": {
            "backgroundcolor": "#E5ECF6",
            "gridcolor": "white",
            "gridwidth": 2,
            "linecolor": "white",
            "showbackground": true,
            "ticks": "",
            "zerolinecolor": "white"
           },
           "zaxis": {
            "backgroundcolor": "#E5ECF6",
            "gridcolor": "white",
            "gridwidth": 2,
            "linecolor": "white",
            "showbackground": true,
            "ticks": "",
            "zerolinecolor": "white"
           }
          },
          "shapedefaults": {
           "line": {
            "color": "#2a3f5f"
           }
          },
          "ternary": {
           "aaxis": {
            "gridcolor": "white",
            "linecolor": "white",
            "ticks": ""
           },
           "baxis": {
            "gridcolor": "white",
            "linecolor": "white",
            "ticks": ""
           },
           "bgcolor": "#E5ECF6",
           "caxis": {
            "gridcolor": "white",
            "linecolor": "white",
            "ticks": ""
           }
          },
          "title": {
           "x": 0.05
          },
          "xaxis": {
           "automargin": true,
           "gridcolor": "white",
           "linecolor": "white",
           "ticks": "",
           "title": {
            "standoff": 15
           },
           "zerolinecolor": "white",
           "zerolinewidth": 2
          },
          "yaxis": {
           "automargin": true,
           "gridcolor": "white",
           "linecolor": "white",
           "ticks": "",
           "title": {
            "standoff": 15
           },
           "zerolinecolor": "white",
           "zerolinewidth": 2
          }
         }
        },
        "xaxis": {
         "anchor": "y",
         "domain": [
          0,
          0.98
         ],
         "title": {
          "text": "extractTime"
         }
        },
        "xaxis2": {
         "anchor": "y2",
         "domain": [
          0,
          0.98
         ],
         "matches": "x",
         "showticklabels": false
        },
        "xaxis3": {
         "anchor": "y3",
         "domain": [
          0,
          0.98
         ],
         "matches": "x",
         "showticklabels": false
        },
        "yaxis": {
         "anchor": "x",
         "domain": [
          0,
          0.3133333333333333
         ],
         "title": {
          "text": "price"
         }
        },
        "yaxis2": {
         "anchor": "x2",
         "domain": [
          0.34333333333333327,
          0.6566666666666665
         ],
         "matches": "y",
         "title": {
          "text": "price"
         }
        },
        "yaxis3": {
         "anchor": "x3",
         "domain": [
          0.6866666666666665,
          0.9999999999999998
         ],
         "matches": "y",
         "title": {
          "text": "price"
         }
        }
       }
      }
     },
     "metadata": {},
     "output_type": "display_data"
    }
   ],
   "source": [
    "possible_gms = giants[giants[\"id\"].isin([104738361.0, 104736558.0, 104736560.0])]\r\n",
    "gm3 = giants[giants[\"id\"] == 104738361.0]\r\n",
    "fig = px.line(possible_gms, x = \"extractTime\", y = \"price\", facet_row= \"id\", height= 700)\r\n",
    "fig.update_traces(line_color='#F4793E')"
   ]
  },
  {
   "cell_type": "code",
   "execution_count": 34,
   "metadata": {},
   "outputs": [
    {
     "data": {
      "application/vnd.plotly.v1+json": {
       "config": {
        "plotlyServerURL": "https://plot.ly"
       },
       "data": [
        {
         "alignmentgroup": "True",
         "hovertemplate": "id=104738361.0<br>extractTime=%{x}<br>ticket_count=%{y}<extra></extra>",
         "legendgroup": "",
         "marker": {
          "color": "#636efa"
         },
         "name": "",
         "offsetgroup": "",
         "orientation": "v",
         "showlegend": false,
         "textposition": "auto",
         "type": "bar",
         "x": [
          "2021-06-08T17:51:49.782776",
          "2021-06-09T12:10:18.613777",
          "2021-06-10T00:25:11.765555",
          "2021-06-10T12:10:34.477654",
          "2021-06-11T04:00:08.335010",
          "2021-06-11T12:09:18.542960",
          "2021-06-12T00:19:19.627494",
          "2021-06-12T12:08:55.197936",
          "2021-06-13T00:24:04.981032",
          "2021-06-13T12:09:14.866901",
          "2021-06-14T00:21:24.593792",
          "2021-06-14T12:09:33.799808",
          "2021-06-15T00:22:39.049301",
          "2021-06-15T12:09:40.937254",
          "2021-06-16T00:22:33.333970",
          "2021-06-16T12:09:49.442221",
          "2021-06-17T00:21:07.973934",
          "2021-06-17T12:09:52.064765",
          "2021-06-18T00:21:24.655965",
          "2021-06-18T12:09:36.082775",
          "2021-06-19T00:22:14.850219",
          "2021-06-19T12:08:54.173988",
          "2021-06-20T00:23:39.996747",
          "2021-06-20T12:08:59.132132",
          "2021-06-21T00:23:15.822270",
          "2021-06-21T12:10:07.355102",
          "2021-06-22T00:21:42.711116",
          "2021-06-22T12:09:35.274074",
          "2021-06-23T00:21:46.492726",
          "2021-06-23T12:08:09.466364",
          "2021-06-24T00:17:17.048746",
          "2021-06-24T12:10:18.882766",
          "2021-06-25T00:24:03.093984",
          "2021-06-25T12:09:38.584303",
          "2021-06-26T00:20:30.616864",
          "2021-06-26T12:09:14.048618",
          "2021-06-27T00:25:22.411522",
          "2021-06-27T12:09:50.605015",
          "2021-06-28T00:23:09.703863",
          "2021-06-28T12:10:17.892515",
          "2021-06-29T00:22:48.682048",
          "2021-06-29T12:10:12.583580",
          "2021-06-30T00:21:52.928674",
          "2021-06-30T12:09:56.720886",
          "2021-07-01T00:24:24.104292",
          "2021-07-01T12:10:55.709777",
          "2021-07-02T00:22:03.833475",
          "2021-07-02T12:10:08.065654",
          "2021-07-03T00:21:29.166196",
          "2021-07-03T12:09:33.532768",
          "2021-07-04T00:22:13.219684",
          "2021-07-04T12:09:28.059932",
          "2021-07-05T00:20:45.303363",
          "2021-07-05T12:10:19.150187",
          "2021-07-06T00:23:34.824902",
          "2021-07-06T12:10:04.857271",
          "2021-07-07T00:22:36.697288",
          "2021-07-07T12:09:55.056221",
          "2021-07-08T00:20:46.098633"
         ],
         "xaxis": "x3",
         "y": [
          0,
          0,
          0,
          0,
          1403,
          1405,
          1351,
          1365,
          1497,
          1746,
          2444,
          2454,
          2525,
          2562,
          2581,
          2585,
          2622,
          2626,
          2627,
          2621,
          2612,
          2703,
          2732,
          2750,
          2755,
          2738,
          2766,
          2406,
          2927,
          2938,
          2941,
          2926,
          3032,
          3057,
          3046,
          3021,
          3024,
          3015,
          3029,
          3007,
          3122,
          3072,
          3069,
          3034,
          3094,
          3080,
          3126,
          3114,
          3487,
          3444,
          3431,
          3414,
          3407,
          3386,
          3381,
          3373,
          3337,
          3329,
          3329
         ],
         "yaxis": "y3"
        },
        {
         "alignmentgroup": "True",
         "hovertemplate": "id=104736558.0<br>extractTime=%{x}<br>ticket_count=%{y}<extra></extra>",
         "legendgroup": "",
         "marker": {
          "color": "#636efa"
         },
         "name": "",
         "offsetgroup": "",
         "orientation": "v",
         "showlegend": false,
         "textposition": "auto",
         "type": "bar",
         "x": [
          "2021-06-08T17:51:49.782776",
          "2021-06-09T12:10:18.613780",
          "2021-06-10T00:25:11.765557",
          "2021-06-10T12:10:34.477656",
          "2021-06-11T04:00:08.335012",
          "2021-06-11T12:09:18.542961",
          "2021-06-12T00:19:19.627496",
          "2021-06-12T12:08:55.197937",
          "2021-06-13T00:24:04.981034",
          "2021-06-13T12:09:14.866903",
          "2021-06-14T00:21:24.593795",
          "2021-06-14T12:09:33.799809",
          "2021-06-15T00:22:39.049303",
          "2021-06-15T12:09:40.937256",
          "2021-06-16T00:22:33.333972",
          "2021-06-16T12:09:49.442223",
          "2021-06-17T00:21:07.973936",
          "2021-06-17T12:09:52.064767",
          "2021-06-18T00:21:24.655966",
          "2021-06-18T12:09:36.082777",
          "2021-06-19T00:22:14.850221",
          "2021-06-19T12:08:54.173989",
          "2021-06-20T00:23:39.996749",
          "2021-06-20T12:08:59.132133",
          "2021-06-21T00:23:15.822271",
          "2021-06-21T12:10:07.355104",
          "2021-06-22T00:21:42.711117",
          "2021-06-22T12:09:35.274076",
          "2021-06-23T00:21:46.492727",
          "2021-06-23T12:08:09.466366",
          "2021-06-24T00:17:17.048748",
          "2021-06-24T12:10:18.882768",
          "2021-06-25T00:24:03.093986",
          "2021-06-25T12:09:38.584304",
          "2021-06-26T00:20:30.616865",
          "2021-06-26T12:09:14.048867",
          "2021-06-27T00:25:22.411524",
          "2021-06-27T12:09:50.605017",
          "2021-06-28T00:23:09.703864",
          "2021-06-28T12:10:17.892517",
          "2021-06-29T00:22:48.682049",
          "2021-06-29T12:10:12.583582",
          "2021-06-30T00:21:52.928676",
          "2021-06-30T12:09:56.720888",
          "2021-07-01T00:24:24.104295",
          "2021-07-01T12:10:55.709779",
          "2021-07-02T00:22:03.833478",
          "2021-07-02T12:10:08.065655",
          "2021-07-03T00:21:29.166197",
          "2021-07-03T12:09:33.532769",
          "2021-07-04T00:22:13.219686",
          "2021-07-04T12:09:28.059934",
          "2021-07-05T00:20:45.303365",
          "2021-07-05T12:10:19.150188",
          "2021-07-06T00:23:34.824904",
          "2021-07-06T12:10:04.857273",
          "2021-07-07T00:22:36.697289",
          "2021-07-07T12:09:55.056223",
          "2021-07-08T00:20:46.098635"
         ],
         "xaxis": "x2",
         "y": [
          0,
          0,
          0,
          0,
          1433,
          1435,
          1395,
          1397,
          1537,
          1837,
          2429,
          2522,
          2592,
          2614,
          2640,
          2644,
          2686,
          2695,
          2695,
          2688,
          2694,
          2795,
          2793,
          2790,
          2807,
          2806,
          2814,
          2482,
          2966,
          2950,
          2944,
          2937,
          3053,
          3063,
          3090,
          3103,
          3099,
          3087,
          3118,
          3116,
          3157,
          3143,
          3145,
          3126,
          3156,
          3106,
          3124,
          3151,
          3547,
          3527,
          3524,
          3521,
          3526,
          3534,
          3528,
          3496,
          3495,
          3491,
          3495
         ],
         "yaxis": "y2"
        },
        {
         "alignmentgroup": "True",
         "hovertemplate": "id=104736560.0<br>extractTime=%{x}<br>ticket_count=%{y}<extra></extra>",
         "legendgroup": "",
         "marker": {
          "color": "#636efa"
         },
         "name": "",
         "offsetgroup": "",
         "orientation": "v",
         "showlegend": false,
         "textposition": "auto",
         "type": "bar",
         "x": [
          "2021-06-08T17:51:49.782776",
          "2021-06-09T12:10:18.613781",
          "2021-06-10T00:25:11.765558",
          "2021-06-10T12:10:34.477658",
          "2021-06-11T04:00:08.335014",
          "2021-06-11T12:09:18.542963",
          "2021-06-12T00:19:19.627497",
          "2021-06-12T12:08:55.197939",
          "2021-06-13T00:24:04.981036",
          "2021-06-13T12:09:14.866904",
          "2021-06-14T00:21:24.593798",
          "2021-06-14T12:09:33.799811",
          "2021-06-15T00:22:39.049304",
          "2021-06-15T12:09:40.937258",
          "2021-06-16T00:22:33.333973",
          "2021-06-16T12:09:49.442225",
          "2021-06-17T00:21:07.973938",
          "2021-06-17T12:09:52.064769",
          "2021-06-18T00:21:24.655968",
          "2021-06-18T12:09:36.082779",
          "2021-06-19T00:22:14.850223",
          "2021-06-19T12:08:54.173991",
          "2021-06-20T00:23:39.996751",
          "2021-06-20T12:08:59.132135",
          "2021-06-21T00:23:15.822273",
          "2021-06-21T12:10:07.355105",
          "2021-06-22T00:21:42.711119",
          "2021-06-22T12:09:35.274077",
          "2021-06-23T00:21:46.492729",
          "2021-06-23T12:08:09.466368",
          "2021-06-24T00:17:17.048750",
          "2021-06-24T12:10:18.882770",
          "2021-06-25T00:24:03.093987",
          "2021-06-25T12:09:38.584306",
          "2021-06-26T00:20:30.616867",
          "2021-06-26T12:09:14.048871",
          "2021-06-27T00:25:22.411525",
          "2021-06-27T12:09:50.605019",
          "2021-06-28T00:23:09.703867",
          "2021-06-28T12:10:17.892519",
          "2021-06-29T00:22:48.682051",
          "2021-06-29T12:10:12.583585",
          "2021-06-30T00:21:52.928678",
          "2021-06-30T12:09:56.720891",
          "2021-07-01T00:24:24.104300",
          "2021-07-01T12:10:55.709781",
          "2021-07-02T00:22:03.833482",
          "2021-07-02T12:10:08.065658",
          "2021-07-03T00:21:29.166199",
          "2021-07-03T12:09:33.532772",
          "2021-07-04T00:22:13.219688",
          "2021-07-04T12:09:28.059936",
          "2021-07-05T00:20:45.303367",
          "2021-07-05T12:10:19.150191",
          "2021-07-06T00:23:34.824907",
          "2021-07-06T12:10:04.857298",
          "2021-07-07T00:22:36.697291",
          "2021-07-07T12:09:55.056225",
          "2021-07-08T00:20:46.098637"
         ],
         "xaxis": "x",
         "y": [
          0,
          0,
          0,
          0,
          1357,
          1361,
          1300,
          1314,
          1440,
          1629,
          2180,
          2247,
          2332,
          2353,
          2394,
          2386,
          2399,
          2400,
          2378,
          2383,
          2382,
          2519,
          2514,
          2495,
          2457,
          2453,
          2440,
          2138,
          2599,
          2585,
          2587,
          2578,
          2566,
          2573,
          2577,
          2585,
          2576,
          2547,
          2547,
          2530,
          2612,
          2577,
          2538,
          2504,
          2520,
          2458,
          2490,
          2511,
          2835,
          2801,
          2780,
          2743,
          2693,
          2675,
          2576,
          2562,
          2640,
          2616,
          2562
         ],
         "yaxis": "y"
        }
       ],
       "layout": {
        "annotations": [
         {
          "font": {},
          "showarrow": false,
          "text": "id=104736560.0",
          "textangle": 90,
          "x": 0.98,
          "xanchor": "left",
          "xref": "paper",
          "y": 0.15666666666666665,
          "yanchor": "middle",
          "yref": "paper"
         },
         {
          "font": {},
          "showarrow": false,
          "text": "id=104736558.0",
          "textangle": 90,
          "x": 0.98,
          "xanchor": "left",
          "xref": "paper",
          "y": 0.4999999999999999,
          "yanchor": "middle",
          "yref": "paper"
         },
         {
          "font": {},
          "showarrow": false,
          "text": "id=104738361.0",
          "textangle": 90,
          "x": 0.98,
          "xanchor": "left",
          "xref": "paper",
          "y": 0.8433333333333332,
          "yanchor": "middle",
          "yref": "paper"
         }
        ],
        "barmode": "relative",
        "height": 500,
        "legend": {
         "tracegroupgap": 0
        },
        "margin": {
         "t": 60
        },
        "template": {
         "data": {
          "bar": [
           {
            "error_x": {
             "color": "#2a3f5f"
            },
            "error_y": {
             "color": "#2a3f5f"
            },
            "marker": {
             "line": {
              "color": "#E5ECF6",
              "width": 0.5
             }
            },
            "type": "bar"
           }
          ],
          "barpolar": [
           {
            "marker": {
             "line": {
              "color": "#E5ECF6",
              "width": 0.5
             }
            },
            "type": "barpolar"
           }
          ],
          "carpet": [
           {
            "aaxis": {
             "endlinecolor": "#2a3f5f",
             "gridcolor": "white",
             "linecolor": "white",
             "minorgridcolor": "white",
             "startlinecolor": "#2a3f5f"
            },
            "baxis": {
             "endlinecolor": "#2a3f5f",
             "gridcolor": "white",
             "linecolor": "white",
             "minorgridcolor": "white",
             "startlinecolor": "#2a3f5f"
            },
            "type": "carpet"
           }
          ],
          "choropleth": [
           {
            "colorbar": {
             "outlinewidth": 0,
             "ticks": ""
            },
            "type": "choropleth"
           }
          ],
          "contour": [
           {
            "colorbar": {
             "outlinewidth": 0,
             "ticks": ""
            },
            "colorscale": [
             [
              0,
              "#0d0887"
             ],
             [
              0.1111111111111111,
              "#46039f"
             ],
             [
              0.2222222222222222,
              "#7201a8"
             ],
             [
              0.3333333333333333,
              "#9c179e"
             ],
             [
              0.4444444444444444,
              "#bd3786"
             ],
             [
              0.5555555555555556,
              "#d8576b"
             ],
             [
              0.6666666666666666,
              "#ed7953"
             ],
             [
              0.7777777777777778,
              "#fb9f3a"
             ],
             [
              0.8888888888888888,
              "#fdca26"
             ],
             [
              1,
              "#f0f921"
             ]
            ],
            "type": "contour"
           }
          ],
          "contourcarpet": [
           {
            "colorbar": {
             "outlinewidth": 0,
             "ticks": ""
            },
            "type": "contourcarpet"
           }
          ],
          "heatmap": [
           {
            "colorbar": {
             "outlinewidth": 0,
             "ticks": ""
            },
            "colorscale": [
             [
              0,
              "#0d0887"
             ],
             [
              0.1111111111111111,
              "#46039f"
             ],
             [
              0.2222222222222222,
              "#7201a8"
             ],
             [
              0.3333333333333333,
              "#9c179e"
             ],
             [
              0.4444444444444444,
              "#bd3786"
             ],
             [
              0.5555555555555556,
              "#d8576b"
             ],
             [
              0.6666666666666666,
              "#ed7953"
             ],
             [
              0.7777777777777778,
              "#fb9f3a"
             ],
             [
              0.8888888888888888,
              "#fdca26"
             ],
             [
              1,
              "#f0f921"
             ]
            ],
            "type": "heatmap"
           }
          ],
          "heatmapgl": [
           {
            "colorbar": {
             "outlinewidth": 0,
             "ticks": ""
            },
            "colorscale": [
             [
              0,
              "#0d0887"
             ],
             [
              0.1111111111111111,
              "#46039f"
             ],
             [
              0.2222222222222222,
              "#7201a8"
             ],
             [
              0.3333333333333333,
              "#9c179e"
             ],
             [
              0.4444444444444444,
              "#bd3786"
             ],
             [
              0.5555555555555556,
              "#d8576b"
             ],
             [
              0.6666666666666666,
              "#ed7953"
             ],
             [
              0.7777777777777778,
              "#fb9f3a"
             ],
             [
              0.8888888888888888,
              "#fdca26"
             ],
             [
              1,
              "#f0f921"
             ]
            ],
            "type": "heatmapgl"
           }
          ],
          "histogram": [
           {
            "marker": {
             "colorbar": {
              "outlinewidth": 0,
              "ticks": ""
             }
            },
            "type": "histogram"
           }
          ],
          "histogram2d": [
           {
            "colorbar": {
             "outlinewidth": 0,
             "ticks": ""
            },
            "colorscale": [
             [
              0,
              "#0d0887"
             ],
             [
              0.1111111111111111,
              "#46039f"
             ],
             [
              0.2222222222222222,
              "#7201a8"
             ],
             [
              0.3333333333333333,
              "#9c179e"
             ],
             [
              0.4444444444444444,
              "#bd3786"
             ],
             [
              0.5555555555555556,
              "#d8576b"
             ],
             [
              0.6666666666666666,
              "#ed7953"
             ],
             [
              0.7777777777777778,
              "#fb9f3a"
             ],
             [
              0.8888888888888888,
              "#fdca26"
             ],
             [
              1,
              "#f0f921"
             ]
            ],
            "type": "histogram2d"
           }
          ],
          "histogram2dcontour": [
           {
            "colorbar": {
             "outlinewidth": 0,
             "ticks": ""
            },
            "colorscale": [
             [
              0,
              "#0d0887"
             ],
             [
              0.1111111111111111,
              "#46039f"
             ],
             [
              0.2222222222222222,
              "#7201a8"
             ],
             [
              0.3333333333333333,
              "#9c179e"
             ],
             [
              0.4444444444444444,
              "#bd3786"
             ],
             [
              0.5555555555555556,
              "#d8576b"
             ],
             [
              0.6666666666666666,
              "#ed7953"
             ],
             [
              0.7777777777777778,
              "#fb9f3a"
             ],
             [
              0.8888888888888888,
              "#fdca26"
             ],
             [
              1,
              "#f0f921"
             ]
            ],
            "type": "histogram2dcontour"
           }
          ],
          "mesh3d": [
           {
            "colorbar": {
             "outlinewidth": 0,
             "ticks": ""
            },
            "type": "mesh3d"
           }
          ],
          "parcoords": [
           {
            "line": {
             "colorbar": {
              "outlinewidth": 0,
              "ticks": ""
             }
            },
            "type": "parcoords"
           }
          ],
          "pie": [
           {
            "automargin": true,
            "type": "pie"
           }
          ],
          "scatter": [
           {
            "marker": {
             "colorbar": {
              "outlinewidth": 0,
              "ticks": ""
             }
            },
            "type": "scatter"
           }
          ],
          "scatter3d": [
           {
            "line": {
             "colorbar": {
              "outlinewidth": 0,
              "ticks": ""
             }
            },
            "marker": {
             "colorbar": {
              "outlinewidth": 0,
              "ticks": ""
             }
            },
            "type": "scatter3d"
           }
          ],
          "scattercarpet": [
           {
            "marker": {
             "colorbar": {
              "outlinewidth": 0,
              "ticks": ""
             }
            },
            "type": "scattercarpet"
           }
          ],
          "scattergeo": [
           {
            "marker": {
             "colorbar": {
              "outlinewidth": 0,
              "ticks": ""
             }
            },
            "type": "scattergeo"
           }
          ],
          "scattergl": [
           {
            "marker": {
             "colorbar": {
              "outlinewidth": 0,
              "ticks": ""
             }
            },
            "type": "scattergl"
           }
          ],
          "scattermapbox": [
           {
            "marker": {
             "colorbar": {
              "outlinewidth": 0,
              "ticks": ""
             }
            },
            "type": "scattermapbox"
           }
          ],
          "scatterpolar": [
           {
            "marker": {
             "colorbar": {
              "outlinewidth": 0,
              "ticks": ""
             }
            },
            "type": "scatterpolar"
           }
          ],
          "scatterpolargl": [
           {
            "marker": {
             "colorbar": {
              "outlinewidth": 0,
              "ticks": ""
             }
            },
            "type": "scatterpolargl"
           }
          ],
          "scatterternary": [
           {
            "marker": {
             "colorbar": {
              "outlinewidth": 0,
              "ticks": ""
             }
            },
            "type": "scatterternary"
           }
          ],
          "surface": [
           {
            "colorbar": {
             "outlinewidth": 0,
             "ticks": ""
            },
            "colorscale": [
             [
              0,
              "#0d0887"
             ],
             [
              0.1111111111111111,
              "#46039f"
             ],
             [
              0.2222222222222222,
              "#7201a8"
             ],
             [
              0.3333333333333333,
              "#9c179e"
             ],
             [
              0.4444444444444444,
              "#bd3786"
             ],
             [
              0.5555555555555556,
              "#d8576b"
             ],
             [
              0.6666666666666666,
              "#ed7953"
             ],
             [
              0.7777777777777778,
              "#fb9f3a"
             ],
             [
              0.8888888888888888,
              "#fdca26"
             ],
             [
              1,
              "#f0f921"
             ]
            ],
            "type": "surface"
           }
          ],
          "table": [
           {
            "cells": {
             "fill": {
              "color": "#EBF0F8"
             },
             "line": {
              "color": "white"
             }
            },
            "header": {
             "fill": {
              "color": "#C8D4E3"
             },
             "line": {
              "color": "white"
             }
            },
            "type": "table"
           }
          ]
         },
         "layout": {
          "annotationdefaults": {
           "arrowcolor": "#2a3f5f",
           "arrowhead": 0,
           "arrowwidth": 1
          },
          "autotypenumbers": "strict",
          "coloraxis": {
           "colorbar": {
            "outlinewidth": 0,
            "ticks": ""
           }
          },
          "colorscale": {
           "diverging": [
            [
             0,
             "#8e0152"
            ],
            [
             0.1,
             "#c51b7d"
            ],
            [
             0.2,
             "#de77ae"
            ],
            [
             0.3,
             "#f1b6da"
            ],
            [
             0.4,
             "#fde0ef"
            ],
            [
             0.5,
             "#f7f7f7"
            ],
            [
             0.6,
             "#e6f5d0"
            ],
            [
             0.7,
             "#b8e186"
            ],
            [
             0.8,
             "#7fbc41"
            ],
            [
             0.9,
             "#4d9221"
            ],
            [
             1,
             "#276419"
            ]
           ],
           "sequential": [
            [
             0,
             "#0d0887"
            ],
            [
             0.1111111111111111,
             "#46039f"
            ],
            [
             0.2222222222222222,
             "#7201a8"
            ],
            [
             0.3333333333333333,
             "#9c179e"
            ],
            [
             0.4444444444444444,
             "#bd3786"
            ],
            [
             0.5555555555555556,
             "#d8576b"
            ],
            [
             0.6666666666666666,
             "#ed7953"
            ],
            [
             0.7777777777777778,
             "#fb9f3a"
            ],
            [
             0.8888888888888888,
             "#fdca26"
            ],
            [
             1,
             "#f0f921"
            ]
           ],
           "sequentialminus": [
            [
             0,
             "#0d0887"
            ],
            [
             0.1111111111111111,
             "#46039f"
            ],
            [
             0.2222222222222222,
             "#7201a8"
            ],
            [
             0.3333333333333333,
             "#9c179e"
            ],
            [
             0.4444444444444444,
             "#bd3786"
            ],
            [
             0.5555555555555556,
             "#d8576b"
            ],
            [
             0.6666666666666666,
             "#ed7953"
            ],
            [
             0.7777777777777778,
             "#fb9f3a"
            ],
            [
             0.8888888888888888,
             "#fdca26"
            ],
            [
             1,
             "#f0f921"
            ]
           ]
          },
          "colorway": [
           "#636efa",
           "#EF553B",
           "#00cc96",
           "#ab63fa",
           "#FFA15A",
           "#19d3f3",
           "#FF6692",
           "#B6E880",
           "#FF97FF",
           "#FECB52"
          ],
          "font": {
           "color": "#2a3f5f"
          },
          "geo": {
           "bgcolor": "white",
           "lakecolor": "white",
           "landcolor": "#E5ECF6",
           "showlakes": true,
           "showland": true,
           "subunitcolor": "white"
          },
          "hoverlabel": {
           "align": "left"
          },
          "hovermode": "closest",
          "mapbox": {
           "style": "light"
          },
          "paper_bgcolor": "white",
          "plot_bgcolor": "#E5ECF6",
          "polar": {
           "angularaxis": {
            "gridcolor": "white",
            "linecolor": "white",
            "ticks": ""
           },
           "bgcolor": "#E5ECF6",
           "radialaxis": {
            "gridcolor": "white",
            "linecolor": "white",
            "ticks": ""
           }
          },
          "scene": {
           "xaxis": {
            "backgroundcolor": "#E5ECF6",
            "gridcolor": "white",
            "gridwidth": 2,
            "linecolor": "white",
            "showbackground": true,
            "ticks": "",
            "zerolinecolor": "white"
           },
           "yaxis": {
            "backgroundcolor": "#E5ECF6",
            "gridcolor": "white",
            "gridwidth": 2,
            "linecolor": "white",
            "showbackground": true,
            "ticks": "",
            "zerolinecolor": "white"
           },
           "zaxis": {
            "backgroundcolor": "#E5ECF6",
            "gridcolor": "white",
            "gridwidth": 2,
            "linecolor": "white",
            "showbackground": true,
            "ticks": "",
            "zerolinecolor": "white"
           }
          },
          "shapedefaults": {
           "line": {
            "color": "#2a3f5f"
           }
          },
          "ternary": {
           "aaxis": {
            "gridcolor": "white",
            "linecolor": "white",
            "ticks": ""
           },
           "baxis": {
            "gridcolor": "white",
            "linecolor": "white",
            "ticks": ""
           },
           "bgcolor": "#E5ECF6",
           "caxis": {
            "gridcolor": "white",
            "linecolor": "white",
            "ticks": ""
           }
          },
          "title": {
           "x": 0.05
          },
          "xaxis": {
           "automargin": true,
           "gridcolor": "white",
           "linecolor": "white",
           "ticks": "",
           "title": {
            "standoff": 15
           },
           "zerolinecolor": "white",
           "zerolinewidth": 2
          },
          "yaxis": {
           "automargin": true,
           "gridcolor": "white",
           "linecolor": "white",
           "ticks": "",
           "title": {
            "standoff": 15
           },
           "zerolinecolor": "white",
           "zerolinewidth": 2
          }
         }
        },
        "xaxis": {
         "anchor": "y",
         "domain": [
          0,
          0.98
         ],
         "title": {
          "text": "extractTime"
         }
        },
        "xaxis2": {
         "anchor": "y2",
         "domain": [
          0,
          0.98
         ],
         "matches": "x",
         "showticklabels": false
        },
        "xaxis3": {
         "anchor": "y3",
         "domain": [
          0,
          0.98
         ],
         "matches": "x",
         "showticklabels": false
        },
        "yaxis": {
         "anchor": "x",
         "domain": [
          0,
          0.3133333333333333
         ],
         "title": {
          "text": "ticket_count"
         }
        },
        "yaxis2": {
         "anchor": "x2",
         "domain": [
          0.34333333333333327,
          0.6566666666666665
         ],
         "matches": "y",
         "title": {
          "text": "ticket_count"
         }
        },
        "yaxis3": {
         "anchor": "x3",
         "domain": [
          0.6866666666666665,
          0.9999999999999998
         ],
         "matches": "y",
         "title": {
          "text": "ticket_count"
         }
        }
       }
      }
     },
     "metadata": {},
     "output_type": "display_data"
    }
   ],
   "source": [
    "px.bar(possible_gms, x = \"extractTime\", y = \"ticket_count\", facet_row= \"id\", height= 500)"
   ]
  },
  {
   "cell_type": "code",
   "execution_count": null,
   "metadata": {},
   "outputs": [],
   "source": []
  }
 ],
 "metadata": {
  "interpreter": {
   "hash": "477362a61becd1fc3f6af1137cb150a0360a8bc15fcfe15ec96bed26a9a26e2e"
  },
  "kernelspec": {
   "display_name": "Python 3.8.8 64-bit ('PIC16B': conda)",
   "name": "python3"
  },
  "language_info": {
   "codemirror_mode": {
    "name": "ipython",
    "version": 3
   },
   "file_extension": ".py",
   "mimetype": "text/x-python",
   "name": "python",
   "nbconvert_exporter": "python",
   "pygments_lexer": "ipython3",
   "version": "3.8.8"
  },
  "orig_nbformat": 4
 },
 "nbformat": 4,
 "nbformat_minor": 2
}