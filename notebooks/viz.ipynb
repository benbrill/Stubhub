{
 "cells": [
  {
   "cell_type": "code",
   "execution_count": 1,
   "metadata": {},
   "outputs": [],
   "source": [
    "import pandas as pd \n",
    "import seaborn as sns \n",
    "import sqlite3\n",
    "import numpy as np\n",
    "from plotly import express as px"
   ]
  },
  {
   "cell_type": "code",
   "execution_count": 2,
   "metadata": {},
   "outputs": [
    {
     "data": {
      "text/html": [
       "<div>\n",
       "<style scoped>\n",
       "    .dataframe tbody tr th:only-of-type {\n",
       "        vertical-align: middle;\n",
       "    }\n",
       "\n",
       "    .dataframe tbody tr th {\n",
       "        vertical-align: top;\n",
       "    }\n",
       "\n",
       "    .dataframe thead th {\n",
       "        text-align: right;\n",
       "    }\n",
       "</style>\n",
       "<table border=\"1\" class=\"dataframe\">\n",
       "  <thead>\n",
       "    <tr style=\"text-align: right;\">\n",
       "      <th></th>\n",
       "      <th>id</th>\n",
       "      <th>time</th>\n",
       "      <th>name</th>\n",
       "      <th>homeTeam</th>\n",
       "      <th>awayTeam</th>\n",
       "      <th>unique_name</th>\n",
       "      <th>price</th>\n",
       "      <th>extractTime</th>\n",
       "      <th>ticket_count</th>\n",
       "      <th>days_to_game</th>\n",
       "    </tr>\n",
       "  </thead>\n",
       "  <tbody>\n",
       "    <tr>\n",
       "      <th>0</th>\n",
       "      <td>104722879.0</td>\n",
       "      <td>2021-06-11</td>\n",
       "      <td>Texas Rangers at Los Angeles Dodgers</td>\n",
       "      <td>Los Angeles Dodgers</td>\n",
       "      <td>Texas Rangers</td>\n",
       "      <td>Texas Rangers at Los Angeles Dodgers: 2021-06-11</td>\n",
       "      <td>58.62</td>\n",
       "      <td>2021-06-08 17:51:48.284897</td>\n",
       "      <td>0</td>\n",
       "      <td>2.0</td>\n",
       "    </tr>\n",
       "    <tr>\n",
       "      <th>1</th>\n",
       "      <td>104725408.0</td>\n",
       "      <td>2021-06-12</td>\n",
       "      <td>Texas Rangers at Los Angeles Dodgers</td>\n",
       "      <td>Los Angeles Dodgers</td>\n",
       "      <td>Texas Rangers</td>\n",
       "      <td>Texas Rangers at Los Angeles Dodgers: 2021-06-12</td>\n",
       "      <td>29.16</td>\n",
       "      <td>2021-06-08 17:51:48.284897</td>\n",
       "      <td>0</td>\n",
       "      <td>3.0</td>\n",
       "    </tr>\n",
       "    <tr>\n",
       "      <th>2</th>\n",
       "      <td>104725409.0</td>\n",
       "      <td>2021-06-13</td>\n",
       "      <td>Texas Rangers at Los Angeles Dodgers</td>\n",
       "      <td>Los Angeles Dodgers</td>\n",
       "      <td>Texas Rangers</td>\n",
       "      <td>Texas Rangers at Los Angeles Dodgers: 2021-06-13</td>\n",
       "      <td>28.04</td>\n",
       "      <td>2021-06-08 17:51:48.284897</td>\n",
       "      <td>0</td>\n",
       "      <td>4.0</td>\n",
       "    </tr>\n",
       "    <tr>\n",
       "      <th>3</th>\n",
       "      <td>104724531.0</td>\n",
       "      <td>2021-06-14</td>\n",
       "      <td>Philadelphia Phillies at Los Angeles Dodgers</td>\n",
       "      <td>Los Angeles Dodgers</td>\n",
       "      <td>Philadelphia Phillies</td>\n",
       "      <td>Philadelphia Phillies at Los Angeles Dodgers: ...</td>\n",
       "      <td>35.55</td>\n",
       "      <td>2021-06-08 17:51:48.284897</td>\n",
       "      <td>0</td>\n",
       "      <td>5.0</td>\n",
       "    </tr>\n",
       "    <tr>\n",
       "      <th>4</th>\n",
       "      <td>104725410.0</td>\n",
       "      <td>2021-06-15</td>\n",
       "      <td>Philadelphia Phillies at Los Angeles Dodgers</td>\n",
       "      <td>Los Angeles Dodgers</td>\n",
       "      <td>Philadelphia Phillies</td>\n",
       "      <td>Philadelphia Phillies at Los Angeles Dodgers: ...</td>\n",
       "      <td>24.99</td>\n",
       "      <td>2021-06-08 17:51:48.284897</td>\n",
       "      <td>0</td>\n",
       "      <td>6.0</td>\n",
       "    </tr>\n",
       "    <tr>\n",
       "      <th>...</th>\n",
       "      <td>...</td>\n",
       "      <td>...</td>\n",
       "      <td>...</td>\n",
       "      <td>...</td>\n",
       "      <td>...</td>\n",
       "      <td>...</td>\n",
       "      <td>...</td>\n",
       "      <td>...</td>\n",
       "      <td>...</td>\n",
       "      <td>...</td>\n",
       "    </tr>\n",
       "    <tr>\n",
       "      <th>7543</th>\n",
       "      <td>104738380.0</td>\n",
       "      <td>2021-09-29</td>\n",
       "      <td>Arizona Diamondbacks at San Francisco Giants</td>\n",
       "      <td>San Francisco Giants</td>\n",
       "      <td>Arizona Diamondbacks</td>\n",
       "      <td>Arizona Diamondbacks at San Francisco Giants: ...</td>\n",
       "      <td>20.41</td>\n",
       "      <td>2021-07-06 00:23:34.824989</td>\n",
       "      <td>2644</td>\n",
       "      <td>84.0</td>\n",
       "    </tr>\n",
       "    <tr>\n",
       "      <th>7544</th>\n",
       "      <td>104736599.0</td>\n",
       "      <td>2021-09-30</td>\n",
       "      <td>Arizona Diamondbacks at San Francisco Giants</td>\n",
       "      <td>San Francisco Giants</td>\n",
       "      <td>Arizona Diamondbacks</td>\n",
       "      <td>Arizona Diamondbacks at San Francisco Giants: ...</td>\n",
       "      <td>23.79</td>\n",
       "      <td>2021-07-06 00:23:34.824991</td>\n",
       "      <td>2642</td>\n",
       "      <td>85.0</td>\n",
       "    </tr>\n",
       "    <tr>\n",
       "      <th>7545</th>\n",
       "      <td>104736601.0</td>\n",
       "      <td>2021-10-01</td>\n",
       "      <td>San Diego Padres at San Francisco Giants</td>\n",
       "      <td>San Francisco Giants</td>\n",
       "      <td>San Diego Padres</td>\n",
       "      <td>San Diego Padres at San Francisco Giants: 2021...</td>\n",
       "      <td>32.69</td>\n",
       "      <td>2021-07-06 00:23:34.824994</td>\n",
       "      <td>2860</td>\n",
       "      <td>86.0</td>\n",
       "    </tr>\n",
       "    <tr>\n",
       "      <th>7546</th>\n",
       "      <td>104738382.0</td>\n",
       "      <td>2021-10-02</td>\n",
       "      <td>San Diego Padres at San Francisco Giants</td>\n",
       "      <td>San Francisco Giants</td>\n",
       "      <td>San Diego Padres</td>\n",
       "      <td>San Diego Padres at San Francisco Giants: 2021...</td>\n",
       "      <td>54.78</td>\n",
       "      <td>2021-07-06 00:23:34.824997</td>\n",
       "      <td>2919</td>\n",
       "      <td>87.0</td>\n",
       "    </tr>\n",
       "    <tr>\n",
       "      <th>7547</th>\n",
       "      <td>104736603.0</td>\n",
       "      <td>2021-10-03</td>\n",
       "      <td>San Diego Padres at San Francisco Giants</td>\n",
       "      <td>San Francisco Giants</td>\n",
       "      <td>San Diego Padres</td>\n",
       "      <td>San Diego Padres at San Francisco Giants: 2021...</td>\n",
       "      <td>52.33</td>\n",
       "      <td>2021-07-06 00:23:34.825000</td>\n",
       "      <td>2741</td>\n",
       "      <td>88.0</td>\n",
       "    </tr>\n",
       "  </tbody>\n",
       "</table>\n",
       "<p>7544 rows × 10 columns</p>\n",
       "</div>"
      ],
      "text/plain": [
       "               id       time                                          name  \\\n",
       "0     104722879.0 2021-06-11          Texas Rangers at Los Angeles Dodgers   \n",
       "1     104725408.0 2021-06-12          Texas Rangers at Los Angeles Dodgers   \n",
       "2     104725409.0 2021-06-13          Texas Rangers at Los Angeles Dodgers   \n",
       "3     104724531.0 2021-06-14  Philadelphia Phillies at Los Angeles Dodgers   \n",
       "4     104725410.0 2021-06-15  Philadelphia Phillies at Los Angeles Dodgers   \n",
       "...           ...        ...                                           ...   \n",
       "7543  104738380.0 2021-09-29  Arizona Diamondbacks at San Francisco Giants   \n",
       "7544  104736599.0 2021-09-30  Arizona Diamondbacks at San Francisco Giants   \n",
       "7545  104736601.0 2021-10-01      San Diego Padres at San Francisco Giants   \n",
       "7546  104738382.0 2021-10-02      San Diego Padres at San Francisco Giants   \n",
       "7547  104736603.0 2021-10-03      San Diego Padres at San Francisco Giants   \n",
       "\n",
       "                  homeTeam               awayTeam  \\\n",
       "0      Los Angeles Dodgers          Texas Rangers   \n",
       "1      Los Angeles Dodgers          Texas Rangers   \n",
       "2      Los Angeles Dodgers          Texas Rangers   \n",
       "3      Los Angeles Dodgers  Philadelphia Phillies   \n",
       "4      Los Angeles Dodgers  Philadelphia Phillies   \n",
       "...                    ...                    ...   \n",
       "7543  San Francisco Giants   Arizona Diamondbacks   \n",
       "7544  San Francisco Giants   Arizona Diamondbacks   \n",
       "7545  San Francisco Giants       San Diego Padres   \n",
       "7546  San Francisco Giants       San Diego Padres   \n",
       "7547  San Francisco Giants       San Diego Padres   \n",
       "\n",
       "                                            unique_name  price  \\\n",
       "0      Texas Rangers at Los Angeles Dodgers: 2021-06-11  58.62   \n",
       "1      Texas Rangers at Los Angeles Dodgers: 2021-06-12  29.16   \n",
       "2      Texas Rangers at Los Angeles Dodgers: 2021-06-13  28.04   \n",
       "3     Philadelphia Phillies at Los Angeles Dodgers: ...  35.55   \n",
       "4     Philadelphia Phillies at Los Angeles Dodgers: ...  24.99   \n",
       "...                                                 ...    ...   \n",
       "7543  Arizona Diamondbacks at San Francisco Giants: ...  20.41   \n",
       "7544  Arizona Diamondbacks at San Francisco Giants: ...  23.79   \n",
       "7545  San Diego Padres at San Francisco Giants: 2021...  32.69   \n",
       "7546  San Diego Padres at San Francisco Giants: 2021...  54.78   \n",
       "7547  San Diego Padres at San Francisco Giants: 2021...  52.33   \n",
       "\n",
       "                    extractTime  ticket_count  days_to_game  \n",
       "0    2021-06-08 17:51:48.284897             0           2.0  \n",
       "1    2021-06-08 17:51:48.284897             0           3.0  \n",
       "2    2021-06-08 17:51:48.284897             0           4.0  \n",
       "3    2021-06-08 17:51:48.284897             0           5.0  \n",
       "4    2021-06-08 17:51:48.284897             0           6.0  \n",
       "...                         ...           ...           ...  \n",
       "7543 2021-07-06 00:23:34.824989          2644          84.0  \n",
       "7544 2021-07-06 00:23:34.824991          2642          85.0  \n",
       "7545 2021-07-06 00:23:34.824994          2860          86.0  \n",
       "7546 2021-07-06 00:23:34.824997          2919          87.0  \n",
       "7547 2021-07-06 00:23:34.825000          2741          88.0  \n",
       "\n",
       "[7544 rows x 10 columns]"
      ]
     },
     "execution_count": 2,
     "metadata": {},
     "output_type": "execute_result"
    }
   ],
   "source": [
    "with sqlite3.connect(\"../tickets.db\") as conn: \n",
    "    cmd = \\\n",
    "        \"\"\"\n",
    "        SELECT g.*, e.price, e.extractTime, e.ticket_count FROM extraction e\n",
    "        LEFT JOIN games g on e.id = g.id\n",
    "        \"\"\"\n",
    "    df = pd.read_sql_query(cmd, conn)\n",
    "df['time'], df['extractTime'] = pd.to_datetime(df['time']), pd.to_datetime(df['extractTime'])\n",
    "df['days_to_game'] = (df['time'] - df['extractTime'])\n",
    "df['days_to_game'] = df['days_to_game'].apply(lambda X: X.days)\n",
    "df = df.dropna()\n",
    "df"
   ]
  },
  {
   "cell_type": "code",
   "execution_count": 3,
   "metadata": {},
   "outputs": [],
   "source": [
    "def diff_from_max(x):\n",
    "    initial = x.to_numpy()[0]\n",
    "    return (initial - x)/x"
   ]
  },
  {
   "cell_type": "code",
   "execution_count": 4,
   "metadata": {},
   "outputs": [],
   "source": [
    "df[\"diff_initial\"] = df.groupby(\"unique_name\")[\"price\"].transform(diff_from_max)"
   ]
  },
  {
   "cell_type": "code",
   "execution_count": 5,
   "metadata": {},
   "outputs": [],
   "source": [
    "dodgers = df[df['homeTeam'] == 'Los Angeles Dodgers']\n",
    "giants = df[df['homeTeam'] == 'San Francisco Giants']\n",
    "angels = df[df['homeTeam'] == 'Los Angeles Angels']"
   ]
  },
  {
   "cell_type": "code",
   "execution_count": 6,
   "metadata": {},
   "outputs": [
    {
     "data": {
      "image/png": "[encoded data removed]",
      "text/plain": [
       "<Figure size 432x288 with 1 Axes>"
      ]
     },
     "metadata": {
      "needs_background": "light"
     },
     "output_type": "display_data"
    }
   ],
   "source": [
    "ax = sns.lineplot(x = \"days_to_game\", y = \"diff_initial\", data = df,)\r\n",
    "ax.axhline(0)\r\n",
    "ax.set_title(\"All\")\r\n",
    "ax = ax.invert_xaxis()"
   ]
  },
  {
   "cell_type": "code",
   "execution_count": 7,
   "metadata": {},
   "outputs": [
    {
     "data": {
      "application/vnd.plotly.v1+json": {
       "config": {
        "plotlyServerURL": "https://plot.ly"
       },
       "data": [
        {
         "hovertemplate": "days_to_game=%{x}<br>diff_initial=%{y}<extra></extra>",
         "legendgroup": "",
         "line": {
          "color": "#636efa",
          "dash": "solid"
         },
         "mode": "lines",
         "name": "",
         "orientation": "v",
         "showlegend": false,
         "type": "scatter",
         "x": [
          -2,
          -1,
          0,
          1,
          2,
          3,
          4,
          5,
          6,
          7,
          8,
          9,
          10,
          11,
          12,
          13,
          14,
          15,
          16,
          17,
          18,
          19,
          20,
          21,
          22,
          23,
          24,
          25,
          26,
          27,
          28,
          29,
          30,
          31,
          32,
          33,
          34,
          35,
          36,
          37,
          38,
          39,
          40,
          41,
          42,
          43,
          44,
          45,
          46,
          47,
          48,
          49,
          50,
          51,
          52,
          53,
          54,
          55,
          56,
          57,
          58,
          59,
          60,
          61,
          62,
          63,
          64,
          65,
          66,
          67,
          68,
          69,
          70,
          71,
          72,
          73,
          74,
          75,
          76,
          77,
          78,
          79,
          80,
          81,
          82,
          83,
          84,
          85,
          86,
          87,
          88,
          89,
          90,
          91,
          92,
          93,
          94,
          95,
          96,
          97,
          98,
          99,
          100,
          101,
          102,
          103,
          104,
          105,
          106,
          107,
          108,
          109,
          110,
          111,
          112,
          113,
          114,
          115,
          116
         ],
         "xaxis": "x",
         "y": [
          -0.04843428637513641,
          0.11331799946308409,
          0.10418255522404613,
          0.12565479860466217,
          0.14317433140795932,
          0.1262486264577079,
          0.07423013170147794,
          0.09684303710159299,
          0.09392236477702924,
          0.09969745661099644,
          0.04885702617151965,
          0.05751548631792237,
          0.08399319362667751,
          0.0887158420738838,
          0.06642422880245369,
          0.052066956736047734,
          0.043698916149659185,
          0.03530488033203695,
          0.006275780266450358,
          0.01314624848128964,
          -0.024481406532474142,
          -0.029640311461395303,
          0.04614429673538773,
          0.00488278680285714,
          0.00911990786466957,
          0.008002425877989265,
          0.023116243163629358,
          0.012224079623008293,
          -0.0068851989741228374,
          -0.008740295295445639,
          -0.010479830868477038,
          -0.014273437993153474,
          -0.00979434849017088,
          -0.003960651365447439,
          0.024951425262102922,
          0.04410750797326912,
          0.038441403374575994,
          0.011504399449105567,
          -0.009237769037337149,
          -0.02291975455064942,
          -0.027561657300976098,
          -0.02018230173357449,
          -0.031101897243500556,
          -0.036275319138047775,
          -0.03667969137526942,
          -0.037185156671796483,
          -0.04249732191062455,
          -0.03984550628554464,
          -0.057686952565090266,
          -0.005681734288726,
          -0.019247193324869585,
          0.0011395243483752063,
          0.007694933509322488,
          0.016323608883325222,
          0.04387723329875668,
          0.04381132225093872,
          0.006831427402440361,
          -0.01403326255133189,
          -0.017807474531995483,
          -0.019758891809397796,
          -0.027336895324739482,
          -0.027669000323475544,
          -0.03223891258223822,
          -0.02828541310583503,
          -0.01604079479142367,
          -0.012185956562954755,
          -0.007395280717930826,
          0.030949168954327925,
          0.062176736022671084,
          0.0399112356756808,
          0.011314705467641392,
          0.012911059019801613,
          0.014202164921781774,
          0.009407644373836562,
          0.027859067552676357,
          0.055302817546637274,
          0.045213159641624735,
          0.03874951714869579,
          0.033172000269929475,
          0.03018148981831535,
          0.027145324057850133,
          0.028727346381642482,
          0.03160008101980673,
          0.03511120113311859,
          0.03950010127475841,
          0.06045606216302451,
          0.06625749721527327,
          0.07177895531654604,
          0.10356949411922696,
          0.15299087054272179,
          0.11196384085787364,
          0.02234871547799486,
          0.005130757161019546,
          0.009371523561092951,
          0.010090296508230526,
          0.04222819444182203,
          0.04356111446662054,
          0.04840123829624504,
          0.05445139308327567,
          0.05972996025518521,
          0.06163204598559809,
          0.06676804981773127,
          0.06676804981773127,
          0.06676804981773127,
          0.06676804981773127,
          0.06676804981773127,
          0.06676804981773127,
          0.07617747454233346,
          0.08245042435873493,
          0.07835444071900476,
          0.07208149090260328,
          0.04025709182776639,
          0.010965605729423471,
          0.00975934534669513,
          0.003332300061996278,
          0,
          0,
          0,
          0
         ],
         "yaxis": "y"
        }
       ],
       "layout": {
        "legend": {
         "tracegroupgap": 0
        },
        "margin": {
         "t": 60
        },
        "template": {
         "data": {
          "bar": [
           {
            "error_x": {
             "color": "#2a3f5f"
            },
            "error_y": {
             "color": "#2a3f5f"
            },
            "marker": {
             "line": {
              "color": "#E5ECF6",
              "width": 0.5
             }
            },
            "type": "bar"
           }
          ],
          "barpolar": [
           {
            "marker": {
             "line": {
              "color": "#E5ECF6",
              "width": 0.5
             }
            },
            "type": "barpolar"
           }
          ],
          "carpet": [
           {
            "aaxis": {
             "endlinecolor": "#2a3f5f",
             "gridcolor": "white",
             "linecolor": "white",
             "minorgridcolor": "white",
             "startlinecolor": "#2a3f5f"
            },
            "baxis": {
             "endlinecolor": "#2a3f5f",
             "gridcolor": "white",
             "linecolor": "white",
             "minorgridcolor": "white",
             "startlinecolor": "#2a3f5f"
            },
            "type": "carpet"
           }
          ],
          "choropleth": [
           {
            "colorbar": {
             "outlinewidth": 0,
             "ticks": ""
            },
            "type": "choropleth"
           }
          ],
          "contour": [
           {
            "colorbar": {
             "outlinewidth": 0,
             "ticks": ""
            },
            "colorscale": [
             [
              0,
              "#0d0887"
             ],
             [
              0.1111111111111111,
              "#46039f"
             ],
             [
              0.2222222222222222,
              "#7201a8"
             ],
             [
              0.3333333333333333,
              "#9c179e"
             ],
             [
              0.4444444444444444,
              "#bd3786"
             ],
             [
              0.5555555555555556,
              "#d8576b"
             ],
             [
              0.6666666666666666,
              "#ed7953"
             ],
             [
              0.7777777777777778,
              "#fb9f3a"
             ],
             [
              0.8888888888888888,
              "#fdca26"
             ],
             [
              1,
              "#f0f921"
             ]
            ],
            "type": "contour"
           }
          ],
          "contourcarpet": [
           {
            "colorbar": {
             "outlinewidth": 0,
             "ticks": ""
            },
            "type": "contourcarpet"
           }
          ],
          "heatmap": [
           {
            "colorbar": {
             "outlinewidth": 0,
             "ticks": ""
            },
            "colorscale": [
             [
              0,
              "#0d0887"
             ],
             [
              0.1111111111111111,
              "#46039f"
             ],
             [
              0.2222222222222222,
              "#7201a8"
             ],
             [
              0.3333333333333333,
              "#9c179e"
             ],
             [
              0.4444444444444444,
              "#bd3786"
             ],
             [
              0.5555555555555556,
              "#d8576b"
             ],
             [
              0.6666666666666666,
              "#ed7953"
             ],
             [
              0.7777777777777778,
              "#fb9f3a"
             ],
             [
              0.8888888888888888,
              "#fdca26"
             ],
             [
              1,
              "#f0f921"
             ]
            ],
            "type": "heatmap"
           }
          ],
          "heatmapgl": [
           {
            "colorbar": {
             "outlinewidth": 0,
             "ticks": ""
            },
            "colorscale": [
             [
              0,
              "#0d0887"
             ],
             [
              0.1111111111111111,
              "#46039f"
             ],
             [
              0.2222222222222222,
              "#7201a8"
             ],
             [
              0.3333333333333333,
              "#9c179e"
             ],
             [
              0.4444444444444444,
              "#bd3786"
             ],
             [
              0.5555555555555556,
              "#d8576b"
             ],
             [
              0.6666666666666666,
              "#ed7953"
             ],
             [
              0.7777777777777778,
              "#fb9f3a"
             ],
             [
              0.8888888888888888,
              "#fdca26"
             ],
             [
              1,
              "#f0f921"
             ]
            ],
            "type": "heatmapgl"
           }
          ],
          "histogram": [
           {
            "marker": {
             "colorbar": {
              "outlinewidth": 0,
              "ticks": ""
             }
            },
            "type": "histogram"
           }
          ],
          "histogram2d": [
           {
            "colorbar": {
             "outlinewidth": 0,
             "ticks": ""
            },
            "colorscale": [
             [
              0,
              "#0d0887"
             ],
             [
              0.1111111111111111,
              "#46039f"
             ],
             [
              0.2222222222222222,
              "#7201a8"
             ],
             [
              0.3333333333333333,
              "#9c179e"
             ],
             [
              0.4444444444444444,
              "#bd3786"
             ],
             [
              0.5555555555555556,
              "#d8576b"
             ],
             [
              0.6666666666666666,
              "#ed7953"
             ],
             [
              0.7777777777777778,
              "#fb9f3a"
             ],
             [
              0.8888888888888888,
              "#fdca26"
             ],
             [
              1,
              "#f0f921"
             ]
            ],
            "type": "histogram2d"
           }
          ],
          "histogram2dcontour": [
           {
            "colorbar": {
             "outlinewidth": 0,
             "ticks": ""
            },
            "colorscale": [
             [
              0,
              "#0d0887"
             ],
             [
              0.1111111111111111,
              "#46039f"
             ],
             [
              0.2222222222222222,
              "#7201a8"
             ],
             [
              0.3333333333333333,
              "#9c179e"
             ],
             [
              0.4444444444444444,
              "#bd3786"
             ],
             [
              0.5555555555555556,
              "#d8576b"
             ],
             [
              0.6666666666666666,
              "#ed7953"
             ],
             [
              0.7777777777777778,
              "#fb9f3a"
             ],
             [
              0.8888888888888888,
              "#fdca26"
             ],
             [
              1,
              "#f0f921"
             ]
            ],
            "type": "histogram2dcontour"
           }
          ],
          "mesh3d": [
           {
            "colorbar": {
             "outlinewidth": 0,
             "ticks": ""
            },
            "type": "mesh3d"
           }
          ],
          "parcoords": [
           {
            "line": {
             "colorbar": {
              "outlinewidth": 0,
              "ticks": ""
             }
            },
            "type": "parcoords"
           }
          ],
          "pie": [
           {
            "automargin": true,
            "type": "pie"
           }
          ],
          "scatter": [
           {
            "marker": {
             "colorbar": {
              "outlinewidth": 0,
              "ticks": ""
             }
            },
            "type": "scatter"
           }
          ],
          "scatter3d": [
           {
            "line": {
             "colorbar": {
              "outlinewidth": 0,
              "ticks": ""
             }
            },
            "marker": {
             "colorbar": {
              "outlinewidth": 0,
              "ticks": ""
             }
            },
            "type": "scatter3d"
           }
          ],
          "scattercarpet": [
           {
            "marker": {
             "colorbar": {
              "outlinewidth": 0,
              "ticks": ""
             }
            },
            "type": "scattercarpet"
           }
          ],
          "scattergeo": [
           {
            "marker": {
             "colorbar": {
              "outlinewidth": 0,
              "ticks": ""
             }
            },
            "type": "scattergeo"
           }
          ],
          "scattergl": [
           {
            "marker": {
             "colorbar": {
              "outlinewidth": 0,
              "ticks": ""
             }
            },
            "type": "scattergl"
           }
          ],
          "scattermapbox": [
           {
            "marker": {
             "colorbar": {
              "outlinewidth": 0,
              "ticks": ""
             }
            },
            "type": "scattermapbox"
           }
          ],
          "scatterpolar": [
           {
            "marker": {
             "colorbar": {
              "outlinewidth": 0,
              "ticks": ""
             }
            },
            "type": "scatterpolar"
           }
          ],
          "scatterpolargl": [
           {
            "marker": {
             "colorbar": {
              "outlinewidth": 0,
              "ticks": ""
             }
            },
            "type": "scatterpolargl"
           }
          ],
          "scatterternary": [
           {
            "marker": {
             "colorbar": {
              "outlinewidth": 0,
              "ticks": ""
             }
            },
            "type": "scatterternary"
           }
          ],
          "surface": [
           {
            "colorbar": {
             "outlinewidth": 0,
             "ticks": ""
            },
            "colorscale": [
             [
              0,
              "#0d0887"
             ],
             [
              0.1111111111111111,
              "#46039f"
             ],
             [
              0.2222222222222222,
              "#7201a8"
             ],
             [
              0.3333333333333333,
              "#9c179e"
             ],
             [
              0.4444444444444444,
              "#bd3786"
             ],
             [
              0.5555555555555556,
              "#d8576b"
             ],
             [
              0.6666666666666666,
              "#ed7953"
             ],
             [
              0.7777777777777778,
              "#fb9f3a"
             ],
             [
              0.8888888888888888,
              "#fdca26"
             ],
             [
              1,
              "#f0f921"
             ]
            ],
            "type": "surface"
           }
          ],
          "table": [
           {
            "cells": {
             "fill": {
              "color": "#EBF0F8"
             },
             "line": {
              "color": "white"
             }
            },
            "header": {
             "fill": {
              "color": "#C8D4E3"
             },
             "line": {
              "color": "white"
             }
            },
            "type": "table"
           }
          ]
         },
         "layout": {
          "annotationdefaults": {
           "arrowcolor": "#2a3f5f",
           "arrowhead": 0,
           "arrowwidth": 1
          },
          "autotypenumbers": "strict",
          "coloraxis": {
           "colorbar": {
            "outlinewidth": 0,
            "ticks": ""
           }
          },
          "colorscale": {
           "diverging": [
            [
             0,
             "#8e0152"
            ],
            [
             0.1,
             "#c51b7d"
            ],
            [
             0.2,
             "#de77ae"
            ],
            [
             0.3,
             "#f1b6da"
            ],
            [
             0.4,
             "#fde0ef"
            ],
            [
             0.5,
             "#f7f7f7"
            ],
            [
             0.6,
             "#e6f5d0"
            ],
            [
             0.7,
             "#b8e186"
            ],
            [
             0.8,
             "#7fbc41"
            ],
            [
             0.9,
             "#4d9221"
            ],
            [
             1,
             "#276419"
            ]
           ],
           "sequential": [
            [
             0,
             "#0d0887"
            ],
            [
             0.1111111111111111,
             "#46039f"
            ],
            [
             0.2222222222222222,
             "#7201a8"
            ],
            [
             0.3333333333333333,
             "#9c179e"
            ],
            [
             0.4444444444444444,
             "#bd3786"
            ],
            [
             0.5555555555555556,
             "#d8576b"
            ],
            [
             0.6666666666666666,
             "#ed7953"
            ],
            [
             0.7777777777777778,
             "#fb9f3a"
            ],
            [
             0.8888888888888888,
             "#fdca26"
            ],
            [
             1,
             "#f0f921"
            ]
           ],
           "sequentialminus": [
            [
             0,
             "#0d0887"
            ],
            [
             0.1111111111111111,
             "#46039f"
            ],
            [
             0.2222222222222222,
             "#7201a8"
            ],
            [
             0.3333333333333333,
             "#9c179e"
            ],
            [
             0.4444444444444444,
             "#bd3786"
            ],
            [
             0.5555555555555556,
             "#d8576b"
            ],
            [
             0.6666666666666666,
             "#ed7953"
            ],
            [
             0.7777777777777778,
             "#fb9f3a"
            ],
            [
             0.8888888888888888,
             "#fdca26"
            ],
            [
             1,
             "#f0f921"
            ]
           ]
          },
          "colorway": [
           "#636efa",
           "#EF553B",
           "#00cc96",
           "#ab63fa",
           "#FFA15A",
           "#19d3f3",
           "#FF6692",
           "#B6E880",
           "#FF97FF",
           "#FECB52"
          ],
          "font": {
           "color": "#2a3f5f"
          },
          "geo": {
           "bgcolor": "white",
           "lakecolor": "white",
           "landcolor": "#E5ECF6",
           "showlakes": true,
           "showland": true,
           "subunitcolor": "white"
          },
          "hoverlabel": {
           "align": "left"
          },
          "hovermode": "closest",
          "mapbox": {
           "style": "light"
          },
          "paper_bgcolor": "white",
          "plot_bgcolor": "#E5ECF6",
          "polar": {
           "angularaxis": {
            "gridcolor": "white",
            "linecolor": "white",
            "ticks": ""
           },
           "bgcolor": "#E5ECF6",
           "radialaxis": {
            "gridcolor": "white",
            "linecolor": "white",
            "ticks": ""
           }
          },
          "scene": {
           "xaxis": {
            "backgroundcolor": "#E5ECF6",
            "gridcolor": "white",
            "gridwidth": 2,
            "linecolor": "white",
            "showbackground": true,
            "ticks": "",
            "zerolinecolor": "white"
           },
           "yaxis": {
            "backgroundcolor": "#E5ECF6",
            "gridcolor": "white",
            "gridwidth": 2,
            "linecolor": "white",
            "showbackground": true,
            "ticks": "",
            "zerolinecolor": "white"
           },
           "zaxis": {
            "backgroundcolor": "#E5ECF6",
            "gridcolor": "white",
            "gridwidth": 2,
            "linecolor": "white",
            "showbackground": true,
            "ticks": "",
            "zerolinecolor": "white"
           }
          },
          "shapedefaults": {
           "line": {
            "color": "#2a3f5f"
           }
          },
          "ternary": {
           "aaxis": {
            "gridcolor": "white",
            "linecolor": "white",
            "ticks": ""
           },
           "baxis": {
            "gridcolor": "white",
            "linecolor": "white",
            "ticks": ""
           },
           "bgcolor": "#E5ECF6",
           "caxis": {
            "gridcolor": "white",
            "linecolor": "white",
            "ticks": ""
           }
          },
          "title": {
           "x": 0.05
          },
          "xaxis": {
           "automargin": true,
           "gridcolor": "white",
           "linecolor": "white",
           "ticks": "",
           "title": {
            "standoff": 15
           },
           "zerolinecolor": "white",
           "zerolinewidth": 2
          },
          "yaxis": {
           "automargin": true,
           "gridcolor": "white",
           "linecolor": "white",
           "ticks": "",
           "title": {
            "standoff": 15
           },
           "zerolinecolor": "white",
           "zerolinewidth": 2
          }
         }
        },
        "xaxis": {
         "anchor": "y",
         "domain": [
          0,
          1
         ],
         "title": {
          "text": "days_to_game"
         }
        },
        "yaxis": {
         "anchor": "x",
         "domain": [
          0,
          1
         ],
         "title": {
          "text": "diff_initial"
         }
        }
       }
      }
     },
     "metadata": {},
     "output_type": "display_data"
    }
   ],
   "source": [
    "c = dodgers.groupby(\"days_to_game\")['diff_initial'].mean().reset_index()\r\n",
    "ax = px.line(c, x = \"days_to_game\", y = \"diff_initial\",)\r\n",
    "ax.show()"
   ]
  },
  {
   "cell_type": "code",
   "execution_count": 6,
   "metadata": {},
   "outputs": [
    {
     "data": {
      "text/plain": [
       "2.0"
      ]
     },
     "execution_count": 6,
     "metadata": {},
     "output_type": "execute_result"
    },
    {
     "data": {
      "image/png": "[encoded data removed]",
      "text/plain": [
       "<Figure size 432x288 with 1 Axes>"
      ]
     },
     "metadata": {
      "needs_background": "light"
     },
     "output_type": "display_data"
    }
   ],
   "source": [
    "ax = sns.lineplot(x = \"days_to_game\", y = \"diff_initial\", data = dodgers)\r\n",
    "ax.axhline(0)\r\n",
    "ax.set_title(\"dodgers\")\r\n",
    "ax = ax.invert_xaxis()\r\n",
    "dodgers.groupby(\"days_to_game\")[\"diff_initial\"].mean().idxmax()"
   ]
  },
  {
   "cell_type": "code",
   "execution_count": 7,
   "metadata": {},
   "outputs": [
    {
     "data": {
      "text/html": [
       "<div>\n",
       "<style scoped>\n",
       "    .dataframe tbody tr th:only-of-type {\n",
       "        vertical-align: middle;\n",
       "    }\n",
       "\n",
       "    .dataframe tbody tr th {\n",
       "        vertical-align: top;\n",
       "    }\n",
       "\n",
       "    .dataframe thead tr th {\n",
       "        text-align: left;\n",
       "    }\n",
       "\n",
       "    .dataframe thead tr:last-of-type th {\n",
       "        text-align: right;\n",
       "    }\n",
       "</style>\n",
       "<table border=\"1\" class=\"dataframe\">\n",
       "  <thead>\n",
       "    <tr>\n",
       "      <th></th>\n",
       "      <th colspan=\"2\" halign=\"left\">price</th>\n",
       "    </tr>\n",
       "    <tr>\n",
       "      <th></th>\n",
       "      <th>last</th>\n",
       "      <th>first</th>\n",
       "    </tr>\n",
       "    <tr>\n",
       "      <th>unique_name</th>\n",
       "      <th></th>\n",
       "      <th></th>\n",
       "    </tr>\n",
       "  </thead>\n",
       "  <tbody>\n",
       "    <tr>\n",
       "      <th>Los Angeles Dodgers at San Francisco Giants: 2021-07-27</th>\n",
       "      <td>44.96</td>\n",
       "      <td>69.51</td>\n",
       "    </tr>\n",
       "    <tr>\n",
       "      <th>Los Angeles Dodgers at San Francisco Giants: 2021-07-28</th>\n",
       "      <td>50.02</td>\n",
       "      <td>70.13</td>\n",
       "    </tr>\n",
       "    <tr>\n",
       "      <th>Los Angeles Dodgers at San Francisco Giants: 2021-07-29</th>\n",
       "      <td>54.66</td>\n",
       "      <td>89.14</td>\n",
       "    </tr>\n",
       "    <tr>\n",
       "      <th>Los Angeles Dodgers at San Francisco Giants: 2021-09-03</th>\n",
       "      <td>57.24</td>\n",
       "      <td>75.65</td>\n",
       "    </tr>\n",
       "    <tr>\n",
       "      <th>Los Angeles Dodgers at San Francisco Giants: 2021-09-04</th>\n",
       "      <td>63.38</td>\n",
       "      <td>87.93</td>\n",
       "    </tr>\n",
       "    <tr>\n",
       "      <th>Los Angeles Dodgers at San Francisco Giants: 2021-09-05</th>\n",
       "      <td>63.38</td>\n",
       "      <td>92.21</td>\n",
       "    </tr>\n",
       "  </tbody>\n",
       "</table>\n",
       "</div>"
      ],
      "text/plain": [
       "                                                    price       \n",
       "                                                     last  first\n",
       "unique_name                                                     \n",
       "Los Angeles Dodgers at San Francisco Giants: 20...  44.96  69.51\n",
       "Los Angeles Dodgers at San Francisco Giants: 20...  50.02  70.13\n",
       "Los Angeles Dodgers at San Francisco Giants: 20...  54.66  89.14\n",
       "Los Angeles Dodgers at San Francisco Giants: 20...  57.24  75.65\n",
       "Los Angeles Dodgers at San Francisco Giants: 20...  63.38  87.93\n",
       "Los Angeles Dodgers at San Francisco Giants: 20...  63.38  92.21"
      ]
     },
     "execution_count": 7,
     "metadata": {},
     "output_type": "execute_result"
    }
   ],
   "source": [
    "giants[giants[\"awayTeam\"] == \"Los Angeles Dodgers\"].groupby(\"unique_name\")[[\"price\"]].aggregate([\"last\", \"first\"])"
   ]
  },
  {
   "cell_type": "code",
   "execution_count": 7,
   "metadata": {},
   "outputs": [
    {
     "data": {
      "text/html": [
       "<div>\n",
       "<style scoped>\n",
       "    .dataframe tbody tr th:only-of-type {\n",
       "        vertical-align: middle;\n",
       "    }\n",
       "\n",
       "    .dataframe tbody tr th {\n",
       "        vertical-align: top;\n",
       "    }\n",
       "\n",
       "    .dataframe thead th {\n",
       "        text-align: right;\n",
       "    }\n",
       "</style>\n",
       "<table border=\"1\" class=\"dataframe\">\n",
       "  <thead>\n",
       "    <tr style=\"text-align: right;\">\n",
       "      <th></th>\n",
       "      <th>id</th>\n",
       "      <th>time</th>\n",
       "      <th>name</th>\n",
       "      <th>homeTeam</th>\n",
       "      <th>awayTeam</th>\n",
       "      <th>unique_name</th>\n",
       "      <th>price</th>\n",
       "      <th>extractTime</th>\n",
       "      <th>ticket_count</th>\n",
       "      <th>days_to_game</th>\n",
       "      <th>diff_initial</th>\n",
       "    </tr>\n",
       "  </thead>\n",
       "  <tbody>\n",
       "    <tr>\n",
       "      <th>121</th>\n",
       "      <td>104736558.0</td>\n",
       "      <td>2021-07-28</td>\n",
       "      <td>Los Angeles Dodgers at San Francisco Giants</td>\n",
       "      <td>San Francisco Giants</td>\n",
       "      <td>Los Angeles Dodgers</td>\n",
       "      <td>Los Angeles Dodgers at San Francisco Giants: 2...</td>\n",
       "      <td>70.13</td>\n",
       "      <td>2021-06-08 17:51:49.782776</td>\n",
       "      <td>0</td>\n",
       "      <td>49.0</td>\n",
       "      <td>0.000000</td>\n",
       "    </tr>\n",
       "    <tr>\n",
       "      <th>275</th>\n",
       "      <td>104736558.0</td>\n",
       "      <td>2021-07-28</td>\n",
       "      <td>Los Angeles Dodgers at San Francisco Giants</td>\n",
       "      <td>San Francisco Giants</td>\n",
       "      <td>Los Angeles Dodgers</td>\n",
       "      <td>Los Angeles Dodgers at San Francisco Giants: 2...</td>\n",
       "      <td>69.50</td>\n",
       "      <td>2021-06-09 12:10:18.613780</td>\n",
       "      <td>0</td>\n",
       "      <td>48.0</td>\n",
       "      <td>0.009065</td>\n",
       "    </tr>\n",
       "    <tr>\n",
       "      <th>429</th>\n",
       "      <td>104736558.0</td>\n",
       "      <td>2021-07-28</td>\n",
       "      <td>Los Angeles Dodgers at San Francisco Giants</td>\n",
       "      <td>San Francisco Giants</td>\n",
       "      <td>Los Angeles Dodgers</td>\n",
       "      <td>Los Angeles Dodgers at San Francisco Giants: 2...</td>\n",
       "      <td>69.50</td>\n",
       "      <td>2021-06-10 00:25:11.765557</td>\n",
       "      <td>0</td>\n",
       "      <td>47.0</td>\n",
       "      <td>0.009065</td>\n",
       "    </tr>\n",
       "    <tr>\n",
       "      <th>582</th>\n",
       "      <td>104736558.0</td>\n",
       "      <td>2021-07-28</td>\n",
       "      <td>Los Angeles Dodgers at San Francisco Giants</td>\n",
       "      <td>San Francisco Giants</td>\n",
       "      <td>Los Angeles Dodgers</td>\n",
       "      <td>Los Angeles Dodgers at San Francisco Giants: 2...</td>\n",
       "      <td>69.50</td>\n",
       "      <td>2021-06-10 12:10:34.477656</td>\n",
       "      <td>0</td>\n",
       "      <td>47.0</td>\n",
       "      <td>0.009065</td>\n",
       "    </tr>\n",
       "    <tr>\n",
       "      <th>735</th>\n",
       "      <td>104736558.0</td>\n",
       "      <td>2021-07-28</td>\n",
       "      <td>Los Angeles Dodgers at San Francisco Giants</td>\n",
       "      <td>San Francisco Giants</td>\n",
       "      <td>Los Angeles Dodgers</td>\n",
       "      <td>Los Angeles Dodgers at San Francisco Giants: 2...</td>\n",
       "      <td>69.50</td>\n",
       "      <td>2021-06-11 04:00:08.335012</td>\n",
       "      <td>1433</td>\n",
       "      <td>46.0</td>\n",
       "      <td>0.009065</td>\n",
       "    </tr>\n",
       "    <tr>\n",
       "      <th>888</th>\n",
       "      <td>104736558.0</td>\n",
       "      <td>2021-07-28</td>\n",
       "      <td>Los Angeles Dodgers at San Francisco Giants</td>\n",
       "      <td>San Francisco Giants</td>\n",
       "      <td>Los Angeles Dodgers</td>\n",
       "      <td>Los Angeles Dodgers at San Francisco Giants: 2...</td>\n",
       "      <td>69.50</td>\n",
       "      <td>2021-06-11 12:09:18.542961</td>\n",
       "      <td>1435</td>\n",
       "      <td>46.0</td>\n",
       "      <td>0.009065</td>\n",
       "    </tr>\n",
       "    <tr>\n",
       "      <th>1041</th>\n",
       "      <td>104736558.0</td>\n",
       "      <td>2021-07-28</td>\n",
       "      <td>Los Angeles Dodgers at San Francisco Giants</td>\n",
       "      <td>San Francisco Giants</td>\n",
       "      <td>Los Angeles Dodgers</td>\n",
       "      <td>Los Angeles Dodgers at San Francisco Giants: 2...</td>\n",
       "      <td>69.50</td>\n",
       "      <td>2021-06-12 00:19:19.627496</td>\n",
       "      <td>1395</td>\n",
       "      <td>45.0</td>\n",
       "      <td>0.009065</td>\n",
       "    </tr>\n",
       "    <tr>\n",
       "      <th>1193</th>\n",
       "      <td>104736558.0</td>\n",
       "      <td>2021-07-28</td>\n",
       "      <td>Los Angeles Dodgers at San Francisco Giants</td>\n",
       "      <td>San Francisco Giants</td>\n",
       "      <td>Los Angeles Dodgers</td>\n",
       "      <td>Los Angeles Dodgers at San Francisco Giants: 2...</td>\n",
       "      <td>69.50</td>\n",
       "      <td>2021-06-12 12:08:55.197937</td>\n",
       "      <td>1397</td>\n",
       "      <td>45.0</td>\n",
       "      <td>0.009065</td>\n",
       "    </tr>\n",
       "    <tr>\n",
       "      <th>1345</th>\n",
       "      <td>104736558.0</td>\n",
       "      <td>2021-07-28</td>\n",
       "      <td>Los Angeles Dodgers at San Francisco Giants</td>\n",
       "      <td>San Francisco Giants</td>\n",
       "      <td>Los Angeles Dodgers</td>\n",
       "      <td>Los Angeles Dodgers at San Francisco Giants: 2...</td>\n",
       "      <td>65.83</td>\n",
       "      <td>2021-06-13 00:24:04.981034</td>\n",
       "      <td>1537</td>\n",
       "      <td>44.0</td>\n",
       "      <td>0.065320</td>\n",
       "    </tr>\n",
       "    <tr>\n",
       "      <th>1496</th>\n",
       "      <td>104736558.0</td>\n",
       "      <td>2021-07-28</td>\n",
       "      <td>Los Angeles Dodgers at San Francisco Giants</td>\n",
       "      <td>San Francisco Giants</td>\n",
       "      <td>Los Angeles Dodgers</td>\n",
       "      <td>Los Angeles Dodgers at San Francisco Giants: 2...</td>\n",
       "      <td>65.83</td>\n",
       "      <td>2021-06-13 12:09:14.866903</td>\n",
       "      <td>1837</td>\n",
       "      <td>44.0</td>\n",
       "      <td>0.065320</td>\n",
       "    </tr>\n",
       "    <tr>\n",
       "      <th>1646</th>\n",
       "      <td>104736558.0</td>\n",
       "      <td>2021-07-28</td>\n",
       "      <td>Los Angeles Dodgers at San Francisco Giants</td>\n",
       "      <td>San Francisco Giants</td>\n",
       "      <td>Los Angeles Dodgers</td>\n",
       "      <td>Los Angeles Dodgers at San Francisco Giants: 2...</td>\n",
       "      <td>61.04</td>\n",
       "      <td>2021-06-14 00:21:24.593795</td>\n",
       "      <td>2429</td>\n",
       "      <td>43.0</td>\n",
       "      <td>0.148919</td>\n",
       "    </tr>\n",
       "    <tr>\n",
       "      <th>1796</th>\n",
       "      <td>104736558.0</td>\n",
       "      <td>2021-07-28</td>\n",
       "      <td>Los Angeles Dodgers at San Francisco Giants</td>\n",
       "      <td>San Francisco Giants</td>\n",
       "      <td>Los Angeles Dodgers</td>\n",
       "      <td>Los Angeles Dodgers at San Francisco Giants: 2...</td>\n",
       "      <td>61.04</td>\n",
       "      <td>2021-06-14 12:09:33.799809</td>\n",
       "      <td>2522</td>\n",
       "      <td>43.0</td>\n",
       "      <td>0.148919</td>\n",
       "    </tr>\n",
       "    <tr>\n",
       "      <th>1946</th>\n",
       "      <td>104736558.0</td>\n",
       "      <td>2021-07-28</td>\n",
       "      <td>Los Angeles Dodgers at San Francisco Giants</td>\n",
       "      <td>San Francisco Giants</td>\n",
       "      <td>Los Angeles Dodgers</td>\n",
       "      <td>Los Angeles Dodgers at San Francisco Giants: 2...</td>\n",
       "      <td>59.69</td>\n",
       "      <td>2021-06-15 00:22:39.049303</td>\n",
       "      <td>2592</td>\n",
       "      <td>42.0</td>\n",
       "      <td>0.174904</td>\n",
       "    </tr>\n",
       "    <tr>\n",
       "      <th>2094</th>\n",
       "      <td>104736558.0</td>\n",
       "      <td>2021-07-28</td>\n",
       "      <td>Los Angeles Dodgers at San Francisco Giants</td>\n",
       "      <td>San Francisco Giants</td>\n",
       "      <td>Los Angeles Dodgers</td>\n",
       "      <td>Los Angeles Dodgers at San Francisco Giants: 2...</td>\n",
       "      <td>59.69</td>\n",
       "      <td>2021-06-15 12:09:40.937256</td>\n",
       "      <td>2614</td>\n",
       "      <td>42.0</td>\n",
       "      <td>0.174904</td>\n",
       "    </tr>\n",
       "    <tr>\n",
       "      <th>2242</th>\n",
       "      <td>104736558.0</td>\n",
       "      <td>2021-07-28</td>\n",
       "      <td>Los Angeles Dodgers at San Francisco Giants</td>\n",
       "      <td>San Francisco Giants</td>\n",
       "      <td>Los Angeles Dodgers</td>\n",
       "      <td>Los Angeles Dodgers at San Francisco Giants: 2...</td>\n",
       "      <td>59.69</td>\n",
       "      <td>2021-06-16 00:22:33.333972</td>\n",
       "      <td>2640</td>\n",
       "      <td>41.0</td>\n",
       "      <td>0.174904</td>\n",
       "    </tr>\n",
       "    <tr>\n",
       "      <th>2388</th>\n",
       "      <td>104736558.0</td>\n",
       "      <td>2021-07-28</td>\n",
       "      <td>Los Angeles Dodgers at San Francisco Giants</td>\n",
       "      <td>San Francisco Giants</td>\n",
       "      <td>Los Angeles Dodgers</td>\n",
       "      <td>Los Angeles Dodgers at San Francisco Giants: 2...</td>\n",
       "      <td>59.69</td>\n",
       "      <td>2021-06-16 12:09:49.442223</td>\n",
       "      <td>2644</td>\n",
       "      <td>41.0</td>\n",
       "      <td>0.174904</td>\n",
       "    </tr>\n",
       "    <tr>\n",
       "      <th>2534</th>\n",
       "      <td>104736558.0</td>\n",
       "      <td>2021-07-28</td>\n",
       "      <td>Los Angeles Dodgers at San Francisco Giants</td>\n",
       "      <td>San Francisco Giants</td>\n",
       "      <td>Los Angeles Dodgers</td>\n",
       "      <td>Los Angeles Dodgers at San Francisco Giants: 2...</td>\n",
       "      <td>58.47</td>\n",
       "      <td>2021-06-17 00:21:07.973936</td>\n",
       "      <td>2686</td>\n",
       "      <td>40.0</td>\n",
       "      <td>0.199419</td>\n",
       "    </tr>\n",
       "    <tr>\n",
       "      <th>2678</th>\n",
       "      <td>104736558.0</td>\n",
       "      <td>2021-07-28</td>\n",
       "      <td>Los Angeles Dodgers at San Francisco Giants</td>\n",
       "      <td>San Francisco Giants</td>\n",
       "      <td>Los Angeles Dodgers</td>\n",
       "      <td>Los Angeles Dodgers at San Francisco Giants: 2...</td>\n",
       "      <td>58.47</td>\n",
       "      <td>2021-06-17 12:09:52.064767</td>\n",
       "      <td>2695</td>\n",
       "      <td>40.0</td>\n",
       "      <td>0.199419</td>\n",
       "    </tr>\n",
       "    <tr>\n",
       "      <th>2821</th>\n",
       "      <td>104736558.0</td>\n",
       "      <td>2021-07-28</td>\n",
       "      <td>Los Angeles Dodgers at San Francisco Giants</td>\n",
       "      <td>San Francisco Giants</td>\n",
       "      <td>Los Angeles Dodgers</td>\n",
       "      <td>Los Angeles Dodgers at San Francisco Giants: 2...</td>\n",
       "      <td>58.47</td>\n",
       "      <td>2021-06-18 00:21:24.655966</td>\n",
       "      <td>2695</td>\n",
       "      <td>39.0</td>\n",
       "      <td>0.199419</td>\n",
       "    </tr>\n",
       "    <tr>\n",
       "      <th>2963</th>\n",
       "      <td>104736558.0</td>\n",
       "      <td>2021-07-28</td>\n",
       "      <td>Los Angeles Dodgers at San Francisco Giants</td>\n",
       "      <td>San Francisco Giants</td>\n",
       "      <td>Los Angeles Dodgers</td>\n",
       "      <td>Los Angeles Dodgers at San Francisco Giants: 2...</td>\n",
       "      <td>61.04</td>\n",
       "      <td>2021-06-18 12:09:36.082777</td>\n",
       "      <td>2688</td>\n",
       "      <td>39.0</td>\n",
       "      <td>0.148919</td>\n",
       "    </tr>\n",
       "    <tr>\n",
       "      <th>3105</th>\n",
       "      <td>104736558.0</td>\n",
       "      <td>2021-07-28</td>\n",
       "      <td>Los Angeles Dodgers at San Francisco Giants</td>\n",
       "      <td>San Francisco Giants</td>\n",
       "      <td>Los Angeles Dodgers</td>\n",
       "      <td>Los Angeles Dodgers at San Francisco Giants: 2...</td>\n",
       "      <td>61.04</td>\n",
       "      <td>2021-06-19 00:22:14.850221</td>\n",
       "      <td>2694</td>\n",
       "      <td>38.0</td>\n",
       "      <td>0.148919</td>\n",
       "    </tr>\n",
       "    <tr>\n",
       "      <th>3245</th>\n",
       "      <td>104736558.0</td>\n",
       "      <td>2021-07-28</td>\n",
       "      <td>Los Angeles Dodgers at San Francisco Giants</td>\n",
       "      <td>San Francisco Giants</td>\n",
       "      <td>Los Angeles Dodgers</td>\n",
       "      <td>Los Angeles Dodgers at San Francisco Giants: 2...</td>\n",
       "      <td>61.04</td>\n",
       "      <td>2021-06-19 12:08:54.173989</td>\n",
       "      <td>2795</td>\n",
       "      <td>38.0</td>\n",
       "      <td>0.148919</td>\n",
       "    </tr>\n",
       "    <tr>\n",
       "      <th>3384</th>\n",
       "      <td>104736558.0</td>\n",
       "      <td>2021-07-28</td>\n",
       "      <td>Los Angeles Dodgers at San Francisco Giants</td>\n",
       "      <td>San Francisco Giants</td>\n",
       "      <td>Los Angeles Dodgers</td>\n",
       "      <td>Los Angeles Dodgers at San Francisco Giants: 2...</td>\n",
       "      <td>60.91</td>\n",
       "      <td>2021-06-20 00:23:39.996749</td>\n",
       "      <td>2793</td>\n",
       "      <td>37.0</td>\n",
       "      <td>0.151371</td>\n",
       "    </tr>\n",
       "    <tr>\n",
       "      <th>3522</th>\n",
       "      <td>104736558.0</td>\n",
       "      <td>2021-07-28</td>\n",
       "      <td>Los Angeles Dodgers at San Francisco Giants</td>\n",
       "      <td>San Francisco Giants</td>\n",
       "      <td>Los Angeles Dodgers</td>\n",
       "      <td>Los Angeles Dodgers at San Francisco Giants: 2...</td>\n",
       "      <td>59.77</td>\n",
       "      <td>2021-06-20 12:08:59.132133</td>\n",
       "      <td>2790</td>\n",
       "      <td>37.0</td>\n",
       "      <td>0.173331</td>\n",
       "    </tr>\n",
       "    <tr>\n",
       "      <th>3658</th>\n",
       "      <td>104736558.0</td>\n",
       "      <td>2021-07-28</td>\n",
       "      <td>Los Angeles Dodgers at San Francisco Giants</td>\n",
       "      <td>San Francisco Giants</td>\n",
       "      <td>Los Angeles Dodgers</td>\n",
       "      <td>Los Angeles Dodgers at San Francisco Giants: 2...</td>\n",
       "      <td>59.77</td>\n",
       "      <td>2021-06-21 00:23:15.822271</td>\n",
       "      <td>2807</td>\n",
       "      <td>36.0</td>\n",
       "      <td>0.173331</td>\n",
       "    </tr>\n",
       "    <tr>\n",
       "      <th>3794</th>\n",
       "      <td>104736558.0</td>\n",
       "      <td>2021-07-28</td>\n",
       "      <td>Los Angeles Dodgers at San Francisco Giants</td>\n",
       "      <td>San Francisco Giants</td>\n",
       "      <td>Los Angeles Dodgers</td>\n",
       "      <td>Los Angeles Dodgers at San Francisco Giants: 2...</td>\n",
       "      <td>59.77</td>\n",
       "      <td>2021-06-21 12:10:07.355104</td>\n",
       "      <td>2806</td>\n",
       "      <td>36.0</td>\n",
       "      <td>0.173331</td>\n",
       "    </tr>\n",
       "    <tr>\n",
       "      <th>3930</th>\n",
       "      <td>104736558.0</td>\n",
       "      <td>2021-07-28</td>\n",
       "      <td>Los Angeles Dodgers at San Francisco Giants</td>\n",
       "      <td>San Francisco Giants</td>\n",
       "      <td>Los Angeles Dodgers</td>\n",
       "      <td>Los Angeles Dodgers at San Francisco Giants: 2...</td>\n",
       "      <td>57.23</td>\n",
       "      <td>2021-06-22 00:21:42.711117</td>\n",
       "      <td>2814</td>\n",
       "      <td>35.0</td>\n",
       "      <td>0.225406</td>\n",
       "    </tr>\n",
       "    <tr>\n",
       "      <th>4066</th>\n",
       "      <td>104736558.0</td>\n",
       "      <td>2021-07-28</td>\n",
       "      <td>Los Angeles Dodgers at San Francisco Giants</td>\n",
       "      <td>San Francisco Giants</td>\n",
       "      <td>Los Angeles Dodgers</td>\n",
       "      <td>Los Angeles Dodgers at San Francisco Giants: 2...</td>\n",
       "      <td>57.23</td>\n",
       "      <td>2021-06-22 12:09:35.274076</td>\n",
       "      <td>2482</td>\n",
       "      <td>35.0</td>\n",
       "      <td>0.225406</td>\n",
       "    </tr>\n",
       "    <tr>\n",
       "      <th>4202</th>\n",
       "      <td>104736558.0</td>\n",
       "      <td>2021-07-28</td>\n",
       "      <td>Los Angeles Dodgers at San Francisco Giants</td>\n",
       "      <td>San Francisco Giants</td>\n",
       "      <td>Los Angeles Dodgers</td>\n",
       "      <td>Los Angeles Dodgers at San Francisco Giants: 2...</td>\n",
       "      <td>57.23</td>\n",
       "      <td>2021-06-23 00:21:46.492727</td>\n",
       "      <td>2966</td>\n",
       "      <td>34.0</td>\n",
       "      <td>0.225406</td>\n",
       "    </tr>\n",
       "    <tr>\n",
       "      <th>4337</th>\n",
       "      <td>104736558.0</td>\n",
       "      <td>2021-07-28</td>\n",
       "      <td>Los Angeles Dodgers at San Francisco Giants</td>\n",
       "      <td>San Francisco Giants</td>\n",
       "      <td>Los Angeles Dodgers</td>\n",
       "      <td>Los Angeles Dodgers at San Francisco Giants: 2...</td>\n",
       "      <td>57.23</td>\n",
       "      <td>2021-06-23 12:08:09.466366</td>\n",
       "      <td>2950</td>\n",
       "      <td>34.0</td>\n",
       "      <td>0.225406</td>\n",
       "    </tr>\n",
       "    <tr>\n",
       "      <th>4471</th>\n",
       "      <td>104736558.0</td>\n",
       "      <td>2021-07-28</td>\n",
       "      <td>Los Angeles Dodgers at San Francisco Giants</td>\n",
       "      <td>San Francisco Giants</td>\n",
       "      <td>Los Angeles Dodgers</td>\n",
       "      <td>Los Angeles Dodgers at San Francisco Giants: 2...</td>\n",
       "      <td>57.23</td>\n",
       "      <td>2021-06-24 00:17:17.048748</td>\n",
       "      <td>2944</td>\n",
       "      <td>33.0</td>\n",
       "      <td>0.225406</td>\n",
       "    </tr>\n",
       "    <tr>\n",
       "      <th>4605</th>\n",
       "      <td>104736558.0</td>\n",
       "      <td>2021-07-28</td>\n",
       "      <td>Los Angeles Dodgers at San Francisco Giants</td>\n",
       "      <td>San Francisco Giants</td>\n",
       "      <td>Los Angeles Dodgers</td>\n",
       "      <td>Los Angeles Dodgers at San Francisco Giants: 2...</td>\n",
       "      <td>56.01</td>\n",
       "      <td>2021-06-24 12:10:18.882768</td>\n",
       "      <td>2937</td>\n",
       "      <td>33.0</td>\n",
       "      <td>0.252098</td>\n",
       "    </tr>\n",
       "    <tr>\n",
       "      <th>4739</th>\n",
       "      <td>104736558.0</td>\n",
       "      <td>2021-07-28</td>\n",
       "      <td>Los Angeles Dodgers at San Francisco Giants</td>\n",
       "      <td>San Francisco Giants</td>\n",
       "      <td>Los Angeles Dodgers</td>\n",
       "      <td>Los Angeles Dodgers at San Francisco Giants: 2...</td>\n",
       "      <td>53.56</td>\n",
       "      <td>2021-06-25 00:24:03.093986</td>\n",
       "      <td>3053</td>\n",
       "      <td>32.0</td>\n",
       "      <td>0.309373</td>\n",
       "    </tr>\n",
       "    <tr>\n",
       "      <th>4872</th>\n",
       "      <td>104736558.0</td>\n",
       "      <td>2021-07-28</td>\n",
       "      <td>Los Angeles Dodgers at San Francisco Giants</td>\n",
       "      <td>San Francisco Giants</td>\n",
       "      <td>Los Angeles Dodgers</td>\n",
       "      <td>Los Angeles Dodgers at San Francisco Giants: 2...</td>\n",
       "      <td>53.56</td>\n",
       "      <td>2021-06-25 12:09:38.584304</td>\n",
       "      <td>3063</td>\n",
       "      <td>32.0</td>\n",
       "      <td>0.309373</td>\n",
       "    </tr>\n",
       "    <tr>\n",
       "      <th>5005</th>\n",
       "      <td>104736558.0</td>\n",
       "      <td>2021-07-28</td>\n",
       "      <td>Los Angeles Dodgers at San Francisco Giants</td>\n",
       "      <td>San Francisco Giants</td>\n",
       "      <td>Los Angeles Dodgers</td>\n",
       "      <td>Los Angeles Dodgers at San Francisco Giants: 2...</td>\n",
       "      <td>53.54</td>\n",
       "      <td>2021-06-26 00:20:30.616865</td>\n",
       "      <td>3090</td>\n",
       "      <td>31.0</td>\n",
       "      <td>0.309862</td>\n",
       "    </tr>\n",
       "  </tbody>\n",
       "</table>\n",
       "</div>"
      ],
      "text/plain": [
       "               id       time                                         name  \\\n",
       "121   104736558.0 2021-07-28  Los Angeles Dodgers at San Francisco Giants   \n",
       "275   104736558.0 2021-07-28  Los Angeles Dodgers at San Francisco Giants   \n",
       "429   104736558.0 2021-07-28  Los Angeles Dodgers at San Francisco Giants   \n",
       "582   104736558.0 2021-07-28  Los Angeles Dodgers at San Francisco Giants   \n",
       "735   104736558.0 2021-07-28  Los Angeles Dodgers at San Francisco Giants   \n",
       "888   104736558.0 2021-07-28  Los Angeles Dodgers at San Francisco Giants   \n",
       "1041  104736558.0 2021-07-28  Los Angeles Dodgers at San Francisco Giants   \n",
       "1193  104736558.0 2021-07-28  Los Angeles Dodgers at San Francisco Giants   \n",
       "1345  104736558.0 2021-07-28  Los Angeles Dodgers at San Francisco Giants   \n",
       "1496  104736558.0 2021-07-28  Los Angeles Dodgers at San Francisco Giants   \n",
       "1646  104736558.0 2021-07-28  Los Angeles Dodgers at San Francisco Giants   \n",
       "1796  104736558.0 2021-07-28  Los Angeles Dodgers at San Francisco Giants   \n",
       "1946  104736558.0 2021-07-28  Los Angeles Dodgers at San Francisco Giants   \n",
       "2094  104736558.0 2021-07-28  Los Angeles Dodgers at San Francisco Giants   \n",
       "2242  104736558.0 2021-07-28  Los Angeles Dodgers at San Francisco Giants   \n",
       "2388  104736558.0 2021-07-28  Los Angeles Dodgers at San Francisco Giants   \n",
       "2534  104736558.0 2021-07-28  Los Angeles Dodgers at San Francisco Giants   \n",
       "2678  104736558.0 2021-07-28  Los Angeles Dodgers at San Francisco Giants   \n",
       "2821  104736558.0 2021-07-28  Los Angeles Dodgers at San Francisco Giants   \n",
       "2963  104736558.0 2021-07-28  Los Angeles Dodgers at San Francisco Giants   \n",
       "3105  104736558.0 2021-07-28  Los Angeles Dodgers at San Francisco Giants   \n",
       "3245  104736558.0 2021-07-28  Los Angeles Dodgers at San Francisco Giants   \n",
       "3384  104736558.0 2021-07-28  Los Angeles Dodgers at San Francisco Giants   \n",
       "3522  104736558.0 2021-07-28  Los Angeles Dodgers at San Francisco Giants   \n",
       "3658  104736558.0 2021-07-28  Los Angeles Dodgers at San Francisco Giants   \n",
       "3794  104736558.0 2021-07-28  Los Angeles Dodgers at San Francisco Giants   \n",
       "3930  104736558.0 2021-07-28  Los Angeles Dodgers at San Francisco Giants   \n",
       "4066  104736558.0 2021-07-28  Los Angeles Dodgers at San Francisco Giants   \n",
       "4202  104736558.0 2021-07-28  Los Angeles Dodgers at San Francisco Giants   \n",
       "4337  104736558.0 2021-07-28  Los Angeles Dodgers at San Francisco Giants   \n",
       "4471  104736558.0 2021-07-28  Los Angeles Dodgers at San Francisco Giants   \n",
       "4605  104736558.0 2021-07-28  Los Angeles Dodgers at San Francisco Giants   \n",
       "4739  104736558.0 2021-07-28  Los Angeles Dodgers at San Francisco Giants   \n",
       "4872  104736558.0 2021-07-28  Los Angeles Dodgers at San Francisco Giants   \n",
       "5005  104736558.0 2021-07-28  Los Angeles Dodgers at San Francisco Giants   \n",
       "\n",
       "                  homeTeam             awayTeam  \\\n",
       "121   San Francisco Giants  Los Angeles Dodgers   \n",
       "275   San Francisco Giants  Los Angeles Dodgers   \n",
       "429   San Francisco Giants  Los Angeles Dodgers   \n",
       "582   San Francisco Giants  Los Angeles Dodgers   \n",
       "735   San Francisco Giants  Los Angeles Dodgers   \n",
       "888   San Francisco Giants  Los Angeles Dodgers   \n",
       "1041  San Francisco Giants  Los Angeles Dodgers   \n",
       "1193  San Francisco Giants  Los Angeles Dodgers   \n",
       "1345  San Francisco Giants  Los Angeles Dodgers   \n",
       "1496  San Francisco Giants  Los Angeles Dodgers   \n",
       "1646  San Francisco Giants  Los Angeles Dodgers   \n",
       "1796  San Francisco Giants  Los Angeles Dodgers   \n",
       "1946  San Francisco Giants  Los Angeles Dodgers   \n",
       "2094  San Francisco Giants  Los Angeles Dodgers   \n",
       "2242  San Francisco Giants  Los Angeles Dodgers   \n",
       "2388  San Francisco Giants  Los Angeles Dodgers   \n",
       "2534  San Francisco Giants  Los Angeles Dodgers   \n",
       "2678  San Francisco Giants  Los Angeles Dodgers   \n",
       "2821  San Francisco Giants  Los Angeles Dodgers   \n",
       "2963  San Francisco Giants  Los Angeles Dodgers   \n",
       "3105  San Francisco Giants  Los Angeles Dodgers   \n",
       "3245  San Francisco Giants  Los Angeles Dodgers   \n",
       "3384  San Francisco Giants  Los Angeles Dodgers   \n",
       "3522  San Francisco Giants  Los Angeles Dodgers   \n",
       "3658  San Francisco Giants  Los Angeles Dodgers   \n",
       "3794  San Francisco Giants  Los Angeles Dodgers   \n",
       "3930  San Francisco Giants  Los Angeles Dodgers   \n",
       "4066  San Francisco Giants  Los Angeles Dodgers   \n",
       "4202  San Francisco Giants  Los Angeles Dodgers   \n",
       "4337  San Francisco Giants  Los Angeles Dodgers   \n",
       "4471  San Francisco Giants  Los Angeles Dodgers   \n",
       "4605  San Francisco Giants  Los Angeles Dodgers   \n",
       "4739  San Francisco Giants  Los Angeles Dodgers   \n",
       "4872  San Francisco Giants  Los Angeles Dodgers   \n",
       "5005  San Francisco Giants  Los Angeles Dodgers   \n",
       "\n",
       "                                            unique_name  price  \\\n",
       "121   Los Angeles Dodgers at San Francisco Giants: 2...  70.13   \n",
       "275   Los Angeles Dodgers at San Francisco Giants: 2...  69.50   \n",
       "429   Los Angeles Dodgers at San Francisco Giants: 2...  69.50   \n",
       "582   Los Angeles Dodgers at San Francisco Giants: 2...  69.50   \n",
       "735   Los Angeles Dodgers at San Francisco Giants: 2...  69.50   \n",
       "888   Los Angeles Dodgers at San Francisco Giants: 2...  69.50   \n",
       "1041  Los Angeles Dodgers at San Francisco Giants: 2...  69.50   \n",
       "1193  Los Angeles Dodgers at San Francisco Giants: 2...  69.50   \n",
       "1345  Los Angeles Dodgers at San Francisco Giants: 2...  65.83   \n",
       "1496  Los Angeles Dodgers at San Francisco Giants: 2...  65.83   \n",
       "1646  Los Angeles Dodgers at San Francisco Giants: 2...  61.04   \n",
       "1796  Los Angeles Dodgers at San Francisco Giants: 2...  61.04   \n",
       "1946  Los Angeles Dodgers at San Francisco Giants: 2...  59.69   \n",
       "2094  Los Angeles Dodgers at San Francisco Giants: 2...  59.69   \n",
       "2242  Los Angeles Dodgers at San Francisco Giants: 2...  59.69   \n",
       "2388  Los Angeles Dodgers at San Francisco Giants: 2...  59.69   \n",
       "2534  Los Angeles Dodgers at San Francisco Giants: 2...  58.47   \n",
       "2678  Los Angeles Dodgers at San Francisco Giants: 2...  58.47   \n",
       "2821  Los Angeles Dodgers at San Francisco Giants: 2...  58.47   \n",
       "2963  Los Angeles Dodgers at San Francisco Giants: 2...  61.04   \n",
       "3105  Los Angeles Dodgers at San Francisco Giants: 2...  61.04   \n",
       "3245  Los Angeles Dodgers at San Francisco Giants: 2...  61.04   \n",
       "3384  Los Angeles Dodgers at San Francisco Giants: 2...  60.91   \n",
       "3522  Los Angeles Dodgers at San Francisco Giants: 2...  59.77   \n",
       "3658  Los Angeles Dodgers at San Francisco Giants: 2...  59.77   \n",
       "3794  Los Angeles Dodgers at San Francisco Giants: 2...  59.77   \n",
       "3930  Los Angeles Dodgers at San Francisco Giants: 2...  57.23   \n",
       "4066  Los Angeles Dodgers at San Francisco Giants: 2...  57.23   \n",
       "4202  Los Angeles Dodgers at San Francisco Giants: 2...  57.23   \n",
       "4337  Los Angeles Dodgers at San Francisco Giants: 2...  57.23   \n",
       "4471  Los Angeles Dodgers at San Francisco Giants: 2...  57.23   \n",
       "4605  Los Angeles Dodgers at San Francisco Giants: 2...  56.01   \n",
       "4739  Los Angeles Dodgers at San Francisco Giants: 2...  53.56   \n",
       "4872  Los Angeles Dodgers at San Francisco Giants: 2...  53.56   \n",
       "5005  Los Angeles Dodgers at San Francisco Giants: 2...  53.54   \n",
       "\n",
       "                    extractTime  ticket_count  days_to_game  diff_initial  \n",
       "121  2021-06-08 17:51:49.782776             0          49.0      0.000000  \n",
       "275  2021-06-09 12:10:18.613780             0          48.0      0.009065  \n",
       "429  2021-06-10 00:25:11.765557             0          47.0      0.009065  \n",
       "582  2021-06-10 12:10:34.477656             0          47.0      0.009065  \n",
       "735  2021-06-11 04:00:08.335012          1433          46.0      0.009065  \n",
       "888  2021-06-11 12:09:18.542961          1435          46.0      0.009065  \n",
       "1041 2021-06-12 00:19:19.627496          1395          45.0      0.009065  \n",
       "1193 2021-06-12 12:08:55.197937          1397          45.0      0.009065  \n",
       "1345 2021-06-13 00:24:04.981034          1537          44.0      0.065320  \n",
       "1496 2021-06-13 12:09:14.866903          1837          44.0      0.065320  \n",
       "1646 2021-06-14 00:21:24.593795          2429          43.0      0.148919  \n",
       "1796 2021-06-14 12:09:33.799809          2522          43.0      0.148919  \n",
       "1946 2021-06-15 00:22:39.049303          2592          42.0      0.174904  \n",
       "2094 2021-06-15 12:09:40.937256          2614          42.0      0.174904  \n",
       "2242 2021-06-16 00:22:33.333972          2640          41.0      0.174904  \n",
       "2388 2021-06-16 12:09:49.442223          2644          41.0      0.174904  \n",
       "2534 2021-06-17 00:21:07.973936          2686          40.0      0.199419  \n",
       "2678 2021-06-17 12:09:52.064767          2695          40.0      0.199419  \n",
       "2821 2021-06-18 00:21:24.655966          2695          39.0      0.199419  \n",
       "2963 2021-06-18 12:09:36.082777          2688          39.0      0.148919  \n",
       "3105 2021-06-19 00:22:14.850221          2694          38.0      0.148919  \n",
       "3245 2021-06-19 12:08:54.173989          2795          38.0      0.148919  \n",
       "3384 2021-06-20 00:23:39.996749          2793          37.0      0.151371  \n",
       "3522 2021-06-20 12:08:59.132133          2790          37.0      0.173331  \n",
       "3658 2021-06-21 00:23:15.822271          2807          36.0      0.173331  \n",
       "3794 2021-06-21 12:10:07.355104          2806          36.0      0.173331  \n",
       "3930 2021-06-22 00:21:42.711117          2814          35.0      0.225406  \n",
       "4066 2021-06-22 12:09:35.274076          2482          35.0      0.225406  \n",
       "4202 2021-06-23 00:21:46.492727          2966          34.0      0.225406  \n",
       "4337 2021-06-23 12:08:09.466366          2950          34.0      0.225406  \n",
       "4471 2021-06-24 00:17:17.048748          2944          33.0      0.225406  \n",
       "4605 2021-06-24 12:10:18.882768          2937          33.0      0.252098  \n",
       "4739 2021-06-25 00:24:03.093986          3053          32.0      0.309373  \n",
       "4872 2021-06-25 12:09:38.584304          3063          32.0      0.309373  \n",
       "5005 2021-06-26 00:20:30.616865          3090          31.0      0.309862  "
      ]
     },
     "execution_count": 7,
     "metadata": {},
     "output_type": "execute_result"
    }
   ],
   "source": [
    "giants[giants[\"id\"] == 104736558.0]"
   ]
  },
  {
   "cell_type": "code",
   "execution_count": 16,
   "metadata": {},
   "outputs": [
    {
     "data": {
      "text/html": [
       "<div>\n",
       "<style scoped>\n",
       "    .dataframe tbody tr th:only-of-type {\n",
       "        vertical-align: middle;\n",
       "    }\n",
       "\n",
       "    .dataframe tbody tr th {\n",
       "        vertical-align: top;\n",
       "    }\n",
       "\n",
       "    .dataframe thead th {\n",
       "        text-align: right;\n",
       "    }\n",
       "</style>\n",
       "<table border=\"1\" class=\"dataframe\">\n",
       "  <thead>\n",
       "    <tr style=\"text-align: right;\">\n",
       "      <th></th>\n",
       "      <th>unique_name</th>\n",
       "      <th>price</th>\n",
       "    </tr>\n",
       "  </thead>\n",
       "  <tbody>\n",
       "    <tr>\n",
       "      <th>0</th>\n",
       "      <td>Arizona Diamondbacks at Los Angeles Dodgers: 2...</td>\n",
       "      <td>21.640000</td>\n",
       "    </tr>\n",
       "    <tr>\n",
       "      <th>1</th>\n",
       "      <td>Atlanta Braves at Los Angeles Dodgers: 2021-08-31</td>\n",
       "      <td>26.550000</td>\n",
       "    </tr>\n",
       "    <tr>\n",
       "      <th>2</th>\n",
       "      <td>Texas Rangers at Los Angeles Dodgers: 2021-06-13</td>\n",
       "      <td>27.234000</td>\n",
       "    </tr>\n",
       "    <tr>\n",
       "      <th>3</th>\n",
       "      <td>Arizona Diamondbacks at Los Angeles Dodgers: 2...</td>\n",
       "      <td>27.761111</td>\n",
       "    </tr>\n",
       "    <tr>\n",
       "      <th>4</th>\n",
       "      <td>Philadelphia Phillies at Los Angeles Dodgers: ...</td>\n",
       "      <td>27.783333</td>\n",
       "    </tr>\n",
       "    <tr>\n",
       "      <th>5</th>\n",
       "      <td>Philadelphia Phillies at Los Angeles Dodgers: ...</td>\n",
       "      <td>27.843077</td>\n",
       "    </tr>\n",
       "    <tr>\n",
       "      <th>6</th>\n",
       "      <td>Arizona Diamondbacks at Los Angeles Dodgers: 2...</td>\n",
       "      <td>29.010000</td>\n",
       "    </tr>\n",
       "    <tr>\n",
       "      <th>7</th>\n",
       "      <td>San Francisco Giants at Los Angeles Dodgers: 2...</td>\n",
       "      <td>29.928889</td>\n",
       "    </tr>\n",
       "    <tr>\n",
       "      <th>8</th>\n",
       "      <td>Colorado Rockies at Los Angeles Dodgers: 2021-...</td>\n",
       "      <td>31.298333</td>\n",
       "    </tr>\n",
       "    <tr>\n",
       "      <th>9</th>\n",
       "      <td>Arizona Diamondbacks at Los Angeles Dodgers: 2...</td>\n",
       "      <td>32.056667</td>\n",
       "    </tr>\n",
       "    <tr>\n",
       "      <th>10</th>\n",
       "      <td>Pittsburgh Pirates at Los Angeles Dodgers: 202...</td>\n",
       "      <td>32.206667</td>\n",
       "    </tr>\n",
       "    <tr>\n",
       "      <th>11</th>\n",
       "      <td>Atlanta Braves at Los Angeles Dodgers: 2021-09-01</td>\n",
       "      <td>32.275556</td>\n",
       "    </tr>\n",
       "    <tr>\n",
       "      <th>12</th>\n",
       "      <td>Colorado Rockies at Los Angeles Dodgers: 2021-...</td>\n",
       "      <td>32.331667</td>\n",
       "    </tr>\n",
       "    <tr>\n",
       "      <th>13</th>\n",
       "      <td>Milwaukee Brewers at Los Angeles Dodgers: 2021...</td>\n",
       "      <td>32.331667</td>\n",
       "    </tr>\n",
       "    <tr>\n",
       "      <th>14</th>\n",
       "      <td>New York Mets at Los Angeles Dodgers: 2021-08-19</td>\n",
       "      <td>32.690000</td>\n",
       "    </tr>\n",
       "    <tr>\n",
       "      <th>15</th>\n",
       "      <td>Colorado Rockies at Los Angeles Dodgers: 2021-...</td>\n",
       "      <td>32.891389</td>\n",
       "    </tr>\n",
       "    <tr>\n",
       "      <th>16</th>\n",
       "      <td>Chicago Cubs at Los Angeles Dodgers: 2021-06-27</td>\n",
       "      <td>33.043611</td>\n",
       "    </tr>\n",
       "    <tr>\n",
       "      <th>17</th>\n",
       "      <td>San Francisco Giants at Los Angeles Dodgers: 2...</td>\n",
       "      <td>33.060278</td>\n",
       "    </tr>\n",
       "    <tr>\n",
       "      <th>18</th>\n",
       "      <td>Colorado Rockies at Los Angeles Dodgers: 2021-...</td>\n",
       "      <td>33.131389</td>\n",
       "    </tr>\n",
       "    <tr>\n",
       "      <th>19</th>\n",
       "      <td>New York Mets at Los Angeles Dodgers: 2021-08-22</td>\n",
       "      <td>34.017500</td>\n",
       "    </tr>\n",
       "    <tr>\n",
       "      <th>20</th>\n",
       "      <td>Philadelphia Phillies at Los Angeles Dodgers: ...</td>\n",
       "      <td>34.680588</td>\n",
       "    </tr>\n",
       "    <tr>\n",
       "      <th>21</th>\n",
       "      <td>Milwaukee Brewers at Los Angeles Dodgers: 2021...</td>\n",
       "      <td>34.692222</td>\n",
       "    </tr>\n",
       "    <tr>\n",
       "      <th>22</th>\n",
       "      <td>San Diego Padres at Los Angeles Dodgers: 2021-...</td>\n",
       "      <td>35.003333</td>\n",
       "    </tr>\n",
       "    <tr>\n",
       "      <th>23</th>\n",
       "      <td>San Diego Padres at Los Angeles Dodgers: 2021-...</td>\n",
       "      <td>35.925833</td>\n",
       "    </tr>\n",
       "    <tr>\n",
       "      <th>24</th>\n",
       "      <td>Texas Rangers at Los Angeles Dodgers: 2021-06-12</td>\n",
       "      <td>36.025556</td>\n",
       "    </tr>\n",
       "    <tr>\n",
       "      <th>25</th>\n",
       "      <td>Milwaukee Brewers at Los Angeles Dodgers: 2021...</td>\n",
       "      <td>36.193056</td>\n",
       "    </tr>\n",
       "    <tr>\n",
       "      <th>26</th>\n",
       "      <td>San Francisco Giants at Los Angeles Dodgers: 2...</td>\n",
       "      <td>36.404167</td>\n",
       "    </tr>\n",
       "    <tr>\n",
       "      <th>27</th>\n",
       "      <td>Arizona Diamondbacks at Los Angeles Dodgers: 2...</td>\n",
       "      <td>36.502222</td>\n",
       "    </tr>\n",
       "    <tr>\n",
       "      <th>28</th>\n",
       "      <td>Pittsburgh Pirates at Los Angeles Dodgers: 202...</td>\n",
       "      <td>38.048333</td>\n",
       "    </tr>\n",
       "    <tr>\n",
       "      <th>29</th>\n",
       "      <td>Colorado Rockies at Los Angeles Dodgers: 2021-...</td>\n",
       "      <td>38.125556</td>\n",
       "    </tr>\n",
       "    <tr>\n",
       "      <th>30</th>\n",
       "      <td>New York Mets at Los Angeles Dodgers: 2021-08-20</td>\n",
       "      <td>38.180833</td>\n",
       "    </tr>\n",
       "    <tr>\n",
       "      <th>31</th>\n",
       "      <td>San Francisco Giants at Los Angeles Dodgers: 2...</td>\n",
       "      <td>38.830000</td>\n",
       "    </tr>\n",
       "    <tr>\n",
       "      <th>32</th>\n",
       "      <td>San Francisco Giants at Los Angeles Dodgers: 2...</td>\n",
       "      <td>39.713333</td>\n",
       "    </tr>\n",
       "    <tr>\n",
       "      <th>33</th>\n",
       "      <td>Colorado Rockies at Los Angeles Dodgers: 2021-...</td>\n",
       "      <td>39.951389</td>\n",
       "    </tr>\n",
       "    <tr>\n",
       "      <th>34</th>\n",
       "      <td>Atlanta Braves at Los Angeles Dodgers: 2021-08-30</td>\n",
       "      <td>40.966944</td>\n",
       "    </tr>\n",
       "    <tr>\n",
       "      <th>35</th>\n",
       "      <td>Chicago Cubs at Los Angeles Dodgers: 2021-06-25</td>\n",
       "      <td>40.982571</td>\n",
       "    </tr>\n",
       "    <tr>\n",
       "      <th>36</th>\n",
       "      <td>Arizona Diamondbacks at Los Angeles Dodgers: 2...</td>\n",
       "      <td>41.075833</td>\n",
       "    </tr>\n",
       "    <tr>\n",
       "      <th>37</th>\n",
       "      <td>San Diego Padres at Los Angeles Dodgers: 2021-...</td>\n",
       "      <td>41.963889</td>\n",
       "    </tr>\n",
       "    <tr>\n",
       "      <th>38</th>\n",
       "      <td>Los Angeles Angels at Los Angeles Dodgers: 202...</td>\n",
       "      <td>42.459722</td>\n",
       "    </tr>\n",
       "    <tr>\n",
       "      <th>39</th>\n",
       "      <td>San Francisco Giants at Los Angeles Dodgers: 2...</td>\n",
       "      <td>42.518056</td>\n",
       "    </tr>\n",
       "    <tr>\n",
       "      <th>40</th>\n",
       "      <td>Los Angeles Angels at Los Angeles Dodgers: 202...</td>\n",
       "      <td>43.466389</td>\n",
       "    </tr>\n",
       "    <tr>\n",
       "      <th>41</th>\n",
       "      <td>Chicago Cubs at Los Angeles Dodgers: 2021-06-26</td>\n",
       "      <td>44.582500</td>\n",
       "    </tr>\n",
       "    <tr>\n",
       "      <th>42</th>\n",
       "      <td>San Diego Padres at Los Angeles Dodgers: 2021-...</td>\n",
       "      <td>44.960000</td>\n",
       "    </tr>\n",
       "    <tr>\n",
       "      <th>43</th>\n",
       "      <td>New York Mets at Los Angeles Dodgers: 2021-08-21</td>\n",
       "      <td>46.587222</td>\n",
       "    </tr>\n",
       "    <tr>\n",
       "      <th>44</th>\n",
       "      <td>San Diego Padres at Los Angeles Dodgers: 2021-...</td>\n",
       "      <td>46.846944</td>\n",
       "    </tr>\n",
       "    <tr>\n",
       "      <th>45</th>\n",
       "      <td>Chicago Cubs at Los Angeles Dodgers: 2021-06-24</td>\n",
       "      <td>49.660000</td>\n",
       "    </tr>\n",
       "    <tr>\n",
       "      <th>46</th>\n",
       "      <td>San Diego Padres at Los Angeles Dodgers: 2021-...</td>\n",
       "      <td>53.664444</td>\n",
       "    </tr>\n",
       "    <tr>\n",
       "      <th>47</th>\n",
       "      <td>Los Angeles Angels at Los Angeles Dodgers: 202...</td>\n",
       "      <td>56.692222</td>\n",
       "    </tr>\n",
       "    <tr>\n",
       "      <th>48</th>\n",
       "      <td>Pittsburgh Pirates at Los Angeles Dodgers: 202...</td>\n",
       "      <td>72.206389</td>\n",
       "    </tr>\n",
       "    <tr>\n",
       "      <th>49</th>\n",
       "      <td>Houston Astros at Los Angeles Dodgers: 2021-08-04</td>\n",
       "      <td>91.014167</td>\n",
       "    </tr>\n",
       "    <tr>\n",
       "      <th>50</th>\n",
       "      <td>Texas Rangers at Los Angeles Dodgers: 2021-06-11</td>\n",
       "      <td>91.122857</td>\n",
       "    </tr>\n",
       "    <tr>\n",
       "      <th>51</th>\n",
       "      <td>Houston Astros at Los Angeles Dodgers: 2021-08-03</td>\n",
       "      <td>105.595556</td>\n",
       "    </tr>\n",
       "  </tbody>\n",
       "</table>\n",
       "</div>"
      ],
      "text/plain": [
       "                                          unique_name       price\n",
       "0   Arizona Diamondbacks at Los Angeles Dodgers: 2...   21.640000\n",
       "1   Atlanta Braves at Los Angeles Dodgers: 2021-08-31   26.550000\n",
       "2    Texas Rangers at Los Angeles Dodgers: 2021-06-13   27.234000\n",
       "3   Arizona Diamondbacks at Los Angeles Dodgers: 2...   27.761111\n",
       "4   Philadelphia Phillies at Los Angeles Dodgers: ...   27.783333\n",
       "5   Philadelphia Phillies at Los Angeles Dodgers: ...   27.843077\n",
       "6   Arizona Diamondbacks at Los Angeles Dodgers: 2...   29.010000\n",
       "7   San Francisco Giants at Los Angeles Dodgers: 2...   29.928889\n",
       "8   Colorado Rockies at Los Angeles Dodgers: 2021-...   31.298333\n",
       "9   Arizona Diamondbacks at Los Angeles Dodgers: 2...   32.056667\n",
       "10  Pittsburgh Pirates at Los Angeles Dodgers: 202...   32.206667\n",
       "11  Atlanta Braves at Los Angeles Dodgers: 2021-09-01   32.275556\n",
       "12  Colorado Rockies at Los Angeles Dodgers: 2021-...   32.331667\n",
       "13  Milwaukee Brewers at Los Angeles Dodgers: 2021...   32.331667\n",
       "14   New York Mets at Los Angeles Dodgers: 2021-08-19   32.690000\n",
       "15  Colorado Rockies at Los Angeles Dodgers: 2021-...   32.891389\n",
       "16    Chicago Cubs at Los Angeles Dodgers: 2021-06-27   33.043611\n",
       "17  San Francisco Giants at Los Angeles Dodgers: 2...   33.060278\n",
       "18  Colorado Rockies at Los Angeles Dodgers: 2021-...   33.131389\n",
       "19   New York Mets at Los Angeles Dodgers: 2021-08-22   34.017500\n",
       "20  Philadelphia Phillies at Los Angeles Dodgers: ...   34.680588\n",
       "21  Milwaukee Brewers at Los Angeles Dodgers: 2021...   34.692222\n",
       "22  San Diego Padres at Los Angeles Dodgers: 2021-...   35.003333\n",
       "23  San Diego Padres at Los Angeles Dodgers: 2021-...   35.925833\n",
       "24   Texas Rangers at Los Angeles Dodgers: 2021-06-12   36.025556\n",
       "25  Milwaukee Brewers at Los Angeles Dodgers: 2021...   36.193056\n",
       "26  San Francisco Giants at Los Angeles Dodgers: 2...   36.404167\n",
       "27  Arizona Diamondbacks at Los Angeles Dodgers: 2...   36.502222\n",
       "28  Pittsburgh Pirates at Los Angeles Dodgers: 202...   38.048333\n",
       "29  Colorado Rockies at Los Angeles Dodgers: 2021-...   38.125556\n",
       "30   New York Mets at Los Angeles Dodgers: 2021-08-20   38.180833\n",
       "31  San Francisco Giants at Los Angeles Dodgers: 2...   38.830000\n",
       "32  San Francisco Giants at Los Angeles Dodgers: 2...   39.713333\n",
       "33  Colorado Rockies at Los Angeles Dodgers: 2021-...   39.951389\n",
       "34  Atlanta Braves at Los Angeles Dodgers: 2021-08-30   40.966944\n",
       "35    Chicago Cubs at Los Angeles Dodgers: 2021-06-25   40.982571\n",
       "36  Arizona Diamondbacks at Los Angeles Dodgers: 2...   41.075833\n",
       "37  San Diego Padres at Los Angeles Dodgers: 2021-...   41.963889\n",
       "38  Los Angeles Angels at Los Angeles Dodgers: 202...   42.459722\n",
       "39  San Francisco Giants at Los Angeles Dodgers: 2...   42.518056\n",
       "40  Los Angeles Angels at Los Angeles Dodgers: 202...   43.466389\n",
       "41    Chicago Cubs at Los Angeles Dodgers: 2021-06-26   44.582500\n",
       "42  San Diego Padres at Los Angeles Dodgers: 2021-...   44.960000\n",
       "43   New York Mets at Los Angeles Dodgers: 2021-08-21   46.587222\n",
       "44  San Diego Padres at Los Angeles Dodgers: 2021-...   46.846944\n",
       "45    Chicago Cubs at Los Angeles Dodgers: 2021-06-24   49.660000\n",
       "46  San Diego Padres at Los Angeles Dodgers: 2021-...   53.664444\n",
       "47  Los Angeles Angels at Los Angeles Dodgers: 202...   56.692222\n",
       "48  Pittsburgh Pirates at Los Angeles Dodgers: 202...   72.206389\n",
       "49  Houston Astros at Los Angeles Dodgers: 2021-08-04   91.014167\n",
       "50   Texas Rangers at Los Angeles Dodgers: 2021-06-11   91.122857\n",
       "51  Houston Astros at Los Angeles Dodgers: 2021-08-03  105.595556"
      ]
     },
     "execution_count": 16,
     "metadata": {},
     "output_type": "execute_result"
    }
   ],
   "source": [
    "dodgers.groupby(\"unique_name\")[[\"price\"]].mean().sort_values(\"price\").reset_index()"
   ]
  },
  {
   "cell_type": "code",
   "execution_count": null,
   "metadata": {},
   "outputs": [],
   "source": []
  }
 ],
 "metadata": {
  "interpreter": {
   "hash": "477362a61becd1fc3f6af1137cb150a0360a8bc15fcfe15ec96bed26a9a26e2e"
  },
  "kernelspec": {
   "display_name": "Python 3.8.8 64-bit ('PIC16B': conda)",
   "name": "python3"
  },
  "language_info": {
   "codemirror_mode": {
    "name": "ipython",
    "version": 3
   },
   "file_extension": ".py",
   "mimetype": "text/x-python",
   "name": "python",
   "nbconvert_exporter": "python",
   "pygments_lexer": "ipython3",
   "version": "3.8.8"
  },
  "orig_nbformat": 2
 },
 "nbformat": 4,
 "nbformat_minor": 2
}