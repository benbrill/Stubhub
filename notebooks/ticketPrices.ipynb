{
 "metadata": {
  "language_info": {
   "codemirror_mode": {
    "name": "ipython",
    "version": 3
   },
   "file_extension": ".py",
   "mimetype": "text/x-python",
   "name": "python",
   "nbconvert_exporter": "python",
   "pygments_lexer": "ipython3",
   "version": "3.8.8"
  },
  "orig_nbformat": 2,
  "kernelspec": {
   "name": "python388jvsc74a57bd0477362a61becd1fc3f6af1137cb150a0360a8bc15fcfe15ec96bed26a9a26e2e",
   "display_name": "Python 3.8.8 64-bit ('PIC16B': conda)"
  },
  "metadata": {
   "interpreter": {
    "hash": "2afab14fb01630ce7c5ce39c894f86e4ea2036091c34fe4b79cf84d13449a033"
   }
  }
 },
 "nbformat": 4,
 "nbformat_minor": 2,
 "cells": [
  {
   "cell_type": "code",
   "execution_count": 2,
   "metadata": {},
   "outputs": [],
   "source": [
    "import requests\n",
    "import base64\n",
    "import os\n",
    "# from dotenv import load_dotenv\n",
    "# load_dotenv();"
   ]
  },
  {
   "cell_type": "code",
   "execution_count": 2,
   "metadata": {},
   "outputs": [],
   "source": [
    "CONCAT = os.environ.get('CONSUMER_KEY') + \":\" + os.environ.get('CONSUMER_SECRET')\n",
    "basic_authorization_token = base64.b64encode(CONCAT.encode('utf-8')).decode()"
   ]
  },
  {
   "cell_type": "code",
   "execution_count": 7,
   "metadata": {},
   "outputs": [],
   "source": [
    "consumer_key = os.environ.get(\"CONSUMER_KEY\")\n",
    "consumer_secret = os.environ.get(\"CONSUMER_SECRET\")\n",
    "stubhub_username = \"benbrill@ucla.edu\"\n",
    "stubhub_password = \"mwI6b2X0t\""
   ]
  },
  {
   "cell_type": "code",
   "execution_count": 12,
   "metadata": {},
   "outputs": [
    {
     "output_type": "stream",
     "name": "stdout",
     "text": [
      "b'\\n{\\n\\t\"errorResponse\": {\\n\\t\\t\"code\": \"400-01\",\\n\\t\\t\"message\": \"bad request\",\\n\\t\\t\"info\": \"https://docs.developer.com\"\\n\\t}\\n}\\n\\t\\t\\t'\n"
     ]
    }
   ],
   "source": [
    "combo = consumer_key + ':' + consumer_secret \n",
    "basic_authorization_token = base64.b64encode(combo.encode('utf-8')).decode('utf=8') # create authorization token\n",
    "\n",
    "url = 'https://api.stubhub.com/sellers/oauth/accesstoken?grant_type=client_credentials'\n",
    "headers = {\n",
    "    'Content-Type':'application/json',\n",
    "    'Authorization':'Basic '+ basic_authorization_token,}\n",
    "body = {\n",
    "    'grant_type':'password',\n",
    "    'username':stubhub_username,\n",
    "    'password':stubhub_password,\n",
    "    'scope':'PRODUCTION'}\n",
    "\n",
    "r = requests.post(url, headers=headers, data=body)\n",
    "print(r.content) "
   ]
  },
  {
   "source": [
    "https://developer.stubhub.com/searchevent/apis/get/search/events/v3"
   ],
   "cell_type": "markdown",
   "metadata": {}
  },
  {
   "cell_type": "code",
   "execution_count": 6,
   "metadata": {},
   "outputs": [
    {
     "output_type": "execute_result",
     "data": {
      "text/plain": [
       "{'Texas Rangers at Los Angeles Dodgers104722879': 63.38,\n",
       " 'Texas Rangers at Los Angeles Dodgers104725408': 37.06,\n",
       " 'Texas Rangers at Los Angeles Dodgers104725409': 27.69,\n",
       " 'Philadelphia Phillies at Los Angeles Dodgers104724531': 35.55,\n",
       " 'Philadelphia Phillies at Los Angeles Dodgers104725410': 25.32,\n",
       " 'Philadelphia Phillies at Los Angeles Dodgers104725411': 35.22,\n",
       " 'Chicago Cubs at Los Angeles Dodgers104722883': 43.88,\n",
       " 'Chicago Cubs at Los Angeles Dodgers104722884': 46.19,\n",
       " 'Chicago Cubs at Los Angeles Dodgers104722885': 49.3,\n",
       " 'Chicago Cubs at Los Angeles Dodgers104722886': 36.37,\n",
       " 'San Francisco Giants at Los Angeles Dodgers104725415': 34.05,\n",
       " 'San Francisco Giants at Los Angeles Dodgers104725416': 44.15,\n",
       " 'Arizona Diamondbacks at Los Angeles Dodgers104724572': 32.69,\n",
       " 'Arizona Diamondbacks at Los Angeles Dodgers104724574': 44.96,\n",
       " 'Arizona Diamondbacks at Los Angeles Dodgers104724575': 29.01,\n",
       " 'San Francisco Giants at Los Angeles Dodgers104724576': 37.6,\n",
       " 'San Francisco Giants at Los Angeles Dodgers104724577': 37.6,\n",
       " 'San Francisco Giants at Los Angeles Dodgers104725433': 33.92,\n",
       " 'San Francisco Giants at Los Angeles Dodgers104724579': 38.83,\n",
       " 'Colorado Rockies at Los Angeles Dodgers104724581': 32.69,\n",
       " 'Colorado Rockies at Los Angeles Dodgers104724583': 38.83,\n",
       " 'Colorado Rockies at Los Angeles Dodgers104724585': 33.92,\n",
       " 'Houston Astros at Los Angeles Dodgers104725435': 110.02,\n",
       " 'Houston Astros at Los Angeles Dodgers104724588': 92.16,\n",
       " 'Los Angeles Angels at Los Angeles Dodgers104724590': 41.28,\n",
       " 'Los Angeles Angels at Los Angeles Dodgers104725436': 53.56,\n",
       " 'Los Angeles Angels at Los Angeles Dodgers104725437': 42.51,\n",
       " 'Pittsburgh Pirates at Los Angeles Dodgers104724594': 32.69,\n",
       " 'Pittsburgh Pirates at Los Angeles Dodgers104724596': 32.69,\n",
       " 'Pittsburgh Pirates at Los Angeles Dodgers104724597': 70.74,\n",
       " 'New York Mets at Los Angeles Dodgers104724598': 32.69,\n",
       " 'New York Mets at Los Angeles Dodgers104724599': 38.83,\n",
       " 'New York Mets at Los Angeles Dodgers104724601': 48.65,\n",
       " 'New York Mets at Los Angeles Dodgers104724603': 33.92,\n",
       " 'Colorado Rockies at Los Angeles Dodgers104724604': 32.69,\n",
       " 'Colorado Rockies at Los Angeles Dodgers104724606': 38.83,\n",
       " 'Colorado Rockies at Los Angeles Dodgers104724607': 32.69,\n",
       " 'Atlanta Braves at Los Angeles Dodgers104724609': 41.46,\n",
       " 'Atlanta Braves at Los Angeles Dodgers104725443': 26.55,\n",
       " 'Atlanta Braves at Los Angeles Dodgers104725444': 32.33,\n",
       " 'San Diego Padres at Los Angeles Dodgers104724613': 48.65,\n",
       " 'San Diego Padres at Los Angeles Dodgers104724615': 65.83,\n",
       " 'San Diego Padres at Los Angeles Dodgers104724616': 42.51,\n",
       " 'Arizona Diamondbacks at Los Angeles Dodgers104724618': 33.92,\n",
       " 'Arizona Diamondbacks at Los Angeles Dodgers104725446': 21.64,\n",
       " 'Arizona Diamondbacks at Los Angeles Dodgers104724621': 26.55,\n",
       " 'San Diego Padres at Los Angeles Dodgers104724623': 44.96,\n",
       " 'San Diego Padres at Los Angeles Dodgers104724625': 36.37,\n",
       " 'San Diego Padres at Los Angeles Dodgers104724627': 35.14,\n",
       " 'Milwaukee Brewers at Los Angeles Dodgers104724629': 35.14,\n",
       " 'Milwaukee Brewers at Los Angeles Dodgers104724631': 44.96,\n",
       " 'Milwaukee Brewers at Los Angeles Dodgers104725448': 32.69}"
      ]
     },
     "metadata": {},
     "execution_count": 6
    }
   ],
   "source": [
    "events = r.json()['events']\n",
    "prices = {event['name'] + str(event['id']): event['ticketInfo']['minPrice'] for event in events}\n",
    "prices"
   ]
  },
  {
   "cell_type": "code",
   "execution_count": null,
   "metadata": {},
   "outputs": [],
   "source": []
  }
 ]
}