{
 "metadata": {
  "language_info": {
   "codemirror_mode": {
    "name": "ipython",
    "version": 3
   },
   "file_extension": ".py",
   "mimetype": "text/x-python",
   "name": "python",
   "nbconvert_exporter": "python",
   "pygments_lexer": "ipython3",
   "version": "3.8.8"
  },
  "orig_nbformat": 2,
  "kernelspec": {
   "name": "python388jvsc74a57bd0477362a61becd1fc3f6af1137cb150a0360a8bc15fcfe15ec96bed26a9a26e2e",
   "display_name": "Python 3.8.8 64-bit ('PIC16B': conda)"
  }
 },
 "nbformat": 4,
 "nbformat_minor": 2,
 "cells": [
  {
   "cell_type": "code",
   "execution_count": 1,
   "metadata": {},
   "outputs": [],
   "source": [
    "import sqlite3\n",
    "import requests\n",
    "import datetime\n",
    "import pandas as pd "
   ]
  },
  {
   "cell_type": "code",
   "execution_count": 8,
   "metadata": {},
   "outputs": [],
   "source": [
    "ACCESS_TOKEN = os.environ.get('ACCESS_TOKEN')"
   ]
  },
  {
   "cell_type": "code",
   "execution_count": 1,
   "metadata": {},
   "outputs": [],
   "source": [
    "teams = {\"Dodgers\" : {\"teamID\": 1061, \"venueID\": 744},\n",
    "         \"Angels\": {\"teamID\": 1062, \"venueID\" : 9763},\n",
    "         \"Giants\" : {\"teamID\" : 197, \"venueID\" : 82}}"
   ]
  },
  {
   "cell_type": "code",
   "execution_count": 4,
   "metadata": {},
   "outputs": [
    {
     "output_type": "stream",
     "name": "stdout",
     "text": [
      "1061\n1062\n197\n"
     ]
    }
   ],
   "source": [
    "for team in teams:\n",
    "    print(teams[team][\"teamID\"])"
   ]
  },
  {
   "cell_type": "code",
   "execution_count": 5,
   "metadata": {},
   "outputs": [],
   "source": [
    "def get_ticket_info(teamID, venueID):\n",
    "    url = f\"https://api.stubhub.com/sellers/search/events/v3?venueId={venueID}&performerId={teamID}&parking=false&sort=eventDateLocal%20asc&rows=81\"\n",
    "    headers = { \n",
    "    \"Authorization\": \"Bearer \" + ACCESS_TOKEN,\n",
    "    \"Accept\": \"application/json\"\n",
    "    }\n",
    "    r = requests.get(url, headers=headers)\n",
    "    return r\n",
    "\n",
    "def create_df(r):\n",
    "    events = r.json()['events']\n",
    "    prices = {event['id']:{\n",
    "         \"price\": event['ticketInfo']['minPrice'],\n",
    "         \"time\" : event['eventDateLocal'],\n",
    "         \"name\" : event['name'],\n",
    "         \"extractTime\":datetime.datetime.today(),\n",
    "         \"homeTeam\" : event['performers'][0]['name'],\n",
    "         \"awayTeam\" : event['performers'][1]['name']} for event in events}\n",
    "    df = pd.DataFrame(prices).T.reset_index().rename({\"index\":\"id\"}, axis = 1)\n",
    "    df['time'] = pd.to_datetime(df['time'].str[0:10])\n",
    "    df['days_to_game'] = (df['time'] - df['extractTime'])\n",
    "    df['days_to_game'] = df['days_to_game'].apply(lambda X: X.days)\n",
    "    return df"
   ]
  },
  {
   "cell_type": "code",
   "execution_count": 11,
   "metadata": {},
   "outputs": [],
   "source": [
    "for team in teams:\n",
    "    teamID = teams[team][\"teamID\"]\n",
    "    venueID = teams[team][\"venueID\"]\n",
    "    r = get_ticket_info(teamID, venueID)\n",
    "    df = create_df(r)\n",
    "    with sqlite3.connect(\"../tickets.db\") as conn: \n",
    "        df.to_sql(\"extraction\", conn, if_exists = \"append\", index = False)"
   ]
  },
  {
   "cell_type": "code",
   "execution_count": 2,
   "metadata": {},
   "outputs": [],
   "source": [
    "with sqlite3.connect(\"tickets.db\") as conn: \n",
    "    cursor = conn.cursor()\n",
    "    cursor.execute(\"SELECT sql FROM sqlite_master WHERE type='table';\")"
   ]
  },
  {
   "cell_type": "code",
   "execution_count": 61,
   "metadata": {},
   "outputs": [
    {
     "output_type": "stream",
     "name": "stdout",
     "text": [
      "CREATE TABLE \"extraction\" (\n\"price\" REAL,\n  \"time\" TEXT,\n  \"name\" TEXT,\n  \"extractTime\" TIMESTAMP\n)\n"
     ]
    }
   ],
   "source": [
    "for result in cursor.fetchall():\n",
    "    print(result[0])"
   ]
  },
  {
   "cell_type": "code",
   "execution_count": 3,
   "metadata": {},
   "outputs": [],
   "source": [
    "with sqlite3.connect(\"../tickets.db\") as conn: \n",
    "    cmd = \"SELECT * FROM extraction\"\n",
    "    df2 = pd.read_sql_query(cmd, conn)"
   ]
  },
  {
   "cell_type": "code",
   "execution_count": 4,
   "metadata": {},
   "outputs": [
    {
     "output_type": "execute_result",
     "data": {
      "text/plain": [
       "            id  price                 time  \\\n",
       "0    104722879  58.62  2021-06-11 00:00:00   \n",
       "1    104725408  29.16  2021-06-12 00:00:00   \n",
       "2    104725409  28.04  2021-06-13 00:00:00   \n",
       "3    104724531  35.55  2021-06-14 00:00:00   \n",
       "4    104725410  24.99  2021-06-15 00:00:00   \n",
       "..         ...    ...                  ...   \n",
       "150  104738380  17.17  2021-09-29 00:00:00   \n",
       "151  104736599  17.17  2021-09-30 00:00:00   \n",
       "152  104736601  51.46  2021-10-01 00:00:00   \n",
       "153  104738382  65.83  2021-10-02 00:00:00   \n",
       "154  104736603  85.47  2021-10-03 00:00:00   \n",
       "\n",
       "                                             name                 extractTime  \\\n",
       "0            Texas Rangers at Los Angeles Dodgers  2021-06-08 17:51:48.284897   \n",
       "1            Texas Rangers at Los Angeles Dodgers  2021-06-08 17:51:48.284897   \n",
       "2            Texas Rangers at Los Angeles Dodgers  2021-06-08 17:51:48.284897   \n",
       "3    Philadelphia Phillies at Los Angeles Dodgers  2021-06-08 17:51:48.284897   \n",
       "4    Philadelphia Phillies at Los Angeles Dodgers  2021-06-08 17:51:48.284897   \n",
       "..                                            ...                         ...   \n",
       "150  Arizona Diamondbacks at San Francisco Giants  2021-06-08 17:51:49.782776   \n",
       "151  Arizona Diamondbacks at San Francisco Giants  2021-06-08 17:51:49.782776   \n",
       "152      San Diego Padres at San Francisco Giants  2021-06-08 17:51:49.782776   \n",
       "153      San Diego Padres at San Francisco Giants  2021-06-08 17:51:49.782776   \n",
       "154      San Diego Padres at San Francisco Giants  2021-06-08 17:51:49.782776   \n",
       "\n",
       "                 homeTeam               awayTeam  days_to_game  \n",
       "0     Los Angeles Dodgers          Texas Rangers             2  \n",
       "1     Los Angeles Dodgers          Texas Rangers             3  \n",
       "2     Los Angeles Dodgers          Texas Rangers             4  \n",
       "3     Los Angeles Dodgers  Philadelphia Phillies             5  \n",
       "4     Los Angeles Dodgers  Philadelphia Phillies             6  \n",
       "..                    ...                    ...           ...  \n",
       "150  San Francisco Giants   Arizona Diamondbacks           112  \n",
       "151  San Francisco Giants   Arizona Diamondbacks           113  \n",
       "152  San Francisco Giants       San Diego Padres           114  \n",
       "153  San Francisco Giants       San Diego Padres           115  \n",
       "154  San Francisco Giants       San Diego Padres           116  \n",
       "\n",
       "[155 rows x 8 columns]"
      ],
      "text/html": "<div>\n<style scoped>\n    .dataframe tbody tr th:only-of-type {\n        vertical-align: middle;\n    }\n\n    .dataframe tbody tr th {\n        vertical-align: top;\n    }\n\n    .dataframe thead th {\n        text-align: right;\n    }\n</style>\n<table border=\"1\" class=\"dataframe\">\n  <thead>\n    <tr style=\"text-align: right;\">\n      <th></th>\n      <th>id</th>\n      <th>price</th>\n      <th>time</th>\n      <th>name</th>\n      <th>extractTime</th>\n      <th>homeTeam</th>\n      <th>awayTeam</th>\n      <th>days_to_game</th>\n    </tr>\n  </thead>\n  <tbody>\n    <tr>\n      <th>0</th>\n      <td>104722879</td>\n      <td>58.62</td>\n      <td>2021-06-11 00:00:00</td>\n      <td>Texas Rangers at Los Angeles Dodgers</td>\n      <td>2021-06-08 17:51:48.284897</td>\n      <td>Los Angeles Dodgers</td>\n      <td>Texas Rangers</td>\n      <td>2</td>\n    </tr>\n    <tr>\n      <th>1</th>\n      <td>104725408</td>\n      <td>29.16</td>\n      <td>2021-06-12 00:00:00</td>\n      <td>Texas Rangers at Los Angeles Dodgers</td>\n      <td>2021-06-08 17:51:48.284897</td>\n      <td>Los Angeles Dodgers</td>\n      <td>Texas Rangers</td>\n      <td>3</td>\n    </tr>\n    <tr>\n      <th>2</th>\n      <td>104725409</td>\n      <td>28.04</td>\n      <td>2021-06-13 00:00:00</td>\n      <td>Texas Rangers at Los Angeles Dodgers</td>\n      <td>2021-06-08 17:51:48.284897</td>\n      <td>Los Angeles Dodgers</td>\n      <td>Texas Rangers</td>\n      <td>4</td>\n    </tr>\n    <tr>\n      <th>3</th>\n      <td>104724531</td>\n      <td>35.55</td>\n      <td>2021-06-14 00:00:00</td>\n      <td>Philadelphia Phillies at Los Angeles Dodgers</td>\n      <td>2021-06-08 17:51:48.284897</td>\n      <td>Los Angeles Dodgers</td>\n      <td>Philadelphia Phillies</td>\n      <td>5</td>\n    </tr>\n    <tr>\n      <th>4</th>\n      <td>104725410</td>\n      <td>24.99</td>\n      <td>2021-06-15 00:00:00</td>\n      <td>Philadelphia Phillies at Los Angeles Dodgers</td>\n      <td>2021-06-08 17:51:48.284897</td>\n      <td>Los Angeles Dodgers</td>\n      <td>Philadelphia Phillies</td>\n      <td>6</td>\n    </tr>\n    <tr>\n      <th>...</th>\n      <td>...</td>\n      <td>...</td>\n      <td>...</td>\n      <td>...</td>\n      <td>...</td>\n      <td>...</td>\n      <td>...</td>\n      <td>...</td>\n    </tr>\n    <tr>\n      <th>150</th>\n      <td>104738380</td>\n      <td>17.17</td>\n      <td>2021-09-29 00:00:00</td>\n      <td>Arizona Diamondbacks at San Francisco Giants</td>\n      <td>2021-06-08 17:51:49.782776</td>\n      <td>San Francisco Giants</td>\n      <td>Arizona Diamondbacks</td>\n      <td>112</td>\n    </tr>\n    <tr>\n      <th>151</th>\n      <td>104736599</td>\n      <td>17.17</td>\n      <td>2021-09-30 00:00:00</td>\n      <td>Arizona Diamondbacks at San Francisco Giants</td>\n      <td>2021-06-08 17:51:49.782776</td>\n      <td>San Francisco Giants</td>\n      <td>Arizona Diamondbacks</td>\n      <td>113</td>\n    </tr>\n    <tr>\n      <th>152</th>\n      <td>104736601</td>\n      <td>51.46</td>\n      <td>2021-10-01 00:00:00</td>\n      <td>San Diego Padres at San Francisco Giants</td>\n      <td>2021-06-08 17:51:49.782776</td>\n      <td>San Francisco Giants</td>\n      <td>San Diego Padres</td>\n      <td>114</td>\n    </tr>\n    <tr>\n      <th>153</th>\n      <td>104738382</td>\n      <td>65.83</td>\n      <td>2021-10-02 00:00:00</td>\n      <td>San Diego Padres at San Francisco Giants</td>\n      <td>2021-06-08 17:51:49.782776</td>\n      <td>San Francisco Giants</td>\n      <td>San Diego Padres</td>\n      <td>115</td>\n    </tr>\n    <tr>\n      <th>154</th>\n      <td>104736603</td>\n      <td>85.47</td>\n      <td>2021-10-03 00:00:00</td>\n      <td>San Diego Padres at San Francisco Giants</td>\n      <td>2021-06-08 17:51:49.782776</td>\n      <td>San Francisco Giants</td>\n      <td>San Diego Padres</td>\n      <td>116</td>\n    </tr>\n  </tbody>\n</table>\n<p>155 rows × 8 columns</p>\n</div>"
     },
     "metadata": {},
     "execution_count": 4
    }
   ],
   "source": [
    "df2"
   ]
  },
  {
   "cell_type": "code",
   "execution_count": 6,
   "metadata": {},
   "outputs": [
    {
     "output_type": "execute_result",
     "data": {
      "text/plain": [
       "days_to_game                                    2      3      4      5    \\\n",
       "name                                                                       \n",
       "Arizona Diamondbacks at Los Angeles Dodgers     NaN    NaN    NaN    NaN   \n",
       "Atlanta Braves at Los Angeles Dodgers           NaN    NaN    NaN    NaN   \n",
       "Chicago Cubs at Los Angeles Dodgers             NaN    NaN    NaN    NaN   \n",
       "Colorado Rockies at Los Angeles Dodgers         NaN    NaN    NaN    NaN   \n",
       "Houston Astros at Los Angeles Dodgers           NaN    NaN    NaN    NaN   \n",
       "Los Angeles Angels at Los Angeles Dodgers       NaN    NaN    NaN    NaN   \n",
       "Milwaukee Brewers at Los Angeles Dodgers        NaN    NaN    NaN    NaN   \n",
       "New York Mets at Los Angeles Dodgers            NaN    NaN    NaN    NaN   \n",
       "Philadelphia Phillies at Los Angeles Dodgers    NaN    NaN    NaN  35.55   \n",
       "Pittsburgh Pirates at Los Angeles Dodgers       NaN    NaN    NaN    NaN   \n",
       "San Diego Padres at Los Angeles Dodgers         NaN    NaN    NaN    NaN   \n",
       "San Francisco Giants at Los Angeles Dodgers     NaN    NaN    NaN    NaN   \n",
       "Texas Rangers at Los Angeles Dodgers          58.62  31.46  28.04    NaN   \n",
       "\n",
       "days_to_game                                    6      7      15     16   \\\n",
       "name                                                                       \n",
       "Arizona Diamondbacks at Los Angeles Dodgers     NaN    NaN    NaN    NaN   \n",
       "Atlanta Braves at Los Angeles Dodgers           NaN    NaN    NaN    NaN   \n",
       "Chicago Cubs at Los Angeles Dodgers             NaN    NaN  46.19  44.96   \n",
       "Colorado Rockies at Los Angeles Dodgers         NaN    NaN    NaN    NaN   \n",
       "Houston Astros at Los Angeles Dodgers           NaN    NaN    NaN    NaN   \n",
       "Los Angeles Angels at Los Angeles Dodgers       NaN    NaN    NaN    NaN   \n",
       "Milwaukee Brewers at Los Angeles Dodgers        NaN    NaN    NaN    NaN   \n",
       "New York Mets at Los Angeles Dodgers            NaN    NaN    NaN    NaN   \n",
       "Philadelphia Phillies at Los Angeles Dodgers  25.32  39.29    NaN    NaN   \n",
       "Pittsburgh Pirates at Los Angeles Dodgers       NaN    NaN    NaN    NaN   \n",
       "San Diego Padres at Los Angeles Dodgers         NaN    NaN    NaN    NaN   \n",
       "San Francisco Giants at Los Angeles Dodgers     NaN    NaN    NaN    NaN   \n",
       "Texas Rangers at Los Angeles Dodgers            NaN    NaN    NaN    NaN   \n",
       "\n",
       "days_to_game                                    17     18   ...    95     96   \\\n",
       "name                                                        ...                 \n",
       "Arizona Diamondbacks at Los Angeles Dodgers     NaN    NaN  ...    NaN  36.54   \n",
       "Atlanta Braves at Los Angeles Dodgers           NaN    NaN  ...    NaN    NaN   \n",
       "Chicago Cubs at Los Angeles Dodgers           48.92  36.37  ...    NaN    NaN   \n",
       "Colorado Rockies at Los Angeles Dodgers         NaN    NaN  ...    NaN    NaN   \n",
       "Houston Astros at Los Angeles Dodgers           NaN    NaN  ...    NaN    NaN   \n",
       "Los Angeles Angels at Los Angeles Dodgers       NaN    NaN  ...    NaN    NaN   \n",
       "Milwaukee Brewers at Los Angeles Dodgers        NaN    NaN  ...    NaN    NaN   \n",
       "New York Mets at Los Angeles Dodgers            NaN    NaN  ...    NaN    NaN   \n",
       "Philadelphia Phillies at Los Angeles Dodgers    NaN    NaN  ...    NaN    NaN   \n",
       "Pittsburgh Pirates at Los Angeles Dodgers       NaN    NaN  ...    NaN    NaN   \n",
       "San Diego Padres at Los Angeles Dodgers         NaN    NaN  ...  42.51    NaN   \n",
       "San Francisco Giants at Los Angeles Dodgers     NaN    NaN  ...    NaN    NaN   \n",
       "Texas Rangers at Los Angeles Dodgers            NaN    NaN  ...    NaN    NaN   \n",
       "\n",
       "days_to_game                                    97     98     111    112  \\\n",
       "name                                                                       \n",
       "Arizona Diamondbacks at Los Angeles Dodgers   21.64  27.86    NaN    NaN   \n",
       "Atlanta Braves at Los Angeles Dodgers           NaN    NaN    NaN    NaN   \n",
       "Chicago Cubs at Los Angeles Dodgers             NaN    NaN    NaN    NaN   \n",
       "Colorado Rockies at Los Angeles Dodgers         NaN    NaN    NaN    NaN   \n",
       "Houston Astros at Los Angeles Dodgers           NaN    NaN    NaN    NaN   \n",
       "Los Angeles Angels at Los Angeles Dodgers       NaN    NaN    NaN    NaN   \n",
       "Milwaukee Brewers at Los Angeles Dodgers        NaN    NaN    NaN    NaN   \n",
       "New York Mets at Los Angeles Dodgers            NaN    NaN    NaN    NaN   \n",
       "Philadelphia Phillies at Los Angeles Dodgers    NaN    NaN    NaN    NaN   \n",
       "Pittsburgh Pirates at Los Angeles Dodgers       NaN    NaN    NaN    NaN   \n",
       "San Diego Padres at Los Angeles Dodgers         NaN    NaN  44.96  36.37   \n",
       "San Francisco Giants at Los Angeles Dodgers     NaN    NaN    NaN    NaN   \n",
       "Texas Rangers at Los Angeles Dodgers            NaN    NaN    NaN    NaN   \n",
       "\n",
       "days_to_game                                    113    114    115    116  \n",
       "name                                                                      \n",
       "Arizona Diamondbacks at Los Angeles Dodgers     NaN    NaN    NaN    NaN  \n",
       "Atlanta Braves at Los Angeles Dodgers           NaN    NaN    NaN    NaN  \n",
       "Chicago Cubs at Los Angeles Dodgers             NaN    NaN    NaN    NaN  \n",
       "Colorado Rockies at Los Angeles Dodgers         NaN    NaN    NaN    NaN  \n",
       "Houston Astros at Los Angeles Dodgers           NaN    NaN    NaN    NaN  \n",
       "Los Angeles Angels at Los Angeles Dodgers       NaN    NaN    NaN    NaN  \n",
       "Milwaukee Brewers at Los Angeles Dodgers        NaN  35.14  44.96  32.69  \n",
       "New York Mets at Los Angeles Dodgers            NaN    NaN    NaN    NaN  \n",
       "Philadelphia Phillies at Los Angeles Dodgers    NaN    NaN    NaN    NaN  \n",
       "Pittsburgh Pirates at Los Angeles Dodgers       NaN    NaN    NaN    NaN  \n",
       "San Diego Padres at Los Angeles Dodgers       35.14    NaN    NaN    NaN  \n",
       "San Francisco Giants at Los Angeles Dodgers     NaN    NaN    NaN    NaN  \n",
       "Texas Rangers at Los Angeles Dodgers            NaN    NaN    NaN    NaN  \n",
       "\n",
       "[13 rows x 52 columns]"
      ],
      "text/html": "<div>\n<style scoped>\n    .dataframe tbody tr th:only-of-type {\n        vertical-align: middle;\n    }\n\n    .dataframe tbody tr th {\n        vertical-align: top;\n    }\n\n    .dataframe thead th {\n        text-align: right;\n    }\n</style>\n<table border=\"1\" class=\"dataframe\">\n  <thead>\n    <tr style=\"text-align: right;\">\n      <th>days_to_game</th>\n      <th>2</th>\n      <th>3</th>\n      <th>4</th>\n      <th>5</th>\n      <th>6</th>\n      <th>7</th>\n      <th>15</th>\n      <th>16</th>\n      <th>17</th>\n      <th>18</th>\n      <th>...</th>\n      <th>95</th>\n      <th>96</th>\n      <th>97</th>\n      <th>98</th>\n      <th>111</th>\n      <th>112</th>\n      <th>113</th>\n      <th>114</th>\n      <th>115</th>\n      <th>116</th>\n    </tr>\n    <tr>\n      <th>name</th>\n      <th></th>\n      <th></th>\n      <th></th>\n      <th></th>\n      <th></th>\n      <th></th>\n      <th></th>\n      <th></th>\n      <th></th>\n      <th></th>\n      <th></th>\n      <th></th>\n      <th></th>\n      <th></th>\n      <th></th>\n      <th></th>\n      <th></th>\n      <th></th>\n      <th></th>\n      <th></th>\n      <th></th>\n    </tr>\n  </thead>\n  <tbody>\n    <tr>\n      <th>Arizona Diamondbacks at Los Angeles Dodgers</th>\n      <td>NaN</td>\n      <td>NaN</td>\n      <td>NaN</td>\n      <td>NaN</td>\n      <td>NaN</td>\n      <td>NaN</td>\n      <td>NaN</td>\n      <td>NaN</td>\n      <td>NaN</td>\n      <td>NaN</td>\n      <td>...</td>\n      <td>NaN</td>\n      <td>36.54</td>\n      <td>21.64</td>\n      <td>27.86</td>\n      <td>NaN</td>\n      <td>NaN</td>\n      <td>NaN</td>\n      <td>NaN</td>\n      <td>NaN</td>\n      <td>NaN</td>\n    </tr>\n    <tr>\n      <th>Atlanta Braves at Los Angeles Dodgers</th>\n      <td>NaN</td>\n      <td>NaN</td>\n      <td>NaN</td>\n      <td>NaN</td>\n      <td>NaN</td>\n      <td>NaN</td>\n      <td>NaN</td>\n      <td>NaN</td>\n      <td>NaN</td>\n      <td>NaN</td>\n      <td>...</td>\n      <td>NaN</td>\n      <td>NaN</td>\n      <td>NaN</td>\n      <td>NaN</td>\n      <td>NaN</td>\n      <td>NaN</td>\n      <td>NaN</td>\n      <td>NaN</td>\n      <td>NaN</td>\n      <td>NaN</td>\n    </tr>\n    <tr>\n      <th>Chicago Cubs at Los Angeles Dodgers</th>\n      <td>NaN</td>\n      <td>NaN</td>\n      <td>NaN</td>\n      <td>NaN</td>\n      <td>NaN</td>\n      <td>NaN</td>\n      <td>46.19</td>\n      <td>44.96</td>\n      <td>48.92</td>\n      <td>36.37</td>\n      <td>...</td>\n      <td>NaN</td>\n      <td>NaN</td>\n      <td>NaN</td>\n      <td>NaN</td>\n      <td>NaN</td>\n      <td>NaN</td>\n      <td>NaN</td>\n      <td>NaN</td>\n      <td>NaN</td>\n      <td>NaN</td>\n    </tr>\n    <tr>\n      <th>Colorado Rockies at Los Angeles Dodgers</th>\n      <td>NaN</td>\n      <td>NaN</td>\n      <td>NaN</td>\n      <td>NaN</td>\n      <td>NaN</td>\n      <td>NaN</td>\n      <td>NaN</td>\n      <td>NaN</td>\n      <td>NaN</td>\n      <td>NaN</td>\n      <td>...</td>\n      <td>NaN</td>\n      <td>NaN</td>\n      <td>NaN</td>\n      <td>NaN</td>\n      <td>NaN</td>\n      <td>NaN</td>\n      <td>NaN</td>\n      <td>NaN</td>\n      <td>NaN</td>\n      <td>NaN</td>\n    </tr>\n    <tr>\n      <th>Houston Astros at Los Angeles Dodgers</th>\n      <td>NaN</td>\n      <td>NaN</td>\n      <td>NaN</td>\n      <td>NaN</td>\n      <td>NaN</td>\n      <td>NaN</td>\n      <td>NaN</td>\n      <td>NaN</td>\n      <td>NaN</td>\n      <td>NaN</td>\n      <td>...</td>\n      <td>NaN</td>\n      <td>NaN</td>\n      <td>NaN</td>\n      <td>NaN</td>\n      <td>NaN</td>\n      <td>NaN</td>\n      <td>NaN</td>\n      <td>NaN</td>\n      <td>NaN</td>\n      <td>NaN</td>\n    </tr>\n    <tr>\n      <th>Los Angeles Angels at Los Angeles Dodgers</th>\n      <td>NaN</td>\n      <td>NaN</td>\n      <td>NaN</td>\n      <td>NaN</td>\n      <td>NaN</td>\n      <td>NaN</td>\n      <td>NaN</td>\n      <td>NaN</td>\n      <td>NaN</td>\n      <td>NaN</td>\n      <td>...</td>\n      <td>NaN</td>\n      <td>NaN</td>\n      <td>NaN</td>\n      <td>NaN</td>\n      <td>NaN</td>\n      <td>NaN</td>\n      <td>NaN</td>\n      <td>NaN</td>\n      <td>NaN</td>\n      <td>NaN</td>\n    </tr>\n    <tr>\n      <th>Milwaukee Brewers at Los Angeles Dodgers</th>\n      <td>NaN</td>\n      <td>NaN</td>\n      <td>NaN</td>\n      <td>NaN</td>\n      <td>NaN</td>\n      <td>NaN</td>\n      <td>NaN</td>\n      <td>NaN</td>\n      <td>NaN</td>\n      <td>NaN</td>\n      <td>...</td>\n      <td>NaN</td>\n      <td>NaN</td>\n      <td>NaN</td>\n      <td>NaN</td>\n      <td>NaN</td>\n      <td>NaN</td>\n      <td>NaN</td>\n      <td>35.14</td>\n      <td>44.96</td>\n      <td>32.69</td>\n    </tr>\n    <tr>\n      <th>New York Mets at Los Angeles Dodgers</th>\n      <td>NaN</td>\n      <td>NaN</td>\n      <td>NaN</td>\n      <td>NaN</td>\n      <td>NaN</td>\n      <td>NaN</td>\n      <td>NaN</td>\n      <td>NaN</td>\n      <td>NaN</td>\n      <td>NaN</td>\n      <td>...</td>\n      <td>NaN</td>\n      <td>NaN</td>\n      <td>NaN</td>\n      <td>NaN</td>\n      <td>NaN</td>\n      <td>NaN</td>\n      <td>NaN</td>\n      <td>NaN</td>\n      <td>NaN</td>\n      <td>NaN</td>\n    </tr>\n    <tr>\n      <th>Philadelphia Phillies at Los Angeles Dodgers</th>\n      <td>NaN</td>\n      <td>NaN</td>\n      <td>NaN</td>\n      <td>35.55</td>\n      <td>25.32</td>\n      <td>39.29</td>\n      <td>NaN</td>\n      <td>NaN</td>\n      <td>NaN</td>\n      <td>NaN</td>\n      <td>...</td>\n      <td>NaN</td>\n      <td>NaN</td>\n      <td>NaN</td>\n      <td>NaN</td>\n      <td>NaN</td>\n      <td>NaN</td>\n      <td>NaN</td>\n      <td>NaN</td>\n      <td>NaN</td>\n      <td>NaN</td>\n    </tr>\n    <tr>\n      <th>Pittsburgh Pirates at Los Angeles Dodgers</th>\n      <td>NaN</td>\n      <td>NaN</td>\n      <td>NaN</td>\n      <td>NaN</td>\n      <td>NaN</td>\n      <td>NaN</td>\n      <td>NaN</td>\n      <td>NaN</td>\n      <td>NaN</td>\n      <td>NaN</td>\n      <td>...</td>\n      <td>NaN</td>\n      <td>NaN</td>\n      <td>NaN</td>\n      <td>NaN</td>\n      <td>NaN</td>\n      <td>NaN</td>\n      <td>NaN</td>\n      <td>NaN</td>\n      <td>NaN</td>\n      <td>NaN</td>\n    </tr>\n    <tr>\n      <th>San Diego Padres at Los Angeles Dodgers</th>\n      <td>NaN</td>\n      <td>NaN</td>\n      <td>NaN</td>\n      <td>NaN</td>\n      <td>NaN</td>\n      <td>NaN</td>\n      <td>NaN</td>\n      <td>NaN</td>\n      <td>NaN</td>\n      <td>NaN</td>\n      <td>...</td>\n      <td>42.51</td>\n      <td>NaN</td>\n      <td>NaN</td>\n      <td>NaN</td>\n      <td>44.96</td>\n      <td>36.37</td>\n      <td>35.14</td>\n      <td>NaN</td>\n      <td>NaN</td>\n      <td>NaN</td>\n    </tr>\n    <tr>\n      <th>San Francisco Giants at Los Angeles Dodgers</th>\n      <td>NaN</td>\n      <td>NaN</td>\n      <td>NaN</td>\n      <td>NaN</td>\n      <td>NaN</td>\n      <td>NaN</td>\n      <td>NaN</td>\n      <td>NaN</td>\n      <td>NaN</td>\n      <td>NaN</td>\n      <td>...</td>\n      <td>NaN</td>\n      <td>NaN</td>\n      <td>NaN</td>\n      <td>NaN</td>\n      <td>NaN</td>\n      <td>NaN</td>\n      <td>NaN</td>\n      <td>NaN</td>\n      <td>NaN</td>\n      <td>NaN</td>\n    </tr>\n    <tr>\n      <th>Texas Rangers at Los Angeles Dodgers</th>\n      <td>58.62</td>\n      <td>31.46</td>\n      <td>28.04</td>\n      <td>NaN</td>\n      <td>NaN</td>\n      <td>NaN</td>\n      <td>NaN</td>\n      <td>NaN</td>\n      <td>NaN</td>\n      <td>NaN</td>\n      <td>...</td>\n      <td>NaN</td>\n      <td>NaN</td>\n      <td>NaN</td>\n      <td>NaN</td>\n      <td>NaN</td>\n      <td>NaN</td>\n      <td>NaN</td>\n      <td>NaN</td>\n      <td>NaN</td>\n      <td>NaN</td>\n    </tr>\n  </tbody>\n</table>\n<p>13 rows × 52 columns</p>\n</div>"
     },
     "metadata": {},
     "execution_count": 6
    }
   ],
   "source": [
    "df2.pivot_table(values = \"price\", columns = \"days_to_game\", index = \"name\")"
   ]
  },
  {
   "cell_type": "code",
   "execution_count": 113,
   "metadata": {},
   "outputs": [],
   "source": [
    "df['price'] = df['price'].astype(\"float32\")"
   ]
  },
  {
   "cell_type": "code",
   "execution_count": 116,
   "metadata": {},
   "outputs": [],
   "source": [
    "conn.close()"
   ]
  },
  {
   "cell_type": "code",
   "execution_count": 7,
   "metadata": {},
   "outputs": [
    {
     "output_type": "execute_result",
     "data": {
      "text/plain": [
       "            id  price                 time  \\\n",
       "0    104722879  58.62  2021-06-11 00:00:00   \n",
       "1    104725408  31.46  2021-06-12 00:00:00   \n",
       "2    104725409  28.04  2021-06-13 00:00:00   \n",
       "3    104724531  35.55  2021-06-14 00:00:00   \n",
       "4    104725410  25.32  2021-06-15 00:00:00   \n",
       "..         ...    ...                  ...   \n",
       "99   104724625  36.37  2021-09-29 00:00:00   \n",
       "100  104724627  35.14  2021-09-30 00:00:00   \n",
       "101  104724629  35.14  2021-10-01 00:00:00   \n",
       "102  104724631  44.96  2021-10-02 00:00:00   \n",
       "103  104725448  32.69  2021-10-03 00:00:00   \n",
       "\n",
       "                                             name                 extractTime  \\\n",
       "0            Texas Rangers at Los Angeles Dodgers  2021-06-08 21:51:33.574579   \n",
       "1            Texas Rangers at Los Angeles Dodgers  2021-06-08 21:51:33.574589   \n",
       "2            Texas Rangers at Los Angeles Dodgers  2021-06-08 21:51:33.574593   \n",
       "3    Philadelphia Phillies at Los Angeles Dodgers  2021-06-08 21:51:33.574595   \n",
       "4    Philadelphia Phillies at Los Angeles Dodgers  2021-06-08 21:51:33.574597   \n",
       "..                                            ...                         ...   \n",
       "99        San Diego Padres at Los Angeles Dodgers  2021-06-08 22:15:26.493996   \n",
       "100       San Diego Padres at Los Angeles Dodgers  2021-06-08 22:15:26.493997   \n",
       "101      Milwaukee Brewers at Los Angeles Dodgers  2021-06-08 22:15:26.493999   \n",
       "102      Milwaukee Brewers at Los Angeles Dodgers  2021-06-08 22:15:26.494000   \n",
       "103      Milwaukee Brewers at Los Angeles Dodgers  2021-06-08 22:15:26.494002   \n",
       "\n",
       "     days_to_game  \n",
       "0               2  \n",
       "1               3  \n",
       "2               4  \n",
       "3               5  \n",
       "4               6  \n",
       "..            ...  \n",
       "99            112  \n",
       "100           113  \n",
       "101           114  \n",
       "102           115  \n",
       "103           116  \n",
       "\n",
       "[104 rows x 6 columns]"
      ],
      "text/html": "<div>\n<style scoped>\n    .dataframe tbody tr th:only-of-type {\n        vertical-align: middle;\n    }\n\n    .dataframe tbody tr th {\n        vertical-align: top;\n    }\n\n    .dataframe thead th {\n        text-align: right;\n    }\n</style>\n<table border=\"1\" class=\"dataframe\">\n  <thead>\n    <tr style=\"text-align: right;\">\n      <th></th>\n      <th>id</th>\n      <th>price</th>\n      <th>time</th>\n      <th>name</th>\n      <th>extractTime</th>\n      <th>days_to_game</th>\n    </tr>\n  </thead>\n  <tbody>\n    <tr>\n      <th>0</th>\n      <td>104722879</td>\n      <td>58.62</td>\n      <td>2021-06-11 00:00:00</td>\n      <td>Texas Rangers at Los Angeles Dodgers</td>\n      <td>2021-06-08 21:51:33.574579</td>\n      <td>2</td>\n    </tr>\n    <tr>\n      <th>1</th>\n      <td>104725408</td>\n      <td>31.46</td>\n      <td>2021-06-12 00:00:00</td>\n      <td>Texas Rangers at Los Angeles Dodgers</td>\n      <td>2021-06-08 21:51:33.574589</td>\n      <td>3</td>\n    </tr>\n    <tr>\n      <th>2</th>\n      <td>104725409</td>\n      <td>28.04</td>\n      <td>2021-06-13 00:00:00</td>\n      <td>Texas Rangers at Los Angeles Dodgers</td>\n      <td>2021-06-08 21:51:33.574593</td>\n      <td>4</td>\n    </tr>\n    <tr>\n      <th>3</th>\n      <td>104724531</td>\n      <td>35.55</td>\n      <td>2021-06-14 00:00:00</td>\n      <td>Philadelphia Phillies at Los Angeles Dodgers</td>\n      <td>2021-06-08 21:51:33.574595</td>\n      <td>5</td>\n    </tr>\n    <tr>\n      <th>4</th>\n      <td>104725410</td>\n      <td>25.32</td>\n      <td>2021-06-15 00:00:00</td>\n      <td>Philadelphia Phillies at Los Angeles Dodgers</td>\n      <td>2021-06-08 21:51:33.574597</td>\n      <td>6</td>\n    </tr>\n    <tr>\n      <th>...</th>\n      <td>...</td>\n      <td>...</td>\n      <td>...</td>\n      <td>...</td>\n      <td>...</td>\n      <td>...</td>\n    </tr>\n    <tr>\n      <th>99</th>\n      <td>104724625</td>\n      <td>36.37</td>\n      <td>2021-09-29 00:00:00</td>\n      <td>San Diego Padres at Los Angeles Dodgers</td>\n      <td>2021-06-08 22:15:26.493996</td>\n      <td>112</td>\n    </tr>\n    <tr>\n      <th>100</th>\n      <td>104724627</td>\n      <td>35.14</td>\n      <td>2021-09-30 00:00:00</td>\n      <td>San Diego Padres at Los Angeles Dodgers</td>\n      <td>2021-06-08 22:15:26.493997</td>\n      <td>113</td>\n    </tr>\n    <tr>\n      <th>101</th>\n      <td>104724629</td>\n      <td>35.14</td>\n      <td>2021-10-01 00:00:00</td>\n      <td>Milwaukee Brewers at Los Angeles Dodgers</td>\n      <td>2021-06-08 22:15:26.493999</td>\n      <td>114</td>\n    </tr>\n    <tr>\n      <th>102</th>\n      <td>104724631</td>\n      <td>44.96</td>\n      <td>2021-10-02 00:00:00</td>\n      <td>Milwaukee Brewers at Los Angeles Dodgers</td>\n      <td>2021-06-08 22:15:26.494000</td>\n      <td>115</td>\n    </tr>\n    <tr>\n      <th>103</th>\n      <td>104725448</td>\n      <td>32.69</td>\n      <td>2021-10-03 00:00:00</td>\n      <td>Milwaukee Brewers at Los Angeles Dodgers</td>\n      <td>2021-06-08 22:15:26.494002</td>\n      <td>116</td>\n    </tr>\n  </tbody>\n</table>\n<p>104 rows × 6 columns</p>\n</div>"
     },
     "metadata": {},
     "execution_count": 7
    }
   ],
   "source": [
    "df2"
   ]
  },
  {
   "cell_type": "code",
   "execution_count": null,
   "metadata": {},
   "outputs": [],
   "source": []
  }
 ]
}