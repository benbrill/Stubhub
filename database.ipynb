{
 "metadata": {
  "language_info": {
   "codemirror_mode": {
    "name": "ipython",
    "version": 3
   },
   "file_extension": ".py",
   "mimetype": "text/x-python",
   "name": "python",
   "nbconvert_exporter": "python",
   "pygments_lexer": "ipython3",
   "version": "3.8.8"
  },
  "orig_nbformat": 2,
  "kernelspec": {
   "name": "python388jvsc74a57bd0477362a61becd1fc3f6af1137cb150a0360a8bc15fcfe15ec96bed26a9a26e2e",
   "display_name": "Python 3.8.8 64-bit ('PIC16B': conda)"
  }
 },
 "nbformat": 4,
 "nbformat_minor": 2,
 "cells": [
  {
   "cell_type": "code",
   "execution_count": 2,
   "metadata": {},
   "outputs": [],
   "source": [
    "import sqlite3\n",
    "import requests\n",
    "import datetime\n",
    "import pandas as pd "
   ]
  },
  {
   "cell_type": "code",
   "execution_count": 3,
   "metadata": {},
   "outputs": [
    {
     "output_type": "execute_result",
     "data": {
      "text/plain": [
       "'JA5o8vrYmwMO5akh50E4crz6i9XI'"
      ]
     },
     "metadata": {},
     "execution_count": 3
    }
   ],
   "source": [
    "os.environ.get('ACCESS_TOKEN')"
   ]
  },
  {
   "cell_type": "code",
   "execution_count": 8,
   "metadata": {},
   "outputs": [],
   "source": [
    "url = \"https://api.stubhub.com/sellers/search/events/v3?venueId=744&performerId=1061&parking=false&sort=eventDateLocal%20asc&rows=81\"\n",
    "headers = {\n",
    "    \"Authorization\": \"Bearer\" + os.environ.get('ACCESS_TOKEN'),\n",
    "    \"Accept\": \"application/json\"\n",
    "}\n",
    "r = requests.get(url, headers=headers)"
   ]
  },
  {
   "cell_type": "code",
   "execution_count": 38,
   "metadata": {},
   "outputs": [
    {
     "output_type": "execute_result",
     "data": {
      "text/plain": [
       "datetime.datetime(2021, 6, 8, 11, 57, 57, 835935)"
      ]
     },
     "metadata": {},
     "execution_count": 38
    }
   ],
   "source": [
    "datetime.datetime.today()"
   ]
  },
  {
   "cell_type": "code",
   "execution_count": 42,
   "metadata": {},
   "outputs": [],
   "source": [
    "events= r.json()['events']"
   ]
  },
  {
   "cell_type": "code",
   "execution_count": 36,
   "metadata": {},
   "outputs": [
    {
     "output_type": "execute_result",
     "data": {
      "text/plain": [
       "'2021-06-11'"
      ]
     },
     "metadata": {},
     "execution_count": 36
    }
   ],
   "source": [
    "data[0]['eventDateLocal'][0:10]"
   ]
  },
  {
   "cell_type": "code",
   "execution_count": 39,
   "metadata": {},
   "outputs": [],
   "source": [
    "d = datetime.datetime.today()- datetime.datetime.fromisoformat('2021-06-11')"
   ]
  },
  {
   "cell_type": "code",
   "execution_count": 41,
   "metadata": {},
   "outputs": [
    {
     "output_type": "execute_result",
     "data": {
      "text/plain": [
       "-3"
      ]
     },
     "metadata": {},
     "execution_count": 41
    }
   ],
   "source": [
    "d.days"
   ]
  },
  {
   "cell_type": "code",
   "execution_count": 93,
   "metadata": {},
   "outputs": [
    {
     "output_type": "execute_result",
     "data": {
      "text/plain": [
       "           id   price                      time  \\\n",
       "0   104722879   56.45  2021-06-11T19:10:00-0700   \n",
       "1   104725408   33.55  2021-06-12T19:10:00-0700   \n",
       "2   104725409   27.58  2021-06-13T13:10:00-0700   \n",
       "3   104724531   35.55  2021-06-14T19:10:00-0700   \n",
       "4   104725410   25.86  2021-06-15T19:10:00-0700   \n",
       "5   104725411   39.29  2021-06-16T19:10:00-0700   \n",
       "6   104722883   46.19  2021-06-24T19:10:00-0700   \n",
       "7   104722884   44.96  2021-06-25T19:10:00-0700   \n",
       "8   104722885    49.3  2021-06-26T16:15:00-0700   \n",
       "9   104722886   36.37  2021-06-27T16:08:00-0700   \n",
       "10  104725415   34.05  2021-06-28T19:10:00-0700   \n",
       "11  104725416   44.15  2021-06-29T19:10:00-0700   \n",
       "12  104724572   32.69  2021-07-09T19:10:00-0700   \n",
       "13  104724574   44.96  2021-07-10T19:10:00-0700   \n",
       "14  104724575   29.01  2021-07-11T13:10:00-0700   \n",
       "15  104724576    37.6  2021-07-19T19:10:00-0700   \n",
       "16  104724577    37.6  2021-07-20T19:10:00-0700   \n",
       "17  104725433   33.92  2021-07-21T19:10:00-0700   \n",
       "18  104724579   38.83  2021-07-22T19:10:00-0700   \n",
       "19  104724581   32.69  2021-07-23T19:10:00-0700   \n",
       "20  104724583   38.83  2021-07-24T18:10:00-0700   \n",
       "21  104724585   33.92  2021-07-25T13:10:00-0700   \n",
       "22  104725435  110.02  2021-08-03T19:10:00-0700   \n",
       "23  104724588   92.16  2021-08-04T18:40:00-0700   \n",
       "24  104724590   41.28  2021-08-06T19:10:00-0700   \n",
       "25  104725436   53.56  2021-08-07T18:10:00-0700   \n",
       "26  104725437   42.51  2021-08-08T13:10:00-0700   \n",
       "27  104724594   32.69  2021-08-16T19:10:00-0700   \n",
       "28  104724596   32.69  2021-08-17T19:10:00-0700   \n",
       "29  104724597   70.74  2021-08-18T19:10:00-0700   \n",
       "30  104724598   32.69  2021-08-19T19:10:00-0700   \n",
       "31  104724599   38.83  2021-08-20T19:10:00-0700   \n",
       "32  104724601   48.65  2021-08-21T18:10:00-0700   \n",
       "33  104724603   33.92  2021-08-22T13:10:00-0700   \n",
       "34  104724604   32.69  2021-08-27T19:10:00-0700   \n",
       "35  104724606   38.83  2021-08-28T18:10:00-0700   \n",
       "36  104724607   32.69  2021-08-29T13:10:00-0700   \n",
       "37  104724609   41.46  2021-08-30T19:10:00-0700   \n",
       "38  104725443   26.55  2021-08-31T19:10:00-0700   \n",
       "39  104725444   32.33  2021-09-01T19:10:00-0700   \n",
       "40  104724613   48.65  2021-09-10T19:10:00-0700   \n",
       "41  104724615   65.83  2021-09-11T18:10:00-0700   \n",
       "42  104724616   42.51  2021-09-12T13:10:00-0700   \n",
       "43  104724618   33.92  2021-09-13T19:10:00-0700   \n",
       "44  104725446   21.64  2021-09-14T19:10:00-0700   \n",
       "45  104724621   26.55  2021-09-15T19:10:00-0700   \n",
       "46  104724623   44.96  2021-09-28T19:10:00-0700   \n",
       "47  104724625   36.37  2021-09-29T19:10:00-0700   \n",
       "48  104724627   35.14  2021-09-30T19:10:00-0700   \n",
       "49  104724629   35.14  2021-10-01T19:10:00-0700   \n",
       "50  104724631   44.96  2021-10-02T18:10:00-0700   \n",
       "51  104725448   32.69  2021-10-03T12:10:00-0700   \n",
       "\n",
       "                                            name                extractTime  \n",
       "0           Texas Rangers at Los Angeles Dodgers 2021-06-08 12:13:52.747224  \n",
       "1           Texas Rangers at Los Angeles Dodgers 2021-06-08 12:13:52.747224  \n",
       "2           Texas Rangers at Los Angeles Dodgers 2021-06-08 12:13:52.747224  \n",
       "3   Philadelphia Phillies at Los Angeles Dodgers 2021-06-08 12:13:52.747224  \n",
       "4   Philadelphia Phillies at Los Angeles Dodgers 2021-06-08 12:13:52.747224  \n",
       "5   Philadelphia Phillies at Los Angeles Dodgers 2021-06-08 12:13:52.747224  \n",
       "6            Chicago Cubs at Los Angeles Dodgers 2021-06-08 12:13:52.747224  \n",
       "7            Chicago Cubs at Los Angeles Dodgers 2021-06-08 12:13:52.747224  \n",
       "8            Chicago Cubs at Los Angeles Dodgers 2021-06-08 12:13:52.747224  \n",
       "9            Chicago Cubs at Los Angeles Dodgers 2021-06-08 12:13:52.747224  \n",
       "10   San Francisco Giants at Los Angeles Dodgers 2021-06-08 12:13:52.747224  \n",
       "11   San Francisco Giants at Los Angeles Dodgers 2021-06-08 12:13:52.747224  \n",
       "12   Arizona Diamondbacks at Los Angeles Dodgers 2021-06-08 12:13:52.747224  \n",
       "13   Arizona Diamondbacks at Los Angeles Dodgers 2021-06-08 12:13:52.747224  \n",
       "14   Arizona Diamondbacks at Los Angeles Dodgers 2021-06-08 12:13:52.747224  \n",
       "15   San Francisco Giants at Los Angeles Dodgers 2021-06-08 12:13:52.747224  \n",
       "16   San Francisco Giants at Los Angeles Dodgers 2021-06-08 12:13:52.747224  \n",
       "17   San Francisco Giants at Los Angeles Dodgers 2021-06-08 12:13:52.747224  \n",
       "18   San Francisco Giants at Los Angeles Dodgers 2021-06-08 12:13:52.747224  \n",
       "19       Colorado Rockies at Los Angeles Dodgers 2021-06-08 12:13:52.747224  \n",
       "20       Colorado Rockies at Los Angeles Dodgers 2021-06-08 12:13:52.747224  \n",
       "21       Colorado Rockies at Los Angeles Dodgers 2021-06-08 12:13:52.747224  \n",
       "22         Houston Astros at Los Angeles Dodgers 2021-06-08 12:13:52.747224  \n",
       "23         Houston Astros at Los Angeles Dodgers 2021-06-08 12:13:52.747224  \n",
       "24     Los Angeles Angels at Los Angeles Dodgers 2021-06-08 12:13:52.747224  \n",
       "25     Los Angeles Angels at Los Angeles Dodgers 2021-06-08 12:13:52.747224  \n",
       "26     Los Angeles Angels at Los Angeles Dodgers 2021-06-08 12:13:52.747224  \n",
       "27     Pittsburgh Pirates at Los Angeles Dodgers 2021-06-08 12:13:52.747224  \n",
       "28     Pittsburgh Pirates at Los Angeles Dodgers 2021-06-08 12:13:52.747224  \n",
       "29     Pittsburgh Pirates at Los Angeles Dodgers 2021-06-08 12:13:52.747224  \n",
       "30          New York Mets at Los Angeles Dodgers 2021-06-08 12:13:52.747224  \n",
       "31          New York Mets at Los Angeles Dodgers 2021-06-08 12:13:52.747224  \n",
       "32          New York Mets at Los Angeles Dodgers 2021-06-08 12:13:52.747224  \n",
       "33          New York Mets at Los Angeles Dodgers 2021-06-08 12:13:52.747224  \n",
       "34       Colorado Rockies at Los Angeles Dodgers 2021-06-08 12:13:52.747224  \n",
       "35       Colorado Rockies at Los Angeles Dodgers 2021-06-08 12:13:52.747224  \n",
       "36       Colorado Rockies at Los Angeles Dodgers 2021-06-08 12:13:52.747224  \n",
       "37         Atlanta Braves at Los Angeles Dodgers 2021-06-08 12:13:52.747224  \n",
       "38         Atlanta Braves at Los Angeles Dodgers 2021-06-08 12:13:52.747224  \n",
       "39         Atlanta Braves at Los Angeles Dodgers 2021-06-08 12:13:52.747224  \n",
       "40       San Diego Padres at Los Angeles Dodgers 2021-06-08 12:13:52.747224  \n",
       "41       San Diego Padres at Los Angeles Dodgers 2021-06-08 12:13:52.747224  \n",
       "42       San Diego Padres at Los Angeles Dodgers 2021-06-08 12:13:52.747224  \n",
       "43   Arizona Diamondbacks at Los Angeles Dodgers 2021-06-08 12:13:52.747224  \n",
       "44   Arizona Diamondbacks at Los Angeles Dodgers 2021-06-08 12:13:52.747224  \n",
       "45   Arizona Diamondbacks at Los Angeles Dodgers 2021-06-08 12:13:52.747224  \n",
       "46       San Diego Padres at Los Angeles Dodgers 2021-06-08 12:13:52.747224  \n",
       "47       San Diego Padres at Los Angeles Dodgers 2021-06-08 12:13:52.747224  \n",
       "48       San Diego Padres at Los Angeles Dodgers 2021-06-08 12:13:52.747224  \n",
       "49      Milwaukee Brewers at Los Angeles Dodgers 2021-06-08 12:13:52.747224  \n",
       "50      Milwaukee Brewers at Los Angeles Dodgers 2021-06-08 12:13:52.747224  \n",
       "51      Milwaukee Brewers at Los Angeles Dodgers 2021-06-08 12:13:52.747224  "
      ],
      "text/html": "<div>\n<style scoped>\n    .dataframe tbody tr th:only-of-type {\n        vertical-align: middle;\n    }\n\n    .dataframe tbody tr th {\n        vertical-align: top;\n    }\n\n    .dataframe thead th {\n        text-align: right;\n    }\n</style>\n<table border=\"1\" class=\"dataframe\">\n  <thead>\n    <tr style=\"text-align: right;\">\n      <th></th>\n      <th>id</th>\n      <th>price</th>\n      <th>time</th>\n      <th>name</th>\n      <th>extractTime</th>\n    </tr>\n  </thead>\n  <tbody>\n    <tr>\n      <th>0</th>\n      <td>104722879</td>\n      <td>56.45</td>\n      <td>2021-06-11T19:10:00-0700</td>\n      <td>Texas Rangers at Los Angeles Dodgers</td>\n      <td>2021-06-08 12:13:52.747224</td>\n    </tr>\n    <tr>\n      <th>1</th>\n      <td>104725408</td>\n      <td>33.55</td>\n      <td>2021-06-12T19:10:00-0700</td>\n      <td>Texas Rangers at Los Angeles Dodgers</td>\n      <td>2021-06-08 12:13:52.747224</td>\n    </tr>\n    <tr>\n      <th>2</th>\n      <td>104725409</td>\n      <td>27.58</td>\n      <td>2021-06-13T13:10:00-0700</td>\n      <td>Texas Rangers at Los Angeles Dodgers</td>\n      <td>2021-06-08 12:13:52.747224</td>\n    </tr>\n    <tr>\n      <th>3</th>\n      <td>104724531</td>\n      <td>35.55</td>\n      <td>2021-06-14T19:10:00-0700</td>\n      <td>Philadelphia Phillies at Los Angeles Dodgers</td>\n      <td>2021-06-08 12:13:52.747224</td>\n    </tr>\n    <tr>\n      <th>4</th>\n      <td>104725410</td>\n      <td>25.86</td>\n      <td>2021-06-15T19:10:00-0700</td>\n      <td>Philadelphia Phillies at Los Angeles Dodgers</td>\n      <td>2021-06-08 12:13:52.747224</td>\n    </tr>\n    <tr>\n      <th>5</th>\n      <td>104725411</td>\n      <td>39.29</td>\n      <td>2021-06-16T19:10:00-0700</td>\n      <td>Philadelphia Phillies at Los Angeles Dodgers</td>\n      <td>2021-06-08 12:13:52.747224</td>\n    </tr>\n    <tr>\n      <th>6</th>\n      <td>104722883</td>\n      <td>46.19</td>\n      <td>2021-06-24T19:10:00-0700</td>\n      <td>Chicago Cubs at Los Angeles Dodgers</td>\n      <td>2021-06-08 12:13:52.747224</td>\n    </tr>\n    <tr>\n      <th>7</th>\n      <td>104722884</td>\n      <td>44.96</td>\n      <td>2021-06-25T19:10:00-0700</td>\n      <td>Chicago Cubs at Los Angeles Dodgers</td>\n      <td>2021-06-08 12:13:52.747224</td>\n    </tr>\n    <tr>\n      <th>8</th>\n      <td>104722885</td>\n      <td>49.3</td>\n      <td>2021-06-26T16:15:00-0700</td>\n      <td>Chicago Cubs at Los Angeles Dodgers</td>\n      <td>2021-06-08 12:13:52.747224</td>\n    </tr>\n    <tr>\n      <th>9</th>\n      <td>104722886</td>\n      <td>36.37</td>\n      <td>2021-06-27T16:08:00-0700</td>\n      <td>Chicago Cubs at Los Angeles Dodgers</td>\n      <td>2021-06-08 12:13:52.747224</td>\n    </tr>\n    <tr>\n      <th>10</th>\n      <td>104725415</td>\n      <td>34.05</td>\n      <td>2021-06-28T19:10:00-0700</td>\n      <td>San Francisco Giants at Los Angeles Dodgers</td>\n      <td>2021-06-08 12:13:52.747224</td>\n    </tr>\n    <tr>\n      <th>11</th>\n      <td>104725416</td>\n      <td>44.15</td>\n      <td>2021-06-29T19:10:00-0700</td>\n      <td>San Francisco Giants at Los Angeles Dodgers</td>\n      <td>2021-06-08 12:13:52.747224</td>\n    </tr>\n    <tr>\n      <th>12</th>\n      <td>104724572</td>\n      <td>32.69</td>\n      <td>2021-07-09T19:10:00-0700</td>\n      <td>Arizona Diamondbacks at Los Angeles Dodgers</td>\n      <td>2021-06-08 12:13:52.747224</td>\n    </tr>\n    <tr>\n      <th>13</th>\n      <td>104724574</td>\n      <td>44.96</td>\n      <td>2021-07-10T19:10:00-0700</td>\n      <td>Arizona Diamondbacks at Los Angeles Dodgers</td>\n      <td>2021-06-08 12:13:52.747224</td>\n    </tr>\n    <tr>\n      <th>14</th>\n      <td>104724575</td>\n      <td>29.01</td>\n      <td>2021-07-11T13:10:00-0700</td>\n      <td>Arizona Diamondbacks at Los Angeles Dodgers</td>\n      <td>2021-06-08 12:13:52.747224</td>\n    </tr>\n    <tr>\n      <th>15</th>\n      <td>104724576</td>\n      <td>37.6</td>\n      <td>2021-07-19T19:10:00-0700</td>\n      <td>San Francisco Giants at Los Angeles Dodgers</td>\n      <td>2021-06-08 12:13:52.747224</td>\n    </tr>\n    <tr>\n      <th>16</th>\n      <td>104724577</td>\n      <td>37.6</td>\n      <td>2021-07-20T19:10:00-0700</td>\n      <td>San Francisco Giants at Los Angeles Dodgers</td>\n      <td>2021-06-08 12:13:52.747224</td>\n    </tr>\n    <tr>\n      <th>17</th>\n      <td>104725433</td>\n      <td>33.92</td>\n      <td>2021-07-21T19:10:00-0700</td>\n      <td>San Francisco Giants at Los Angeles Dodgers</td>\n      <td>2021-06-08 12:13:52.747224</td>\n    </tr>\n    <tr>\n      <th>18</th>\n      <td>104724579</td>\n      <td>38.83</td>\n      <td>2021-07-22T19:10:00-0700</td>\n      <td>San Francisco Giants at Los Angeles Dodgers</td>\n      <td>2021-06-08 12:13:52.747224</td>\n    </tr>\n    <tr>\n      <th>19</th>\n      <td>104724581</td>\n      <td>32.69</td>\n      <td>2021-07-23T19:10:00-0700</td>\n      <td>Colorado Rockies at Los Angeles Dodgers</td>\n      <td>2021-06-08 12:13:52.747224</td>\n    </tr>\n    <tr>\n      <th>20</th>\n      <td>104724583</td>\n      <td>38.83</td>\n      <td>2021-07-24T18:10:00-0700</td>\n      <td>Colorado Rockies at Los Angeles Dodgers</td>\n      <td>2021-06-08 12:13:52.747224</td>\n    </tr>\n    <tr>\n      <th>21</th>\n      <td>104724585</td>\n      <td>33.92</td>\n      <td>2021-07-25T13:10:00-0700</td>\n      <td>Colorado Rockies at Los Angeles Dodgers</td>\n      <td>2021-06-08 12:13:52.747224</td>\n    </tr>\n    <tr>\n      <th>22</th>\n      <td>104725435</td>\n      <td>110.02</td>\n      <td>2021-08-03T19:10:00-0700</td>\n      <td>Houston Astros at Los Angeles Dodgers</td>\n      <td>2021-06-08 12:13:52.747224</td>\n    </tr>\n    <tr>\n      <th>23</th>\n      <td>104724588</td>\n      <td>92.16</td>\n      <td>2021-08-04T18:40:00-0700</td>\n      <td>Houston Astros at Los Angeles Dodgers</td>\n      <td>2021-06-08 12:13:52.747224</td>\n    </tr>\n    <tr>\n      <th>24</th>\n      <td>104724590</td>\n      <td>41.28</td>\n      <td>2021-08-06T19:10:00-0700</td>\n      <td>Los Angeles Angels at Los Angeles Dodgers</td>\n      <td>2021-06-08 12:13:52.747224</td>\n    </tr>\n    <tr>\n      <th>25</th>\n      <td>104725436</td>\n      <td>53.56</td>\n      <td>2021-08-07T18:10:00-0700</td>\n      <td>Los Angeles Angels at Los Angeles Dodgers</td>\n      <td>2021-06-08 12:13:52.747224</td>\n    </tr>\n    <tr>\n      <th>26</th>\n      <td>104725437</td>\n      <td>42.51</td>\n      <td>2021-08-08T13:10:00-0700</td>\n      <td>Los Angeles Angels at Los Angeles Dodgers</td>\n      <td>2021-06-08 12:13:52.747224</td>\n    </tr>\n    <tr>\n      <th>27</th>\n      <td>104724594</td>\n      <td>32.69</td>\n      <td>2021-08-16T19:10:00-0700</td>\n      <td>Pittsburgh Pirates at Los Angeles Dodgers</td>\n      <td>2021-06-08 12:13:52.747224</td>\n    </tr>\n    <tr>\n      <th>28</th>\n      <td>104724596</td>\n      <td>32.69</td>\n      <td>2021-08-17T19:10:00-0700</td>\n      <td>Pittsburgh Pirates at Los Angeles Dodgers</td>\n      <td>2021-06-08 12:13:52.747224</td>\n    </tr>\n    <tr>\n      <th>29</th>\n      <td>104724597</td>\n      <td>70.74</td>\n      <td>2021-08-18T19:10:00-0700</td>\n      <td>Pittsburgh Pirates at Los Angeles Dodgers</td>\n      <td>2021-06-08 12:13:52.747224</td>\n    </tr>\n    <tr>\n      <th>30</th>\n      <td>104724598</td>\n      <td>32.69</td>\n      <td>2021-08-19T19:10:00-0700</td>\n      <td>New York Mets at Los Angeles Dodgers</td>\n      <td>2021-06-08 12:13:52.747224</td>\n    </tr>\n    <tr>\n      <th>31</th>\n      <td>104724599</td>\n      <td>38.83</td>\n      <td>2021-08-20T19:10:00-0700</td>\n      <td>New York Mets at Los Angeles Dodgers</td>\n      <td>2021-06-08 12:13:52.747224</td>\n    </tr>\n    <tr>\n      <th>32</th>\n      <td>104724601</td>\n      <td>48.65</td>\n      <td>2021-08-21T18:10:00-0700</td>\n      <td>New York Mets at Los Angeles Dodgers</td>\n      <td>2021-06-08 12:13:52.747224</td>\n    </tr>\n    <tr>\n      <th>33</th>\n      <td>104724603</td>\n      <td>33.92</td>\n      <td>2021-08-22T13:10:00-0700</td>\n      <td>New York Mets at Los Angeles Dodgers</td>\n      <td>2021-06-08 12:13:52.747224</td>\n    </tr>\n    <tr>\n      <th>34</th>\n      <td>104724604</td>\n      <td>32.69</td>\n      <td>2021-08-27T19:10:00-0700</td>\n      <td>Colorado Rockies at Los Angeles Dodgers</td>\n      <td>2021-06-08 12:13:52.747224</td>\n    </tr>\n    <tr>\n      <th>35</th>\n      <td>104724606</td>\n      <td>38.83</td>\n      <td>2021-08-28T18:10:00-0700</td>\n      <td>Colorado Rockies at Los Angeles Dodgers</td>\n      <td>2021-06-08 12:13:52.747224</td>\n    </tr>\n    <tr>\n      <th>36</th>\n      <td>104724607</td>\n      <td>32.69</td>\n      <td>2021-08-29T13:10:00-0700</td>\n      <td>Colorado Rockies at Los Angeles Dodgers</td>\n      <td>2021-06-08 12:13:52.747224</td>\n    </tr>\n    <tr>\n      <th>37</th>\n      <td>104724609</td>\n      <td>41.46</td>\n      <td>2021-08-30T19:10:00-0700</td>\n      <td>Atlanta Braves at Los Angeles Dodgers</td>\n      <td>2021-06-08 12:13:52.747224</td>\n    </tr>\n    <tr>\n      <th>38</th>\n      <td>104725443</td>\n      <td>26.55</td>\n      <td>2021-08-31T19:10:00-0700</td>\n      <td>Atlanta Braves at Los Angeles Dodgers</td>\n      <td>2021-06-08 12:13:52.747224</td>\n    </tr>\n    <tr>\n      <th>39</th>\n      <td>104725444</td>\n      <td>32.33</td>\n      <td>2021-09-01T19:10:00-0700</td>\n      <td>Atlanta Braves at Los Angeles Dodgers</td>\n      <td>2021-06-08 12:13:52.747224</td>\n    </tr>\n    <tr>\n      <th>40</th>\n      <td>104724613</td>\n      <td>48.65</td>\n      <td>2021-09-10T19:10:00-0700</td>\n      <td>San Diego Padres at Los Angeles Dodgers</td>\n      <td>2021-06-08 12:13:52.747224</td>\n    </tr>\n    <tr>\n      <th>41</th>\n      <td>104724615</td>\n      <td>65.83</td>\n      <td>2021-09-11T18:10:00-0700</td>\n      <td>San Diego Padres at Los Angeles Dodgers</td>\n      <td>2021-06-08 12:13:52.747224</td>\n    </tr>\n    <tr>\n      <th>42</th>\n      <td>104724616</td>\n      <td>42.51</td>\n      <td>2021-09-12T13:10:00-0700</td>\n      <td>San Diego Padres at Los Angeles Dodgers</td>\n      <td>2021-06-08 12:13:52.747224</td>\n    </tr>\n    <tr>\n      <th>43</th>\n      <td>104724618</td>\n      <td>33.92</td>\n      <td>2021-09-13T19:10:00-0700</td>\n      <td>Arizona Diamondbacks at Los Angeles Dodgers</td>\n      <td>2021-06-08 12:13:52.747224</td>\n    </tr>\n    <tr>\n      <th>44</th>\n      <td>104725446</td>\n      <td>21.64</td>\n      <td>2021-09-14T19:10:00-0700</td>\n      <td>Arizona Diamondbacks at Los Angeles Dodgers</td>\n      <td>2021-06-08 12:13:52.747224</td>\n    </tr>\n    <tr>\n      <th>45</th>\n      <td>104724621</td>\n      <td>26.55</td>\n      <td>2021-09-15T19:10:00-0700</td>\n      <td>Arizona Diamondbacks at Los Angeles Dodgers</td>\n      <td>2021-06-08 12:13:52.747224</td>\n    </tr>\n    <tr>\n      <th>46</th>\n      <td>104724623</td>\n      <td>44.96</td>\n      <td>2021-09-28T19:10:00-0700</td>\n      <td>San Diego Padres at Los Angeles Dodgers</td>\n      <td>2021-06-08 12:13:52.747224</td>\n    </tr>\n    <tr>\n      <th>47</th>\n      <td>104724625</td>\n      <td>36.37</td>\n      <td>2021-09-29T19:10:00-0700</td>\n      <td>San Diego Padres at Los Angeles Dodgers</td>\n      <td>2021-06-08 12:13:52.747224</td>\n    </tr>\n    <tr>\n      <th>48</th>\n      <td>104724627</td>\n      <td>35.14</td>\n      <td>2021-09-30T19:10:00-0700</td>\n      <td>San Diego Padres at Los Angeles Dodgers</td>\n      <td>2021-06-08 12:13:52.747224</td>\n    </tr>\n    <tr>\n      <th>49</th>\n      <td>104724629</td>\n      <td>35.14</td>\n      <td>2021-10-01T19:10:00-0700</td>\n      <td>Milwaukee Brewers at Los Angeles Dodgers</td>\n      <td>2021-06-08 12:13:52.747224</td>\n    </tr>\n    <tr>\n      <th>50</th>\n      <td>104724631</td>\n      <td>44.96</td>\n      <td>2021-10-02T18:10:00-0700</td>\n      <td>Milwaukee Brewers at Los Angeles Dodgers</td>\n      <td>2021-06-08 12:13:52.747224</td>\n    </tr>\n    <tr>\n      <th>51</th>\n      <td>104725448</td>\n      <td>32.69</td>\n      <td>2021-10-03T12:10:00-0700</td>\n      <td>Milwaukee Brewers at Los Angeles Dodgers</td>\n      <td>2021-06-08 12:13:52.747224</td>\n    </tr>\n  </tbody>\n</table>\n</div>"
     },
     "metadata": {},
     "execution_count": 93
    }
   ],
   "source": [
    "events = r.json()['events']\n",
    "prices = {event['id']: {\"price\": event['ticketInfo']['minPrice'], \"time\":event['eventDateLocal'], \"name\":event['name'], \"extractTime\":datetime.datetime.today()} for event in events}\n",
    "df = pd.DataFrame(prices).T.reset_index().rename({\"index\":\"id\"}, axis = 1)\n",
    "df"
   ]
  },
  {
   "cell_type": "code",
   "execution_count": 98,
   "metadata": {},
   "outputs": [
    {
     "output_type": "execute_result",
     "data": {
      "text/plain": [
       "           id   price       time  \\\n",
       "0   104722879   56.45 2021-06-11   \n",
       "1   104725408   33.55 2021-06-12   \n",
       "2   104725409   27.58 2021-06-13   \n",
       "3   104724531   35.55 2021-06-14   \n",
       "4   104725410   25.86 2021-06-15   \n",
       "5   104725411   39.29 2021-06-16   \n",
       "6   104722883   46.19 2021-06-24   \n",
       "7   104722884   44.96 2021-06-25   \n",
       "8   104722885    49.3 2021-06-26   \n",
       "9   104722886   36.37 2021-06-27   \n",
       "10  104725415   34.05 2021-06-28   \n",
       "11  104725416   44.15 2021-06-29   \n",
       "12  104724572   32.69 2021-07-09   \n",
       "13  104724574   44.96 2021-07-10   \n",
       "14  104724575   29.01 2021-07-11   \n",
       "15  104724576    37.6 2021-07-19   \n",
       "16  104724577    37.6 2021-07-20   \n",
       "17  104725433   33.92 2021-07-21   \n",
       "18  104724579   38.83 2021-07-22   \n",
       "19  104724581   32.69 2021-07-23   \n",
       "20  104724583   38.83 2021-07-24   \n",
       "21  104724585   33.92 2021-07-25   \n",
       "22  104725435  110.02 2021-08-03   \n",
       "23  104724588   92.16 2021-08-04   \n",
       "24  104724590   41.28 2021-08-06   \n",
       "25  104725436   53.56 2021-08-07   \n",
       "26  104725437   42.51 2021-08-08   \n",
       "27  104724594   32.69 2021-08-16   \n",
       "28  104724596   32.69 2021-08-17   \n",
       "29  104724597   70.74 2021-08-18   \n",
       "30  104724598   32.69 2021-08-19   \n",
       "31  104724599   38.83 2021-08-20   \n",
       "32  104724601   48.65 2021-08-21   \n",
       "33  104724603   33.92 2021-08-22   \n",
       "34  104724604   32.69 2021-08-27   \n",
       "35  104724606   38.83 2021-08-28   \n",
       "36  104724607   32.69 2021-08-29   \n",
       "37  104724609   41.46 2021-08-30   \n",
       "38  104725443   26.55 2021-08-31   \n",
       "39  104725444   32.33 2021-09-01   \n",
       "40  104724613   48.65 2021-09-10   \n",
       "41  104724615   65.83 2021-09-11   \n",
       "42  104724616   42.51 2021-09-12   \n",
       "43  104724618   33.92 2021-09-13   \n",
       "44  104725446   21.64 2021-09-14   \n",
       "45  104724621   26.55 2021-09-15   \n",
       "46  104724623   44.96 2021-09-28   \n",
       "47  104724625   36.37 2021-09-29   \n",
       "48  104724627   35.14 2021-09-30   \n",
       "49  104724629   35.14 2021-10-01   \n",
       "50  104724631   44.96 2021-10-02   \n",
       "51  104725448   32.69 2021-10-03   \n",
       "\n",
       "                                            name                extractTime  \n",
       "0           Texas Rangers at Los Angeles Dodgers 2021-06-08 12:13:52.747224  \n",
       "1           Texas Rangers at Los Angeles Dodgers 2021-06-08 12:13:52.747224  \n",
       "2           Texas Rangers at Los Angeles Dodgers 2021-06-08 12:13:52.747224  \n",
       "3   Philadelphia Phillies at Los Angeles Dodgers 2021-06-08 12:13:52.747224  \n",
       "4   Philadelphia Phillies at Los Angeles Dodgers 2021-06-08 12:13:52.747224  \n",
       "5   Philadelphia Phillies at Los Angeles Dodgers 2021-06-08 12:13:52.747224  \n",
       "6            Chicago Cubs at Los Angeles Dodgers 2021-06-08 12:13:52.747224  \n",
       "7            Chicago Cubs at Los Angeles Dodgers 2021-06-08 12:13:52.747224  \n",
       "8            Chicago Cubs at Los Angeles Dodgers 2021-06-08 12:13:52.747224  \n",
       "9            Chicago Cubs at Los Angeles Dodgers 2021-06-08 12:13:52.747224  \n",
       "10   San Francisco Giants at Los Angeles Dodgers 2021-06-08 12:13:52.747224  \n",
       "11   San Francisco Giants at Los Angeles Dodgers 2021-06-08 12:13:52.747224  \n",
       "12   Arizona Diamondbacks at Los Angeles Dodgers 2021-06-08 12:13:52.747224  \n",
       "13   Arizona Diamondbacks at Los Angeles Dodgers 2021-06-08 12:13:52.747224  \n",
       "14   Arizona Diamondbacks at Los Angeles Dodgers 2021-06-08 12:13:52.747224  \n",
       "15   San Francisco Giants at Los Angeles Dodgers 2021-06-08 12:13:52.747224  \n",
       "16   San Francisco Giants at Los Angeles Dodgers 2021-06-08 12:13:52.747224  \n",
       "17   San Francisco Giants at Los Angeles Dodgers 2021-06-08 12:13:52.747224  \n",
       "18   San Francisco Giants at Los Angeles Dodgers 2021-06-08 12:13:52.747224  \n",
       "19       Colorado Rockies at Los Angeles Dodgers 2021-06-08 12:13:52.747224  \n",
       "20       Colorado Rockies at Los Angeles Dodgers 2021-06-08 12:13:52.747224  \n",
       "21       Colorado Rockies at Los Angeles Dodgers 2021-06-08 12:13:52.747224  \n",
       "22         Houston Astros at Los Angeles Dodgers 2021-06-08 12:13:52.747224  \n",
       "23         Houston Astros at Los Angeles Dodgers 2021-06-08 12:13:52.747224  \n",
       "24     Los Angeles Angels at Los Angeles Dodgers 2021-06-08 12:13:52.747224  \n",
       "25     Los Angeles Angels at Los Angeles Dodgers 2021-06-08 12:13:52.747224  \n",
       "26     Los Angeles Angels at Los Angeles Dodgers 2021-06-08 12:13:52.747224  \n",
       "27     Pittsburgh Pirates at Los Angeles Dodgers 2021-06-08 12:13:52.747224  \n",
       "28     Pittsburgh Pirates at Los Angeles Dodgers 2021-06-08 12:13:52.747224  \n",
       "29     Pittsburgh Pirates at Los Angeles Dodgers 2021-06-08 12:13:52.747224  \n",
       "30          New York Mets at Los Angeles Dodgers 2021-06-08 12:13:52.747224  \n",
       "31          New York Mets at Los Angeles Dodgers 2021-06-08 12:13:52.747224  \n",
       "32          New York Mets at Los Angeles Dodgers 2021-06-08 12:13:52.747224  \n",
       "33          New York Mets at Los Angeles Dodgers 2021-06-08 12:13:52.747224  \n",
       "34       Colorado Rockies at Los Angeles Dodgers 2021-06-08 12:13:52.747224  \n",
       "35       Colorado Rockies at Los Angeles Dodgers 2021-06-08 12:13:52.747224  \n",
       "36       Colorado Rockies at Los Angeles Dodgers 2021-06-08 12:13:52.747224  \n",
       "37         Atlanta Braves at Los Angeles Dodgers 2021-06-08 12:13:52.747224  \n",
       "38         Atlanta Braves at Los Angeles Dodgers 2021-06-08 12:13:52.747224  \n",
       "39         Atlanta Braves at Los Angeles Dodgers 2021-06-08 12:13:52.747224  \n",
       "40       San Diego Padres at Los Angeles Dodgers 2021-06-08 12:13:52.747224  \n",
       "41       San Diego Padres at Los Angeles Dodgers 2021-06-08 12:13:52.747224  \n",
       "42       San Diego Padres at Los Angeles Dodgers 2021-06-08 12:13:52.747224  \n",
       "43   Arizona Diamondbacks at Los Angeles Dodgers 2021-06-08 12:13:52.747224  \n",
       "44   Arizona Diamondbacks at Los Angeles Dodgers 2021-06-08 12:13:52.747224  \n",
       "45   Arizona Diamondbacks at Los Angeles Dodgers 2021-06-08 12:13:52.747224  \n",
       "46       San Diego Padres at Los Angeles Dodgers 2021-06-08 12:13:52.747224  \n",
       "47       San Diego Padres at Los Angeles Dodgers 2021-06-08 12:13:52.747224  \n",
       "48       San Diego Padres at Los Angeles Dodgers 2021-06-08 12:13:52.747224  \n",
       "49      Milwaukee Brewers at Los Angeles Dodgers 2021-06-08 12:13:52.747224  \n",
       "50      Milwaukee Brewers at Los Angeles Dodgers 2021-06-08 12:13:52.747224  \n",
       "51      Milwaukee Brewers at Los Angeles Dodgers 2021-06-08 12:13:52.747224  "
      ],
      "text/html": "<div>\n<style scoped>\n    .dataframe tbody tr th:only-of-type {\n        vertical-align: middle;\n    }\n\n    .dataframe tbody tr th {\n        vertical-align: top;\n    }\n\n    .dataframe thead th {\n        text-align: right;\n    }\n</style>\n<table border=\"1\" class=\"dataframe\">\n  <thead>\n    <tr style=\"text-align: right;\">\n      <th></th>\n      <th>id</th>\n      <th>price</th>\n      <th>time</th>\n      <th>name</th>\n      <th>extractTime</th>\n    </tr>\n  </thead>\n  <tbody>\n    <tr>\n      <th>0</th>\n      <td>104722879</td>\n      <td>56.45</td>\n      <td>2021-06-11</td>\n      <td>Texas Rangers at Los Angeles Dodgers</td>\n      <td>2021-06-08 12:13:52.747224</td>\n    </tr>\n    <tr>\n      <th>1</th>\n      <td>104725408</td>\n      <td>33.55</td>\n      <td>2021-06-12</td>\n      <td>Texas Rangers at Los Angeles Dodgers</td>\n      <td>2021-06-08 12:13:52.747224</td>\n    </tr>\n    <tr>\n      <th>2</th>\n      <td>104725409</td>\n      <td>27.58</td>\n      <td>2021-06-13</td>\n      <td>Texas Rangers at Los Angeles Dodgers</td>\n      <td>2021-06-08 12:13:52.747224</td>\n    </tr>\n    <tr>\n      <th>3</th>\n      <td>104724531</td>\n      <td>35.55</td>\n      <td>2021-06-14</td>\n      <td>Philadelphia Phillies at Los Angeles Dodgers</td>\n      <td>2021-06-08 12:13:52.747224</td>\n    </tr>\n    <tr>\n      <th>4</th>\n      <td>104725410</td>\n      <td>25.86</td>\n      <td>2021-06-15</td>\n      <td>Philadelphia Phillies at Los Angeles Dodgers</td>\n      <td>2021-06-08 12:13:52.747224</td>\n    </tr>\n    <tr>\n      <th>5</th>\n      <td>104725411</td>\n      <td>39.29</td>\n      <td>2021-06-16</td>\n      <td>Philadelphia Phillies at Los Angeles Dodgers</td>\n      <td>2021-06-08 12:13:52.747224</td>\n    </tr>\n    <tr>\n      <th>6</th>\n      <td>104722883</td>\n      <td>46.19</td>\n      <td>2021-06-24</td>\n      <td>Chicago Cubs at Los Angeles Dodgers</td>\n      <td>2021-06-08 12:13:52.747224</td>\n    </tr>\n    <tr>\n      <th>7</th>\n      <td>104722884</td>\n      <td>44.96</td>\n      <td>2021-06-25</td>\n      <td>Chicago Cubs at Los Angeles Dodgers</td>\n      <td>2021-06-08 12:13:52.747224</td>\n    </tr>\n    <tr>\n      <th>8</th>\n      <td>104722885</td>\n      <td>49.3</td>\n      <td>2021-06-26</td>\n      <td>Chicago Cubs at Los Angeles Dodgers</td>\n      <td>2021-06-08 12:13:52.747224</td>\n    </tr>\n    <tr>\n      <th>9</th>\n      <td>104722886</td>\n      <td>36.37</td>\n      <td>2021-06-27</td>\n      <td>Chicago Cubs at Los Angeles Dodgers</td>\n      <td>2021-06-08 12:13:52.747224</td>\n    </tr>\n    <tr>\n      <th>10</th>\n      <td>104725415</td>\n      <td>34.05</td>\n      <td>2021-06-28</td>\n      <td>San Francisco Giants at Los Angeles Dodgers</td>\n      <td>2021-06-08 12:13:52.747224</td>\n    </tr>\n    <tr>\n      <th>11</th>\n      <td>104725416</td>\n      <td>44.15</td>\n      <td>2021-06-29</td>\n      <td>San Francisco Giants at Los Angeles Dodgers</td>\n      <td>2021-06-08 12:13:52.747224</td>\n    </tr>\n    <tr>\n      <th>12</th>\n      <td>104724572</td>\n      <td>32.69</td>\n      <td>2021-07-09</td>\n      <td>Arizona Diamondbacks at Los Angeles Dodgers</td>\n      <td>2021-06-08 12:13:52.747224</td>\n    </tr>\n    <tr>\n      <th>13</th>\n      <td>104724574</td>\n      <td>44.96</td>\n      <td>2021-07-10</td>\n      <td>Arizona Diamondbacks at Los Angeles Dodgers</td>\n      <td>2021-06-08 12:13:52.747224</td>\n    </tr>\n    <tr>\n      <th>14</th>\n      <td>104724575</td>\n      <td>29.01</td>\n      <td>2021-07-11</td>\n      <td>Arizona Diamondbacks at Los Angeles Dodgers</td>\n      <td>2021-06-08 12:13:52.747224</td>\n    </tr>\n    <tr>\n      <th>15</th>\n      <td>104724576</td>\n      <td>37.6</td>\n      <td>2021-07-19</td>\n      <td>San Francisco Giants at Los Angeles Dodgers</td>\n      <td>2021-06-08 12:13:52.747224</td>\n    </tr>\n    <tr>\n      <th>16</th>\n      <td>104724577</td>\n      <td>37.6</td>\n      <td>2021-07-20</td>\n      <td>San Francisco Giants at Los Angeles Dodgers</td>\n      <td>2021-06-08 12:13:52.747224</td>\n    </tr>\n    <tr>\n      <th>17</th>\n      <td>104725433</td>\n      <td>33.92</td>\n      <td>2021-07-21</td>\n      <td>San Francisco Giants at Los Angeles Dodgers</td>\n      <td>2021-06-08 12:13:52.747224</td>\n    </tr>\n    <tr>\n      <th>18</th>\n      <td>104724579</td>\n      <td>38.83</td>\n      <td>2021-07-22</td>\n      <td>San Francisco Giants at Los Angeles Dodgers</td>\n      <td>2021-06-08 12:13:52.747224</td>\n    </tr>\n    <tr>\n      <th>19</th>\n      <td>104724581</td>\n      <td>32.69</td>\n      <td>2021-07-23</td>\n      <td>Colorado Rockies at Los Angeles Dodgers</td>\n      <td>2021-06-08 12:13:52.747224</td>\n    </tr>\n    <tr>\n      <th>20</th>\n      <td>104724583</td>\n      <td>38.83</td>\n      <td>2021-07-24</td>\n      <td>Colorado Rockies at Los Angeles Dodgers</td>\n      <td>2021-06-08 12:13:52.747224</td>\n    </tr>\n    <tr>\n      <th>21</th>\n      <td>104724585</td>\n      <td>33.92</td>\n      <td>2021-07-25</td>\n      <td>Colorado Rockies at Los Angeles Dodgers</td>\n      <td>2021-06-08 12:13:52.747224</td>\n    </tr>\n    <tr>\n      <th>22</th>\n      <td>104725435</td>\n      <td>110.02</td>\n      <td>2021-08-03</td>\n      <td>Houston Astros at Los Angeles Dodgers</td>\n      <td>2021-06-08 12:13:52.747224</td>\n    </tr>\n    <tr>\n      <th>23</th>\n      <td>104724588</td>\n      <td>92.16</td>\n      <td>2021-08-04</td>\n      <td>Houston Astros at Los Angeles Dodgers</td>\n      <td>2021-06-08 12:13:52.747224</td>\n    </tr>\n    <tr>\n      <th>24</th>\n      <td>104724590</td>\n      <td>41.28</td>\n      <td>2021-08-06</td>\n      <td>Los Angeles Angels at Los Angeles Dodgers</td>\n      <td>2021-06-08 12:13:52.747224</td>\n    </tr>\n    <tr>\n      <th>25</th>\n      <td>104725436</td>\n      <td>53.56</td>\n      <td>2021-08-07</td>\n      <td>Los Angeles Angels at Los Angeles Dodgers</td>\n      <td>2021-06-08 12:13:52.747224</td>\n    </tr>\n    <tr>\n      <th>26</th>\n      <td>104725437</td>\n      <td>42.51</td>\n      <td>2021-08-08</td>\n      <td>Los Angeles Angels at Los Angeles Dodgers</td>\n      <td>2021-06-08 12:13:52.747224</td>\n    </tr>\n    <tr>\n      <th>27</th>\n      <td>104724594</td>\n      <td>32.69</td>\n      <td>2021-08-16</td>\n      <td>Pittsburgh Pirates at Los Angeles Dodgers</td>\n      <td>2021-06-08 12:13:52.747224</td>\n    </tr>\n    <tr>\n      <th>28</th>\n      <td>104724596</td>\n      <td>32.69</td>\n      <td>2021-08-17</td>\n      <td>Pittsburgh Pirates at Los Angeles Dodgers</td>\n      <td>2021-06-08 12:13:52.747224</td>\n    </tr>\n    <tr>\n      <th>29</th>\n      <td>104724597</td>\n      <td>70.74</td>\n      <td>2021-08-18</td>\n      <td>Pittsburgh Pirates at Los Angeles Dodgers</td>\n      <td>2021-06-08 12:13:52.747224</td>\n    </tr>\n    <tr>\n      <th>30</th>\n      <td>104724598</td>\n      <td>32.69</td>\n      <td>2021-08-19</td>\n      <td>New York Mets at Los Angeles Dodgers</td>\n      <td>2021-06-08 12:13:52.747224</td>\n    </tr>\n    <tr>\n      <th>31</th>\n      <td>104724599</td>\n      <td>38.83</td>\n      <td>2021-08-20</td>\n      <td>New York Mets at Los Angeles Dodgers</td>\n      <td>2021-06-08 12:13:52.747224</td>\n    </tr>\n    <tr>\n      <th>32</th>\n      <td>104724601</td>\n      <td>48.65</td>\n      <td>2021-08-21</td>\n      <td>New York Mets at Los Angeles Dodgers</td>\n      <td>2021-06-08 12:13:52.747224</td>\n    </tr>\n    <tr>\n      <th>33</th>\n      <td>104724603</td>\n      <td>33.92</td>\n      <td>2021-08-22</td>\n      <td>New York Mets at Los Angeles Dodgers</td>\n      <td>2021-06-08 12:13:52.747224</td>\n    </tr>\n    <tr>\n      <th>34</th>\n      <td>104724604</td>\n      <td>32.69</td>\n      <td>2021-08-27</td>\n      <td>Colorado Rockies at Los Angeles Dodgers</td>\n      <td>2021-06-08 12:13:52.747224</td>\n    </tr>\n    <tr>\n      <th>35</th>\n      <td>104724606</td>\n      <td>38.83</td>\n      <td>2021-08-28</td>\n      <td>Colorado Rockies at Los Angeles Dodgers</td>\n      <td>2021-06-08 12:13:52.747224</td>\n    </tr>\n    <tr>\n      <th>36</th>\n      <td>104724607</td>\n      <td>32.69</td>\n      <td>2021-08-29</td>\n      <td>Colorado Rockies at Los Angeles Dodgers</td>\n      <td>2021-06-08 12:13:52.747224</td>\n    </tr>\n    <tr>\n      <th>37</th>\n      <td>104724609</td>\n      <td>41.46</td>\n      <td>2021-08-30</td>\n      <td>Atlanta Braves at Los Angeles Dodgers</td>\n      <td>2021-06-08 12:13:52.747224</td>\n    </tr>\n    <tr>\n      <th>38</th>\n      <td>104725443</td>\n      <td>26.55</td>\n      <td>2021-08-31</td>\n      <td>Atlanta Braves at Los Angeles Dodgers</td>\n      <td>2021-06-08 12:13:52.747224</td>\n    </tr>\n    <tr>\n      <th>39</th>\n      <td>104725444</td>\n      <td>32.33</td>\n      <td>2021-09-01</td>\n      <td>Atlanta Braves at Los Angeles Dodgers</td>\n      <td>2021-06-08 12:13:52.747224</td>\n    </tr>\n    <tr>\n      <th>40</th>\n      <td>104724613</td>\n      <td>48.65</td>\n      <td>2021-09-10</td>\n      <td>San Diego Padres at Los Angeles Dodgers</td>\n      <td>2021-06-08 12:13:52.747224</td>\n    </tr>\n    <tr>\n      <th>41</th>\n      <td>104724615</td>\n      <td>65.83</td>\n      <td>2021-09-11</td>\n      <td>San Diego Padres at Los Angeles Dodgers</td>\n      <td>2021-06-08 12:13:52.747224</td>\n    </tr>\n    <tr>\n      <th>42</th>\n      <td>104724616</td>\n      <td>42.51</td>\n      <td>2021-09-12</td>\n      <td>San Diego Padres at Los Angeles Dodgers</td>\n      <td>2021-06-08 12:13:52.747224</td>\n    </tr>\n    <tr>\n      <th>43</th>\n      <td>104724618</td>\n      <td>33.92</td>\n      <td>2021-09-13</td>\n      <td>Arizona Diamondbacks at Los Angeles Dodgers</td>\n      <td>2021-06-08 12:13:52.747224</td>\n    </tr>\n    <tr>\n      <th>44</th>\n      <td>104725446</td>\n      <td>21.64</td>\n      <td>2021-09-14</td>\n      <td>Arizona Diamondbacks at Los Angeles Dodgers</td>\n      <td>2021-06-08 12:13:52.747224</td>\n    </tr>\n    <tr>\n      <th>45</th>\n      <td>104724621</td>\n      <td>26.55</td>\n      <td>2021-09-15</td>\n      <td>Arizona Diamondbacks at Los Angeles Dodgers</td>\n      <td>2021-06-08 12:13:52.747224</td>\n    </tr>\n    <tr>\n      <th>46</th>\n      <td>104724623</td>\n      <td>44.96</td>\n      <td>2021-09-28</td>\n      <td>San Diego Padres at Los Angeles Dodgers</td>\n      <td>2021-06-08 12:13:52.747224</td>\n    </tr>\n    <tr>\n      <th>47</th>\n      <td>104724625</td>\n      <td>36.37</td>\n      <td>2021-09-29</td>\n      <td>San Diego Padres at Los Angeles Dodgers</td>\n      <td>2021-06-08 12:13:52.747224</td>\n    </tr>\n    <tr>\n      <th>48</th>\n      <td>104724627</td>\n      <td>35.14</td>\n      <td>2021-09-30</td>\n      <td>San Diego Padres at Los Angeles Dodgers</td>\n      <td>2021-06-08 12:13:52.747224</td>\n    </tr>\n    <tr>\n      <th>49</th>\n      <td>104724629</td>\n      <td>35.14</td>\n      <td>2021-10-01</td>\n      <td>Milwaukee Brewers at Los Angeles Dodgers</td>\n      <td>2021-06-08 12:13:52.747224</td>\n    </tr>\n    <tr>\n      <th>50</th>\n      <td>104724631</td>\n      <td>44.96</td>\n      <td>2021-10-02</td>\n      <td>Milwaukee Brewers at Los Angeles Dodgers</td>\n      <td>2021-06-08 12:13:52.747224</td>\n    </tr>\n    <tr>\n      <th>51</th>\n      <td>104725448</td>\n      <td>32.69</td>\n      <td>2021-10-03</td>\n      <td>Milwaukee Brewers at Los Angeles Dodgers</td>\n      <td>2021-06-08 12:13:52.747224</td>\n    </tr>\n  </tbody>\n</table>\n</div>"
     },
     "metadata": {},
     "execution_count": 98
    }
   ],
   "source": [
    "df['time'] = pd.to_datetime(df['time'].str[0:10])\n",
    "df"
   ]
  },
  {
   "cell_type": "code",
   "execution_count": 110,
   "metadata": {},
   "outputs": [
    {
     "output_type": "execute_result",
     "data": {
      "text/plain": [
       "           id   price       time  \\\n",
       "0   104722879   56.45 2021-06-11   \n",
       "1   104725408   33.55 2021-06-12   \n",
       "2   104725409   27.58 2021-06-13   \n",
       "3   104724531   35.55 2021-06-14   \n",
       "4   104725410   25.86 2021-06-15   \n",
       "5   104725411   39.29 2021-06-16   \n",
       "6   104722883   46.19 2021-06-24   \n",
       "7   104722884   44.96 2021-06-25   \n",
       "8   104722885    49.3 2021-06-26   \n",
       "9   104722886   36.37 2021-06-27   \n",
       "10  104725415   34.05 2021-06-28   \n",
       "11  104725416   44.15 2021-06-29   \n",
       "12  104724572   32.69 2021-07-09   \n",
       "13  104724574   44.96 2021-07-10   \n",
       "14  104724575   29.01 2021-07-11   \n",
       "15  104724576    37.6 2021-07-19   \n",
       "16  104724577    37.6 2021-07-20   \n",
       "17  104725433   33.92 2021-07-21   \n",
       "18  104724579   38.83 2021-07-22   \n",
       "19  104724581   32.69 2021-07-23   \n",
       "20  104724583   38.83 2021-07-24   \n",
       "21  104724585   33.92 2021-07-25   \n",
       "22  104725435  110.02 2021-08-03   \n",
       "23  104724588   92.16 2021-08-04   \n",
       "24  104724590   41.28 2021-08-06   \n",
       "25  104725436   53.56 2021-08-07   \n",
       "26  104725437   42.51 2021-08-08   \n",
       "27  104724594   32.69 2021-08-16   \n",
       "28  104724596   32.69 2021-08-17   \n",
       "29  104724597   70.74 2021-08-18   \n",
       "30  104724598   32.69 2021-08-19   \n",
       "31  104724599   38.83 2021-08-20   \n",
       "32  104724601   48.65 2021-08-21   \n",
       "33  104724603   33.92 2021-08-22   \n",
       "34  104724604   32.69 2021-08-27   \n",
       "35  104724606   38.83 2021-08-28   \n",
       "36  104724607   32.69 2021-08-29   \n",
       "37  104724609   41.46 2021-08-30   \n",
       "38  104725443   26.55 2021-08-31   \n",
       "39  104725444   32.33 2021-09-01   \n",
       "40  104724613   48.65 2021-09-10   \n",
       "41  104724615   65.83 2021-09-11   \n",
       "42  104724616   42.51 2021-09-12   \n",
       "43  104724618   33.92 2021-09-13   \n",
       "44  104725446   21.64 2021-09-14   \n",
       "45  104724621   26.55 2021-09-15   \n",
       "46  104724623   44.96 2021-09-28   \n",
       "47  104724625   36.37 2021-09-29   \n",
       "48  104724627   35.14 2021-09-30   \n",
       "49  104724629   35.14 2021-10-01   \n",
       "50  104724631   44.96 2021-10-02   \n",
       "51  104725448   32.69 2021-10-03   \n",
       "\n",
       "                                            name                extractTime  \\\n",
       "0           Texas Rangers at Los Angeles Dodgers 2021-06-08 12:13:52.747224   \n",
       "1           Texas Rangers at Los Angeles Dodgers 2021-06-08 12:13:52.747224   \n",
       "2           Texas Rangers at Los Angeles Dodgers 2021-06-08 12:13:52.747224   \n",
       "3   Philadelphia Phillies at Los Angeles Dodgers 2021-06-08 12:13:52.747224   \n",
       "4   Philadelphia Phillies at Los Angeles Dodgers 2021-06-08 12:13:52.747224   \n",
       "5   Philadelphia Phillies at Los Angeles Dodgers 2021-06-08 12:13:52.747224   \n",
       "6            Chicago Cubs at Los Angeles Dodgers 2021-06-08 12:13:52.747224   \n",
       "7            Chicago Cubs at Los Angeles Dodgers 2021-06-08 12:13:52.747224   \n",
       "8            Chicago Cubs at Los Angeles Dodgers 2021-06-08 12:13:52.747224   \n",
       "9            Chicago Cubs at Los Angeles Dodgers 2021-06-08 12:13:52.747224   \n",
       "10   San Francisco Giants at Los Angeles Dodgers 2021-06-08 12:13:52.747224   \n",
       "11   San Francisco Giants at Los Angeles Dodgers 2021-06-08 12:13:52.747224   \n",
       "12   Arizona Diamondbacks at Los Angeles Dodgers 2021-06-08 12:13:52.747224   \n",
       "13   Arizona Diamondbacks at Los Angeles Dodgers 2021-06-08 12:13:52.747224   \n",
       "14   Arizona Diamondbacks at Los Angeles Dodgers 2021-06-08 12:13:52.747224   \n",
       "15   San Francisco Giants at Los Angeles Dodgers 2021-06-08 12:13:52.747224   \n",
       "16   San Francisco Giants at Los Angeles Dodgers 2021-06-08 12:13:52.747224   \n",
       "17   San Francisco Giants at Los Angeles Dodgers 2021-06-08 12:13:52.747224   \n",
       "18   San Francisco Giants at Los Angeles Dodgers 2021-06-08 12:13:52.747224   \n",
       "19       Colorado Rockies at Los Angeles Dodgers 2021-06-08 12:13:52.747224   \n",
       "20       Colorado Rockies at Los Angeles Dodgers 2021-06-08 12:13:52.747224   \n",
       "21       Colorado Rockies at Los Angeles Dodgers 2021-06-08 12:13:52.747224   \n",
       "22         Houston Astros at Los Angeles Dodgers 2021-06-08 12:13:52.747224   \n",
       "23         Houston Astros at Los Angeles Dodgers 2021-06-08 12:13:52.747224   \n",
       "24     Los Angeles Angels at Los Angeles Dodgers 2021-06-08 12:13:52.747224   \n",
       "25     Los Angeles Angels at Los Angeles Dodgers 2021-06-08 12:13:52.747224   \n",
       "26     Los Angeles Angels at Los Angeles Dodgers 2021-06-08 12:13:52.747224   \n",
       "27     Pittsburgh Pirates at Los Angeles Dodgers 2021-06-08 12:13:52.747224   \n",
       "28     Pittsburgh Pirates at Los Angeles Dodgers 2021-06-08 12:13:52.747224   \n",
       "29     Pittsburgh Pirates at Los Angeles Dodgers 2021-06-08 12:13:52.747224   \n",
       "30          New York Mets at Los Angeles Dodgers 2021-06-08 12:13:52.747224   \n",
       "31          New York Mets at Los Angeles Dodgers 2021-06-08 12:13:52.747224   \n",
       "32          New York Mets at Los Angeles Dodgers 2021-06-08 12:13:52.747224   \n",
       "33          New York Mets at Los Angeles Dodgers 2021-06-08 12:13:52.747224   \n",
       "34       Colorado Rockies at Los Angeles Dodgers 2021-06-08 12:13:52.747224   \n",
       "35       Colorado Rockies at Los Angeles Dodgers 2021-06-08 12:13:52.747224   \n",
       "36       Colorado Rockies at Los Angeles Dodgers 2021-06-08 12:13:52.747224   \n",
       "37         Atlanta Braves at Los Angeles Dodgers 2021-06-08 12:13:52.747224   \n",
       "38         Atlanta Braves at Los Angeles Dodgers 2021-06-08 12:13:52.747224   \n",
       "39         Atlanta Braves at Los Angeles Dodgers 2021-06-08 12:13:52.747224   \n",
       "40       San Diego Padres at Los Angeles Dodgers 2021-06-08 12:13:52.747224   \n",
       "41       San Diego Padres at Los Angeles Dodgers 2021-06-08 12:13:52.747224   \n",
       "42       San Diego Padres at Los Angeles Dodgers 2021-06-08 12:13:52.747224   \n",
       "43   Arizona Diamondbacks at Los Angeles Dodgers 2021-06-08 12:13:52.747224   \n",
       "44   Arizona Diamondbacks at Los Angeles Dodgers 2021-06-08 12:13:52.747224   \n",
       "45   Arizona Diamondbacks at Los Angeles Dodgers 2021-06-08 12:13:52.747224   \n",
       "46       San Diego Padres at Los Angeles Dodgers 2021-06-08 12:13:52.747224   \n",
       "47       San Diego Padres at Los Angeles Dodgers 2021-06-08 12:13:52.747224   \n",
       "48       San Diego Padres at Los Angeles Dodgers 2021-06-08 12:13:52.747224   \n",
       "49      Milwaukee Brewers at Los Angeles Dodgers 2021-06-08 12:13:52.747224   \n",
       "50      Milwaukee Brewers at Los Angeles Dodgers 2021-06-08 12:13:52.747224   \n",
       "51      Milwaukee Brewers at Los Angeles Dodgers 2021-06-08 12:13:52.747224   \n",
       "\n",
       "    days_to_game  \n",
       "0              2  \n",
       "1              3  \n",
       "2              4  \n",
       "3              5  \n",
       "4              6  \n",
       "5              7  \n",
       "6             15  \n",
       "7             16  \n",
       "8             17  \n",
       "9             18  \n",
       "10            19  \n",
       "11            20  \n",
       "12            30  \n",
       "13            31  \n",
       "14            32  \n",
       "15            40  \n",
       "16            41  \n",
       "17            42  \n",
       "18            43  \n",
       "19            44  \n",
       "20            45  \n",
       "21            46  \n",
       "22            55  \n",
       "23            56  \n",
       "24            58  \n",
       "25            59  \n",
       "26            60  \n",
       "27            68  \n",
       "28            69  \n",
       "29            70  \n",
       "30            71  \n",
       "31            72  \n",
       "32            73  \n",
       "33            74  \n",
       "34            79  \n",
       "35            80  \n",
       "36            81  \n",
       "37            82  \n",
       "38            83  \n",
       "39            84  \n",
       "40            93  \n",
       "41            94  \n",
       "42            95  \n",
       "43            96  \n",
       "44            97  \n",
       "45            98  \n",
       "46           111  \n",
       "47           112  \n",
       "48           113  \n",
       "49           114  \n",
       "50           115  \n",
       "51           116  "
      ],
      "text/html": "<div>\n<style scoped>\n    .dataframe tbody tr th:only-of-type {\n        vertical-align: middle;\n    }\n\n    .dataframe tbody tr th {\n        vertical-align: top;\n    }\n\n    .dataframe thead th {\n        text-align: right;\n    }\n</style>\n<table border=\"1\" class=\"dataframe\">\n  <thead>\n    <tr style=\"text-align: right;\">\n      <th></th>\n      <th>id</th>\n      <th>price</th>\n      <th>time</th>\n      <th>name</th>\n      <th>extractTime</th>\n      <th>days_to_game</th>\n    </tr>\n  </thead>\n  <tbody>\n    <tr>\n      <th>0</th>\n      <td>104722879</td>\n      <td>56.45</td>\n      <td>2021-06-11</td>\n      <td>Texas Rangers at Los Angeles Dodgers</td>\n      <td>2021-06-08 12:13:52.747224</td>\n      <td>2</td>\n    </tr>\n    <tr>\n      <th>1</th>\n      <td>104725408</td>\n      <td>33.55</td>\n      <td>2021-06-12</td>\n      <td>Texas Rangers at Los Angeles Dodgers</td>\n      <td>2021-06-08 12:13:52.747224</td>\n      <td>3</td>\n    </tr>\n    <tr>\n      <th>2</th>\n      <td>104725409</td>\n      <td>27.58</td>\n      <td>2021-06-13</td>\n      <td>Texas Rangers at Los Angeles Dodgers</td>\n      <td>2021-06-08 12:13:52.747224</td>\n      <td>4</td>\n    </tr>\n    <tr>\n      <th>3</th>\n      <td>104724531</td>\n      <td>35.55</td>\n      <td>2021-06-14</td>\n      <td>Philadelphia Phillies at Los Angeles Dodgers</td>\n      <td>2021-06-08 12:13:52.747224</td>\n      <td>5</td>\n    </tr>\n    <tr>\n      <th>4</th>\n      <td>104725410</td>\n      <td>25.86</td>\n      <td>2021-06-15</td>\n      <td>Philadelphia Phillies at Los Angeles Dodgers</td>\n      <td>2021-06-08 12:13:52.747224</td>\n      <td>6</td>\n    </tr>\n    <tr>\n      <th>5</th>\n      <td>104725411</td>\n      <td>39.29</td>\n      <td>2021-06-16</td>\n      <td>Philadelphia Phillies at Los Angeles Dodgers</td>\n      <td>2021-06-08 12:13:52.747224</td>\n      <td>7</td>\n    </tr>\n    <tr>\n      <th>6</th>\n      <td>104722883</td>\n      <td>46.19</td>\n      <td>2021-06-24</td>\n      <td>Chicago Cubs at Los Angeles Dodgers</td>\n      <td>2021-06-08 12:13:52.747224</td>\n      <td>15</td>\n    </tr>\n    <tr>\n      <th>7</th>\n      <td>104722884</td>\n      <td>44.96</td>\n      <td>2021-06-25</td>\n      <td>Chicago Cubs at Los Angeles Dodgers</td>\n      <td>2021-06-08 12:13:52.747224</td>\n      <td>16</td>\n    </tr>\n    <tr>\n      <th>8</th>\n      <td>104722885</td>\n      <td>49.3</td>\n      <td>2021-06-26</td>\n      <td>Chicago Cubs at Los Angeles Dodgers</td>\n      <td>2021-06-08 12:13:52.747224</td>\n      <td>17</td>\n    </tr>\n    <tr>\n      <th>9</th>\n      <td>104722886</td>\n      <td>36.37</td>\n      <td>2021-06-27</td>\n      <td>Chicago Cubs at Los Angeles Dodgers</td>\n      <td>2021-06-08 12:13:52.747224</td>\n      <td>18</td>\n    </tr>\n    <tr>\n      <th>10</th>\n      <td>104725415</td>\n      <td>34.05</td>\n      <td>2021-06-28</td>\n      <td>San Francisco Giants at Los Angeles Dodgers</td>\n      <td>2021-06-08 12:13:52.747224</td>\n      <td>19</td>\n    </tr>\n    <tr>\n      <th>11</th>\n      <td>104725416</td>\n      <td>44.15</td>\n      <td>2021-06-29</td>\n      <td>San Francisco Giants at Los Angeles Dodgers</td>\n      <td>2021-06-08 12:13:52.747224</td>\n      <td>20</td>\n    </tr>\n    <tr>\n      <th>12</th>\n      <td>104724572</td>\n      <td>32.69</td>\n      <td>2021-07-09</td>\n      <td>Arizona Diamondbacks at Los Angeles Dodgers</td>\n      <td>2021-06-08 12:13:52.747224</td>\n      <td>30</td>\n    </tr>\n    <tr>\n      <th>13</th>\n      <td>104724574</td>\n      <td>44.96</td>\n      <td>2021-07-10</td>\n      <td>Arizona Diamondbacks at Los Angeles Dodgers</td>\n      <td>2021-06-08 12:13:52.747224</td>\n      <td>31</td>\n    </tr>\n    <tr>\n      <th>14</th>\n      <td>104724575</td>\n      <td>29.01</td>\n      <td>2021-07-11</td>\n      <td>Arizona Diamondbacks at Los Angeles Dodgers</td>\n      <td>2021-06-08 12:13:52.747224</td>\n      <td>32</td>\n    </tr>\n    <tr>\n      <th>15</th>\n      <td>104724576</td>\n      <td>37.6</td>\n      <td>2021-07-19</td>\n      <td>San Francisco Giants at Los Angeles Dodgers</td>\n      <td>2021-06-08 12:13:52.747224</td>\n      <td>40</td>\n    </tr>\n    <tr>\n      <th>16</th>\n      <td>104724577</td>\n      <td>37.6</td>\n      <td>2021-07-20</td>\n      <td>San Francisco Giants at Los Angeles Dodgers</td>\n      <td>2021-06-08 12:13:52.747224</td>\n      <td>41</td>\n    </tr>\n    <tr>\n      <th>17</th>\n      <td>104725433</td>\n      <td>33.92</td>\n      <td>2021-07-21</td>\n      <td>San Francisco Giants at Los Angeles Dodgers</td>\n      <td>2021-06-08 12:13:52.747224</td>\n      <td>42</td>\n    </tr>\n    <tr>\n      <th>18</th>\n      <td>104724579</td>\n      <td>38.83</td>\n      <td>2021-07-22</td>\n      <td>San Francisco Giants at Los Angeles Dodgers</td>\n      <td>2021-06-08 12:13:52.747224</td>\n      <td>43</td>\n    </tr>\n    <tr>\n      <th>19</th>\n      <td>104724581</td>\n      <td>32.69</td>\n      <td>2021-07-23</td>\n      <td>Colorado Rockies at Los Angeles Dodgers</td>\n      <td>2021-06-08 12:13:52.747224</td>\n      <td>44</td>\n    </tr>\n    <tr>\n      <th>20</th>\n      <td>104724583</td>\n      <td>38.83</td>\n      <td>2021-07-24</td>\n      <td>Colorado Rockies at Los Angeles Dodgers</td>\n      <td>2021-06-08 12:13:52.747224</td>\n      <td>45</td>\n    </tr>\n    <tr>\n      <th>21</th>\n      <td>104724585</td>\n      <td>33.92</td>\n      <td>2021-07-25</td>\n      <td>Colorado Rockies at Los Angeles Dodgers</td>\n      <td>2021-06-08 12:13:52.747224</td>\n      <td>46</td>\n    </tr>\n    <tr>\n      <th>22</th>\n      <td>104725435</td>\n      <td>110.02</td>\n      <td>2021-08-03</td>\n      <td>Houston Astros at Los Angeles Dodgers</td>\n      <td>2021-06-08 12:13:52.747224</td>\n      <td>55</td>\n    </tr>\n    <tr>\n      <th>23</th>\n      <td>104724588</td>\n      <td>92.16</td>\n      <td>2021-08-04</td>\n      <td>Houston Astros at Los Angeles Dodgers</td>\n      <td>2021-06-08 12:13:52.747224</td>\n      <td>56</td>\n    </tr>\n    <tr>\n      <th>24</th>\n      <td>104724590</td>\n      <td>41.28</td>\n      <td>2021-08-06</td>\n      <td>Los Angeles Angels at Los Angeles Dodgers</td>\n      <td>2021-06-08 12:13:52.747224</td>\n      <td>58</td>\n    </tr>\n    <tr>\n      <th>25</th>\n      <td>104725436</td>\n      <td>53.56</td>\n      <td>2021-08-07</td>\n      <td>Los Angeles Angels at Los Angeles Dodgers</td>\n      <td>2021-06-08 12:13:52.747224</td>\n      <td>59</td>\n    </tr>\n    <tr>\n      <th>26</th>\n      <td>104725437</td>\n      <td>42.51</td>\n      <td>2021-08-08</td>\n      <td>Los Angeles Angels at Los Angeles Dodgers</td>\n      <td>2021-06-08 12:13:52.747224</td>\n      <td>60</td>\n    </tr>\n    <tr>\n      <th>27</th>\n      <td>104724594</td>\n      <td>32.69</td>\n      <td>2021-08-16</td>\n      <td>Pittsburgh Pirates at Los Angeles Dodgers</td>\n      <td>2021-06-08 12:13:52.747224</td>\n      <td>68</td>\n    </tr>\n    <tr>\n      <th>28</th>\n      <td>104724596</td>\n      <td>32.69</td>\n      <td>2021-08-17</td>\n      <td>Pittsburgh Pirates at Los Angeles Dodgers</td>\n      <td>2021-06-08 12:13:52.747224</td>\n      <td>69</td>\n    </tr>\n    <tr>\n      <th>29</th>\n      <td>104724597</td>\n      <td>70.74</td>\n      <td>2021-08-18</td>\n      <td>Pittsburgh Pirates at Los Angeles Dodgers</td>\n      <td>2021-06-08 12:13:52.747224</td>\n      <td>70</td>\n    </tr>\n    <tr>\n      <th>30</th>\n      <td>104724598</td>\n      <td>32.69</td>\n      <td>2021-08-19</td>\n      <td>New York Mets at Los Angeles Dodgers</td>\n      <td>2021-06-08 12:13:52.747224</td>\n      <td>71</td>\n    </tr>\n    <tr>\n      <th>31</th>\n      <td>104724599</td>\n      <td>38.83</td>\n      <td>2021-08-20</td>\n      <td>New York Mets at Los Angeles Dodgers</td>\n      <td>2021-06-08 12:13:52.747224</td>\n      <td>72</td>\n    </tr>\n    <tr>\n      <th>32</th>\n      <td>104724601</td>\n      <td>48.65</td>\n      <td>2021-08-21</td>\n      <td>New York Mets at Los Angeles Dodgers</td>\n      <td>2021-06-08 12:13:52.747224</td>\n      <td>73</td>\n    </tr>\n    <tr>\n      <th>33</th>\n      <td>104724603</td>\n      <td>33.92</td>\n      <td>2021-08-22</td>\n      <td>New York Mets at Los Angeles Dodgers</td>\n      <td>2021-06-08 12:13:52.747224</td>\n      <td>74</td>\n    </tr>\n    <tr>\n      <th>34</th>\n      <td>104724604</td>\n      <td>32.69</td>\n      <td>2021-08-27</td>\n      <td>Colorado Rockies at Los Angeles Dodgers</td>\n      <td>2021-06-08 12:13:52.747224</td>\n      <td>79</td>\n    </tr>\n    <tr>\n      <th>35</th>\n      <td>104724606</td>\n      <td>38.83</td>\n      <td>2021-08-28</td>\n      <td>Colorado Rockies at Los Angeles Dodgers</td>\n      <td>2021-06-08 12:13:52.747224</td>\n      <td>80</td>\n    </tr>\n    <tr>\n      <th>36</th>\n      <td>104724607</td>\n      <td>32.69</td>\n      <td>2021-08-29</td>\n      <td>Colorado Rockies at Los Angeles Dodgers</td>\n      <td>2021-06-08 12:13:52.747224</td>\n      <td>81</td>\n    </tr>\n    <tr>\n      <th>37</th>\n      <td>104724609</td>\n      <td>41.46</td>\n      <td>2021-08-30</td>\n      <td>Atlanta Braves at Los Angeles Dodgers</td>\n      <td>2021-06-08 12:13:52.747224</td>\n      <td>82</td>\n    </tr>\n    <tr>\n      <th>38</th>\n      <td>104725443</td>\n      <td>26.55</td>\n      <td>2021-08-31</td>\n      <td>Atlanta Braves at Los Angeles Dodgers</td>\n      <td>2021-06-08 12:13:52.747224</td>\n      <td>83</td>\n    </tr>\n    <tr>\n      <th>39</th>\n      <td>104725444</td>\n      <td>32.33</td>\n      <td>2021-09-01</td>\n      <td>Atlanta Braves at Los Angeles Dodgers</td>\n      <td>2021-06-08 12:13:52.747224</td>\n      <td>84</td>\n    </tr>\n    <tr>\n      <th>40</th>\n      <td>104724613</td>\n      <td>48.65</td>\n      <td>2021-09-10</td>\n      <td>San Diego Padres at Los Angeles Dodgers</td>\n      <td>2021-06-08 12:13:52.747224</td>\n      <td>93</td>\n    </tr>\n    <tr>\n      <th>41</th>\n      <td>104724615</td>\n      <td>65.83</td>\n      <td>2021-09-11</td>\n      <td>San Diego Padres at Los Angeles Dodgers</td>\n      <td>2021-06-08 12:13:52.747224</td>\n      <td>94</td>\n    </tr>\n    <tr>\n      <th>42</th>\n      <td>104724616</td>\n      <td>42.51</td>\n      <td>2021-09-12</td>\n      <td>San Diego Padres at Los Angeles Dodgers</td>\n      <td>2021-06-08 12:13:52.747224</td>\n      <td>95</td>\n    </tr>\n    <tr>\n      <th>43</th>\n      <td>104724618</td>\n      <td>33.92</td>\n      <td>2021-09-13</td>\n      <td>Arizona Diamondbacks at Los Angeles Dodgers</td>\n      <td>2021-06-08 12:13:52.747224</td>\n      <td>96</td>\n    </tr>\n    <tr>\n      <th>44</th>\n      <td>104725446</td>\n      <td>21.64</td>\n      <td>2021-09-14</td>\n      <td>Arizona Diamondbacks at Los Angeles Dodgers</td>\n      <td>2021-06-08 12:13:52.747224</td>\n      <td>97</td>\n    </tr>\n    <tr>\n      <th>45</th>\n      <td>104724621</td>\n      <td>26.55</td>\n      <td>2021-09-15</td>\n      <td>Arizona Diamondbacks at Los Angeles Dodgers</td>\n      <td>2021-06-08 12:13:52.747224</td>\n      <td>98</td>\n    </tr>\n    <tr>\n      <th>46</th>\n      <td>104724623</td>\n      <td>44.96</td>\n      <td>2021-09-28</td>\n      <td>San Diego Padres at Los Angeles Dodgers</td>\n      <td>2021-06-08 12:13:52.747224</td>\n      <td>111</td>\n    </tr>\n    <tr>\n      <th>47</th>\n      <td>104724625</td>\n      <td>36.37</td>\n      <td>2021-09-29</td>\n      <td>San Diego Padres at Los Angeles Dodgers</td>\n      <td>2021-06-08 12:13:52.747224</td>\n      <td>112</td>\n    </tr>\n    <tr>\n      <th>48</th>\n      <td>104724627</td>\n      <td>35.14</td>\n      <td>2021-09-30</td>\n      <td>San Diego Padres at Los Angeles Dodgers</td>\n      <td>2021-06-08 12:13:52.747224</td>\n      <td>113</td>\n    </tr>\n    <tr>\n      <th>49</th>\n      <td>104724629</td>\n      <td>35.14</td>\n      <td>2021-10-01</td>\n      <td>Milwaukee Brewers at Los Angeles Dodgers</td>\n      <td>2021-06-08 12:13:52.747224</td>\n      <td>114</td>\n    </tr>\n    <tr>\n      <th>50</th>\n      <td>104724631</td>\n      <td>44.96</td>\n      <td>2021-10-02</td>\n      <td>Milwaukee Brewers at Los Angeles Dodgers</td>\n      <td>2021-06-08 12:13:52.747224</td>\n      <td>115</td>\n    </tr>\n    <tr>\n      <th>51</th>\n      <td>104725448</td>\n      <td>32.69</td>\n      <td>2021-10-03</td>\n      <td>Milwaukee Brewers at Los Angeles Dodgers</td>\n      <td>2021-06-08 12:13:52.747224</td>\n      <td>116</td>\n    </tr>\n  </tbody>\n</table>\n</div>"
     },
     "metadata": {},
     "execution_count": 110
    }
   ],
   "source": [
    "df['days_to_game'] = (df['time'] - df['extractTime'])\n",
    "df['days_to_game'] = df['days_to_game'].apply(lambda X: X.days)\n",
    "df"
   ]
  },
  {
   "cell_type": "code",
   "execution_count": 77,
   "metadata": {},
   "outputs": [],
   "source": [
    "with sqlite3.connect(\"temps.db\") as conn: \n",
    "    df.to_sql(\"extraction\", conn, if_exists = \"replace\", index = False)\n"
   ]
  },
  {
   "cell_type": "code",
   "execution_count": 60,
   "metadata": {},
   "outputs": [],
   "source": [
    "with sqlite3.connect(\"temps.db\") as conn: \n",
    "    cursor = conn.cursor()\n",
    "    cursor.execute(\"SELECT sql FROM sqlite_master WHERE type='table';\")"
   ]
  },
  {
   "cell_type": "code",
   "execution_count": 61,
   "metadata": {},
   "outputs": [
    {
     "output_type": "stream",
     "name": "stdout",
     "text": [
      "CREATE TABLE \"extraction\" (\n\"price\" REAL,\n  \"time\" TEXT,\n  \"name\" TEXT,\n  \"extractTime\" TIMESTAMP\n)\n"
     ]
    }
   ],
   "source": [
    "for result in cursor.fetchall():\n",
    "    print(result[0])"
   ]
  },
  {
   "cell_type": "code",
   "execution_count": 2,
   "metadata": {},
   "outputs": [],
   "source": [
    "with sqlite3.connect(\"temps.db\") as conn: \n",
    "    cmd = \"SELECT * FROM extraction\"\n",
    "    df2 = pd.read_sql_query(cmd, conn)"
   ]
  },
  {
   "cell_type": "code",
   "execution_count": 4,
   "metadata": {},
   "outputs": [
    {
     "output_type": "execute_result",
     "data": {
      "text/plain": [
       "days_to_game                                    2      3      4      5    \\\n",
       "name                                                                       \n",
       "Arizona Diamondbacks at Los Angeles Dodgers     NaN    NaN    NaN    NaN   \n",
       "Atlanta Braves at Los Angeles Dodgers           NaN    NaN    NaN    NaN   \n",
       "Chicago Cubs at Los Angeles Dodgers             NaN    NaN    NaN    NaN   \n",
       "Colorado Rockies at Los Angeles Dodgers         NaN    NaN    NaN    NaN   \n",
       "Houston Astros at Los Angeles Dodgers           NaN    NaN    NaN    NaN   \n",
       "Los Angeles Angels at Los Angeles Dodgers       NaN    NaN    NaN    NaN   \n",
       "Milwaukee Brewers at Los Angeles Dodgers        NaN    NaN    NaN    NaN   \n",
       "New York Mets at Los Angeles Dodgers            NaN    NaN    NaN    NaN   \n",
       "Philadelphia Phillies at Los Angeles Dodgers    NaN    NaN    NaN  35.55   \n",
       "Pittsburgh Pirates at Los Angeles Dodgers       NaN    NaN    NaN    NaN   \n",
       "San Diego Padres at Los Angeles Dodgers         NaN    NaN    NaN    NaN   \n",
       "San Francisco Giants at Los Angeles Dodgers     NaN    NaN    NaN    NaN   \n",
       "Texas Rangers at Los Angeles Dodgers          58.62  31.46  28.04    NaN   \n",
       "\n",
       "days_to_game                                    6      7      15     16   \\\n",
       "name                                                                       \n",
       "Arizona Diamondbacks at Los Angeles Dodgers     NaN    NaN    NaN    NaN   \n",
       "Atlanta Braves at Los Angeles Dodgers           NaN    NaN    NaN    NaN   \n",
       "Chicago Cubs at Los Angeles Dodgers             NaN    NaN  46.19  44.96   \n",
       "Colorado Rockies at Los Angeles Dodgers         NaN    NaN    NaN    NaN   \n",
       "Houston Astros at Los Angeles Dodgers           NaN    NaN    NaN    NaN   \n",
       "Los Angeles Angels at Los Angeles Dodgers       NaN    NaN    NaN    NaN   \n",
       "Milwaukee Brewers at Los Angeles Dodgers        NaN    NaN    NaN    NaN   \n",
       "New York Mets at Los Angeles Dodgers            NaN    NaN    NaN    NaN   \n",
       "Philadelphia Phillies at Los Angeles Dodgers  25.86  39.29    NaN    NaN   \n",
       "Pittsburgh Pirates at Los Angeles Dodgers       NaN    NaN    NaN    NaN   \n",
       "San Diego Padres at Los Angeles Dodgers         NaN    NaN    NaN    NaN   \n",
       "San Francisco Giants at Los Angeles Dodgers     NaN    NaN    NaN    NaN   \n",
       "Texas Rangers at Los Angeles Dodgers            NaN    NaN    NaN    NaN   \n",
       "\n",
       "days_to_game                                    17     18   ...    95     96   \\\n",
       "name                                                        ...                 \n",
       "Arizona Diamondbacks at Los Angeles Dodgers     NaN    NaN  ...    NaN  36.54   \n",
       "Atlanta Braves at Los Angeles Dodgers           NaN    NaN  ...    NaN    NaN   \n",
       "Chicago Cubs at Los Angeles Dodgers           48.92  36.37  ...    NaN    NaN   \n",
       "Colorado Rockies at Los Angeles Dodgers         NaN    NaN  ...    NaN    NaN   \n",
       "Houston Astros at Los Angeles Dodgers           NaN    NaN  ...    NaN    NaN   \n",
       "Los Angeles Angels at Los Angeles Dodgers       NaN    NaN  ...    NaN    NaN   \n",
       "Milwaukee Brewers at Los Angeles Dodgers        NaN    NaN  ...    NaN    NaN   \n",
       "New York Mets at Los Angeles Dodgers            NaN    NaN  ...    NaN    NaN   \n",
       "Philadelphia Phillies at Los Angeles Dodgers    NaN    NaN  ...    NaN    NaN   \n",
       "Pittsburgh Pirates at Los Angeles Dodgers       NaN    NaN  ...    NaN    NaN   \n",
       "San Diego Padres at Los Angeles Dodgers         NaN    NaN  ...  42.51    NaN   \n",
       "San Francisco Giants at Los Angeles Dodgers     NaN    NaN  ...    NaN    NaN   \n",
       "Texas Rangers at Los Angeles Dodgers            NaN    NaN  ...    NaN    NaN   \n",
       "\n",
       "days_to_game                                    97     98     111    112  \\\n",
       "name                                                                       \n",
       "Arizona Diamondbacks at Los Angeles Dodgers   21.64  27.86    NaN    NaN   \n",
       "Atlanta Braves at Los Angeles Dodgers           NaN    NaN    NaN    NaN   \n",
       "Chicago Cubs at Los Angeles Dodgers             NaN    NaN    NaN    NaN   \n",
       "Colorado Rockies at Los Angeles Dodgers         NaN    NaN    NaN    NaN   \n",
       "Houston Astros at Los Angeles Dodgers           NaN    NaN    NaN    NaN   \n",
       "Los Angeles Angels at Los Angeles Dodgers       NaN    NaN    NaN    NaN   \n",
       "Milwaukee Brewers at Los Angeles Dodgers        NaN    NaN    NaN    NaN   \n",
       "New York Mets at Los Angeles Dodgers            NaN    NaN    NaN    NaN   \n",
       "Philadelphia Phillies at Los Angeles Dodgers    NaN    NaN    NaN    NaN   \n",
       "Pittsburgh Pirates at Los Angeles Dodgers       NaN    NaN    NaN    NaN   \n",
       "San Diego Padres at Los Angeles Dodgers         NaN    NaN  44.96  36.37   \n",
       "San Francisco Giants at Los Angeles Dodgers     NaN    NaN    NaN    NaN   \n",
       "Texas Rangers at Los Angeles Dodgers            NaN    NaN    NaN    NaN   \n",
       "\n",
       "days_to_game                                    113    114    115    116  \n",
       "name                                                                      \n",
       "Arizona Diamondbacks at Los Angeles Dodgers     NaN    NaN    NaN    NaN  \n",
       "Atlanta Braves at Los Angeles Dodgers           NaN    NaN    NaN    NaN  \n",
       "Chicago Cubs at Los Angeles Dodgers             NaN    NaN    NaN    NaN  \n",
       "Colorado Rockies at Los Angeles Dodgers         NaN    NaN    NaN    NaN  \n",
       "Houston Astros at Los Angeles Dodgers           NaN    NaN    NaN    NaN  \n",
       "Los Angeles Angels at Los Angeles Dodgers       NaN    NaN    NaN    NaN  \n",
       "Milwaukee Brewers at Los Angeles Dodgers        NaN  35.14  44.96  32.69  \n",
       "New York Mets at Los Angeles Dodgers            NaN    NaN    NaN    NaN  \n",
       "Philadelphia Phillies at Los Angeles Dodgers    NaN    NaN    NaN    NaN  \n",
       "Pittsburgh Pirates at Los Angeles Dodgers       NaN    NaN    NaN    NaN  \n",
       "San Diego Padres at Los Angeles Dodgers       35.14    NaN    NaN    NaN  \n",
       "San Francisco Giants at Los Angeles Dodgers     NaN    NaN    NaN    NaN  \n",
       "Texas Rangers at Los Angeles Dodgers            NaN    NaN    NaN    NaN  \n",
       "\n",
       "[13 rows x 52 columns]"
      ],
      "text/html": "<div>\n<style scoped>\n    .dataframe tbody tr th:only-of-type {\n        vertical-align: middle;\n    }\n\n    .dataframe tbody tr th {\n        vertical-align: top;\n    }\n\n    .dataframe thead th {\n        text-align: right;\n    }\n</style>\n<table border=\"1\" class=\"dataframe\">\n  <thead>\n    <tr style=\"text-align: right;\">\n      <th>days_to_game</th>\n      <th>2</th>\n      <th>3</th>\n      <th>4</th>\n      <th>5</th>\n      <th>6</th>\n      <th>7</th>\n      <th>15</th>\n      <th>16</th>\n      <th>17</th>\n      <th>18</th>\n      <th>...</th>\n      <th>95</th>\n      <th>96</th>\n      <th>97</th>\n      <th>98</th>\n      <th>111</th>\n      <th>112</th>\n      <th>113</th>\n      <th>114</th>\n      <th>115</th>\n      <th>116</th>\n    </tr>\n    <tr>\n      <th>name</th>\n      <th></th>\n      <th></th>\n      <th></th>\n      <th></th>\n      <th></th>\n      <th></th>\n      <th></th>\n      <th></th>\n      <th></th>\n      <th></th>\n      <th></th>\n      <th></th>\n      <th></th>\n      <th></th>\n      <th></th>\n      <th></th>\n      <th></th>\n      <th></th>\n      <th></th>\n      <th></th>\n      <th></th>\n    </tr>\n  </thead>\n  <tbody>\n    <tr>\n      <th>Arizona Diamondbacks at Los Angeles Dodgers</th>\n      <td>NaN</td>\n      <td>NaN</td>\n      <td>NaN</td>\n      <td>NaN</td>\n      <td>NaN</td>\n      <td>NaN</td>\n      <td>NaN</td>\n      <td>NaN</td>\n      <td>NaN</td>\n      <td>NaN</td>\n      <td>...</td>\n      <td>NaN</td>\n      <td>36.54</td>\n      <td>21.64</td>\n      <td>27.86</td>\n      <td>NaN</td>\n      <td>NaN</td>\n      <td>NaN</td>\n      <td>NaN</td>\n      <td>NaN</td>\n      <td>NaN</td>\n    </tr>\n    <tr>\n      <th>Atlanta Braves at Los Angeles Dodgers</th>\n      <td>NaN</td>\n      <td>NaN</td>\n      <td>NaN</td>\n      <td>NaN</td>\n      <td>NaN</td>\n      <td>NaN</td>\n      <td>NaN</td>\n      <td>NaN</td>\n      <td>NaN</td>\n      <td>NaN</td>\n      <td>...</td>\n      <td>NaN</td>\n      <td>NaN</td>\n      <td>NaN</td>\n      <td>NaN</td>\n      <td>NaN</td>\n      <td>NaN</td>\n      <td>NaN</td>\n      <td>NaN</td>\n      <td>NaN</td>\n      <td>NaN</td>\n    </tr>\n    <tr>\n      <th>Chicago Cubs at Los Angeles Dodgers</th>\n      <td>NaN</td>\n      <td>NaN</td>\n      <td>NaN</td>\n      <td>NaN</td>\n      <td>NaN</td>\n      <td>NaN</td>\n      <td>46.19</td>\n      <td>44.96</td>\n      <td>48.92</td>\n      <td>36.37</td>\n      <td>...</td>\n      <td>NaN</td>\n      <td>NaN</td>\n      <td>NaN</td>\n      <td>NaN</td>\n      <td>NaN</td>\n      <td>NaN</td>\n      <td>NaN</td>\n      <td>NaN</td>\n      <td>NaN</td>\n      <td>NaN</td>\n    </tr>\n    <tr>\n      <th>Colorado Rockies at Los Angeles Dodgers</th>\n      <td>NaN</td>\n      <td>NaN</td>\n      <td>NaN</td>\n      <td>NaN</td>\n      <td>NaN</td>\n      <td>NaN</td>\n      <td>NaN</td>\n      <td>NaN</td>\n      <td>NaN</td>\n      <td>NaN</td>\n      <td>...</td>\n      <td>NaN</td>\n      <td>NaN</td>\n      <td>NaN</td>\n      <td>NaN</td>\n      <td>NaN</td>\n      <td>NaN</td>\n      <td>NaN</td>\n      <td>NaN</td>\n      <td>NaN</td>\n      <td>NaN</td>\n    </tr>\n    <tr>\n      <th>Houston Astros at Los Angeles Dodgers</th>\n      <td>NaN</td>\n      <td>NaN</td>\n      <td>NaN</td>\n      <td>NaN</td>\n      <td>NaN</td>\n      <td>NaN</td>\n      <td>NaN</td>\n      <td>NaN</td>\n      <td>NaN</td>\n      <td>NaN</td>\n      <td>...</td>\n      <td>NaN</td>\n      <td>NaN</td>\n      <td>NaN</td>\n      <td>NaN</td>\n      <td>NaN</td>\n      <td>NaN</td>\n      <td>NaN</td>\n      <td>NaN</td>\n      <td>NaN</td>\n      <td>NaN</td>\n    </tr>\n    <tr>\n      <th>Los Angeles Angels at Los Angeles Dodgers</th>\n      <td>NaN</td>\n      <td>NaN</td>\n      <td>NaN</td>\n      <td>NaN</td>\n      <td>NaN</td>\n      <td>NaN</td>\n      <td>NaN</td>\n      <td>NaN</td>\n      <td>NaN</td>\n      <td>NaN</td>\n      <td>...</td>\n      <td>NaN</td>\n      <td>NaN</td>\n      <td>NaN</td>\n      <td>NaN</td>\n      <td>NaN</td>\n      <td>NaN</td>\n      <td>NaN</td>\n      <td>NaN</td>\n      <td>NaN</td>\n      <td>NaN</td>\n    </tr>\n    <tr>\n      <th>Milwaukee Brewers at Los Angeles Dodgers</th>\n      <td>NaN</td>\n      <td>NaN</td>\n      <td>NaN</td>\n      <td>NaN</td>\n      <td>NaN</td>\n      <td>NaN</td>\n      <td>NaN</td>\n      <td>NaN</td>\n      <td>NaN</td>\n      <td>NaN</td>\n      <td>...</td>\n      <td>NaN</td>\n      <td>NaN</td>\n      <td>NaN</td>\n      <td>NaN</td>\n      <td>NaN</td>\n      <td>NaN</td>\n      <td>NaN</td>\n      <td>35.14</td>\n      <td>44.96</td>\n      <td>32.69</td>\n    </tr>\n    <tr>\n      <th>New York Mets at Los Angeles Dodgers</th>\n      <td>NaN</td>\n      <td>NaN</td>\n      <td>NaN</td>\n      <td>NaN</td>\n      <td>NaN</td>\n      <td>NaN</td>\n      <td>NaN</td>\n      <td>NaN</td>\n      <td>NaN</td>\n      <td>NaN</td>\n      <td>...</td>\n      <td>NaN</td>\n      <td>NaN</td>\n      <td>NaN</td>\n      <td>NaN</td>\n      <td>NaN</td>\n      <td>NaN</td>\n      <td>NaN</td>\n      <td>NaN</td>\n      <td>NaN</td>\n      <td>NaN</td>\n    </tr>\n    <tr>\n      <th>Philadelphia Phillies at Los Angeles Dodgers</th>\n      <td>NaN</td>\n      <td>NaN</td>\n      <td>NaN</td>\n      <td>35.55</td>\n      <td>25.86</td>\n      <td>39.29</td>\n      <td>NaN</td>\n      <td>NaN</td>\n      <td>NaN</td>\n      <td>NaN</td>\n      <td>...</td>\n      <td>NaN</td>\n      <td>NaN</td>\n      <td>NaN</td>\n      <td>NaN</td>\n      <td>NaN</td>\n      <td>NaN</td>\n      <td>NaN</td>\n      <td>NaN</td>\n      <td>NaN</td>\n      <td>NaN</td>\n    </tr>\n    <tr>\n      <th>Pittsburgh Pirates at Los Angeles Dodgers</th>\n      <td>NaN</td>\n      <td>NaN</td>\n      <td>NaN</td>\n      <td>NaN</td>\n      <td>NaN</td>\n      <td>NaN</td>\n      <td>NaN</td>\n      <td>NaN</td>\n      <td>NaN</td>\n      <td>NaN</td>\n      <td>...</td>\n      <td>NaN</td>\n      <td>NaN</td>\n      <td>NaN</td>\n      <td>NaN</td>\n      <td>NaN</td>\n      <td>NaN</td>\n      <td>NaN</td>\n      <td>NaN</td>\n      <td>NaN</td>\n      <td>NaN</td>\n    </tr>\n    <tr>\n      <th>San Diego Padres at Los Angeles Dodgers</th>\n      <td>NaN</td>\n      <td>NaN</td>\n      <td>NaN</td>\n      <td>NaN</td>\n      <td>NaN</td>\n      <td>NaN</td>\n      <td>NaN</td>\n      <td>NaN</td>\n      <td>NaN</td>\n      <td>NaN</td>\n      <td>...</td>\n      <td>42.51</td>\n      <td>NaN</td>\n      <td>NaN</td>\n      <td>NaN</td>\n      <td>44.96</td>\n      <td>36.37</td>\n      <td>35.14</td>\n      <td>NaN</td>\n      <td>NaN</td>\n      <td>NaN</td>\n    </tr>\n    <tr>\n      <th>San Francisco Giants at Los Angeles Dodgers</th>\n      <td>NaN</td>\n      <td>NaN</td>\n      <td>NaN</td>\n      <td>NaN</td>\n      <td>NaN</td>\n      <td>NaN</td>\n      <td>NaN</td>\n      <td>NaN</td>\n      <td>NaN</td>\n      <td>NaN</td>\n      <td>...</td>\n      <td>NaN</td>\n      <td>NaN</td>\n      <td>NaN</td>\n      <td>NaN</td>\n      <td>NaN</td>\n      <td>NaN</td>\n      <td>NaN</td>\n      <td>NaN</td>\n      <td>NaN</td>\n      <td>NaN</td>\n    </tr>\n    <tr>\n      <th>Texas Rangers at Los Angeles Dodgers</th>\n      <td>58.62</td>\n      <td>31.46</td>\n      <td>28.04</td>\n      <td>NaN</td>\n      <td>NaN</td>\n      <td>NaN</td>\n      <td>NaN</td>\n      <td>NaN</td>\n      <td>NaN</td>\n      <td>NaN</td>\n      <td>...</td>\n      <td>NaN</td>\n      <td>NaN</td>\n      <td>NaN</td>\n      <td>NaN</td>\n      <td>NaN</td>\n      <td>NaN</td>\n      <td>NaN</td>\n      <td>NaN</td>\n      <td>NaN</td>\n      <td>NaN</td>\n    </tr>\n  </tbody>\n</table>\n<p>13 rows × 52 columns</p>\n</div>"
     },
     "metadata": {},
     "execution_count": 4
    }
   ],
   "source": [
    "df2.pivot_table(values = \"price\", columns = \"days_to_game\", index = \"name\")"
   ]
  },
  {
   "cell_type": "code",
   "execution_count": 113,
   "metadata": {},
   "outputs": [],
   "source": [
    "df['price'] = df['price'].astype(\"float32\")"
   ]
  },
  {
   "cell_type": "code",
   "execution_count": 116,
   "metadata": {},
   "outputs": [],
   "source": [
    "conn.close()"
   ]
  },
  {
   "cell_type": "code",
   "execution_count": null,
   "metadata": {},
   "outputs": [],
   "source": []
  }
 ]
}